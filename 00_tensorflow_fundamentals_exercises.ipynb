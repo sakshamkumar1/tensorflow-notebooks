{
  "nbformat": 4,
  "nbformat_minor": 0,
  "metadata": {
    "colab": {
      "provenance": [],
      "authorship_tag": "ABX9TyNw79yQiBQfMfFg6brdALVq"
    },
    "kernelspec": {
      "name": "python3",
      "display_name": "Python 3"
    },
    "language_info": {
      "name": "python"
    }
  },
  "cells": [
    {
      "cell_type": "markdown",
      "source": [
        "# 00. TensorFlow Fundamentals Exercises"
      ],
      "metadata": {
        "id": "jJNyqplRSsC-"
      }
    },
    {
      "cell_type": "code",
      "source": [
        "import numpy as np\n",
        "import pandas as pd\n",
        "import matplotlib.pyplot as plt\n",
        "import tensorflow as tf"
      ],
      "metadata": {
        "id": "ycJf-q5_TAW8"
      },
      "execution_count": 2,
      "outputs": []
    },
    {
      "cell_type": "code",
      "source": [
        "vector = tf.constant([1, 2, 3, 4])\n",
        "vector"
      ],
      "metadata": {
        "colab": {
          "base_uri": "https://localhost:8080/"
        },
        "id": "x7dasDQ_Synx",
        "outputId": "b20ce75d-c597-457a-8288-01d175de297e"
      },
      "execution_count": 3,
      "outputs": [
        {
          "output_type": "execute_result",
          "data": {
            "text/plain": [
              "<tf.Tensor: shape=(4,), dtype=int32, numpy=array([1, 2, 3, 4], dtype=int32)>"
            ]
          },
          "metadata": {},
          "execution_count": 3
        }
      ]
    },
    {
      "cell_type": "code",
      "source": [
        "scalar = tf.constant(13)\n",
        "scalar"
      ],
      "metadata": {
        "colab": {
          "base_uri": "https://localhost:8080/"
        },
        "id": "ZS09BnI7S8x4",
        "outputId": "5894d27b-0319-47fe-ef0a-55fda103aa0d"
      },
      "execution_count": 4,
      "outputs": [
        {
          "output_type": "execute_result",
          "data": {
            "text/plain": [
              "<tf.Tensor: shape=(), dtype=int32, numpy=13>"
            ]
          },
          "metadata": {},
          "execution_count": 4
        }
      ]
    },
    {
      "cell_type": "code",
      "source": [
        "matrix = tf.constant([[1, 2, 3], [4, 5, 6]])\n",
        "matrix"
      ],
      "metadata": {
        "colab": {
          "base_uri": "https://localhost:8080/"
        },
        "id": "QeqsouN-TTOe",
        "outputId": "b710db90-0857-47a2-f305-669289ebabd6"
      },
      "execution_count": 5,
      "outputs": [
        {
          "output_type": "execute_result",
          "data": {
            "text/plain": [
              "<tf.Tensor: shape=(2, 3), dtype=int32, numpy=\n",
              "array([[1, 2, 3],\n",
              "       [4, 5, 6]], dtype=int32)>"
            ]
          },
          "metadata": {},
          "execution_count": 5
        }
      ]
    },
    {
      "cell_type": "code",
      "source": [
        "tensor = tf.constant([[[1, 2, 3],\n",
        "                       [4, 5, 6]],\n",
        "                      [[7, 8, 9],\n",
        "                       [10, 11, 12]]])\n",
        "tensor"
      ],
      "metadata": {
        "colab": {
          "base_uri": "https://localhost:8080/"
        },
        "id": "TQVCSexNTaj2",
        "outputId": "be4b532f-dfb5-42b8-87fe-bdbb6a919f42"
      },
      "execution_count": 6,
      "outputs": [
        {
          "output_type": "execute_result",
          "data": {
            "text/plain": [
              "<tf.Tensor: shape=(2, 2, 3), dtype=int32, numpy=\n",
              "array([[[ 1,  2,  3],\n",
              "        [ 4,  5,  6]],\n",
              "\n",
              "       [[ 7,  8,  9],\n",
              "        [10, 11, 12]]], dtype=int32)>"
            ]
          },
          "metadata": {},
          "execution_count": 6
        }
      ]
    },
    {
      "cell_type": "code",
      "source": [
        "tensor.shape, tf.size(tensor), tensor.ndim"
      ],
      "metadata": {
        "colab": {
          "base_uri": "https://localhost:8080/"
        },
        "id": "nn00cEdXTtRY",
        "outputId": "56db5e86-7b81-4a36-f423-1507569595a7"
      },
      "execution_count": 12,
      "outputs": [
        {
          "output_type": "execute_result",
          "data": {
            "text/plain": [
              "(TensorShape([2, 2, 3]), <tf.Tensor: shape=(), dtype=int32, numpy=12>, 3)"
            ]
          },
          "metadata": {},
          "execution_count": 12
        }
      ]
    },
    {
      "cell_type": "code",
      "source": [
        "tf.random.set_seed(42)\n",
        "random_tensor_1 = tf.random.uniform([5, 300])\n",
        "random_tensor_1"
      ],
      "metadata": {
        "colab": {
          "base_uri": "https://localhost:8080/"
        },
        "id": "fZbkJ3sETyio",
        "outputId": "17ecf69d-9068-46b3-8638-a05998cd7752"
      },
      "execution_count": 18,
      "outputs": [
        {
          "output_type": "execute_result",
          "data": {
            "text/plain": [
              "<tf.Tensor: shape=(5, 300), dtype=float32, numpy=\n",
              "array([[0.6645621 , 0.44100678, 0.3528825 , ..., 0.31410468, 0.7593535 ,\n",
              "        0.03699052],\n",
              "       [0.532024  , 0.29129946, 0.10571766, ..., 0.54052293, 0.31425726,\n",
              "        0.2200619 ],\n",
              "       [0.08404207, 0.03614604, 0.97732127, ..., 0.21516645, 0.9786098 ,\n",
              "        0.00726748],\n",
              "       [0.7396945 , 0.6653172 , 0.0787828 , ..., 0.7117733 , 0.07013571,\n",
              "        0.9409125 ],\n",
              "       [0.15861344, 0.12024033, 0.27218235, ..., 0.8824879 , 0.1432488 ,\n",
              "        0.44135118]], dtype=float32)>"
            ]
          },
          "metadata": {},
          "execution_count": 18
        }
      ]
    },
    {
      "cell_type": "code",
      "source": [
        "random_tensor_2 = tf.random.uniform([5, 300])\n",
        "random_tensor_2"
      ],
      "metadata": {
        "colab": {
          "base_uri": "https://localhost:8080/"
        },
        "id": "5Uc0xq3GVsDZ",
        "outputId": "d2cb02b2-2876-4a48-b606-5f09a16ace7d"
      },
      "execution_count": 19,
      "outputs": [
        {
          "output_type": "execute_result",
          "data": {
            "text/plain": [
              "<tf.Tensor: shape=(5, 300), dtype=float32, numpy=\n",
              "array([[0.68789124, 0.48447883, 0.9309944 , ..., 0.6920762 , 0.33180213,\n",
              "        0.9212563 ],\n",
              "       [0.27369928, 0.10631859, 0.6218617 , ..., 0.4382149 , 0.30427706,\n",
              "        0.51477313],\n",
              "       [0.00920248, 0.37280262, 0.8177401 , ..., 0.56786287, 0.49201214,\n",
              "        0.9892651 ],\n",
              "       [0.88608265, 0.08672249, 0.12160683, ..., 0.91770685, 0.72545695,\n",
              "        0.8280058 ],\n",
              "       [0.36690474, 0.9200133 , 0.9646884 , ..., 0.69012   , 0.7137332 ,\n",
              "        0.2584542 ]], dtype=float32)>"
            ]
          },
          "metadata": {},
          "execution_count": 19
        }
      ]
    },
    {
      "cell_type": "code",
      "source": [
        "tf.multiply(random_tensor_1, random_tensor_2)"
      ],
      "metadata": {
        "colab": {
          "base_uri": "https://localhost:8080/"
        },
        "id": "FPmvtO2JV-ks",
        "outputId": "66d11676-227e-4fe2-a97d-910425c5499e"
      },
      "execution_count": 21,
      "outputs": [
        {
          "output_type": "execute_result",
          "data": {
            "text/plain": [
              "<tf.Tensor: shape=(5, 300), dtype=float32, numpy=\n",
              "array([[4.57146466e-01, 2.13658452e-01, 3.28531623e-01, ...,\n",
              "        2.17384368e-01, 2.51955122e-01, 3.40777524e-02],\n",
              "       [1.45614594e-01, 3.09705492e-02, 6.57417625e-02, ...,\n",
              "        2.36865208e-01, 9.56212804e-02, 1.13281950e-01],\n",
              "       [7.73395528e-04, 1.34753399e-02, 7.99194753e-01, ...,\n",
              "        1.22185037e-01, 4.81487900e-01, 7.18945917e-03],\n",
              "       [6.55430436e-01, 5.76979630e-02, 9.58052557e-03, ...,\n",
              "        6.53199196e-01, 5.08804396e-02, 7.79080987e-01],\n",
              "       [5.81960231e-02, 1.10622704e-01, 2.62571156e-01, ...,\n",
              "        6.09022558e-01, 1.02241419e-01, 1.14069067e-01]], dtype=float32)>"
            ]
          },
          "metadata": {},
          "execution_count": 21
        }
      ]
    },
    {
      "cell_type": "code",
      "source": [
        "tf.multiply(random_tensor_1, 2)"
      ],
      "metadata": {
        "colab": {
          "base_uri": "https://localhost:8080/"
        },
        "id": "zoC8L6x-WMr8",
        "outputId": "16658756-59f6-41ad-e206-e29e9845cc57"
      },
      "execution_count": 22,
      "outputs": [
        {
          "output_type": "execute_result",
          "data": {
            "text/plain": [
              "<tf.Tensor: shape=(5, 300), dtype=float32, numpy=\n",
              "array([[1.3291242 , 0.88201356, 0.705765  , ..., 0.62820935, 1.518707  ,\n",
              "        0.07398105],\n",
              "       [1.064048  , 0.5825989 , 0.21143532, ..., 1.0810459 , 0.6285145 ,\n",
              "        0.4401238 ],\n",
              "       [0.16808414, 0.07229209, 1.9546425 , ..., 0.4303329 , 1.9572196 ,\n",
              "        0.01453495],\n",
              "       [1.479389  , 1.3306344 , 0.1575656 , ..., 1.4235466 , 0.14027143,\n",
              "        1.881825  ],\n",
              "       [0.3172269 , 0.24048066, 0.5443647 , ..., 1.7649758 , 0.2864976 ,\n",
              "        0.88270235]], dtype=float32)>"
            ]
          },
          "metadata": {},
          "execution_count": 22
        }
      ]
    },
    {
      "cell_type": "code",
      "source": [
        "tf.matmul(random_tensor_1, tf.transpose(random_tensor_2))"
      ],
      "metadata": {
        "colab": {
          "base_uri": "https://localhost:8080/"
        },
        "id": "BikfM9-iWbxr",
        "outputId": "acfdd08f-fac7-4806-ca3c-c5917b8d629d"
      },
      "execution_count": 24,
      "outputs": [
        {
          "output_type": "execute_result",
          "data": {
            "text/plain": [
              "<tf.Tensor: shape=(5, 5), dtype=float32, numpy=\n",
              "array([[80.33345 , 73.40498 , 77.159615, 73.98369 , 80.90053 ],\n",
              "       [75.146355, 68.80437 , 74.24302 , 71.841835, 75.60206 ],\n",
              "       [79.7594  , 75.644554, 77.797585, 74.74873 , 80.559845],\n",
              "       [75.08526 , 69.064064, 74.30776 , 72.27616 , 76.05669 ],\n",
              "       [85.05688 , 74.26627 , 78.00687 , 74.88679 , 83.13417 ]],\n",
              "      dtype=float32)>"
            ]
          },
          "metadata": {},
          "execution_count": 24
        }
      ]
    },
    {
      "cell_type": "code",
      "source": [
        "tf.tensordot(tf.transpose(random_tensor_1), random_tensor_2, axes=1)"
      ],
      "metadata": {
        "colab": {
          "base_uri": "https://localhost:8080/"
        },
        "id": "DYyGhddEW-Fa",
        "outputId": "e0decc92-51ab-4105-b628-b8a2e81b392f"
      },
      "execution_count": 26,
      "outputs": [
        {
          "output_type": "execute_result",
          "data": {
            "text/plain": [
              "<tf.Tensor: shape=(300, 300), dtype=float32, numpy=\n",
              "array([[1.317161  , 0.61993605, 1.2612379 , ..., 1.5290778 , 1.0735596 ,\n",
              "        1.6227092 ],\n",
              "       [1.0170685 , 0.42642498, 0.8181824 , ..., 1.1469344 , 0.8212255 ,\n",
              "        1.1739546 ],\n",
              "       [0.45034647, 0.8037954 , 1.4656199 , ..., 1.105671  , 0.88152766,\n",
              "        1.481925  ],\n",
              "       ...,\n",
              "       [1.3204696 , 1.1634867 , 1.7423928 , ..., 1.8386563 , 1.5207756 ,\n",
              "        1.5979093 ],\n",
              "       [0.73207504, 0.90400356, 1.8493464 , ..., 1.3821819 , 0.98218614,\n",
              "        1.924531  ],\n",
              "       [1.0814031 , 0.5316744 , 0.7174167 , ..., 1.2942287 , 1.0804075 ,\n",
              "        1.0476992 ]], dtype=float32)>"
            ]
          },
          "metadata": {},
          "execution_count": 26
        }
      ]
    },
    {
      "cell_type": "code",
      "source": [],
      "metadata": {
        "id": "ZAiHHWK1XtMk"
      },
      "execution_count": null,
      "outputs": []
    }
  ]
}