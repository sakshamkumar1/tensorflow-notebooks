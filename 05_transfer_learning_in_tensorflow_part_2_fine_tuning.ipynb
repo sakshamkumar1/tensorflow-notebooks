{
  "nbformat": 4,
  "nbformat_minor": 0,
  "metadata": {
    "colab": {
      "provenance": [],
      "gpuType": "T4",
      "authorship_tag": "ABX9TyOvgvZY/SX3nPmazmgud1wv",
      "include_colab_link": true
    },
    "kernelspec": {
      "name": "python3",
      "display_name": "Python 3"
    },
    "language_info": {
      "name": "python"
    },
    "accelerator": "GPU",
    "gpuClass": "standard"
  },
  "cells": [
    {
      "cell_type": "markdown",
      "metadata": {
        "id": "view-in-github",
        "colab_type": "text"
      },
      "source": [
        "<a href=\"https://colab.research.google.com/github/sakshamkumar1/tensorflow-notebooks/blob/main/05_transfer_learning_in_tensorflow_part_2_fine_tuning.ipynb\" target=\"_parent\"><img src=\"https://colab.research.google.com/assets/colab-badge.svg\" alt=\"Open In Colab\"/></a>"
      ]
    },
    {
      "cell_type": "markdown",
      "source": [
        "# Transfer Learning with TensorFlow Part 2: Fine-tuning"
      ],
      "metadata": {
        "id": "lhaLK1tpRuib"
      }
    },
    {
      "cell_type": "code",
      "execution_count": 1,
      "metadata": {
        "colab": {
          "base_uri": "https://localhost:8080/"
        },
        "id": "1AvbrldNRaMJ",
        "outputId": "9ad53027-50c1-404e-d6cd-e60112169659"
      },
      "outputs": [
        {
          "output_type": "execute_result",
          "data": {
            "text/plain": [
              "[]"
            ]
          },
          "metadata": {},
          "execution_count": 1
        }
      ],
      "source": [
        "import tensorflow as tf\n",
        "\n",
        "tf.config.list_physical_devices(\"gpu\")"
      ]
    },
    {
      "cell_type": "code",
      "source": [
        "!nvidia-smi"
      ],
      "metadata": {
        "colab": {
          "base_uri": "https://localhost:8080/"
        },
        "id": "9yWuNZgJRqkN",
        "outputId": "1f7bc9ad-cfa8-428b-8676-007f81827acd"
      },
      "execution_count": 2,
      "outputs": [
        {
          "output_type": "stream",
          "name": "stdout",
          "text": [
            "Mon Apr 24 14:35:23 2023       \n",
            "+-----------------------------------------------------------------------------+\n",
            "| NVIDIA-SMI 525.85.12    Driver Version: 525.85.12    CUDA Version: 12.0     |\n",
            "|-------------------------------+----------------------+----------------------+\n",
            "| GPU  Name        Persistence-M| Bus-Id        Disp.A | Volatile Uncorr. ECC |\n",
            "| Fan  Temp  Perf  Pwr:Usage/Cap|         Memory-Usage | GPU-Util  Compute M. |\n",
            "|                               |                      |               MIG M. |\n",
            "|===============================+======================+======================|\n",
            "|   0  Tesla T4            Off  | 00000000:00:04.0 Off |                    0 |\n",
            "| N/A   51C    P8     9W /  70W |      3MiB / 15360MiB |      0%      Default |\n",
            "|                               |                      |                  N/A |\n",
            "+-------------------------------+----------------------+----------------------+\n",
            "                                                                               \n",
            "+-----------------------------------------------------------------------------+\n",
            "| Processes:                                                                  |\n",
            "|  GPU   GI   CI        PID   Type   Process name                  GPU Memory |\n",
            "|        ID   ID                                                   Usage      |\n",
            "|=============================================================================|\n",
            "|  No running processes found                                                 |\n",
            "+-----------------------------------------------------------------------------+\n"
          ]
        }
      ]
    },
    {
      "cell_type": "markdown",
      "source": [
        "## Creating helper functions"
      ],
      "metadata": {
        "id": "0BWBBzuwRvZK"
      }
    },
    {
      "cell_type": "code",
      "source": [
        "!wget https://raw.githubusercontent.com/mrdbourke/tensorflow-deep-learning/main/extras/helper_functions.py"
      ],
      "metadata": {
        "colab": {
          "base_uri": "https://localhost:8080/"
        },
        "id": "KXV2ycCESJ7G",
        "outputId": "4c825240-50d5-480c-f6ad-fc41e89e73dc"
      },
      "execution_count": 3,
      "outputs": [
        {
          "output_type": "stream",
          "name": "stdout",
          "text": [
            "--2023-04-24 14:35:23--  https://raw.githubusercontent.com/mrdbourke/tensorflow-deep-learning/main/extras/helper_functions.py\n",
            "Resolving raw.githubusercontent.com (raw.githubusercontent.com)... 185.199.108.133, 185.199.109.133, 185.199.110.133, ...\n",
            "Connecting to raw.githubusercontent.com (raw.githubusercontent.com)|185.199.108.133|:443... connected.\n",
            "HTTP request sent, awaiting response... 200 OK\n",
            "Length: 10246 (10K) [text/plain]\n",
            "Saving to: ‘helper_functions.py’\n",
            "\n",
            "helper_functions.py 100%[===================>]  10.01K  --.-KB/s    in 0s      \n",
            "\n",
            "2023-04-24 14:35:24 (77.5 MB/s) - ‘helper_functions.py’ saved [10246/10246]\n",
            "\n"
          ]
        }
      ]
    },
    {
      "cell_type": "code",
      "source": [
        "from helper_functions import create_tensorboard_callback, plot_loss_curves, unzip_data, walk_through_dir"
      ],
      "metadata": {
        "id": "qEcKsTUYSlrG"
      },
      "execution_count": 4,
      "outputs": []
    },
    {
      "cell_type": "markdown",
      "source": [
        "## Let's get some data"
      ],
      "metadata": {
        "id": "6xkAaEz1TBk2"
      }
    },
    {
      "cell_type": "code",
      "source": [
        "!wget https://storage.googleapis.com/ztm_tf_course/food_vision/10_food_classes_10_percent.zip\n",
        "\n",
        "unzip_data(\"10_food_classes_10_percent.zip\")"
      ],
      "metadata": {
        "colab": {
          "base_uri": "https://localhost:8080/"
        },
        "id": "mzKScNLSTd5S",
        "outputId": "c6c98825-48ef-47d5-ae19-c1ffa3bf8862"
      },
      "execution_count": 5,
      "outputs": [
        {
          "output_type": "stream",
          "name": "stdout",
          "text": [
            "--2023-04-24 14:35:25--  https://storage.googleapis.com/ztm_tf_course/food_vision/10_food_classes_10_percent.zip\n",
            "Resolving storage.googleapis.com (storage.googleapis.com)... 74.125.68.128, 74.125.24.128, 142.250.4.128, ...\n",
            "Connecting to storage.googleapis.com (storage.googleapis.com)|74.125.68.128|:443... connected.\n",
            "HTTP request sent, awaiting response... 200 OK\n",
            "Length: 168546183 (161M) [application/zip]\n",
            "Saving to: ‘10_food_classes_10_percent.zip’\n",
            "\n",
            "10_food_classes_10_ 100%[===================>] 160.74M  22.1MB/s    in 8.3s    \n",
            "\n",
            "2023-04-24 14:35:34 (19.5 MB/s) - ‘10_food_classes_10_percent.zip’ saved [168546183/168546183]\n",
            "\n"
          ]
        }
      ]
    },
    {
      "cell_type": "code",
      "source": [
        "# Check out how many images and subdirectories are in our dataset\n",
        "walk_through_dir(\"10_food_classes_10_percent\")"
      ],
      "metadata": {
        "colab": {
          "base_uri": "https://localhost:8080/"
        },
        "id": "z_szxlZdUdb5",
        "outputId": "23bddf43-b0d3-42b4-e059-3e342fc2f534"
      },
      "execution_count": 6,
      "outputs": [
        {
          "output_type": "stream",
          "name": "stdout",
          "text": [
            "There are 2 directories and 0 images in '10_food_classes_10_percent'.\n",
            "There are 10 directories and 0 images in '10_food_classes_10_percent/train'.\n",
            "There are 0 directories and 75 images in '10_food_classes_10_percent/train/sushi'.\n",
            "There are 0 directories and 75 images in '10_food_classes_10_percent/train/fried_rice'.\n",
            "There are 0 directories and 75 images in '10_food_classes_10_percent/train/ice_cream'.\n",
            "There are 0 directories and 75 images in '10_food_classes_10_percent/train/ramen'.\n",
            "There are 0 directories and 75 images in '10_food_classes_10_percent/train/chicken_wings'.\n",
            "There are 0 directories and 75 images in '10_food_classes_10_percent/train/grilled_salmon'.\n",
            "There are 0 directories and 75 images in '10_food_classes_10_percent/train/steak'.\n",
            "There are 0 directories and 75 images in '10_food_classes_10_percent/train/pizza'.\n",
            "There are 0 directories and 75 images in '10_food_classes_10_percent/train/chicken_curry'.\n",
            "There are 0 directories and 75 images in '10_food_classes_10_percent/train/hamburger'.\n",
            "There are 10 directories and 0 images in '10_food_classes_10_percent/test'.\n",
            "There are 0 directories and 250 images in '10_food_classes_10_percent/test/sushi'.\n",
            "There are 0 directories and 250 images in '10_food_classes_10_percent/test/fried_rice'.\n",
            "There are 0 directories and 250 images in '10_food_classes_10_percent/test/ice_cream'.\n",
            "There are 0 directories and 250 images in '10_food_classes_10_percent/test/ramen'.\n",
            "There are 0 directories and 250 images in '10_food_classes_10_percent/test/chicken_wings'.\n",
            "There are 0 directories and 250 images in '10_food_classes_10_percent/test/grilled_salmon'.\n",
            "There are 0 directories and 250 images in '10_food_classes_10_percent/test/steak'.\n",
            "There are 0 directories and 250 images in '10_food_classes_10_percent/test/pizza'.\n",
            "There are 0 directories and 250 images in '10_food_classes_10_percent/test/chicken_curry'.\n",
            "There are 0 directories and 250 images in '10_food_classes_10_percent/test/hamburger'.\n"
          ]
        }
      ]
    },
    {
      "cell_type": "code",
      "source": [
        "# Create training and test directory paths\n",
        "train_dir = \"10_food_classes_10_percent/train\"\n",
        "test_dir = \"10_food_classes_10_percent/test\""
      ],
      "metadata": {
        "id": "H445tj_PUn8U"
      },
      "execution_count": 7,
      "outputs": []
    },
    {
      "cell_type": "code",
      "source": [
        "import tensorflow as tf\n",
        "IMG_SIZE = (224, 224)\n",
        "BATCH_SIZE = 32\n",
        "train_data_10_percent = tf.keras.preprocessing.image_dataset_from_directory(directory=train_dir,\n",
        "                                                                            image_size=IMG_SIZE,\n",
        "                                                                            label_mode=\"categorical\",\n",
        "                                                                            batch_size=BATCH_SIZE)\n",
        "test_data = tf.keras.preprocessing.image_dataset_from_directory(directory=test_dir,\n",
        "                                                                image_size=IMG_SIZE,\n",
        "                                                                label_mode=\"categorical\",\n",
        "                                                                batch_size=BATCH_SIZE)"
      ],
      "metadata": {
        "colab": {
          "base_uri": "https://localhost:8080/"
        },
        "id": "Q2aZoSJ5U52K",
        "outputId": "eb754310-ea4d-4087-dbe6-c4a88cb96ef8"
      },
      "execution_count": 8,
      "outputs": [
        {
          "output_type": "stream",
          "name": "stdout",
          "text": [
            "Found 750 files belonging to 10 classes.\n",
            "Found 2500 files belonging to 10 classes.\n"
          ]
        }
      ]
    },
    {
      "cell_type": "code",
      "source": [
        "train_data_10_percent"
      ],
      "metadata": {
        "colab": {
          "base_uri": "https://localhost:8080/"
        },
        "id": "PTjZ2LZebuiZ",
        "outputId": "101cb75c-3413-43a8-ed79-017a6e33ab48"
      },
      "execution_count": 9,
      "outputs": [
        {
          "output_type": "execute_result",
          "data": {
            "text/plain": [
              "<_BatchDataset element_spec=(TensorSpec(shape=(None, 224, 224, 3), dtype=tf.float32, name=None), TensorSpec(shape=(None, 10), dtype=tf.float32, name=None))>"
            ]
          },
          "metadata": {},
          "execution_count": 9
        }
      ]
    },
    {
      "cell_type": "code",
      "source": [
        "train_data_10_percent.class_names"
      ],
      "metadata": {
        "colab": {
          "base_uri": "https://localhost:8080/"
        },
        "id": "EDqz1eRXe3ok",
        "outputId": "b9b3f346-f4fe-45f1-f7d2-f9fbf1940170"
      },
      "execution_count": 10,
      "outputs": [
        {
          "output_type": "execute_result",
          "data": {
            "text/plain": [
              "['chicken_curry',\n",
              " 'chicken_wings',\n",
              " 'fried_rice',\n",
              " 'grilled_salmon',\n",
              " 'hamburger',\n",
              " 'ice_cream',\n",
              " 'pizza',\n",
              " 'ramen',\n",
              " 'steak',\n",
              " 'sushi']"
            ]
          },
          "metadata": {},
          "execution_count": 10
        }
      ]
    },
    {
      "cell_type": "code",
      "source": [
        "for images, labels in train_data_10_percent.take(1):\n",
        "  print(images, labels)"
      ],
      "metadata": {
        "colab": {
          "base_uri": "https://localhost:8080/"
        },
        "id": "6Vb5hAsKf_yS",
        "outputId": "286eb0b5-e2f1-45d6-c27e-e3779f4b8532"
      },
      "execution_count": 11,
      "outputs": [
        {
          "output_type": "stream",
          "name": "stdout",
          "text": [
            "tf.Tensor(\n",
            "[[[[  2.           2.           0.        ]\n",
            "   [  1.0714283    1.0714283    0.        ]\n",
            "   [  1.           1.           0.        ]\n",
            "   ...\n",
            "   [ 18.785736     9.785736     2.785736  ]\n",
            "   [ 18.571415     9.571416     2.5714154 ]\n",
            "   [ 16.642857     7.642857     0.6428572 ]]\n",
            "\n",
            "  [[  2.           2.           0.        ]\n",
            "   [  1.0714283    1.0714283    0.        ]\n",
            "   [  1.           1.           0.        ]\n",
            "   ...\n",
            "   [ 18.785736     9.785736     2.785736  ]\n",
            "   [ 20.85713     11.85713      4.85713   ]\n",
            "   [ 19.571394    10.571394     3.571394  ]]\n",
            "\n",
            "  [[  2.           2.           0.        ]\n",
            "   [  1.0714283    1.0714283    0.        ]\n",
            "   [  1.           1.           0.        ]\n",
            "   ...\n",
            "   [ 20.000023    10.785736     1.7857361 ]\n",
            "   [ 20.928558    11.7142725    2.7142725 ]\n",
            "   [ 19.           9.785714     0.78571415]]\n",
            "\n",
            "  ...\n",
            "\n",
            "  [[167.28572    159.28572    156.28572   ]\n",
            "   [168.19896    163.19896    159.19896   ]\n",
            "   [165.78569    163.21426    158.21426   ]\n",
            "   ...\n",
            "   [ 71.30608     37.306084     9.520346  ]\n",
            "   [ 70.80092     36.800922    10.229449  ]\n",
            "   [ 70.84691     36.84691     10.275436  ]]\n",
            "\n",
            "  [[168.23979    161.23979    155.23979   ]\n",
            "   [167.06633    162.06633    156.06633   ]\n",
            "   [165.0153     162.0153     155.0153    ]\n",
            "   ...\n",
            "   [ 75.44389     40.443897    12.015368  ]\n",
            "   [ 74.93877     39.938766    11.9387665 ]\n",
            "   [ 76.76028     41.76028     13.76028   ]]\n",
            "\n",
            "  [[163.9285     158.9285     152.9285    ]\n",
            "   [164.64282    159.64282    153.64282   ]\n",
            "   [164.35204    161.35204    154.35204   ]\n",
            "   ...\n",
            "   [ 69.14791     34.14791      4.147911  ]\n",
            "   [ 73.09696     38.09696     10.096959  ]\n",
            "   [ 73.87242     38.872425    10.872424  ]]]\n",
            "\n",
            "\n",
            " [[[209.14285    178.14285    113.14286   ]\n",
            "   [203.23979    172.23979    108.23979   ]\n",
            "   [198.         168.42857    104.64285   ]\n",
            "   ...\n",
            "   [ 53.94392     57.94392     43.729656  ]\n",
            "   [ 54.239788    58.239788    44.239788  ]\n",
            "   [ 54.61227     58.61227     44.61227   ]]\n",
            "\n",
            "  [[201.66837    170.66837    105.668365  ]\n",
            "   [199.2857     168.2857     104.285706  ]\n",
            "   [193.4847     163.91327    101.698975  ]\n",
            "   ...\n",
            "   [ 53.581573    57.581573    43.581573  ]\n",
            "   [ 46.423466    50.423466    36.423466  ]\n",
            "   [ 47.949043    51.949043    37.949043  ]]\n",
            "\n",
            "  [[194.92346    164.13776    100.13776   ]\n",
            "   [195.84183    165.84183    101.841835  ]\n",
            "   [189.57144    161.35715     99.        ]\n",
            "   ...\n",
            "   [ 56.336765    59.336765    48.428593  ]\n",
            "   [ 54.64282     57.64282     46.64282   ]\n",
            "   [ 50.28568     53.28568     42.28568   ]]\n",
            "\n",
            "  ...\n",
            "\n",
            "  [[ 14.642792    15.214264     9.428528  ]\n",
            "   [ 16.556059    17.127531    11.341795  ]\n",
            "   [ 16.785692    17.357164    11.571428  ]\n",
            "   ...\n",
            "   [  6.831645     8.831645     4.168355  ]\n",
            "   [  8.056134    10.056134     7.056134  ]\n",
            "   [  9.280647    11.280647     8.280647  ]]\n",
            "\n",
            "  [[ 15.357142    16.357143    10.357142  ]\n",
            "   [ 15.862233    16.862232    10.862233  ]\n",
            "   [ 16.515295    17.515295    11.515296  ]\n",
            "   ...\n",
            "   [  8.270398    10.270398     5.270398  ]\n",
            "   [  7.862221     9.862221     4.862221  ]\n",
            "   [  6.9285583    8.928558     3.9285583 ]]\n",
            "\n",
            "  [[ 15.71432     16.714321    10.71432   ]\n",
            "   [ 16.28575     17.28575     11.285749  ]\n",
            "   [ 18.071533    19.071533    13.071533  ]\n",
            "   ...\n",
            "   [  8.137733    10.137733     5.1377335 ]\n",
            "   [  7.954076     9.954076     4.954076  ]\n",
            "   [  7.3571777    9.357178     4.3571777 ]]]\n",
            "\n",
            "\n",
            " [[[154.86734     87.22449     37.15306   ]\n",
            "   [128.54082     60.540813    15.397958  ]\n",
            "   [138.0051      70.005104    25.005102  ]\n",
            "   ...\n",
            "   [127.86219     17.219402    20.005138  ]\n",
            "   [130.2857      19.285702    25.285702  ]\n",
            "   [125.15804     14.158046    20.158047  ]]\n",
            "\n",
            "  [[152.13266     86.13265     36.132652  ]\n",
            "   [134.41837     67.42347     22.408161  ]\n",
            "   [135.30103     67.30102     22.301022  ]\n",
            "   ...\n",
            "   [126.42853     15.785736    17.        ]\n",
            "   [129.          19.          20.142857  ]\n",
            "   [127.188705    17.188704    19.525373  ]]\n",
            "\n",
            "  [[144.0153      81.22959     30.229593  ]\n",
            "   [139.16837     75.168365    29.168365  ]\n",
            "   [131.23979     64.02551     19.02551   ]\n",
            "   ...\n",
            "   [128.26018     17.617386    18.494905  ]\n",
            "   [128.58673     18.602047    17.571428  ]\n",
            "   [128.86226     19.076538    17.647966  ]]\n",
            "\n",
            "  ...\n",
            "\n",
            "  [[198.78064    107.07143     30.698915  ]\n",
            "   [193.08673    102.14285     29.372404  ]\n",
            "   [193.66846    102.62254     32.14292   ]\n",
            "   ...\n",
            "   [219.9336     126.36212     53.71933   ]\n",
            "   [217.45404    123.45405     53.02552   ]\n",
            "   [219.1328     125.1328      55.132797  ]]\n",
            "\n",
            "  [[200.70918    109.70917     28.566286  ]\n",
            "   [195.27554    104.27554     24.989807  ]\n",
            "   [194.28574    104.08677     28.571428  ]\n",
            "   ...\n",
            "   [222.62755    125.84181     54.168404  ]\n",
            "   [219.14288    125.14288     55.142883  ]\n",
            "   [221.26022    126.260216    58.26022   ]]\n",
            "\n",
            "  [[198.87244    108.87244     22.158081  ]\n",
            "   [201.28575    110.28575     28.479563  ]\n",
            "   [197.21422    105.92342     28.576433  ]\n",
            "   ...\n",
            "   [229.92862    133.14288     61.071564  ]\n",
            "   [226.64291    129.64291     60.642914  ]\n",
            "   [224.71436    127.714355    59.714355  ]]]\n",
            "\n",
            "\n",
            " ...\n",
            "\n",
            "\n",
            " [[[114.158165    66.158165    28.158163  ]\n",
            "   [116.59694     68.59694     30.59694   ]\n",
            "   [134.35204     86.35204     48.352043  ]\n",
            "   ...\n",
            "   [160.7144     166.7144     202.7144    ]\n",
            "   [157.21935    165.21935    201.21935   ]\n",
            "   [151.53055    159.53055    195.53055   ]]\n",
            "\n",
            "  [[127.35715     77.35715     40.357143  ]\n",
            "   [126.64286     76.64286     39.64286   ]\n",
            "   [139.67348     89.88776     52.2449    ]\n",
            "   ...\n",
            "   [150.48476    158.88268    195.68372   ]\n",
            "   [153.36212    161.36212    198.22437   ]\n",
            "   [144.13795    154.13795    189.13795   ]]\n",
            "\n",
            "  [[126.352036    74.35204     37.352043  ]\n",
            "   [131.34694     79.34694     40.775513  ]\n",
            "   [137.30612     85.30612     46.30612   ]\n",
            "   ...\n",
            "   [148.57147    161.00005    200.78575   ]\n",
            "   [151.07648    160.77547    199.39279   ]\n",
            "   [150.19913    160.842      196.6277    ]]\n",
            "\n",
            "  ...\n",
            "\n",
            "  [[247.         255.         255.        ]\n",
            "   [247.         255.         255.        ]\n",
            "   [247.         255.         255.        ]\n",
            "   ...\n",
            "   [247.         255.         255.        ]\n",
            "   [247.         255.         255.        ]\n",
            "   [247.         255.         255.        ]]\n",
            "\n",
            "  [[247.         255.         255.        ]\n",
            "   [247.         255.         255.        ]\n",
            "   [247.         255.         255.        ]\n",
            "   ...\n",
            "   [247.         255.         255.        ]\n",
            "   [247.         255.         255.        ]\n",
            "   [247.         255.         255.        ]]\n",
            "\n",
            "  [[247.         255.         255.        ]\n",
            "   [247.         255.         255.        ]\n",
            "   [247.         255.         255.        ]\n",
            "   ...\n",
            "   [247.         255.         255.        ]\n",
            "   [247.         255.         255.        ]\n",
            "   [247.         255.         255.        ]]]\n",
            "\n",
            "\n",
            " [[[ 75.73884     70.73884     41.73884   ]\n",
            "   [ 62.598213    58.598213    29.598213  ]\n",
            "   [ 56.12835     55.12835     27.12835   ]\n",
            "   ...\n",
            "   [ 85.21569     84.07275     46.13301   ]\n",
            "   [ 88.317024    83.1027      44.363853  ]\n",
            "   [102.34953     91.58496     52.454403  ]]\n",
            "\n",
            "  [[ 75.84821     70.84821     39.004463  ]\n",
            "   [ 61.276787    58.276787    27.145088  ]\n",
            "   [ 62.680805    61.680805    31.680805  ]\n",
            "   ...\n",
            "   [ 77.35065     75.2077      43.83719   ]\n",
            "   [ 87.59926     81.5881      49.42068   ]\n",
            "   [ 85.22673     75.49007     42.63518   ]]\n",
            "\n",
            "  [[ 80.203125    76.203125    39.        ]\n",
            "   [ 72.168526    69.37165     33.762276  ]\n",
            "   [ 66.61495     66.44419     32.637276  ]\n",
            "   ...\n",
            "   [ 75.389595    72.03239     44.41187   ]\n",
            "   [ 82.302475    77.188614    48.245544  ]\n",
            "   [ 87.844925    78.4543      51.048054  ]]\n",
            "\n",
            "  ...\n",
            "\n",
            "  [[ 82.28571     74.28571     35.285713  ]\n",
            "   [ 80.199776    75.199776    35.199776  ]\n",
            "   [ 74.58817     71.80246     30.802456  ]\n",
            "   ...\n",
            "   [123.91857    112.796875    62.72097   ]\n",
            "   [121.36052    108.43196     55.074753  ]\n",
            "   [126.84595    111.84595     54.13159   ]]\n",
            "\n",
            "  [[ 85.877235    80.95536     38.72098   ]\n",
            "   [ 82.824776    77.9029      35.668526  ]\n",
            "   [ 80.22545     77.65402     34.283485  ]\n",
            "   ...\n",
            "   [127.94205    116.00006     68.646225  ]\n",
            "   [133.4018     117.47323     65.33145   ]\n",
            "   [135.33481    118.69199     61.62046   ]]\n",
            "\n",
            "  [[ 87.25223     83.25223     38.25223   ]\n",
            "   [ 82.25334     79.20759     34.20759   ]\n",
            "   [ 80.9375      78.9308      32.7154    ]\n",
            "   ...\n",
            "   [125.426445   111.35833     67.29134   ]\n",
            "   [138.99442    123.01451     71.75442   ]\n",
            "   [139.79689    122.30696     65.62051   ]]]\n",
            "\n",
            "\n",
            " [[[143.44388    131.44388    105.44388   ]\n",
            "   [172.58163    160.58163    134.58163   ]\n",
            "   [174.12755    162.12755    136.55612   ]\n",
            "   ...\n",
            "   [172.07138    157.07138    135.64285   ]\n",
            "   [168.66327    153.66327    132.66327   ]\n",
            "   [170.05106    155.05106    136.05106   ]]\n",
            "\n",
            "  [[191.99489    179.99489    153.99489   ]\n",
            "   [165.2704     153.2704     127.2704    ]\n",
            "   [171.47449    159.47449    133.47449   ]\n",
            "   ...\n",
            "   [175.61737    160.61737    139.61737   ]\n",
            "   [170.28067    155.28067    134.28067   ]\n",
            "   [168.45384    153.45384    132.45384   ]]\n",
            "\n",
            "  [[165.32143    153.32143    127.32143   ]\n",
            "   [175.64287    163.64287    137.64287   ]\n",
            "   [171.47449    159.5204     133.42857   ]\n",
            "   ...\n",
            "   [172.30106    157.30106    136.30106   ]\n",
            "   [171.35716    156.35716    135.35716   ]\n",
            "   [171.79073    156.79073    135.79073   ]]\n",
            "\n",
            "  ...\n",
            "\n",
            "  [[157.28073    136.92352    115.70926   ]\n",
            "   [155.6837     135.32649    113.6837    ]\n",
            "   [153.0204     133.44893    109.44893   ]\n",
            "   ...\n",
            "   [153.26018    136.26018    116.26017   ]\n",
            "   [152.47452    137.47452    116.47451   ]\n",
            "   [152.48477    137.48477    116.484764  ]]\n",
            "\n",
            "  [[150.47963    127.47963    109.47963   ]\n",
            "   [155.93369    133.93369    112.93369   ]\n",
            "   [151.85712    129.85712    108.42854   ]\n",
            "   ...\n",
            "   [151.7296     134.7296     114.7296    ]\n",
            "   [153.43867    138.43867    117.438675  ]\n",
            "   [151.6634     136.6634     115.663414  ]]\n",
            "\n",
            "  [[156.9539     130.9539     113.95391   ]\n",
            "   [158.04074    133.04074    113.04074   ]\n",
            "   [158.21457    133.21457    112.785995  ]\n",
            "   ...\n",
            "   [152.57144    135.57144    115.57144   ]\n",
            "   [146.88777    131.88777    110.88777   ]\n",
            "   [152.81638    137.81638    116.81638   ]]]], shape=(32, 224, 224, 3), dtype=float32) tf.Tensor(\n",
            "[[0. 0. 1. 0. 0. 0. 0. 0. 0. 0.]\n",
            " [0. 1. 0. 0. 0. 0. 0. 0. 0. 0.]\n",
            " [0. 0. 0. 0. 0. 1. 0. 0. 0. 0.]\n",
            " [0. 0. 0. 0. 0. 0. 1. 0. 0. 0.]\n",
            " [0. 0. 0. 0. 0. 0. 1. 0. 0. 0.]\n",
            " [0. 0. 0. 0. 0. 1. 0. 0. 0. 0.]\n",
            " [0. 0. 0. 0. 0. 1. 0. 0. 0. 0.]\n",
            " [0. 1. 0. 0. 0. 0. 0. 0. 0. 0.]\n",
            " [0. 1. 0. 0. 0. 0. 0. 0. 0. 0.]\n",
            " [0. 0. 0. 1. 0. 0. 0. 0. 0. 0.]\n",
            " [1. 0. 0. 0. 0. 0. 0. 0. 0. 0.]\n",
            " [0. 0. 0. 0. 0. 0. 0. 1. 0. 0.]\n",
            " [0. 0. 0. 0. 0. 0. 0. 0. 0. 1.]\n",
            " [0. 0. 0. 0. 0. 0. 1. 0. 0. 0.]\n",
            " [0. 0. 1. 0. 0. 0. 0. 0. 0. 0.]\n",
            " [0. 0. 0. 0. 0. 0. 0. 0. 1. 0.]\n",
            " [0. 1. 0. 0. 0. 0. 0. 0. 0. 0.]\n",
            " [0. 0. 0. 0. 1. 0. 0. 0. 0. 0.]\n",
            " [0. 0. 0. 1. 0. 0. 0. 0. 0. 0.]\n",
            " [0. 0. 0. 0. 0. 0. 0. 0. 1. 0.]\n",
            " [0. 0. 0. 0. 0. 0. 0. 0. 0. 1.]\n",
            " [0. 0. 0. 0. 0. 0. 0. 1. 0. 0.]\n",
            " [0. 0. 0. 0. 0. 0. 0. 0. 0. 1.]\n",
            " [0. 0. 0. 0. 0. 0. 0. 0. 1. 0.]\n",
            " [0. 0. 0. 0. 0. 0. 0. 1. 0. 0.]\n",
            " [0. 0. 1. 0. 0. 0. 0. 0. 0. 0.]\n",
            " [1. 0. 0. 0. 0. 0. 0. 0. 0. 0.]\n",
            " [0. 0. 0. 0. 0. 0. 0. 0. 0. 1.]\n",
            " [0. 0. 0. 0. 0. 1. 0. 0. 0. 0.]\n",
            " [0. 1. 0. 0. 0. 0. 0. 0. 0. 0.]\n",
            " [0. 0. 0. 0. 1. 0. 0. 0. 0. 0.]\n",
            " [0. 0. 0. 0. 0. 0. 0. 0. 1. 0.]], shape=(32, 10), dtype=float32)\n"
          ]
        }
      ]
    },
    {
      "cell_type": "markdown",
      "source": [
        "## Model 0: Building a transfer learning feature extraction model using the Keras Functional API"
      ],
      "metadata": {
        "id": "5VUz96nogEwO"
      }
    },
    {
      "cell_type": "code",
      "source": [
        "# 1. Create base model with tf.keras.applications\n",
        "base_model = tf.keras.applications.EfficientNetB0(include_top=False)\n",
        "\n",
        "# 2. Freeze the base model (so the underlying pre-trained patterns aren't updated.)\n",
        "base_model.trainable = False\n",
        "\n",
        "# 3. Create inputs into our model\n",
        "inputs = tf.keras.layers.Input(shape=(224, 224, 3), name=\"input_layer\")\n",
        "\n",
        "# 4. If using a model like ResNet50V2 we will need to normalize inputs\n",
        "# x = tf.keras.layers.experimental.preprocessing.Rescaling(1./255)(inputs)\n",
        "\n",
        "# 5. Pass the inputs to the base_model\n",
        "x = base_model(inputs)\n",
        "print(f\"Shape after passing inputs through base model: {x.shape}\")\n",
        "\n",
        "# 6. Average pool\n",
        "x = tf.keras.layers.GlobalAveragePooling2D(name=\"global_average_pooling_layer\")(x)\n",
        "print(f\"Shape after GlobalAveragePooling2D: {x.shape}\")\n",
        "\n",
        "# 7. Create the output activation layer\n",
        "outputs = tf.keras.layers.Dense(10, activation=\"softmax\", name=\"output_layer\")(x)\n",
        "\n",
        "# 8. Combine the inputs with the outputs into a model\n",
        "model_0 = tf.keras.Model(inputs, outputs)\n",
        "\n",
        "# 9. Compile the model\n",
        "model_0.compile(loss=tf.keras.losses.categorical_crossentropy,\n",
        "                optimizer=tf.keras.optimizers.Adam(),\n",
        "                metrics=[\"accuracy\"])\n",
        "\n",
        "# 10. Fit the model and save its history\n",
        "history_0 = model_0.fit(train_data_10_percent,\n",
        "                        epochs=5,\n",
        "                        steps_per_epoch=len(train_data_10_percent),\n",
        "                        validation_data=test_data,\n",
        "                        validation_steps=len(test_data),\n",
        "                        callbacks=[create_tensorboard_callback(dir_name=\"transfer_learning\",\n",
        "                                                               experiment_name=\"10_percent_feature_extraction\")])"
      ],
      "metadata": {
        "colab": {
          "base_uri": "https://localhost:8080/"
        },
        "id": "auotyylns9Vn",
        "outputId": "8a2abc6f-f0bc-4fb9-b3f6-2732b4242a90"
      },
      "execution_count": 14,
      "outputs": [
        {
          "output_type": "stream",
          "name": "stderr",
          "text": [
            "WARNING:tensorflow:Model failed to serialize as JSON. Ignoring... Unable to serialize [2.0896919 2.1128857 2.1081853] to JSON. Unrecognized type <class 'tensorflow.python.framework.ops.EagerTensor'>.\n"
          ]
        },
        {
          "output_type": "stream",
          "name": "stdout",
          "text": [
            "Shape after passing inputs through base model: (None, 7, 7, 1280)\n",
            "Shape after GlobalAveragePooling2D: (None, 1280)\n",
            "Saving TensorBoard log files to: transfer_learning/10_percent_feature_extraction/20230424-150512\n",
            "Epoch 1/5\n",
            "24/24 [==============================] - 16s 383ms/step - loss: 1.8486 - accuracy: 0.4440 - val_loss: 1.2789 - val_accuracy: 0.7324\n",
            "Epoch 2/5\n",
            "24/24 [==============================] - 12s 509ms/step - loss: 1.0923 - accuracy: 0.7493 - val_loss: 0.8612 - val_accuracy: 0.8212\n",
            "Epoch 3/5\n",
            "24/24 [==============================] - 12s 508ms/step - loss: 0.7863 - accuracy: 0.8267 - val_loss: 0.6949 - val_accuracy: 0.8432\n",
            "Epoch 4/5\n",
            "24/24 [==============================] - 8s 336ms/step - loss: 0.6450 - accuracy: 0.8480 - val_loss: 0.6081 - val_accuracy: 0.8528\n",
            "Epoch 5/5\n",
            "24/24 [==============================] - 7s 290ms/step - loss: 0.5449 - accuracy: 0.8840 - val_loss: 0.5510 - val_accuracy: 0.8612\n"
          ]
        }
      ]
    },
    {
      "cell_type": "code",
      "source": [],
      "metadata": {
        "id": "W8SV3NA8zA8I"
      },
      "execution_count": null,
      "outputs": []
    }
  ]
}