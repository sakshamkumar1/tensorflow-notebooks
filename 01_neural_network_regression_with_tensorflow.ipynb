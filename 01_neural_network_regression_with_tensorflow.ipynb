{
  "nbformat": 4,
  "nbformat_minor": 0,
  "metadata": {
    "colab": {
      "provenance": [],
      "authorship_tag": "ABX9TyNeb+rI4g+GpO2JM0xZpD2Q"
    },
    "kernelspec": {
      "name": "python3",
      "display_name": "Python 3"
    },
    "language_info": {
      "name": "python"
    },
    "accelerator": "GPU",
    "gpuClass": "standard"
  },
  "cells": [
    {
      "cell_type": "markdown",
      "source": [
        "# Introduction to Regression with Neural Networks in TensorFlow"
      ],
      "metadata": {
        "id": "ltiTWnFRhvsd"
      }
    },
    {
      "cell_type": "code",
      "source": [
        "import tensorflow as tf\n",
        "print(tf.__version__)"
      ],
      "metadata": {
        "colab": {
          "base_uri": "https://localhost:8080/"
        },
        "id": "4GoCV4TLiLxG",
        "outputId": "4281a8f2-cb97-487f-a43a-20dd22df6b55"
      },
      "execution_count": 1,
      "outputs": [
        {
          "output_type": "stream",
          "name": "stdout",
          "text": [
            "2.12.0\n"
          ]
        }
      ]
    },
    {
      "cell_type": "code",
      "source": [
        "tf.config.list_physical_devices()"
      ],
      "metadata": {
        "colab": {
          "base_uri": "https://localhost:8080/"
        },
        "id": "vhtkpFNei0bg",
        "outputId": "3bde7ecd-e072-41e1-fc48-ebc17121bb47"
      },
      "execution_count": 2,
      "outputs": [
        {
          "output_type": "execute_result",
          "data": {
            "text/plain": [
              "[PhysicalDevice(name='/physical_device:CPU:0', device_type='CPU'),\n",
              " PhysicalDevice(name='/physical_device:GPU:0', device_type='GPU')]"
            ]
          },
          "metadata": {},
          "execution_count": 2
        }
      ]
    },
    {
      "cell_type": "code",
      "source": [
        "tf.config.list_physical_devices(\"GPU\")"
      ],
      "metadata": {
        "colab": {
          "base_uri": "https://localhost:8080/"
        },
        "id": "kF4GXjoWi5c_",
        "outputId": "2f0254d4-1a6d-4958-bfbf-d897f47f92a4"
      },
      "execution_count": 3,
      "outputs": [
        {
          "output_type": "execute_result",
          "data": {
            "text/plain": [
              "[PhysicalDevice(name='/physical_device:GPU:0', device_type='GPU')]"
            ]
          },
          "metadata": {},
          "execution_count": 3
        }
      ]
    },
    {
      "cell_type": "code",
      "source": [
        "import numpy as np\n",
        "import matplotlib.pyplot as plt\n",
        "\n",
        "X = np.array([-7.0, -4.0, -1.0, 2.0, 5.0, 8.0, 11.0, 14.0])\n",
        "\n",
        "y = np.array([3.0, 6.0, 9.0, 12.0, 15.0, 18.0, 21.0, 24.0])\n",
        "\n",
        "plt.scatter(X, y)"
      ],
      "metadata": {
        "colab": {
          "base_uri": "https://localhost:8080/",
          "height": 452
        },
        "id": "rm2LxcHfjCnr",
        "outputId": "ee244fe5-da3d-48e9-84d3-3ec06b84137d"
      },
      "execution_count": 4,
      "outputs": [
        {
          "output_type": "execute_result",
          "data": {
            "text/plain": [
              "<matplotlib.collections.PathCollection at 0x7f25a4f291c0>"
            ]
          },
          "metadata": {},
          "execution_count": 4
        },
        {
          "output_type": "display_data",
          "data": {
            "text/plain": [
              "<Figure size 640x480 with 1 Axes>"
            ],
            "image/png": "[encoded data removed]"
          },
          "metadata": {}
        }
      ]
    },
    {
      "cell_type": "code",
      "source": [
        "X + 10"
      ],
      "metadata": {
        "colab": {
          "base_uri": "https://localhost:8080/"
        },
        "id": "5ARDTgWSkD9e",
        "outputId": "3655eef6-16c9-4b3b-a9ab-7ec7769af2e5"
      },
      "execution_count": 5,
      "outputs": [
        {
          "output_type": "execute_result",
          "data": {
            "text/plain": [
              "array([ 3.,  6.,  9., 12., 15., 18., 21., 24.])"
            ]
          },
          "metadata": {},
          "execution_count": 5
        }
      ]
    },
    {
      "cell_type": "code",
      "source": [
        "y == X + 10"
      ],
      "metadata": {
        "colab": {
          "base_uri": "https://localhost:8080/"
        },
        "id": "Mav0duA6kS4c",
        "outputId": "e225b5d9-c443-497c-b518-a39add48fdd3"
      },
      "execution_count": 6,
      "outputs": [
        {
          "output_type": "execute_result",
          "data": {
            "text/plain": [
              "array([ True,  True,  True,  True,  True,  True,  True,  True])"
            ]
          },
          "metadata": {},
          "execution_count": 6
        }
      ]
    },
    {
      "cell_type": "markdown",
      "source": [
        "## Input and output shapes"
      ],
      "metadata": {
        "id": "_yuJW5XnkVki"
      }
    },
    {
      "cell_type": "code",
      "source": [
        "house_info = tf.constant([\"bedroom\", \"bathroom\", \"garage\"])\n",
        "house_price = tf.constant([939700])\n",
        "house_info, house_price"
      ],
      "metadata": {
        "colab": {
          "base_uri": "https://localhost:8080/"
        },
        "id": "-XeXUYoCkfJ9",
        "outputId": "f8ce4583-e488-494b-ed2c-03fc1eaedb76"
      },
      "execution_count": 7,
      "outputs": [
        {
          "output_type": "execute_result",
          "data": {
            "text/plain": [
              "(<tf.Tensor: shape=(3,), dtype=string, numpy=array([b'bedroom', b'bathroom', b'garage'], dtype=object)>,\n",
              " <tf.Tensor: shape=(1,), dtype=int32, numpy=array([939700], dtype=int32)>)"
            ]
          },
          "metadata": {},
          "execution_count": 7
        }
      ]
    },
    {
      "cell_type": "code",
      "source": [
        "input_shape = X[0].shape\n",
        "output_shape = y[0].shape\n",
        "input_shape, output_shape"
      ],
      "metadata": {
        "colab": {
          "base_uri": "https://localhost:8080/"
        },
        "id": "McD3rnRQk7Sn",
        "outputId": "57e4baab-6249-4f1c-b7be-8abeb671539c"
      },
      "execution_count": 8,
      "outputs": [
        {
          "output_type": "execute_result",
          "data": {
            "text/plain": [
              "((), ())"
            ]
          },
          "metadata": {},
          "execution_count": 8
        }
      ]
    },
    {
      "cell_type": "code",
      "source": [
        "X = tf.constant(X)\n",
        "y = tf.constant(y)\n",
        "X, y"
      ],
      "metadata": {
        "colab": {
          "base_uri": "https://localhost:8080/"
        },
        "id": "ypxA_G86lEid",
        "outputId": "9135f550-09d1-482b-8bce-a573211dd758"
      },
      "execution_count": 9,
      "outputs": [
        {
          "output_type": "execute_result",
          "data": {
            "text/plain": [
              "(<tf.Tensor: shape=(8,), dtype=float64, numpy=array([-7., -4., -1.,  2.,  5.,  8., 11., 14.])>,\n",
              " <tf.Tensor: shape=(8,), dtype=float64, numpy=array([ 3.,  6.,  9., 12., 15., 18., 21., 24.])>)"
            ]
          },
          "metadata": {},
          "execution_count": 9
        }
      ]
    },
    {
      "cell_type": "code",
      "source": [
        "input_shape = X[0].shape\n",
        "output_shape = y[0].shape\n",
        "input_shape, output_shape"
      ],
      "metadata": {
        "colab": {
          "base_uri": "https://localhost:8080/"
        },
        "id": "xwA_ydbHphrK",
        "outputId": "fe255af2-ad7a-4133-99b4-004edac22c47"
      },
      "execution_count": 10,
      "outputs": [
        {
          "output_type": "execute_result",
          "data": {
            "text/plain": [
              "(TensorShape([]), TensorShape([]))"
            ]
          },
          "metadata": {},
          "execution_count": 10
        }
      ]
    },
    {
      "cell_type": "code",
      "source": [
        "plt.scatter(X, y)"
      ],
      "metadata": {
        "colab": {
          "base_uri": "https://localhost:8080/",
          "height": 452
        },
        "id": "mXzzlumGpqIB",
        "outputId": "4f6e9687-2ba0-45ed-9e30-e895607cc96e"
      },
      "execution_count": 11,
      "outputs": [
        {
          "output_type": "execute_result",
          "data": {
            "text/plain": [
              "<matplotlib.collections.PathCollection at 0x7f25b6c80a90>"
            ]
          },
          "metadata": {},
          "execution_count": 11
        },
        {
          "output_type": "display_data",
          "data": {
            "text/plain": [
              "<Figure size 640x480 with 1 Axes>"
            ],
            "image/png": "[encoded data removed]"
          },
          "metadata": {}
        }
      ]
    },
    {
      "cell_type": "markdown",
      "source": [
        "## Steps in modelling with TensorFlow"
      ],
      "metadata": {
        "id": "M8VWCh_ZpxK0"
      }
    },
    {
      "cell_type": "code",
      "source": [
        "tf.random.set_seed(42)\n",
        "\n",
        "# Create a model using the sequential API\n",
        "model = tf.keras.Sequential([\n",
        "    tf.keras.layers.Dense(1)\n",
        "])\n",
        "\n",
        "# Compile\n",
        "model.compile(loss=tf.keras.losses.mae,\n",
        "              optimizer=tf.keras.optimizers.SGD(),\n",
        "              metrics=[\"mae\"])\n",
        "\n",
        "# Fit the model\n",
        "model.fit(tf.expand_dims(X, axis=-1), y, epochs=5)"
      ],
      "metadata": {
        "colab": {
          "base_uri": "https://localhost:8080/"
        },
        "id": "vCFiTiw1p1mF",
        "outputId": "76c1b671-c2d8-43e4-a6c7-524698556465"
      },
      "execution_count": 12,
      "outputs": [
        {
          "output_type": "stream",
          "name": "stdout",
          "text": [
            "Epoch 1/5\n",
            "1/1 [==============================] - 5s 5s/step - loss: 7.5515 - mae: 7.5515\n",
            "Epoch 2/5\n",
            "1/1 [==============================] - 0s 11ms/step - loss: 7.4925 - mae: 7.4925\n",
            "Epoch 3/5\n",
            "1/1 [==============================] - 0s 10ms/step - loss: 7.4869 - mae: 7.4869\n",
            "Epoch 4/5\n",
            "1/1 [==============================] - 0s 18ms/step - loss: 7.4813 - mae: 7.4813\n",
            "Epoch 5/5\n",
            "1/1 [==============================] - 0s 19ms/step - loss: 7.4756 - mae: 7.4756\n"
          ]
        },
        {
          "output_type": "execute_result",
          "data": {
            "text/plain": [
              "<keras.callbacks.History at 0x7f25a084e070>"
            ]
          },
          "metadata": {},
          "execution_count": 12
        }
      ]
    },
    {
      "cell_type": "code",
      "source": [
        "y_pred = model.predict([17.0])\n",
        "y_pred"
      ],
      "metadata": {
        "colab": {
          "base_uri": "https://localhost:8080/"
        },
        "id": "mrC0gHLFtGqC",
        "outputId": "f3492c0b-5838-4622-952a-c5922dfe1089"
      },
      "execution_count": 13,
      "outputs": [
        {
          "output_type": "stream",
          "name": "stdout",
          "text": [
            "1/1 [==============================] - 0s 283ms/step\n"
          ]
        },
        {
          "output_type": "execute_result",
          "data": {
            "text/plain": [
              "array([[29.527878]], dtype=float32)"
            ]
          },
          "metadata": {},
          "execution_count": 13
        }
      ]
    },
    {
      "cell_type": "code",
      "source": [
        "y_pred + 11"
      ],
      "metadata": {
        "colab": {
          "base_uri": "https://localhost:8080/"
        },
        "id": "tBxF6PEBuPbr",
        "outputId": "ce0c5d36-0a91-45d1-d2b7-4ed35fb0ccbe"
      },
      "execution_count": 14,
      "outputs": [
        {
          "output_type": "execute_result",
          "data": {
            "text/plain": [
              "array([[40.527878]], dtype=float32)"
            ]
          },
          "metadata": {},
          "execution_count": 14
        }
      ]
    },
    {
      "cell_type": "markdown",
      "source": [
        "## Improving our model"
      ],
      "metadata": {
        "id": "9cbSYzSdubH1"
      }
    },
    {
      "cell_type": "code",
      "source": [
        "model = tf.keras.Sequential([\n",
        "    tf.keras.layers.Dense(1)\n",
        "])\n",
        "\n",
        "model.compile(loss=tf.keras.losses.mae,\n",
        "              optimizer=tf.keras.optimizers.SGD(),\n",
        "              metrics=[\"mae\"])\n",
        "\n",
        "model.fit(tf.expand_dims(X, axis=-1), y, epochs=100)"
      ],
      "metadata": {
        "id": "UiuFjPyDufzT",
        "colab": {
          "base_uri": "https://localhost:8080/"
        },
        "outputId": "c6f3b46a-30a4-44b6-cda7-d7bbf15597f9"
      },
      "execution_count": 17,
      "outputs": [
        {
          "output_type": "stream",
          "name": "stdout",
          "text": [
            "Epoch 1/100\n",
            "1/1 [==============================] - 0s 333ms/step - loss: 18.3236 - mae: 18.3236\n",
            "Epoch 2/100\n",
            "1/1 [==============================] - 0s 10ms/step - loss: 18.0424 - mae: 18.0424\n",
            "Epoch 3/100\n",
            "1/1 [==============================] - 0s 10ms/step - loss: 17.7611 - mae: 17.7611\n",
            "Epoch 4/100\n",
            "1/1 [==============================] - 0s 9ms/step - loss: 17.4799 - mae: 17.4799\n",
            "Epoch 5/100\n",
            "1/1 [==============================] - 0s 9ms/step - loss: 17.1986 - mae: 17.1986\n",
            "Epoch 6/100\n",
            "1/1 [==============================] - 0s 10ms/step - loss: 16.9174 - mae: 16.9174\n",
            "Epoch 7/100\n",
            "1/1 [==============================] - 0s 9ms/step - loss: 16.6361 - mae: 16.6361\n",
            "Epoch 8/100\n",
            "1/1 [==============================] - 0s 9ms/step - loss: 16.3549 - mae: 16.3549\n",
            "Epoch 9/100\n",
            "1/1 [==============================] - 0s 9ms/step - loss: 16.0736 - mae: 16.0736\n",
            "Epoch 10/100\n",
            "1/1 [==============================] - 0s 9ms/step - loss: 15.7924 - mae: 15.7924\n",
            "Epoch 11/100\n",
            "1/1 [==============================] - 0s 10ms/step - loss: 15.5111 - mae: 15.5111\n",
            "Epoch 12/100\n",
            "1/1 [==============================] - 0s 11ms/step - loss: 15.2299 - mae: 15.2299\n",
            "Epoch 13/100\n",
            "1/1 [==============================] - 0s 9ms/step - loss: 14.9486 - mae: 14.9486\n",
            "Epoch 14/100\n",
            "1/1 [==============================] - 0s 10ms/step - loss: 14.7295 - mae: 14.7295\n",
            "Epoch 15/100\n",
            "1/1 [==============================] - 0s 9ms/step - loss: 14.5970 - mae: 14.5970\n",
            "Epoch 16/100\n",
            "1/1 [==============================] - 0s 9ms/step - loss: 14.4645 - mae: 14.4645\n",
            "Epoch 17/100\n",
            "1/1 [==============================] - 0s 9ms/step - loss: 14.3320 - mae: 14.3320\n",
            "Epoch 18/100\n",
            "1/1 [==============================] - 0s 11ms/step - loss: 14.1995 - mae: 14.1995\n",
            "Epoch 19/100\n",
            "1/1 [==============================] - 0s 11ms/step - loss: 14.0670 - mae: 14.0670\n",
            "Epoch 20/100\n",
            "1/1 [==============================] - 0s 13ms/step - loss: 13.9345 - mae: 13.9345\n",
            "Epoch 21/100\n",
            "1/1 [==============================] - 0s 9ms/step - loss: 13.8020 - mae: 13.8020\n",
            "Epoch 22/100\n",
            "1/1 [==============================] - 0s 10ms/step - loss: 13.6695 - mae: 13.6695\n",
            "Epoch 23/100\n",
            "1/1 [==============================] - 0s 9ms/step - loss: 13.5370 - mae: 13.5370\n",
            "Epoch 24/100\n",
            "1/1 [==============================] - 0s 9ms/step - loss: 13.4045 - mae: 13.4045\n",
            "Epoch 25/100\n",
            "1/1 [==============================] - 0s 9ms/step - loss: 13.2720 - mae: 13.2720\n",
            "Epoch 26/100\n",
            "1/1 [==============================] - 0s 9ms/step - loss: 13.1395 - mae: 13.1395\n",
            "Epoch 27/100\n",
            "1/1 [==============================] - 0s 11ms/step - loss: 13.0070 - mae: 13.0070\n",
            "Epoch 28/100\n",
            "1/1 [==============================] - 0s 10ms/step - loss: 12.8745 - mae: 12.8745\n",
            "Epoch 29/100\n",
            "1/1 [==============================] - 0s 10ms/step - loss: 12.7420 - mae: 12.7420\n",
            "Epoch 30/100\n",
            "1/1 [==============================] - 0s 10ms/step - loss: 12.6095 - mae: 12.6095\n",
            "Epoch 31/100\n",
            "1/1 [==============================] - 0s 10ms/step - loss: 12.4770 - mae: 12.4770\n",
            "Epoch 32/100\n",
            "1/1 [==============================] - 0s 13ms/step - loss: 12.3445 - mae: 12.3445\n",
            "Epoch 33/100\n",
            "1/1 [==============================] - 0s 12ms/step - loss: 12.2120 - mae: 12.2120\n",
            "Epoch 34/100\n",
            "1/1 [==============================] - 0s 10ms/step - loss: 12.0795 - mae: 12.0795\n",
            "Epoch 35/100\n",
            "1/1 [==============================] - 0s 10ms/step - loss: 11.9470 - mae: 11.9470\n",
            "Epoch 36/100\n",
            "1/1 [==============================] - 0s 9ms/step - loss: 11.8145 - mae: 11.8145\n",
            "Epoch 37/100\n",
            "1/1 [==============================] - 0s 10ms/step - loss: 11.6820 - mae: 11.6820\n",
            "Epoch 38/100\n",
            "1/1 [==============================] - 0s 12ms/step - loss: 11.5495 - mae: 11.5495\n",
            "Epoch 39/100\n",
            "1/1 [==============================] - 0s 9ms/step - loss: 11.4170 - mae: 11.4170\n",
            "Epoch 40/100\n",
            "1/1 [==============================] - 0s 11ms/step - loss: 11.2845 - mae: 11.2845\n",
            "Epoch 41/100\n",
            "1/1 [==============================] - 0s 10ms/step - loss: 11.1520 - mae: 11.1520\n",
            "Epoch 42/100\n",
            "1/1 [==============================] - 0s 9ms/step - loss: 11.0195 - mae: 11.0195\n",
            "Epoch 43/100\n",
            "1/1 [==============================] - 0s 9ms/step - loss: 10.8870 - mae: 10.8870\n",
            "Epoch 44/100\n",
            "1/1 [==============================] - 0s 9ms/step - loss: 10.7545 - mae: 10.7545\n",
            "Epoch 45/100\n",
            "1/1 [==============================] - 0s 10ms/step - loss: 10.6220 - mae: 10.6220\n",
            "Epoch 46/100\n",
            "1/1 [==============================] - 0s 11ms/step - loss: 10.4895 - mae: 10.4895\n",
            "Epoch 47/100\n",
            "1/1 [==============================] - 0s 9ms/step - loss: 10.3570 - mae: 10.3570\n",
            "Epoch 48/100\n",
            "1/1 [==============================] - 0s 10ms/step - loss: 10.2245 - mae: 10.2245\n",
            "Epoch 49/100\n",
            "1/1 [==============================] - 0s 10ms/step - loss: 10.0920 - mae: 10.0920\n",
            "Epoch 50/100\n",
            "1/1 [==============================] - 0s 10ms/step - loss: 9.9595 - mae: 9.9595\n",
            "Epoch 51/100\n",
            "1/1 [==============================] - 0s 9ms/step - loss: 9.8270 - mae: 9.8270\n",
            "Epoch 52/100\n",
            "1/1 [==============================] - 0s 12ms/step - loss: 9.6945 - mae: 9.6945\n",
            "Epoch 53/100\n",
            "1/1 [==============================] - 0s 12ms/step - loss: 9.5620 - mae: 9.5620\n",
            "Epoch 54/100\n",
            "1/1 [==============================] - 0s 9ms/step - loss: 9.4295 - mae: 9.4295\n",
            "Epoch 55/100\n",
            "1/1 [==============================] - 0s 9ms/step - loss: 9.2970 - mae: 9.2970\n",
            "Epoch 56/100\n",
            "1/1 [==============================] - 0s 9ms/step - loss: 9.1645 - mae: 9.1645\n",
            "Epoch 57/100\n",
            "1/1 [==============================] - 0s 9ms/step - loss: 9.0320 - mae: 9.0320\n",
            "Epoch 58/100\n",
            "1/1 [==============================] - 0s 10ms/step - loss: 8.8995 - mae: 8.8995\n",
            "Epoch 59/100\n",
            "1/1 [==============================] - 0s 10ms/step - loss: 8.7670 - mae: 8.7670\n",
            "Epoch 60/100\n",
            "1/1 [==============================] - 0s 10ms/step - loss: 8.6345 - mae: 8.6345\n",
            "Epoch 61/100\n",
            "1/1 [==============================] - 0s 10ms/step - loss: 8.5020 - mae: 8.5020\n",
            "Epoch 62/100\n",
            "1/1 [==============================] - 0s 10ms/step - loss: 8.3695 - mae: 8.3695\n",
            "Epoch 63/100\n",
            "1/1 [==============================] - 0s 10ms/step - loss: 8.2370 - mae: 8.2370\n",
            "Epoch 64/100\n",
            "1/1 [==============================] - 0s 9ms/step - loss: 8.1045 - mae: 8.1045\n",
            "Epoch 65/100\n",
            "1/1 [==============================] - 0s 9ms/step - loss: 7.9720 - mae: 7.9720\n",
            "Epoch 66/100\n",
            "1/1 [==============================] - 0s 9ms/step - loss: 7.8395 - mae: 7.8395\n",
            "Epoch 67/100\n",
            "1/1 [==============================] - 0s 10ms/step - loss: 7.7070 - mae: 7.7070\n",
            "Epoch 68/100\n",
            "1/1 [==============================] - 0s 10ms/step - loss: 7.5745 - mae: 7.5745\n",
            "Epoch 69/100\n",
            "1/1 [==============================] - 0s 9ms/step - loss: 7.4420 - mae: 7.4420\n",
            "Epoch 70/100\n",
            "1/1 [==============================] - 0s 8ms/step - loss: 7.3095 - mae: 7.3095\n",
            "Epoch 71/100\n",
            "1/1 [==============================] - 0s 9ms/step - loss: 7.1770 - mae: 7.1770\n",
            "Epoch 72/100\n",
            "1/1 [==============================] - 0s 9ms/step - loss: 7.0445 - mae: 7.0445\n",
            "Epoch 73/100\n",
            "1/1 [==============================] - 0s 8ms/step - loss: 6.9844 - mae: 6.9844\n",
            "Epoch 74/100\n",
            "1/1 [==============================] - 0s 9ms/step - loss: 6.9788 - mae: 6.9788\n",
            "Epoch 75/100\n",
            "1/1 [==============================] - 0s 10ms/step - loss: 6.9731 - mae: 6.9731\n",
            "Epoch 76/100\n",
            "1/1 [==============================] - 0s 9ms/step - loss: 6.9675 - mae: 6.9675\n",
            "Epoch 77/100\n",
            "1/1 [==============================] - 0s 11ms/step - loss: 6.9619 - mae: 6.9619\n",
            "Epoch 78/100\n",
            "1/1 [==============================] - 0s 10ms/step - loss: 6.9563 - mae: 6.9563\n",
            "Epoch 79/100\n",
            "1/1 [==============================] - 0s 10ms/step - loss: 6.9506 - mae: 6.9506\n",
            "Epoch 80/100\n",
            "1/1 [==============================] - 0s 11ms/step - loss: 6.9450 - mae: 6.9450\n",
            "Epoch 81/100\n",
            "1/1 [==============================] - 0s 10ms/step - loss: 6.9394 - mae: 6.9394\n",
            "Epoch 82/100\n",
            "1/1 [==============================] - 0s 10ms/step - loss: 6.9338 - mae: 6.9338\n",
            "Epoch 83/100\n",
            "1/1 [==============================] - 0s 11ms/step - loss: 6.9281 - mae: 6.9281\n",
            "Epoch 84/100\n",
            "1/1 [==============================] - 0s 10ms/step - loss: 6.9225 - mae: 6.9225\n",
            "Epoch 85/100\n",
            "1/1 [==============================] - 0s 10ms/step - loss: 6.9169 - mae: 6.9169\n",
            "Epoch 86/100\n",
            "1/1 [==============================] - 0s 9ms/step - loss: 6.9113 - mae: 6.9113\n",
            "Epoch 87/100\n",
            "1/1 [==============================] - 0s 11ms/step - loss: 6.9056 - mae: 6.9056\n",
            "Epoch 88/100\n",
            "1/1 [==============================] - 0s 9ms/step - loss: 6.9000 - mae: 6.9000\n",
            "Epoch 89/100\n",
            "1/1 [==============================] - 0s 10ms/step - loss: 6.8944 - mae: 6.8944\n",
            "Epoch 90/100\n",
            "1/1 [==============================] - 0s 9ms/step - loss: 6.8888 - mae: 6.8888\n",
            "Epoch 91/100\n",
            "1/1 [==============================] - 0s 10ms/step - loss: 6.8831 - mae: 6.8831\n",
            "Epoch 92/100\n",
            "1/1 [==============================] - 0s 10ms/step - loss: 6.8775 - mae: 6.8775\n",
            "Epoch 93/100\n",
            "1/1 [==============================] - 0s 9ms/step - loss: 6.8719 - mae: 6.8719\n",
            "Epoch 94/100\n",
            "1/1 [==============================] - 0s 10ms/step - loss: 6.8663 - mae: 6.8663\n",
            "Epoch 95/100\n",
            "1/1 [==============================] - 0s 10ms/step - loss: 6.8606 - mae: 6.8606\n",
            "Epoch 96/100\n",
            "1/1 [==============================] - 0s 11ms/step - loss: 6.8550 - mae: 6.8550\n",
            "Epoch 97/100\n",
            "1/1 [==============================] - 0s 10ms/step - loss: 6.8494 - mae: 6.8494\n",
            "Epoch 98/100\n",
            "1/1 [==============================] - 0s 10ms/step - loss: 6.8438 - mae: 6.8438\n",
            "Epoch 99/100\n",
            "1/1 [==============================] - 0s 10ms/step - loss: 6.8381 - mae: 6.8381\n",
            "Epoch 100/100\n",
            "1/1 [==============================] - 0s 10ms/step - loss: 6.8325 - mae: 6.8325\n"
          ]
        },
        {
          "output_type": "execute_result",
          "data": {
            "text/plain": [
              "<keras.callbacks.History at 0x7f2507ada880>"
            ]
          },
          "metadata": {},
          "execution_count": 17
        }
      ]
    },
    {
      "cell_type": "code",
      "source": [
        "X, y"
      ],
      "metadata": {
        "colab": {
          "base_uri": "https://localhost:8080/"
        },
        "id": "DljP-ns9cwTe",
        "outputId": "daf313c8-7403-4ccd-b45c-c7e6ed330827"
      },
      "execution_count": 18,
      "outputs": [
        {
          "output_type": "execute_result",
          "data": {
            "text/plain": [
              "(<tf.Tensor: shape=(8,), dtype=float64, numpy=array([-7., -4., -1.,  2.,  5.,  8., 11., 14.])>,\n",
              " <tf.Tensor: shape=(8,), dtype=float64, numpy=array([ 3.,  6.,  9., 12., 15., 18., 21., 24.])>)"
            ]
          },
          "metadata": {},
          "execution_count": 18
        }
      ]
    },
    {
      "cell_type": "code",
      "source": [
        "model.predict([17.0])"
      ],
      "metadata": {
        "colab": {
          "base_uri": "https://localhost:8080/"
        },
        "id": "tD9NvNzRdJKt",
        "outputId": "aac931c2-b5c9-4f20-cbca-68bbe2d94448"
      },
      "execution_count": 19,
      "outputs": [
        {
          "output_type": "stream",
          "name": "stdout",
          "text": [
            "1/1 [==============================] - 0s 49ms/step\n"
          ]
        },
        {
          "output_type": "execute_result",
          "data": {
            "text/plain": [
              "array([[29.557123]], dtype=float32)"
            ]
          },
          "metadata": {},
          "execution_count": 19
        }
      ]
    },
    {
      "cell_type": "code",
      "source": [
        "model = tf.keras.Sequential([\n",
        "    tf.keras.layers.Dense(10),\n",
        "    tf.keras.layers.Dense(1)\n",
        "])\n",
        "\n",
        "\n",
        "model.compile(loss=tf.keras.metrics.mae,\n",
        "              optimizer=tf.keras.optimizers.SGD(),\n",
        "              metrics=tf.keras.metrics.mae)\n",
        "\n",
        "model.fit(tf.expand_dims(X, axis=-1), y, epochs=100)"
      ],
      "metadata": {
        "colab": {
          "base_uri": "https://localhost:8080/"
        },
        "id": "l8qe4u3bdP8N",
        "outputId": "04103ffe-c639-4bcc-856b-95b3742951da"
      },
      "execution_count": 33,
      "outputs": [
        {
          "output_type": "stream",
          "name": "stdout",
          "text": [
            "Epoch 1/100\n",
            "1/1 [==============================] - 1s 1s/step - loss: 13.7518 - mean_absolute_error: 13.7518\n",
            "Epoch 2/100\n",
            "1/1 [==============================] - 0s 10ms/step - loss: 13.2745 - mean_absolute_error: 13.2745\n",
            "Epoch 3/100\n",
            "1/1 [==============================] - 0s 21ms/step - loss: 12.7972 - mean_absolute_error: 12.7972\n",
            "Epoch 4/100\n",
            "1/1 [==============================] - 0s 10ms/step - loss: 12.3176 - mean_absolute_error: 12.3176\n",
            "Epoch 5/100\n",
            "1/1 [==============================] - 0s 9ms/step - loss: 11.8330 - mean_absolute_error: 11.8330\n",
            "Epoch 6/100\n",
            "1/1 [==============================] - 0s 14ms/step - loss: 11.3412 - mean_absolute_error: 11.3412\n",
            "Epoch 7/100\n",
            "1/1 [==============================] - 0s 12ms/step - loss: 10.8394 - mean_absolute_error: 10.8394\n",
            "Epoch 8/100\n",
            "1/1 [==============================] - 0s 10ms/step - loss: 10.3252 - mean_absolute_error: 10.3252\n",
            "Epoch 9/100\n",
            "1/1 [==============================] - 0s 9ms/step - loss: 9.7958 - mean_absolute_error: 9.7958\n",
            "Epoch 10/100\n",
            "1/1 [==============================] - 0s 10ms/step - loss: 9.2486 - mean_absolute_error: 9.2486\n",
            "Epoch 11/100\n",
            "1/1 [==============================] - 0s 9ms/step - loss: 8.6808 - mean_absolute_error: 8.6808\n",
            "Epoch 12/100\n",
            "1/1 [==============================] - 0s 9ms/step - loss: 8.0895 - mean_absolute_error: 8.0895\n",
            "Epoch 13/100\n",
            "1/1 [==============================] - 0s 9ms/step - loss: 7.4716 - mean_absolute_error: 7.4716\n",
            "Epoch 14/100\n",
            "1/1 [==============================] - 0s 11ms/step - loss: 7.2343 - mean_absolute_error: 7.2343\n",
            "Epoch 15/100\n",
            "1/1 [==============================] - 0s 10ms/step - loss: 7.2168 - mean_absolute_error: 7.2168\n",
            "Epoch 16/100\n",
            "1/1 [==============================] - 0s 10ms/step - loss: 7.1991 - mean_absolute_error: 7.1991\n",
            "Epoch 17/100\n",
            "1/1 [==============================] - 0s 10ms/step - loss: 7.1815 - mean_absolute_error: 7.1815\n",
            "Epoch 18/100\n",
            "1/1 [==============================] - 0s 10ms/step - loss: 7.1638 - mean_absolute_error: 7.1638\n",
            "Epoch 19/100\n",
            "1/1 [==============================] - 0s 9ms/step - loss: 7.1461 - mean_absolute_error: 7.1461\n",
            "Epoch 20/100\n",
            "1/1 [==============================] - 0s 9ms/step - loss: 7.1283 - mean_absolute_error: 7.1283\n",
            "Epoch 21/100\n",
            "1/1 [==============================] - 0s 10ms/step - loss: 7.1104 - mean_absolute_error: 7.1104\n",
            "Epoch 22/100\n",
            "1/1 [==============================] - 0s 9ms/step - loss: 7.0925 - mean_absolute_error: 7.0925\n",
            "Epoch 23/100\n",
            "1/1 [==============================] - 0s 10ms/step - loss: 7.0745 - mean_absolute_error: 7.0745\n",
            "Epoch 24/100\n",
            "1/1 [==============================] - 0s 9ms/step - loss: 7.0565 - mean_absolute_error: 7.0565\n",
            "Epoch 25/100\n",
            "1/1 [==============================] - 0s 9ms/step - loss: 7.0384 - mean_absolute_error: 7.0384\n",
            "Epoch 26/100\n",
            "1/1 [==============================] - 0s 13ms/step - loss: 7.0203 - mean_absolute_error: 7.0203\n",
            "Epoch 27/100\n",
            "1/1 [==============================] - 0s 8ms/step - loss: 7.0021 - mean_absolute_error: 7.0021\n",
            "Epoch 28/100\n",
            "1/1 [==============================] - 0s 8ms/step - loss: 6.9838 - mean_absolute_error: 6.9838\n",
            "Epoch 29/100\n",
            "1/1 [==============================] - 0s 8ms/step - loss: 6.9654 - mean_absolute_error: 6.9654\n",
            "Epoch 30/100\n",
            "1/1 [==============================] - 0s 12ms/step - loss: 6.9470 - mean_absolute_error: 6.9470\n",
            "Epoch 31/100\n",
            "1/1 [==============================] - 0s 9ms/step - loss: 6.9284 - mean_absolute_error: 6.9284\n",
            "Epoch 32/100\n",
            "1/1 [==============================] - 0s 8ms/step - loss: 6.9203 - mean_absolute_error: 6.9203\n",
            "Epoch 33/100\n",
            "1/1 [==============================] - 0s 8ms/step - loss: 6.9056 - mean_absolute_error: 6.9056\n",
            "Epoch 34/100\n",
            "1/1 [==============================] - 0s 9ms/step - loss: 6.8874 - mean_absolute_error: 6.8874\n",
            "Epoch 35/100\n",
            "1/1 [==============================] - 0s 9ms/step - loss: 6.8691 - mean_absolute_error: 6.8691\n",
            "Epoch 36/100\n",
            "1/1 [==============================] - 0s 10ms/step - loss: 6.8507 - mean_absolute_error: 6.8507\n",
            "Epoch 37/100\n",
            "1/1 [==============================] - 0s 10ms/step - loss: 6.8323 - mean_absolute_error: 6.8323\n",
            "Epoch 38/100\n",
            "1/1 [==============================] - 0s 9ms/step - loss: 6.8137 - mean_absolute_error: 6.8137\n",
            "Epoch 39/100\n",
            "1/1 [==============================] - 0s 9ms/step - loss: 6.7950 - mean_absolute_error: 6.7950\n",
            "Epoch 40/100\n",
            "1/1 [==============================] - 0s 9ms/step - loss: 6.7762 - mean_absolute_error: 6.7762\n",
            "Epoch 41/100\n",
            "1/1 [==============================] - 0s 10ms/step - loss: 6.7574 - mean_absolute_error: 6.7574\n",
            "Epoch 42/100\n",
            "1/1 [==============================] - 0s 10ms/step - loss: 6.7384 - mean_absolute_error: 6.7384\n",
            "Epoch 43/100\n",
            "1/1 [==============================] - 0s 10ms/step - loss: 6.7192 - mean_absolute_error: 6.7192\n",
            "Epoch 44/100\n",
            "1/1 [==============================] - 0s 9ms/step - loss: 6.7000 - mean_absolute_error: 6.7000\n",
            "Epoch 45/100\n",
            "1/1 [==============================] - 0s 9ms/step - loss: 6.6807 - mean_absolute_error: 6.6807\n",
            "Epoch 46/100\n",
            "1/1 [==============================] - 0s 9ms/step - loss: 6.6612 - mean_absolute_error: 6.6612\n",
            "Epoch 47/100\n",
            "1/1 [==============================] - 0s 11ms/step - loss: 6.6416 - mean_absolute_error: 6.6416\n",
            "Epoch 48/100\n",
            "1/1 [==============================] - 0s 10ms/step - loss: 6.6219 - mean_absolute_error: 6.6219\n",
            "Epoch 49/100\n",
            "1/1 [==============================] - 0s 10ms/step - loss: 6.6020 - mean_absolute_error: 6.6020\n",
            "Epoch 50/100\n",
            "1/1 [==============================] - 0s 10ms/step - loss: 6.5821 - mean_absolute_error: 6.5821\n",
            "Epoch 51/100\n",
            "1/1 [==============================] - 0s 10ms/step - loss: 6.5619 - mean_absolute_error: 6.5619\n",
            "Epoch 52/100\n",
            "1/1 [==============================] - 0s 10ms/step - loss: 6.5417 - mean_absolute_error: 6.5417\n",
            "Epoch 53/100\n",
            "1/1 [==============================] - 0s 10ms/step - loss: 6.5213 - mean_absolute_error: 6.5213\n",
            "Epoch 54/100\n",
            "1/1 [==============================] - 0s 9ms/step - loss: 6.5007 - mean_absolute_error: 6.5007\n",
            "Epoch 55/100\n",
            "1/1 [==============================] - 0s 10ms/step - loss: 6.4824 - mean_absolute_error: 6.4824\n",
            "Epoch 56/100\n",
            "1/1 [==============================] - 0s 12ms/step - loss: 6.4801 - mean_absolute_error: 6.4801\n",
            "Epoch 57/100\n",
            "1/1 [==============================] - 0s 10ms/step - loss: 6.4597 - mean_absolute_error: 6.4597\n",
            "Epoch 58/100\n",
            "1/1 [==============================] - 0s 12ms/step - loss: 6.4391 - mean_absolute_error: 6.4391\n",
            "Epoch 59/100\n",
            "1/1 [==============================] - 0s 10ms/step - loss: 6.4184 - mean_absolute_error: 6.4184\n",
            "Epoch 60/100\n",
            "1/1 [==============================] - 0s 10ms/step - loss: 6.3975 - mean_absolute_error: 6.3975\n",
            "Epoch 61/100\n",
            "1/1 [==============================] - 0s 11ms/step - loss: 6.3764 - mean_absolute_error: 6.3764\n",
            "Epoch 62/100\n",
            "1/1 [==============================] - 0s 10ms/step - loss: 6.3552 - mean_absolute_error: 6.3552\n",
            "Epoch 63/100\n",
            "1/1 [==============================] - 0s 11ms/step - loss: 6.3338 - mean_absolute_error: 6.3338\n",
            "Epoch 64/100\n",
            "1/1 [==============================] - 0s 10ms/step - loss: 6.3122 - mean_absolute_error: 6.3122\n",
            "Epoch 65/100\n",
            "1/1 [==============================] - 0s 10ms/step - loss: 6.2904 - mean_absolute_error: 6.2904\n",
            "Epoch 66/100\n",
            "1/1 [==============================] - 0s 10ms/step - loss: 6.2684 - mean_absolute_error: 6.2684\n",
            "Epoch 67/100\n",
            "1/1 [==============================] - 0s 10ms/step - loss: 6.2463 - mean_absolute_error: 6.2463\n",
            "Epoch 68/100\n",
            "1/1 [==============================] - 0s 8ms/step - loss: 6.2239 - mean_absolute_error: 6.2239\n",
            "Epoch 69/100\n",
            "1/1 [==============================] - 0s 10ms/step - loss: 6.2014 - mean_absolute_error: 6.2014\n",
            "Epoch 70/100\n",
            "1/1 [==============================] - 0s 10ms/step - loss: 6.1787 - mean_absolute_error: 6.1787\n",
            "Epoch 71/100\n",
            "1/1 [==============================] - 0s 10ms/step - loss: 6.1557 - mean_absolute_error: 6.1557\n",
            "Epoch 72/100\n",
            "1/1 [==============================] - 0s 11ms/step - loss: 6.1326 - mean_absolute_error: 6.1326\n",
            "Epoch 73/100\n",
            "1/1 [==============================] - 0s 9ms/step - loss: 6.1128 - mean_absolute_error: 6.1128\n",
            "Epoch 74/100\n",
            "1/1 [==============================] - 0s 16ms/step - loss: 6.1116 - mean_absolute_error: 6.1116\n",
            "Epoch 75/100\n",
            "1/1 [==============================] - 0s 11ms/step - loss: 6.0884 - mean_absolute_error: 6.0884\n",
            "Epoch 76/100\n",
            "1/1 [==============================] - 0s 10ms/step - loss: 6.0650 - mean_absolute_error: 6.0650\n",
            "Epoch 77/100\n",
            "1/1 [==============================] - 0s 10ms/step - loss: 6.0414 - mean_absolute_error: 6.0414\n",
            "Epoch 78/100\n",
            "1/1 [==============================] - 0s 10ms/step - loss: 6.0175 - mean_absolute_error: 6.0175\n",
            "Epoch 79/100\n",
            "1/1 [==============================] - 0s 10ms/step - loss: 5.9935 - mean_absolute_error: 5.9935\n",
            "Epoch 80/100\n",
            "1/1 [==============================] - 0s 10ms/step - loss: 5.9691 - mean_absolute_error: 5.9691\n",
            "Epoch 81/100\n",
            "1/1 [==============================] - 0s 10ms/step - loss: 5.9446 - mean_absolute_error: 5.9446\n",
            "Epoch 82/100\n",
            "1/1 [==============================] - 0s 10ms/step - loss: 5.9198 - mean_absolute_error: 5.9198\n",
            "Epoch 83/100\n",
            "1/1 [==============================] - 0s 11ms/step - loss: 5.8947 - mean_absolute_error: 5.8947\n",
            "Epoch 84/100\n",
            "1/1 [==============================] - 0s 12ms/step - loss: 5.8694 - mean_absolute_error: 5.8694\n",
            "Epoch 85/100\n",
            "1/1 [==============================] - 0s 12ms/step - loss: 5.8439 - mean_absolute_error: 5.8439\n",
            "Epoch 86/100\n",
            "1/1 [==============================] - 0s 10ms/step - loss: 5.8181 - mean_absolute_error: 5.8181\n",
            "Epoch 87/100\n",
            "1/1 [==============================] - 0s 10ms/step - loss: 5.7920 - mean_absolute_error: 5.7920\n",
            "Epoch 88/100\n",
            "1/1 [==============================] - 0s 10ms/step - loss: 5.7657 - mean_absolute_error: 5.7657\n",
            "Epoch 89/100\n",
            "1/1 [==============================] - 0s 10ms/step - loss: 5.7616 - mean_absolute_error: 5.7616\n",
            "Epoch 90/100\n",
            "1/1 [==============================] - 0s 10ms/step - loss: 5.7425 - mean_absolute_error: 5.7425\n",
            "Epoch 91/100\n",
            "1/1 [==============================] - 0s 10ms/step - loss: 5.7159 - mean_absolute_error: 5.7159\n",
            "Epoch 92/100\n",
            "1/1 [==============================] - 0s 11ms/step - loss: 5.6891 - mean_absolute_error: 5.6891\n",
            "Epoch 93/100\n",
            "1/1 [==============================] - 0s 10ms/step - loss: 5.6620 - mean_absolute_error: 5.6620\n",
            "Epoch 94/100\n",
            "1/1 [==============================] - 0s 11ms/step - loss: 5.6345 - mean_absolute_error: 5.6345\n",
            "Epoch 95/100\n",
            "1/1 [==============================] - 0s 12ms/step - loss: 5.6068 - mean_absolute_error: 5.6068\n",
            "Epoch 96/100\n",
            "1/1 [==============================] - 0s 11ms/step - loss: 5.5788 - mean_absolute_error: 5.5788\n",
            "Epoch 97/100\n",
            "1/1 [==============================] - 0s 10ms/step - loss: 5.5505 - mean_absolute_error: 5.5505\n",
            "Epoch 98/100\n",
            "1/1 [==============================] - 0s 11ms/step - loss: 5.5218 - mean_absolute_error: 5.5218\n",
            "Epoch 99/100\n",
            "1/1 [==============================] - 0s 10ms/step - loss: 5.4929 - mean_absolute_error: 5.4929\n",
            "Epoch 100/100\n",
            "1/1 [==============================] - 0s 10ms/step - loss: 5.4636 - mean_absolute_error: 5.4636\n"
          ]
        },
        {
          "output_type": "execute_result",
          "data": {
            "text/plain": [
              "<keras.callbacks.History at 0x7f25095b04f0>"
            ]
          },
          "metadata": {},
          "execution_count": 33
        }
      ]
    },
    {
      "cell_type": "code",
      "source": [
        "model = tf.keras.Sequential([\n",
        "    tf.keras.layers.Dense(1)\n",
        "])\n",
        "\n",
        "model.compile(loss=tf.keras.metrics.mae,\n",
        "              optimizer=tf.keras.optimizers.Adam(lr=0.05),\n",
        "              metrics=([\"mae\"]))\n",
        "\n",
        "model.fit(tf.expand_dims(X, axis=-1), y, epochs=100)"
      ],
      "metadata": {
        "colab": {
          "base_uri": "https://localhost:8080/"
        },
        "id": "JSVhtE8Ye4yH",
        "outputId": "b98bc124-d147-4cca-e907-ef65c5c44bfe"
      },
      "execution_count": 26,
      "outputs": [
        {
          "output_type": "stream",
          "name": "stderr",
          "text": [
            "WARNING:absl:`lr` is deprecated in Keras optimizer, please use `learning_rate` or use the legacy optimizer, e.g.,tf.keras.optimizers.legacy.Adam.\n"
          ]
        },
        {
          "output_type": "stream",
          "name": "stdout",
          "text": [
            "Epoch 1/100\n",
            "1/1 [==============================] - 1s 1s/step - loss: 14.4406 - mae: 14.4406\n",
            "Epoch 2/100\n",
            "1/1 [==============================] - 0s 10ms/step - loss: 14.4361 - mae: 14.4361\n",
            "Epoch 3/100\n",
            "1/1 [==============================] - 0s 10ms/step - loss: 14.4316 - mae: 14.4316\n",
            "Epoch 4/100\n",
            "1/1 [==============================] - 0s 21ms/step - loss: 14.4271 - mae: 14.4271\n",
            "Epoch 5/100\n",
            "1/1 [==============================] - 0s 11ms/step - loss: 14.4226 - mae: 14.4226\n",
            "Epoch 6/100\n",
            "1/1 [==============================] - 0s 11ms/step - loss: 14.4181 - mae: 14.4181\n",
            "Epoch 7/100\n",
            "1/1 [==============================] - 0s 11ms/step - loss: 14.4136 - mae: 14.4136\n",
            "Epoch 8/100\n",
            "1/1 [==============================] - 0s 16ms/step - loss: 14.4091 - mae: 14.4091\n",
            "Epoch 9/100\n",
            "1/1 [==============================] - 0s 11ms/step - loss: 14.4046 - mae: 14.4046\n",
            "Epoch 10/100\n",
            "1/1 [==============================] - 0s 13ms/step - loss: 14.4001 - mae: 14.4001\n",
            "Epoch 11/100\n",
            "1/1 [==============================] - 0s 12ms/step - loss: 14.3956 - mae: 14.3956\n",
            "Epoch 12/100\n",
            "1/1 [==============================] - 0s 15ms/step - loss: 14.3911 - mae: 14.3911\n",
            "Epoch 13/100\n",
            "1/1 [==============================] - 0s 11ms/step - loss: 14.3866 - mae: 14.3866\n",
            "Epoch 14/100\n",
            "1/1 [==============================] - 0s 12ms/step - loss: 14.3821 - mae: 14.3821\n",
            "Epoch 15/100\n",
            "1/1 [==============================] - 0s 11ms/step - loss: 14.3776 - mae: 14.3776\n",
            "Epoch 16/100\n",
            "1/1 [==============================] - 0s 12ms/step - loss: 14.3731 - mae: 14.3731\n",
            "Epoch 17/100\n",
            "1/1 [==============================] - 0s 12ms/step - loss: 14.3686 - mae: 14.3686\n",
            "Epoch 18/100\n",
            "1/1 [==============================] - 0s 13ms/step - loss: 14.3641 - mae: 14.3641\n",
            "Epoch 19/100\n",
            "1/1 [==============================] - 0s 11ms/step - loss: 14.3596 - mae: 14.3596\n",
            "Epoch 20/100\n",
            "1/1 [==============================] - 0s 12ms/step - loss: 14.3551 - mae: 14.3551\n",
            "Epoch 21/100\n",
            "1/1 [==============================] - 0s 18ms/step - loss: 14.3506 - mae: 14.3506\n",
            "Epoch 22/100\n",
            "1/1 [==============================] - 0s 13ms/step - loss: 14.3461 - mae: 14.3461\n",
            "Epoch 23/100\n",
            "1/1 [==============================] - 0s 13ms/step - loss: 14.3416 - mae: 14.3416\n",
            "Epoch 24/100\n",
            "1/1 [==============================] - 0s 14ms/step - loss: 14.3371 - mae: 14.3371\n",
            "Epoch 25/100\n",
            "1/1 [==============================] - 0s 14ms/step - loss: 14.3326 - mae: 14.3326\n",
            "Epoch 26/100\n",
            "1/1 [==============================] - 0s 14ms/step - loss: 14.3281 - mae: 14.3281\n",
            "Epoch 27/100\n",
            "1/1 [==============================] - 0s 14ms/step - loss: 14.3236 - mae: 14.3236\n",
            "Epoch 28/100\n",
            "1/1 [==============================] - 0s 14ms/step - loss: 14.3191 - mae: 14.3191\n",
            "Epoch 29/100\n",
            "1/1 [==============================] - 0s 14ms/step - loss: 14.3146 - mae: 14.3146\n",
            "Epoch 30/100\n",
            "1/1 [==============================] - 0s 14ms/step - loss: 14.3101 - mae: 14.3101\n",
            "Epoch 31/100\n",
            "1/1 [==============================] - 0s 12ms/step - loss: 14.3056 - mae: 14.3056\n",
            "Epoch 32/100\n",
            "1/1 [==============================] - 0s 11ms/step - loss: 14.3011 - mae: 14.3011\n",
            "Epoch 33/100\n",
            "1/1 [==============================] - 0s 11ms/step - loss: 14.2966 - mae: 14.2966\n",
            "Epoch 34/100\n",
            "1/1 [==============================] - 0s 11ms/step - loss: 14.2921 - mae: 14.2921\n",
            "Epoch 35/100\n",
            "1/1 [==============================] - 0s 11ms/step - loss: 14.2876 - mae: 14.2876\n",
            "Epoch 36/100\n",
            "1/1 [==============================] - 0s 10ms/step - loss: 14.2831 - mae: 14.2831\n",
            "Epoch 37/100\n",
            "1/1 [==============================] - 0s 12ms/step - loss: 14.2786 - mae: 14.2786\n",
            "Epoch 38/100\n",
            "1/1 [==============================] - 0s 10ms/step - loss: 14.2741 - mae: 14.2741\n",
            "Epoch 39/100\n",
            "1/1 [==============================] - 0s 10ms/step - loss: 14.2696 - mae: 14.2696\n",
            "Epoch 40/100\n",
            "1/1 [==============================] - 0s 10ms/step - loss: 14.2651 - mae: 14.2651\n",
            "Epoch 41/100\n",
            "1/1 [==============================] - 0s 10ms/step - loss: 14.2606 - mae: 14.2606\n",
            "Epoch 42/100\n",
            "1/1 [==============================] - 0s 12ms/step - loss: 14.2561 - mae: 14.2561\n",
            "Epoch 43/100\n",
            "1/1 [==============================] - 0s 11ms/step - loss: 14.2516 - mae: 14.2516\n",
            "Epoch 44/100\n",
            "1/1 [==============================] - 0s 10ms/step - loss: 14.2471 - mae: 14.2471\n",
            "Epoch 45/100\n",
            "1/1 [==============================] - 0s 11ms/step - loss: 14.2426 - mae: 14.2426\n",
            "Epoch 46/100\n",
            "1/1 [==============================] - 0s 11ms/step - loss: 14.2381 - mae: 14.2381\n",
            "Epoch 47/100\n",
            "1/1 [==============================] - 0s 11ms/step - loss: 14.2336 - mae: 14.2336\n",
            "Epoch 48/100\n",
            "1/1 [==============================] - 0s 11ms/step - loss: 14.2291 - mae: 14.2291\n",
            "Epoch 49/100\n",
            "1/1 [==============================] - 0s 11ms/step - loss: 14.2246 - mae: 14.2246\n",
            "Epoch 50/100\n",
            "1/1 [==============================] - 0s 11ms/step - loss: 14.2201 - mae: 14.2201\n",
            "Epoch 51/100\n",
            "1/1 [==============================] - 0s 11ms/step - loss: 14.2156 - mae: 14.2156\n",
            "Epoch 52/100\n",
            "1/1 [==============================] - 0s 11ms/step - loss: 14.2111 - mae: 14.2111\n",
            "Epoch 53/100\n",
            "1/1 [==============================] - 0s 11ms/step - loss: 14.2066 - mae: 14.2066\n",
            "Epoch 54/100\n",
            "1/1 [==============================] - 0s 11ms/step - loss: 14.2021 - mae: 14.2021\n",
            "Epoch 55/100\n",
            "1/1 [==============================] - 0s 12ms/step - loss: 14.1976 - mae: 14.1976\n",
            "Epoch 56/100\n",
            "1/1 [==============================] - 0s 18ms/step - loss: 14.1931 - mae: 14.1931\n",
            "Epoch 57/100\n",
            "1/1 [==============================] - 0s 10ms/step - loss: 14.1886 - mae: 14.1886\n",
            "Epoch 58/100\n",
            "1/1 [==============================] - 0s 10ms/step - loss: 14.1841 - mae: 14.1841\n",
            "Epoch 59/100\n",
            "1/1 [==============================] - 0s 10ms/step - loss: 14.1796 - mae: 14.1796\n",
            "Epoch 60/100\n",
            "1/1 [==============================] - 0s 11ms/step - loss: 14.1751 - mae: 14.1751\n",
            "Epoch 61/100\n",
            "1/1 [==============================] - 0s 11ms/step - loss: 14.1706 - mae: 14.1706\n",
            "Epoch 62/100\n",
            "1/1 [==============================] - 0s 11ms/step - loss: 14.1661 - mae: 14.1661\n",
            "Epoch 63/100\n",
            "1/1 [==============================] - 0s 12ms/step - loss: 14.1616 - mae: 14.1616\n",
            "Epoch 64/100\n",
            "1/1 [==============================] - 0s 13ms/step - loss: 14.1571 - mae: 14.1571\n",
            "Epoch 65/100\n",
            "1/1 [==============================] - 0s 15ms/step - loss: 14.1526 - mae: 14.1526\n",
            "Epoch 66/100\n",
            "1/1 [==============================] - 0s 15ms/step - loss: 14.1481 - mae: 14.1481\n",
            "Epoch 67/100\n",
            "1/1 [==============================] - 0s 15ms/step - loss: 14.1436 - mae: 14.1436\n",
            "Epoch 68/100\n",
            "1/1 [==============================] - 0s 21ms/step - loss: 14.1391 - mae: 14.1391\n",
            "Epoch 69/100\n",
            "1/1 [==============================] - 0s 13ms/step - loss: 14.1346 - mae: 14.1346\n",
            "Epoch 70/100\n",
            "1/1 [==============================] - 0s 12ms/step - loss: 14.1301 - mae: 14.1301\n",
            "Epoch 71/100\n",
            "1/1 [==============================] - 0s 11ms/step - loss: 14.1256 - mae: 14.1256\n",
            "Epoch 72/100\n",
            "1/1 [==============================] - 0s 12ms/step - loss: 14.1211 - mae: 14.1211\n",
            "Epoch 73/100\n",
            "1/1 [==============================] - 0s 14ms/step - loss: 14.1166 - mae: 14.1166\n",
            "Epoch 74/100\n",
            "1/1 [==============================] - 0s 16ms/step - loss: 14.1121 - mae: 14.1121\n",
            "Epoch 75/100\n",
            "1/1 [==============================] - 0s 14ms/step - loss: 14.1076 - mae: 14.1076\n",
            "Epoch 76/100\n",
            "1/1 [==============================] - 0s 12ms/step - loss: 14.1031 - mae: 14.1031\n",
            "Epoch 77/100\n",
            "1/1 [==============================] - 0s 15ms/step - loss: 14.0986 - mae: 14.0986\n",
            "Epoch 78/100\n",
            "1/1 [==============================] - 0s 15ms/step - loss: 14.0941 - mae: 14.0941\n",
            "Epoch 79/100\n",
            "1/1 [==============================] - 0s 27ms/step - loss: 14.0896 - mae: 14.0896\n",
            "Epoch 80/100\n",
            "1/1 [==============================] - 0s 15ms/step - loss: 14.0851 - mae: 14.0851\n",
            "Epoch 81/100\n",
            "1/1 [==============================] - 0s 11ms/step - loss: 14.0806 - mae: 14.0806\n",
            "Epoch 82/100\n",
            "1/1 [==============================] - 0s 13ms/step - loss: 14.0761 - mae: 14.0761\n",
            "Epoch 83/100\n",
            "1/1 [==============================] - 0s 17ms/step - loss: 14.0716 - mae: 14.0716\n",
            "Epoch 84/100\n",
            "1/1 [==============================] - 0s 15ms/step - loss: 14.0671 - mae: 14.0671\n",
            "Epoch 85/100\n",
            "1/1 [==============================] - 0s 9ms/step - loss: 14.0626 - mae: 14.0626\n",
            "Epoch 86/100\n",
            "1/1 [==============================] - 0s 12ms/step - loss: 14.0581 - mae: 14.0581\n",
            "Epoch 87/100\n",
            "1/1 [==============================] - 0s 18ms/step - loss: 14.0536 - mae: 14.0536\n",
            "Epoch 88/100\n",
            "1/1 [==============================] - 0s 11ms/step - loss: 14.0491 - mae: 14.0491\n",
            "Epoch 89/100\n",
            "1/1 [==============================] - 0s 11ms/step - loss: 14.0446 - mae: 14.0446\n",
            "Epoch 90/100\n",
            "1/1 [==============================] - 0s 11ms/step - loss: 14.0401 - mae: 14.0401\n",
            "Epoch 91/100\n",
            "1/1 [==============================] - 0s 16ms/step - loss: 14.0356 - mae: 14.0356\n",
            "Epoch 92/100\n",
            "1/1 [==============================] - 0s 11ms/step - loss: 14.0311 - mae: 14.0311\n",
            "Epoch 93/100\n",
            "1/1 [==============================] - 0s 12ms/step - loss: 14.0266 - mae: 14.0266\n",
            "Epoch 94/100\n",
            "1/1 [==============================] - 0s 12ms/step - loss: 14.0221 - mae: 14.0221\n",
            "Epoch 95/100\n",
            "1/1 [==============================] - 0s 12ms/step - loss: 14.0176 - mae: 14.0176\n",
            "Epoch 96/100\n",
            "1/1 [==============================] - 0s 10ms/step - loss: 14.0131 - mae: 14.0131\n",
            "Epoch 97/100\n",
            "1/1 [==============================] - 0s 11ms/step - loss: 14.0086 - mae: 14.0086\n",
            "Epoch 98/100\n",
            "1/1 [==============================] - 0s 9ms/step - loss: 14.0041 - mae: 14.0041\n",
            "Epoch 99/100\n",
            "1/1 [==============================] - 0s 10ms/step - loss: 13.9996 - mae: 13.9996\n",
            "Epoch 100/100\n",
            "1/1 [==============================] - 0s 10ms/step - loss: 13.9951 - mae: 13.9951\n"
          ]
        },
        {
          "output_type": "execute_result",
          "data": {
            "text/plain": [
              "<keras.callbacks.History at 0x7f250785c4f0>"
            ]
          },
          "metadata": {},
          "execution_count": 26
        }
      ]
    },
    {
      "cell_type": "code",
      "source": [
        "model.predict([17])"
      ],
      "metadata": {
        "colab": {
          "base_uri": "https://localhost:8080/"
        },
        "id": "Jax4UJbsiEUE",
        "outputId": "47dca48d-6f72-4403-8564-a5ea1c2350d4"
      },
      "execution_count": 32,
      "outputs": [
        {
          "output_type": "stream",
          "name": "stdout",
          "text": [
            "1/1 [==============================] - 0s 69ms/step\n"
          ]
        },
        {
          "output_type": "execute_result",
          "data": {
            "text/plain": [
              "array([[25.012308]], dtype=float32)"
            ]
          },
          "metadata": {},
          "execution_count": 32
        }
      ]
    },
    {
      "cell_type": "code",
      "source": [
        "model = tf.keras.Sequential([\n",
        "    tf.keras.layers.Dense(50, activation=None),\n",
        "    tf.keras.layers.Dense(1)\n",
        "])\n",
        "\n",
        "model.compile(loss=\"mae\",\n",
        "              optimizer=tf.keras.optimizers.Adam(lr=0.01),\n",
        "              metrics=[\"mae\"])\n",
        "\n",
        "model.fit(tf.expand_dims(X, axis=-1), y, epochs=100)"
      ],
      "metadata": {
        "colab": {
          "base_uri": "https://localhost:8080/"
        },
        "id": "yibi-Co4i1bu",
        "outputId": "40699e67-1faa-4753-b8eb-26c9cd829e44"
      },
      "execution_count": 43,
      "outputs": [
        {
          "output_type": "stream",
          "name": "stderr",
          "text": [
            "WARNING:absl:`lr` is deprecated in Keras optimizer, please use `learning_rate` or use the legacy optimizer, e.g.,tf.keras.optimizers.legacy.Adam.\n"
          ]
        },
        {
          "output_type": "stream",
          "name": "stdout",
          "text": [
            "Epoch 1/100\n",
            "1/1 [==============================] - 1s 1s/step - loss: 13.9101 - mae: 13.9101\n",
            "Epoch 2/100\n",
            "1/1 [==============================] - 0s 9ms/step - loss: 13.8451 - mae: 13.8451\n",
            "Epoch 3/100\n",
            "1/1 [==============================] - 0s 10ms/step - loss: 13.7802 - mae: 13.7802\n",
            "Epoch 4/100\n",
            "1/1 [==============================] - 0s 9ms/step - loss: 13.7153 - mae: 13.7153\n",
            "Epoch 5/100\n",
            "1/1 [==============================] - 0s 10ms/step - loss: 13.6503 - mae: 13.6503\n",
            "Epoch 6/100\n",
            "1/1 [==============================] - 0s 9ms/step - loss: 13.5854 - mae: 13.5854\n",
            "Epoch 7/100\n",
            "1/1 [==============================] - 0s 18ms/step - loss: 13.5205 - mae: 13.5205\n",
            "Epoch 8/100\n",
            "1/1 [==============================] - 0s 10ms/step - loss: 13.4556 - mae: 13.4556\n",
            "Epoch 9/100\n",
            "1/1 [==============================] - 0s 11ms/step - loss: 13.3907 - mae: 13.3907\n",
            "Epoch 10/100\n",
            "1/1 [==============================] - 0s 11ms/step - loss: 13.3258 - mae: 13.3258\n",
            "Epoch 11/100\n",
            "1/1 [==============================] - 0s 10ms/step - loss: 13.2608 - mae: 13.2608\n",
            "Epoch 12/100\n",
            "1/1 [==============================] - 0s 11ms/step - loss: 13.1958 - mae: 13.1958\n",
            "Epoch 13/100\n",
            "1/1 [==============================] - 0s 10ms/step - loss: 13.1308 - mae: 13.1308\n",
            "Epoch 14/100\n",
            "1/1 [==============================] - 0s 10ms/step - loss: 13.0658 - mae: 13.0658\n",
            "Epoch 15/100\n",
            "1/1 [==============================] - 0s 9ms/step - loss: 13.0007 - mae: 13.0007\n",
            "Epoch 16/100\n",
            "1/1 [==============================] - 0s 11ms/step - loss: 12.9356 - mae: 12.9356\n",
            "Epoch 17/100\n",
            "1/1 [==============================] - 0s 10ms/step - loss: 12.8704 - mae: 12.8704\n",
            "Epoch 18/100\n",
            "1/1 [==============================] - 0s 9ms/step - loss: 12.8052 - mae: 12.8052\n",
            "Epoch 19/100\n",
            "1/1 [==============================] - 0s 11ms/step - loss: 12.7399 - mae: 12.7399\n",
            "Epoch 20/100\n",
            "1/1 [==============================] - 0s 9ms/step - loss: 12.6745 - mae: 12.6745\n",
            "Epoch 21/100\n",
            "1/1 [==============================] - 0s 10ms/step - loss: 12.6090 - mae: 12.6090\n",
            "Epoch 22/100\n",
            "1/1 [==============================] - 0s 9ms/step - loss: 12.5434 - mae: 12.5434\n",
            "Epoch 23/100\n",
            "1/1 [==============================] - 0s 9ms/step - loss: 12.4777 - mae: 12.4777\n",
            "Epoch 24/100\n",
            "1/1 [==============================] - 0s 10ms/step - loss: 12.4119 - mae: 12.4119\n",
            "Epoch 25/100\n",
            "1/1 [==============================] - 0s 9ms/step - loss: 12.3460 - mae: 12.3460\n",
            "Epoch 26/100\n",
            "1/1 [==============================] - 0s 10ms/step - loss: 12.2799 - mae: 12.2799\n",
            "Epoch 27/100\n",
            "1/1 [==============================] - 0s 10ms/step - loss: 12.2137 - mae: 12.2137\n",
            "Epoch 28/100\n",
            "1/1 [==============================] - 0s 10ms/step - loss: 12.1473 - mae: 12.1473\n",
            "Epoch 29/100\n",
            "1/1 [==============================] - 0s 10ms/step - loss: 12.0808 - mae: 12.0808\n",
            "Epoch 30/100\n",
            "1/1 [==============================] - 0s 11ms/step - loss: 12.0142 - mae: 12.0142\n",
            "Epoch 31/100\n",
            "1/1 [==============================] - 0s 10ms/step - loss: 11.9473 - mae: 11.9473\n",
            "Epoch 32/100\n",
            "1/1 [==============================] - 0s 9ms/step - loss: 11.8803 - mae: 11.8803\n",
            "Epoch 33/100\n",
            "1/1 [==============================] - 0s 10ms/step - loss: 11.8131 - mae: 11.8131\n",
            "Epoch 34/100\n",
            "1/1 [==============================] - 0s 10ms/step - loss: 11.7456 - mae: 11.7456\n",
            "Epoch 35/100\n",
            "1/1 [==============================] - 0s 10ms/step - loss: 11.6780 - mae: 11.6780\n",
            "Epoch 36/100\n",
            "1/1 [==============================] - 0s 10ms/step - loss: 11.6102 - mae: 11.6102\n",
            "Epoch 37/100\n",
            "1/1 [==============================] - 0s 10ms/step - loss: 11.5421 - mae: 11.5421\n",
            "Epoch 38/100\n",
            "1/1 [==============================] - 0s 10ms/step - loss: 11.4738 - mae: 11.4738\n",
            "Epoch 39/100\n",
            "1/1 [==============================] - 0s 11ms/step - loss: 11.4053 - mae: 11.4053\n",
            "Epoch 40/100\n",
            "1/1 [==============================] - 0s 11ms/step - loss: 11.3365 - mae: 11.3365\n",
            "Epoch 41/100\n",
            "1/1 [==============================] - 0s 11ms/step - loss: 11.2674 - mae: 11.2674\n",
            "Epoch 42/100\n",
            "1/1 [==============================] - 0s 11ms/step - loss: 11.1981 - mae: 11.1981\n",
            "Epoch 43/100\n",
            "1/1 [==============================] - 0s 10ms/step - loss: 11.1285 - mae: 11.1285\n",
            "Epoch 44/100\n",
            "1/1 [==============================] - 0s 9ms/step - loss: 11.0587 - mae: 11.0587\n",
            "Epoch 45/100\n",
            "1/1 [==============================] - 0s 11ms/step - loss: 10.9885 - mae: 10.9885\n",
            "Epoch 46/100\n",
            "1/1 [==============================] - 0s 13ms/step - loss: 10.9181 - mae: 10.9181\n",
            "Epoch 47/100\n",
            "1/1 [==============================] - 0s 11ms/step - loss: 10.8474 - mae: 10.8474\n",
            "Epoch 48/100\n",
            "1/1 [==============================] - 0s 10ms/step - loss: 10.7764 - mae: 10.7764\n",
            "Epoch 49/100\n",
            "1/1 [==============================] - 0s 10ms/step - loss: 10.7050 - mae: 10.7050\n",
            "Epoch 50/100\n",
            "1/1 [==============================] - 0s 11ms/step - loss: 10.6334 - mae: 10.6334\n",
            "Epoch 51/100\n",
            "1/1 [==============================] - 0s 10ms/step - loss: 10.5614 - mae: 10.5614\n",
            "Epoch 52/100\n",
            "1/1 [==============================] - 0s 10ms/step - loss: 10.4891 - mae: 10.4891\n",
            "Epoch 53/100\n",
            "1/1 [==============================] - 0s 10ms/step - loss: 10.4164 - mae: 10.4164\n",
            "Epoch 54/100\n",
            "1/1 [==============================] - 0s 10ms/step - loss: 10.3434 - mae: 10.3434\n",
            "Epoch 55/100\n",
            "1/1 [==============================] - 0s 10ms/step - loss: 10.2701 - mae: 10.2701\n",
            "Epoch 56/100\n",
            "1/1 [==============================] - 0s 10ms/step - loss: 10.1964 - mae: 10.1964\n",
            "Epoch 57/100\n",
            "1/1 [==============================] - 0s 10ms/step - loss: 10.1223 - mae: 10.1223\n",
            "Epoch 58/100\n",
            "1/1 [==============================] - 0s 9ms/step - loss: 10.0479 - mae: 10.0479\n",
            "Epoch 59/100\n",
            "1/1 [==============================] - 0s 10ms/step - loss: 9.9731 - mae: 9.9731\n",
            "Epoch 60/100\n",
            "1/1 [==============================] - 0s 10ms/step - loss: 9.8979 - mae: 9.8979\n",
            "Epoch 61/100\n",
            "1/1 [==============================] - 0s 10ms/step - loss: 9.8223 - mae: 9.8223\n",
            "Epoch 62/100\n",
            "1/1 [==============================] - 0s 11ms/step - loss: 9.7463 - mae: 9.7463\n",
            "Epoch 63/100\n",
            "1/1 [==============================] - 0s 10ms/step - loss: 9.6700 - mae: 9.6700\n",
            "Epoch 64/100\n",
            "1/1 [==============================] - 0s 12ms/step - loss: 9.5932 - mae: 9.5932\n",
            "Epoch 65/100\n",
            "1/1 [==============================] - 0s 10ms/step - loss: 9.5160 - mae: 9.5160\n",
            "Epoch 66/100\n",
            "1/1 [==============================] - 0s 10ms/step - loss: 9.4384 - mae: 9.4384\n",
            "Epoch 67/100\n",
            "1/1 [==============================] - 0s 10ms/step - loss: 9.3603 - mae: 9.3603\n",
            "Epoch 68/100\n",
            "1/1 [==============================] - 0s 10ms/step - loss: 9.2818 - mae: 9.2818\n",
            "Epoch 69/100\n",
            "1/1 [==============================] - 0s 10ms/step - loss: 9.2029 - mae: 9.2029\n",
            "Epoch 70/100\n",
            "1/1 [==============================] - 0s 9ms/step - loss: 9.1236 - mae: 9.1236\n",
            "Epoch 71/100\n",
            "1/1 [==============================] - 0s 9ms/step - loss: 9.0437 - mae: 9.0437\n",
            "Epoch 72/100\n",
            "1/1 [==============================] - 0s 11ms/step - loss: 8.9635 - mae: 8.9635\n",
            "Epoch 73/100\n",
            "1/1 [==============================] - 0s 10ms/step - loss: 8.8827 - mae: 8.8827\n",
            "Epoch 74/100\n",
            "1/1 [==============================] - 0s 10ms/step - loss: 8.8015 - mae: 8.8015\n",
            "Epoch 75/100\n",
            "1/1 [==============================] - 0s 13ms/step - loss: 8.7199 - mae: 8.7199\n",
            "Epoch 76/100\n",
            "1/1 [==============================] - 0s 9ms/step - loss: 8.6377 - mae: 8.6377\n",
            "Epoch 77/100\n",
            "1/1 [==============================] - 0s 13ms/step - loss: 8.5551 - mae: 8.5551\n",
            "Epoch 78/100\n",
            "1/1 [==============================] - 0s 13ms/step - loss: 8.4719 - mae: 8.4719\n",
            "Epoch 79/100\n",
            "1/1 [==============================] - 0s 13ms/step - loss: 8.3883 - mae: 8.3883\n",
            "Epoch 80/100\n",
            "1/1 [==============================] - 0s 9ms/step - loss: 8.3042 - mae: 8.3042\n",
            "Epoch 81/100\n",
            "1/1 [==============================] - 0s 10ms/step - loss: 8.2195 - mae: 8.2195\n",
            "Epoch 82/100\n",
            "1/1 [==============================] - 0s 10ms/step - loss: 8.1343 - mae: 8.1343\n",
            "Epoch 83/100\n",
            "1/1 [==============================] - 0s 10ms/step - loss: 8.0487 - mae: 8.0487\n",
            "Epoch 84/100\n",
            "1/1 [==============================] - 0s 10ms/step - loss: 7.9625 - mae: 7.9625\n",
            "Epoch 85/100\n",
            "1/1 [==============================] - 0s 10ms/step - loss: 7.8757 - mae: 7.8757\n",
            "Epoch 86/100\n",
            "1/1 [==============================] - 0s 12ms/step - loss: 7.7885 - mae: 7.7885\n",
            "Epoch 87/100\n",
            "1/1 [==============================] - 0s 10ms/step - loss: 7.7006 - mae: 7.7006\n",
            "Epoch 88/100\n",
            "1/1 [==============================] - 0s 11ms/step - loss: 7.6123 - mae: 7.6123\n",
            "Epoch 89/100\n",
            "1/1 [==============================] - 0s 11ms/step - loss: 7.5234 - mae: 7.5234\n",
            "Epoch 90/100\n",
            "1/1 [==============================] - 0s 10ms/step - loss: 7.4339 - mae: 7.4339\n",
            "Epoch 91/100\n",
            "1/1 [==============================] - 0s 10ms/step - loss: 7.3439 - mae: 7.3439\n",
            "Epoch 92/100\n",
            "1/1 [==============================] - 0s 10ms/step - loss: 7.2533 - mae: 7.2533\n",
            "Epoch 93/100\n",
            "1/1 [==============================] - 0s 10ms/step - loss: 7.1621 - mae: 7.1621\n",
            "Epoch 94/100\n",
            "1/1 [==============================] - 0s 11ms/step - loss: 7.0703 - mae: 7.0703\n",
            "Epoch 95/100\n",
            "1/1 [==============================] - 0s 10ms/step - loss: 6.9780 - mae: 6.9780\n",
            "Epoch 96/100\n",
            "1/1 [==============================] - 0s 11ms/step - loss: 6.8850 - mae: 6.8850\n",
            "Epoch 97/100\n",
            "1/1 [==============================] - 0s 10ms/step - loss: 6.7915 - mae: 6.7915\n",
            "Epoch 98/100\n",
            "1/1 [==============================] - 0s 11ms/step - loss: 6.6974 - mae: 6.6974\n",
            "Epoch 99/100\n",
            "1/1 [==============================] - 0s 10ms/step - loss: 6.6705 - mae: 6.6705\n",
            "Epoch 100/100\n",
            "1/1 [==============================] - 0s 10ms/step - loss: 6.6588 - mae: 6.6588\n"
          ]
        },
        {
          "output_type": "execute_result",
          "data": {
            "text/plain": [
              "<keras.callbacks.History at 0x7f2508fd6460>"
            ]
          },
          "metadata": {},
          "execution_count": 43
        }
      ]
    },
    {
      "cell_type": "code",
      "source": [
        "X, y"
      ],
      "metadata": {
        "colab": {
          "base_uri": "https://localhost:8080/"
        },
        "id": "F_bxCIBtkQAe",
        "outputId": "030009cb-dff6-4cc4-80ef-f8a19b4877c4"
      },
      "execution_count": 35,
      "outputs": [
        {
          "output_type": "execute_result",
          "data": {
            "text/plain": [
              "(<tf.Tensor: shape=(8,), dtype=float64, numpy=array([-7., -4., -1.,  2.,  5.,  8., 11., 14.])>,\n",
              " <tf.Tensor: shape=(8,), dtype=float64, numpy=array([ 3.,  6.,  9., 12., 15., 18., 21., 24.])>)"
            ]
          },
          "metadata": {},
          "execution_count": 35
        }
      ]
    },
    {
      "cell_type": "code",
      "source": [
        "model.predict([17])"
      ],
      "metadata": {
        "colab": {
          "base_uri": "https://localhost:8080/"
        },
        "id": "DRzyFBnikg1Z",
        "outputId": "6260f32d-8e29-4fee-bae3-084b55567ffb"
      },
      "execution_count": 36,
      "outputs": [
        {
          "output_type": "stream",
          "name": "stdout",
          "text": [
            "1/1 [==============================] - 0s 60ms/step\n"
          ]
        },
        {
          "output_type": "execute_result",
          "data": {
            "text/plain": [
              "array([[32.09113]], dtype=float32)"
            ]
          },
          "metadata": {},
          "execution_count": 36
        }
      ]
    },
    {
      "cell_type": "markdown",
      "source": [
        "Maybe the model above is overfitting."
      ],
      "metadata": {
        "id": "eDRpUbAykmaz"
      }
    },
    {
      "cell_type": "markdown",
      "source": [
        "## Evaluating a model"
      ],
      "metadata": {
        "id": "qrpX1cF6kynZ"
      }
    },
    {
      "cell_type": "code",
      "source": [],
      "metadata": {
        "id": "78N5G-YknOye"
      },
      "execution_count": null,
      "outputs": []
    }
  ]
}