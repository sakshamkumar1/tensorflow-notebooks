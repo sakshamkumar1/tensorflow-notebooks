{
  "nbformat": 4,
  "nbformat_minor": 0,
  "metadata": {
    "colab": {
      "provenance": [],
      "authorship_tag": "ABX9TyOLuPYejxGu4CYuGSoEhpaG"
    },
    "kernelspec": {
      "name": "python3",
      "display_name": "Python 3"
    },
    "language_info": {
      "name": "python"
    },
    "accelerator": "GPU",
    "gpuClass": "standard"
  },
  "cells": [
    {
      "cell_type": "markdown",
      "source": [
        "# Introduction to Regression with Neural Networks in TensorFlow"
      ],
      "metadata": {
        "id": "ltiTWnFRhvsd"
      }
    },
    {
      "cell_type": "code",
      "source": [
        "import tensorflow as tf\n",
        "print(tf.__version__)"
      ],
      "metadata": {
        "colab": {
          "base_uri": "https://localhost:8080/"
        },
        "id": "4GoCV4TLiLxG",
        "outputId": "781b6ce1-72f6-4b99-da3f-ca65e3b50a75"
      },
      "execution_count": 1,
      "outputs": [
        {
          "output_type": "stream",
          "name": "stdout",
          "text": [
            "2.12.0\n"
          ]
        }
      ]
    },
    {
      "cell_type": "code",
      "source": [
        "tf.config.list_physical_devices()"
      ],
      "metadata": {
        "colab": {
          "base_uri": "https://localhost:8080/"
        },
        "id": "vhtkpFNei0bg",
        "outputId": "68140bca-63b7-4bef-d291-ec7c5e93b5ac"
      },
      "execution_count": 2,
      "outputs": [
        {
          "output_type": "execute_result",
          "data": {
            "text/plain": [
              "[PhysicalDevice(name='/physical_device:CPU:0', device_type='CPU')]"
            ]
          },
          "metadata": {},
          "execution_count": 2
        }
      ]
    },
    {
      "cell_type": "code",
      "source": [
        "tf.config.list_physical_devices(\"GPU\")"
      ],
      "metadata": {
        "colab": {
          "base_uri": "https://localhost:8080/"
        },
        "id": "kF4GXjoWi5c_",
        "outputId": "559b1c31-0997-4772-d97d-d97b1a7e2298"
      },
      "execution_count": 3,
      "outputs": [
        {
          "output_type": "execute_result",
          "data": {
            "text/plain": [
              "[]"
            ]
          },
          "metadata": {},
          "execution_count": 3
        }
      ]
    },
    {
      "cell_type": "code",
      "source": [
        "import numpy as np\n",
        "import matplotlib.pyplot as plt\n",
        "\n",
        "X = np.array([-7.0, -4.0, -1.0, 2.0, 5.0, 8.0, 11.0, 14.0])\n",
        "\n",
        "y = np.array([3.0, 6.0, 9.0, 12.0, 15.0, 18.0, 21.0, 24.0])\n",
        "\n",
        "plt.scatter(X, y)"
      ],
      "metadata": {
        "colab": {
          "base_uri": "https://localhost:8080/",
          "height": 452
        },
        "id": "rm2LxcHfjCnr",
        "outputId": "d79c270c-482e-4a22-b921-6567be1d630b"
      },
      "execution_count": 4,
      "outputs": [
        {
          "output_type": "execute_result",
          "data": {
            "text/plain": [
              "<matplotlib.collections.PathCollection at 0x7fafe67642e0>"
            ]
          },
          "metadata": {},
          "execution_count": 4
        },
        {
          "output_type": "display_data",
          "data": {
            "text/plain": [
              "<Figure size 640x480 with 1 Axes>"
            ],
            "image/png": "[encoded data removed]"
          },
          "metadata": {}
        }
      ]
    },
    {
      "cell_type": "code",
      "source": [
        "X + 10"
      ],
      "metadata": {
        "colab": {
          "base_uri": "https://localhost:8080/"
        },
        "id": "5ARDTgWSkD9e",
        "outputId": "eafecc37-63b1-4ef9-f493-c5961004d83c"
      },
      "execution_count": 5,
      "outputs": [
        {
          "output_type": "execute_result",
          "data": {
            "text/plain": [
              "array([ 3.,  6.,  9., 12., 15., 18., 21., 24.])"
            ]
          },
          "metadata": {},
          "execution_count": 5
        }
      ]
    },
    {
      "cell_type": "code",
      "source": [
        "y == X + 10"
      ],
      "metadata": {
        "colab": {
          "base_uri": "https://localhost:8080/"
        },
        "id": "Mav0duA6kS4c",
        "outputId": "137de66e-5a67-4930-eba0-c5d10b911180"
      },
      "execution_count": 6,
      "outputs": [
        {
          "output_type": "execute_result",
          "data": {
            "text/plain": [
              "array([ True,  True,  True,  True,  True,  True,  True,  True])"
            ]
          },
          "metadata": {},
          "execution_count": 6
        }
      ]
    },
    {
      "cell_type": "markdown",
      "source": [
        "## Input and output shapes"
      ],
      "metadata": {
        "id": "_yuJW5XnkVki"
      }
    },
    {
      "cell_type": "code",
      "source": [
        "house_info = tf.constant([\"bedroom\", \"bathroom\", \"garage\"])\n",
        "house_price = tf.constant([939700])\n",
        "house_info, house_price"
      ],
      "metadata": {
        "colab": {
          "base_uri": "https://localhost:8080/"
        },
        "id": "-XeXUYoCkfJ9",
        "outputId": "1f781fa2-bfb4-420b-80fb-75adca1df5d4"
      },
      "execution_count": 7,
      "outputs": [
        {
          "output_type": "execute_result",
          "data": {
            "text/plain": [
              "(<tf.Tensor: shape=(3,), dtype=string, numpy=array([b'bedroom', b'bathroom', b'garage'], dtype=object)>,\n",
              " <tf.Tensor: shape=(1,), dtype=int32, numpy=array([939700], dtype=int32)>)"
            ]
          },
          "metadata": {},
          "execution_count": 7
        }
      ]
    },
    {
      "cell_type": "code",
      "source": [
        "input_shape = X[0].shape\n",
        "output_shape = y[0].shape\n",
        "input_shape, output_shape"
      ],
      "metadata": {
        "colab": {
          "base_uri": "https://localhost:8080/"
        },
        "id": "McD3rnRQk7Sn",
        "outputId": "5ab0d07d-2c26-43f6-d3e1-bf3010670450"
      },
      "execution_count": 8,
      "outputs": [
        {
          "output_type": "execute_result",
          "data": {
            "text/plain": [
              "((), ())"
            ]
          },
          "metadata": {},
          "execution_count": 8
        }
      ]
    },
    {
      "cell_type": "code",
      "source": [
        "X = tf.constant(X)\n",
        "y = tf.constant(y)\n",
        "X, y"
      ],
      "metadata": {
        "colab": {
          "base_uri": "https://localhost:8080/"
        },
        "id": "ypxA_G86lEid",
        "outputId": "6080ec83-5ce7-472a-92fb-1f3c73e90659"
      },
      "execution_count": 9,
      "outputs": [
        {
          "output_type": "execute_result",
          "data": {
            "text/plain": [
              "(<tf.Tensor: shape=(8,), dtype=float64, numpy=array([-7., -4., -1.,  2.,  5.,  8., 11., 14.])>,\n",
              " <tf.Tensor: shape=(8,), dtype=float64, numpy=array([ 3.,  6.,  9., 12., 15., 18., 21., 24.])>)"
            ]
          },
          "metadata": {},
          "execution_count": 9
        }
      ]
    },
    {
      "cell_type": "code",
      "source": [
        "input_shape = X[0].shape\n",
        "output_shape = y[0].shape\n",
        "input_shape, output_shape"
      ],
      "metadata": {
        "colab": {
          "base_uri": "https://localhost:8080/"
        },
        "id": "xwA_ydbHphrK",
        "outputId": "c79a5707-dccb-464e-b159-7ffb87bc0157"
      },
      "execution_count": 10,
      "outputs": [
        {
          "output_type": "execute_result",
          "data": {
            "text/plain": [
              "(TensorShape([]), TensorShape([]))"
            ]
          },
          "metadata": {},
          "execution_count": 10
        }
      ]
    },
    {
      "cell_type": "code",
      "source": [
        "plt.scatter(X, y)"
      ],
      "metadata": {
        "colab": {
          "base_uri": "https://localhost:8080/",
          "height": 452
        },
        "id": "mXzzlumGpqIB",
        "outputId": "7df62740-c046-4adb-e7a1-44ac8d179f8d"
      },
      "execution_count": 11,
      "outputs": [
        {
          "output_type": "execute_result",
          "data": {
            "text/plain": [
              "<matplotlib.collections.PathCollection at 0x7fafe0e719d0>"
            ]
          },
          "metadata": {},
          "execution_count": 11
        },
        {
          "output_type": "display_data",
          "data": {
            "text/plain": [
              "<Figure size 640x480 with 1 Axes>"
            ],
            "image/png": "[encoded data removed]"
          },
          "metadata": {}
        }
      ]
    },
    {
      "cell_type": "markdown",
      "source": [
        "## Steps in modelling with TensorFlow"
      ],
      "metadata": {
        "id": "M8VWCh_ZpxK0"
      }
    },
    {
      "cell_type": "code",
      "source": [
        "tf.random.set_seed(42)\n",
        "\n",
        "# Create a model using the sequential API\n",
        "model = tf.keras.Sequential([\n",
        "    tf.keras.layers.Dense(1)\n",
        "])\n",
        "\n",
        "# Compile\n",
        "model.compile(loss=tf.keras.losses.mae,\n",
        "              optimizer=tf.keras.optimizers.SGD(),\n",
        "              metrics=[\"mae\"])\n",
        "\n",
        "# Fit the model\n",
        "model.fit(tf.expand_dims(X, axis=-1), y, epochs=5)"
      ],
      "metadata": {
        "colab": {
          "base_uri": "https://localhost:8080/"
        },
        "id": "vCFiTiw1p1mF",
        "outputId": "53b5118d-e7ad-4b2e-f119-edf55d0f2725"
      },
      "execution_count": 12,
      "outputs": [
        {
          "output_type": "stream",
          "name": "stdout",
          "text": [
            "Epoch 1/5\n",
            "1/1 [==============================] - 1s 518ms/step - loss: 16.7650 - mae: 16.7650\n",
            "Epoch 2/5\n",
            "1/1 [==============================] - 0s 9ms/step - loss: 16.4838 - mae: 16.4838\n",
            "Epoch 3/5\n",
            "1/1 [==============================] - 0s 8ms/step - loss: 16.2025 - mae: 16.2025\n",
            "Epoch 4/5\n",
            "1/1 [==============================] - 0s 8ms/step - loss: 15.9213 - mae: 15.9213\n",
            "Epoch 5/5\n",
            "1/1 [==============================] - 0s 10ms/step - loss: 15.6400 - mae: 15.6400\n"
          ]
        },
        {
          "output_type": "execute_result",
          "data": {
            "text/plain": [
              "<keras.callbacks.History at 0x7faff15ce310>"
            ]
          },
          "metadata": {},
          "execution_count": 12
        }
      ]
    },
    {
      "cell_type": "code",
      "source": [
        "y_pred = model.predict([17.0])\n",
        "y_pred"
      ],
      "metadata": {
        "colab": {
          "base_uri": "https://localhost:8080/"
        },
        "id": "mrC0gHLFtGqC",
        "outputId": "d1799406-7b9b-4e68-b7e8-0de11d390632"
      },
      "execution_count": 13,
      "outputs": [
        {
          "output_type": "stream",
          "name": "stdout",
          "text": [
            "1/1 [==============================] - 0s 94ms/step\n"
          ]
        },
        {
          "output_type": "execute_result",
          "data": {
            "text/plain": [
              "array([[-8.50107]], dtype=float32)"
            ]
          },
          "metadata": {},
          "execution_count": 13
        }
      ]
    },
    {
      "cell_type": "code",
      "source": [
        "y_pred + 11"
      ],
      "metadata": {
        "colab": {
          "base_uri": "https://localhost:8080/"
        },
        "id": "tBxF6PEBuPbr",
        "outputId": "fe419298-cfff-4f88-f795-2fde8a92df79"
      },
      "execution_count": 14,
      "outputs": [
        {
          "output_type": "execute_result",
          "data": {
            "text/plain": [
              "array([[2.49893]], dtype=float32)"
            ]
          },
          "metadata": {},
          "execution_count": 14
        }
      ]
    },
    {
      "cell_type": "markdown",
      "source": [
        "## Improving our model"
      ],
      "metadata": {
        "id": "9cbSYzSdubH1"
      }
    },
    {
      "cell_type": "code",
      "source": [
        "model = tf.keras.Sequential([\n",
        "    tf.keras.layers.Dense(1)\n",
        "])\n",
        "\n",
        "model.compile(loss=tf.keras.losses.mae,\n",
        "              optimizer=tf.keras.optimizers.SGD(),\n",
        "              metrics=[\"mae\"])\n",
        "\n",
        "model.fit(tf.expand_dims(X, axis=-1), y, epochs=100)"
      ],
      "metadata": {
        "id": "UiuFjPyDufzT",
        "colab": {
          "base_uri": "https://localhost:8080/"
        },
        "outputId": "088583d1-714a-4f42-e1f3-5ae5ee721b46"
      },
      "execution_count": 15,
      "outputs": [
        {
          "output_type": "stream",
          "name": "stdout",
          "text": [
            "Epoch 1/100\n",
            "1/1 [==============================] - 0s 339ms/step - loss: 12.8068 - mae: 12.8068\n",
            "Epoch 2/100\n",
            "1/1 [==============================] - 0s 10ms/step - loss: 12.6743 - mae: 12.6743\n",
            "Epoch 3/100\n",
            "1/1 [==============================] - 0s 10ms/step - loss: 12.5418 - mae: 12.5418\n",
            "Epoch 4/100\n",
            "1/1 [==============================] - 0s 8ms/step - loss: 12.4093 - mae: 12.4093\n",
            "Epoch 5/100\n",
            "1/1 [==============================] - 0s 10ms/step - loss: 12.2768 - mae: 12.2768\n",
            "Epoch 6/100\n",
            "1/1 [==============================] - 0s 8ms/step - loss: 12.1443 - mae: 12.1443\n",
            "Epoch 7/100\n",
            "1/1 [==============================] - 0s 9ms/step - loss: 12.0118 - mae: 12.0118\n",
            "Epoch 8/100\n",
            "1/1 [==============================] - 0s 8ms/step - loss: 11.8793 - mae: 11.8793\n",
            "Epoch 9/100\n",
            "1/1 [==============================] - 0s 8ms/step - loss: 11.7468 - mae: 11.7468\n",
            "Epoch 10/100\n",
            "1/1 [==============================] - 0s 8ms/step - loss: 11.6143 - mae: 11.6143\n",
            "Epoch 11/100\n",
            "1/1 [==============================] - 0s 7ms/step - loss: 11.4818 - mae: 11.4818\n",
            "Epoch 12/100\n",
            "1/1 [==============================] - 0s 9ms/step - loss: 11.3493 - mae: 11.3493\n",
            "Epoch 13/100\n",
            "1/1 [==============================] - 0s 11ms/step - loss: 11.2168 - mae: 11.2168\n",
            "Epoch 14/100\n",
            "1/1 [==============================] - 0s 10ms/step - loss: 11.0843 - mae: 11.0843\n",
            "Epoch 15/100\n",
            "1/1 [==============================] - 0s 8ms/step - loss: 10.9518 - mae: 10.9518\n",
            "Epoch 16/100\n",
            "1/1 [==============================] - 0s 10ms/step - loss: 10.8193 - mae: 10.8193\n",
            "Epoch 17/100\n",
            "1/1 [==============================] - 0s 11ms/step - loss: 10.6868 - mae: 10.6868\n",
            "Epoch 18/100\n",
            "1/1 [==============================] - 0s 8ms/step - loss: 10.5543 - mae: 10.5543\n",
            "Epoch 19/100\n",
            "1/1 [==============================] - 0s 9ms/step - loss: 10.4218 - mae: 10.4218\n",
            "Epoch 20/100\n",
            "1/1 [==============================] - 0s 8ms/step - loss: 10.2893 - mae: 10.2893\n",
            "Epoch 21/100\n",
            "1/1 [==============================] - 0s 8ms/step - loss: 10.1568 - mae: 10.1568\n",
            "Epoch 22/100\n",
            "1/1 [==============================] - 0s 8ms/step - loss: 10.0243 - mae: 10.0243\n",
            "Epoch 23/100\n",
            "1/1 [==============================] - 0s 8ms/step - loss: 9.8918 - mae: 9.8918\n",
            "Epoch 24/100\n",
            "1/1 [==============================] - 0s 8ms/step - loss: 9.7593 - mae: 9.7593\n",
            "Epoch 25/100\n",
            "1/1 [==============================] - 0s 8ms/step - loss: 9.6268 - mae: 9.6268\n",
            "Epoch 26/100\n",
            "1/1 [==============================] - 0s 8ms/step - loss: 9.4943 - mae: 9.4943\n",
            "Epoch 27/100\n",
            "1/1 [==============================] - 0s 8ms/step - loss: 9.3618 - mae: 9.3618\n",
            "Epoch 28/100\n",
            "1/1 [==============================] - 0s 8ms/step - loss: 9.2293 - mae: 9.2293\n",
            "Epoch 29/100\n",
            "1/1 [==============================] - 0s 8ms/step - loss: 9.0968 - mae: 9.0968\n",
            "Epoch 30/100\n",
            "1/1 [==============================] - 0s 9ms/step - loss: 8.9643 - mae: 8.9643\n",
            "Epoch 31/100\n",
            "1/1 [==============================] - 0s 8ms/step - loss: 8.8318 - mae: 8.8318\n",
            "Epoch 32/100\n",
            "1/1 [==============================] - 0s 8ms/step - loss: 8.6993 - mae: 8.6993\n",
            "Epoch 33/100\n",
            "1/1 [==============================] - 0s 8ms/step - loss: 8.5668 - mae: 8.5668\n",
            "Epoch 34/100\n",
            "1/1 [==============================] - 0s 8ms/step - loss: 8.4343 - mae: 8.4343\n",
            "Epoch 35/100\n",
            "1/1 [==============================] - 0s 8ms/step - loss: 8.3018 - mae: 8.3018\n",
            "Epoch 36/100\n",
            "1/1 [==============================] - 0s 8ms/step - loss: 8.1693 - mae: 8.1693\n",
            "Epoch 37/100\n",
            "1/1 [==============================] - 0s 8ms/step - loss: 8.0368 - mae: 8.0368\n",
            "Epoch 38/100\n",
            "1/1 [==============================] - 0s 8ms/step - loss: 7.9043 - mae: 7.9043\n",
            "Epoch 39/100\n",
            "1/1 [==============================] - 0s 8ms/step - loss: 7.7718 - mae: 7.7718\n",
            "Epoch 40/100\n",
            "1/1 [==============================] - 0s 8ms/step - loss: 7.6393 - mae: 7.6393\n",
            "Epoch 41/100\n",
            "1/1 [==============================] - 0s 8ms/step - loss: 7.5068 - mae: 7.5068\n",
            "Epoch 42/100\n",
            "1/1 [==============================] - 0s 8ms/step - loss: 7.3743 - mae: 7.3743\n",
            "Epoch 43/100\n",
            "1/1 [==============================] - 0s 8ms/step - loss: 7.2418 - mae: 7.2418\n",
            "Epoch 44/100\n",
            "1/1 [==============================] - 0s 8ms/step - loss: 7.1775 - mae: 7.1775\n",
            "Epoch 45/100\n",
            "1/1 [==============================] - 0s 8ms/step - loss: 7.1719 - mae: 7.1719\n",
            "Epoch 46/100\n",
            "1/1 [==============================] - 0s 10ms/step - loss: 7.1663 - mae: 7.1663\n",
            "Epoch 47/100\n",
            "1/1 [==============================] - 0s 12ms/step - loss: 7.1606 - mae: 7.1606\n",
            "Epoch 48/100\n",
            "1/1 [==============================] - 0s 9ms/step - loss: 7.1550 - mae: 7.1550\n",
            "Epoch 49/100\n",
            "1/1 [==============================] - 0s 9ms/step - loss: 7.1494 - mae: 7.1494\n",
            "Epoch 50/100\n",
            "1/1 [==============================] - 0s 8ms/step - loss: 7.1438 - mae: 7.1438\n",
            "Epoch 51/100\n",
            "1/1 [==============================] - 0s 8ms/step - loss: 7.1381 - mae: 7.1381\n",
            "Epoch 52/100\n",
            "1/1 [==============================] - 0s 8ms/step - loss: 7.1325 - mae: 7.1325\n",
            "Epoch 53/100\n",
            "1/1 [==============================] - 0s 8ms/step - loss: 7.1269 - mae: 7.1269\n",
            "Epoch 54/100\n",
            "1/1 [==============================] - 0s 8ms/step - loss: 7.1213 - mae: 7.1213\n",
            "Epoch 55/100\n",
            "1/1 [==============================] - 0s 8ms/step - loss: 7.1156 - mae: 7.1156\n",
            "Epoch 56/100\n",
            "1/1 [==============================] - 0s 8ms/step - loss: 7.1100 - mae: 7.1100\n",
            "Epoch 57/100\n",
            "1/1 [==============================] - 0s 8ms/step - loss: 7.1044 - mae: 7.1044\n",
            "Epoch 58/100\n",
            "1/1 [==============================] - 0s 8ms/step - loss: 7.0988 - mae: 7.0988\n",
            "Epoch 59/100\n",
            "1/1 [==============================] - 0s 8ms/step - loss: 7.0931 - mae: 7.0931\n",
            "Epoch 60/100\n",
            "1/1 [==============================] - 0s 8ms/step - loss: 7.0875 - mae: 7.0875\n",
            "Epoch 61/100\n",
            "1/1 [==============================] - 0s 8ms/step - loss: 7.0819 - mae: 7.0819\n",
            "Epoch 62/100\n",
            "1/1 [==============================] - 0s 8ms/step - loss: 7.0763 - mae: 7.0763\n",
            "Epoch 63/100\n",
            "1/1 [==============================] - 0s 8ms/step - loss: 7.0706 - mae: 7.0706\n",
            "Epoch 64/100\n",
            "1/1 [==============================] - 0s 8ms/step - loss: 7.0650 - mae: 7.0650\n",
            "Epoch 65/100\n",
            "1/1 [==============================] - 0s 8ms/step - loss: 7.0594 - mae: 7.0594\n",
            "Epoch 66/100\n",
            "1/1 [==============================] - 0s 8ms/step - loss: 7.0538 - mae: 7.0538\n",
            "Epoch 67/100\n",
            "1/1 [==============================] - 0s 8ms/step - loss: 7.0481 - mae: 7.0481\n",
            "Epoch 68/100\n",
            "1/1 [==============================] - 0s 8ms/step - loss: 7.0425 - mae: 7.0425\n",
            "Epoch 69/100\n",
            "1/1 [==============================] - 0s 8ms/step - loss: 7.0369 - mae: 7.0369\n",
            "Epoch 70/100\n",
            "1/1 [==============================] - 0s 10ms/step - loss: 7.0313 - mae: 7.0313\n",
            "Epoch 71/100\n",
            "1/1 [==============================] - 0s 8ms/step - loss: 7.0256 - mae: 7.0256\n",
            "Epoch 72/100\n",
            "1/1 [==============================] - 0s 8ms/step - loss: 7.0200 - mae: 7.0200\n",
            "Epoch 73/100\n",
            "1/1 [==============================] - 0s 8ms/step - loss: 7.0144 - mae: 7.0144\n",
            "Epoch 74/100\n",
            "1/1 [==============================] - 0s 10ms/step - loss: 7.0087 - mae: 7.0087\n",
            "Epoch 75/100\n",
            "1/1 [==============================] - 0s 7ms/step - loss: 7.0031 - mae: 7.0031\n",
            "Epoch 76/100\n",
            "1/1 [==============================] - 0s 7ms/step - loss: 6.9975 - mae: 6.9975\n",
            "Epoch 77/100\n",
            "1/1 [==============================] - 0s 10ms/step - loss: 6.9919 - mae: 6.9919\n",
            "Epoch 78/100\n",
            "1/1 [==============================] - 0s 8ms/step - loss: 6.9863 - mae: 6.9863\n",
            "Epoch 79/100\n",
            "1/1 [==============================] - 0s 8ms/step - loss: 6.9806 - mae: 6.9806\n",
            "Epoch 80/100\n",
            "1/1 [==============================] - 0s 10ms/step - loss: 6.9750 - mae: 6.9750\n",
            "Epoch 81/100\n",
            "1/1 [==============================] - 0s 8ms/step - loss: 6.9694 - mae: 6.9694\n",
            "Epoch 82/100\n",
            "1/1 [==============================] - 0s 8ms/step - loss: 6.9638 - mae: 6.9638\n",
            "Epoch 83/100\n",
            "1/1 [==============================] - 0s 8ms/step - loss: 6.9581 - mae: 6.9581\n",
            "Epoch 84/100\n",
            "1/1 [==============================] - 0s 8ms/step - loss: 6.9525 - mae: 6.9525\n",
            "Epoch 85/100\n",
            "1/1 [==============================] - 0s 8ms/step - loss: 6.9469 - mae: 6.9469\n",
            "Epoch 86/100\n",
            "1/1 [==============================] - 0s 8ms/step - loss: 6.9413 - mae: 6.9413\n",
            "Epoch 87/100\n",
            "1/1 [==============================] - 0s 9ms/step - loss: 6.9356 - mae: 6.9356\n",
            "Epoch 88/100\n",
            "1/1 [==============================] - 0s 8ms/step - loss: 6.9300 - mae: 6.9300\n",
            "Epoch 89/100\n",
            "1/1 [==============================] - 0s 9ms/step - loss: 6.9244 - mae: 6.9244\n",
            "Epoch 90/100\n",
            "1/1 [==============================] - 0s 9ms/step - loss: 6.9188 - mae: 6.9188\n",
            "Epoch 91/100\n",
            "1/1 [==============================] - 0s 8ms/step - loss: 6.9131 - mae: 6.9131\n",
            "Epoch 92/100\n",
            "1/1 [==============================] - 0s 8ms/step - loss: 6.9075 - mae: 6.9075\n",
            "Epoch 93/100\n",
            "1/1 [==============================] - 0s 9ms/step - loss: 6.9019 - mae: 6.9019\n",
            "Epoch 94/100\n",
            "1/1 [==============================] - 0s 9ms/step - loss: 6.8963 - mae: 6.8963\n",
            "Epoch 95/100\n",
            "1/1 [==============================] - 0s 10ms/step - loss: 6.8906 - mae: 6.8906\n",
            "Epoch 96/100\n",
            "1/1 [==============================] - 0s 9ms/step - loss: 6.8850 - mae: 6.8850\n",
            "Epoch 97/100\n",
            "1/1 [==============================] - 0s 9ms/step - loss: 6.8794 - mae: 6.8794\n",
            "Epoch 98/100\n",
            "1/1 [==============================] - 0s 8ms/step - loss: 6.8738 - mae: 6.8738\n",
            "Epoch 99/100\n",
            "1/1 [==============================] - 0s 8ms/step - loss: 6.8681 - mae: 6.8681\n",
            "Epoch 100/100\n",
            "1/1 [==============================] - 0s 10ms/step - loss: 6.8625 - mae: 6.8625\n"
          ]
        },
        {
          "output_type": "execute_result",
          "data": {
            "text/plain": [
              "<keras.callbacks.History at 0x7fafe1613d90>"
            ]
          },
          "metadata": {},
          "execution_count": 15
        }
      ]
    },
    {
      "cell_type": "code",
      "source": [
        "X, y"
      ],
      "metadata": {
        "colab": {
          "base_uri": "https://localhost:8080/"
        },
        "id": "DljP-ns9cwTe",
        "outputId": "631d48b0-43e4-4971-8a4f-8b5e6ac8c170"
      },
      "execution_count": 16,
      "outputs": [
        {
          "output_type": "execute_result",
          "data": {
            "text/plain": [
              "(<tf.Tensor: shape=(8,), dtype=float64, numpy=array([-7., -4., -1.,  2.,  5.,  8., 11., 14.])>,\n",
              " <tf.Tensor: shape=(8,), dtype=float64, numpy=array([ 3.,  6.,  9., 12., 15., 18., 21., 24.])>)"
            ]
          },
          "metadata": {},
          "execution_count": 16
        }
      ]
    },
    {
      "cell_type": "code",
      "source": [
        "model.predict([17.0])"
      ],
      "metadata": {
        "colab": {
          "base_uri": "https://localhost:8080/"
        },
        "id": "tD9NvNzRdJKt",
        "outputId": "7b12b181-cc4a-4662-c46e-d276113da1f1"
      },
      "execution_count": 17,
      "outputs": [
        {
          "output_type": "stream",
          "name": "stdout",
          "text": [
            "1/1 [==============================] - 0s 60ms/step\n"
          ]
        },
        {
          "output_type": "execute_result",
          "data": {
            "text/plain": [
              "array([[29.809362]], dtype=float32)"
            ]
          },
          "metadata": {},
          "execution_count": 17
        }
      ]
    },
    {
      "cell_type": "code",
      "source": [
        "model = tf.keras.Sequential([\n",
        "    tf.keras.layers.Dense(10),\n",
        "    tf.keras.layers.Dense(1)\n",
        "])\n",
        "\n",
        "\n",
        "model.compile(loss=tf.keras.metrics.mae,\n",
        "              optimizer=tf.keras.optimizers.SGD(),\n",
        "              metrics=tf.keras.metrics.mae)\n",
        "\n",
        "model.fit(tf.expand_dims(X, axis=-1), y, epochs=100)"
      ],
      "metadata": {
        "colab": {
          "base_uri": "https://localhost:8080/"
        },
        "id": "l8qe4u3bdP8N",
        "outputId": "f0825bca-3e42-4928-fe65-54897a729729"
      },
      "execution_count": 18,
      "outputs": [
        {
          "output_type": "stream",
          "name": "stdout",
          "text": [
            "Epoch 1/100\n",
            "1/1 [==============================] - 0s 409ms/step - loss: 14.6054 - mean_absolute_error: 14.6054\n",
            "Epoch 2/100\n",
            "1/1 [==============================] - 0s 9ms/step - loss: 14.0669 - mean_absolute_error: 14.0669\n",
            "Epoch 3/100\n",
            "1/1 [==============================] - 0s 8ms/step - loss: 13.5328 - mean_absolute_error: 13.5328\n",
            "Epoch 4/100\n",
            "1/1 [==============================] - 0s 8ms/step - loss: 13.0004 - mean_absolute_error: 13.0004\n",
            "Epoch 5/100\n",
            "1/1 [==============================] - 0s 9ms/step - loss: 12.4669 - mean_absolute_error: 12.4669\n",
            "Epoch 6/100\n",
            "1/1 [==============================] - 0s 8ms/step - loss: 11.9295 - mean_absolute_error: 11.9295\n",
            "Epoch 7/100\n",
            "1/1 [==============================] - 0s 8ms/step - loss: 11.3855 - mean_absolute_error: 11.3855\n",
            "Epoch 8/100\n",
            "1/1 [==============================] - 0s 8ms/step - loss: 10.8320 - mean_absolute_error: 10.8320\n",
            "Epoch 9/100\n",
            "1/1 [==============================] - 0s 8ms/step - loss: 10.2662 - mean_absolute_error: 10.2662\n",
            "Epoch 10/100\n",
            "1/1 [==============================] - 0s 7ms/step - loss: 9.6851 - mean_absolute_error: 9.6851\n",
            "Epoch 11/100\n",
            "1/1 [==============================] - 0s 8ms/step - loss: 9.0859 - mean_absolute_error: 9.0859\n",
            "Epoch 12/100\n",
            "1/1 [==============================] - 0s 8ms/step - loss: 8.4653 - mean_absolute_error: 8.4653\n",
            "Epoch 13/100\n",
            "1/1 [==============================] - 0s 8ms/step - loss: 7.8202 - mean_absolute_error: 7.8202\n",
            "Epoch 14/100\n",
            "1/1 [==============================] - 0s 10ms/step - loss: 7.1474 - mean_absolute_error: 7.1474\n",
            "Epoch 15/100\n",
            "1/1 [==============================] - 0s 9ms/step - loss: 7.1172 - mean_absolute_error: 7.1172\n",
            "Epoch 16/100\n",
            "1/1 [==============================] - 0s 8ms/step - loss: 7.0932 - mean_absolute_error: 7.0932\n",
            "Epoch 17/100\n",
            "1/1 [==============================] - 0s 8ms/step - loss: 7.0702 - mean_absolute_error: 7.0702\n",
            "Epoch 18/100\n",
            "1/1 [==============================] - 0s 9ms/step - loss: 7.0471 - mean_absolute_error: 7.0471\n",
            "Epoch 19/100\n",
            "1/1 [==============================] - 0s 8ms/step - loss: 7.0240 - mean_absolute_error: 7.0240\n",
            "Epoch 20/100\n",
            "1/1 [==============================] - 0s 8ms/step - loss: 7.0008 - mean_absolute_error: 7.0008\n",
            "Epoch 21/100\n",
            "1/1 [==============================] - 0s 9ms/step - loss: 6.9775 - mean_absolute_error: 6.9775\n",
            "Epoch 22/100\n",
            "1/1 [==============================] - 0s 8ms/step - loss: 6.9541 - mean_absolute_error: 6.9541\n",
            "Epoch 23/100\n",
            "1/1 [==============================] - 0s 8ms/step - loss: 6.9306 - mean_absolute_error: 6.9306\n",
            "Epoch 24/100\n",
            "1/1 [==============================] - 0s 9ms/step - loss: 6.9071 - mean_absolute_error: 6.9071\n",
            "Epoch 25/100\n",
            "1/1 [==============================] - 0s 10ms/step - loss: 6.8834 - mean_absolute_error: 6.8834\n",
            "Epoch 26/100\n",
            "1/1 [==============================] - 0s 8ms/step - loss: 6.8596 - mean_absolute_error: 6.8596\n",
            "Epoch 27/100\n",
            "1/1 [==============================] - 0s 9ms/step - loss: 6.8358 - mean_absolute_error: 6.8358\n",
            "Epoch 28/100\n",
            "1/1 [==============================] - 0s 10ms/step - loss: 6.8118 - mean_absolute_error: 6.8118\n",
            "Epoch 29/100\n",
            "1/1 [==============================] - 0s 10ms/step - loss: 6.7877 - mean_absolute_error: 6.7877\n",
            "Epoch 30/100\n",
            "1/1 [==============================] - 0s 11ms/step - loss: 6.7635 - mean_absolute_error: 6.7635\n",
            "Epoch 31/100\n",
            "1/1 [==============================] - 0s 9ms/step - loss: 6.7392 - mean_absolute_error: 6.7392\n",
            "Epoch 32/100\n",
            "1/1 [==============================] - 0s 8ms/step - loss: 6.7148 - mean_absolute_error: 6.7148\n",
            "Epoch 33/100\n",
            "1/1 [==============================] - 0s 8ms/step - loss: 6.6902 - mean_absolute_error: 6.6902\n",
            "Epoch 34/100\n",
            "1/1 [==============================] - 0s 8ms/step - loss: 6.6655 - mean_absolute_error: 6.6655\n",
            "Epoch 35/100\n",
            "1/1 [==============================] - 0s 10ms/step - loss: 6.6406 - mean_absolute_error: 6.6406\n",
            "Epoch 36/100\n",
            "1/1 [==============================] - 0s 8ms/step - loss: 6.6156 - mean_absolute_error: 6.6156\n",
            "Epoch 37/100\n",
            "1/1 [==============================] - 0s 8ms/step - loss: 6.5905 - mean_absolute_error: 6.5905\n",
            "Epoch 38/100\n",
            "1/1 [==============================] - 0s 8ms/step - loss: 6.5652 - mean_absolute_error: 6.5652\n",
            "Epoch 39/100\n",
            "1/1 [==============================] - 0s 9ms/step - loss: 6.5397 - mean_absolute_error: 6.5397\n",
            "Epoch 40/100\n",
            "1/1 [==============================] - 0s 8ms/step - loss: 6.5141 - mean_absolute_error: 6.5141\n",
            "Epoch 41/100\n",
            "1/1 [==============================] - 0s 8ms/step - loss: 6.4883 - mean_absolute_error: 6.4883\n",
            "Epoch 42/100\n",
            "1/1 [==============================] - 0s 8ms/step - loss: 6.4627 - mean_absolute_error: 6.4627\n",
            "Epoch 43/100\n",
            "1/1 [==============================] - 0s 8ms/step - loss: 6.4559 - mean_absolute_error: 6.4559\n",
            "Epoch 44/100\n",
            "1/1 [==============================] - 0s 8ms/step - loss: 6.4302 - mean_absolute_error: 6.4302\n",
            "Epoch 45/100\n",
            "1/1 [==============================] - 0s 8ms/step - loss: 6.4044 - mean_absolute_error: 6.4044\n",
            "Epoch 46/100\n",
            "1/1 [==============================] - 0s 8ms/step - loss: 6.3783 - mean_absolute_error: 6.3783\n",
            "Epoch 47/100\n",
            "1/1 [==============================] - 0s 10ms/step - loss: 6.3521 - mean_absolute_error: 6.3521\n",
            "Epoch 48/100\n",
            "1/1 [==============================] - 0s 9ms/step - loss: 6.3256 - mean_absolute_error: 6.3256\n",
            "Epoch 49/100\n",
            "1/1 [==============================] - 0s 9ms/step - loss: 6.2990 - mean_absolute_error: 6.2990\n",
            "Epoch 50/100\n",
            "1/1 [==============================] - 0s 8ms/step - loss: 6.2722 - mean_absolute_error: 6.2722\n",
            "Epoch 51/100\n",
            "1/1 [==============================] - 0s 6ms/step - loss: 6.2451 - mean_absolute_error: 6.2451\n",
            "Epoch 52/100\n",
            "1/1 [==============================] - 0s 9ms/step - loss: 6.2179 - mean_absolute_error: 6.2179\n",
            "Epoch 53/100\n",
            "1/1 [==============================] - 0s 12ms/step - loss: 6.1904 - mean_absolute_error: 6.1904\n",
            "Epoch 54/100\n",
            "1/1 [==============================] - 0s 10ms/step - loss: 6.1627 - mean_absolute_error: 6.1627\n",
            "Epoch 55/100\n",
            "1/1 [==============================] - 0s 10ms/step - loss: 6.1348 - mean_absolute_error: 6.1348\n",
            "Epoch 56/100\n",
            "1/1 [==============================] - 0s 8ms/step - loss: 6.1067 - mean_absolute_error: 6.1067\n",
            "Epoch 57/100\n",
            "1/1 [==============================] - 0s 8ms/step - loss: 6.0783 - mean_absolute_error: 6.0783\n",
            "Epoch 58/100\n",
            "1/1 [==============================] - 0s 8ms/step - loss: 6.0496 - mean_absolute_error: 6.0496\n",
            "Epoch 59/100\n",
            "1/1 [==============================] - 0s 8ms/step - loss: 6.0208 - mean_absolute_error: 6.0208\n",
            "Epoch 60/100\n",
            "1/1 [==============================] - 0s 8ms/step - loss: 5.9916 - mean_absolute_error: 5.9916\n",
            "Epoch 61/100\n",
            "1/1 [==============================] - 0s 11ms/step - loss: 5.9623 - mean_absolute_error: 5.9623\n",
            "Epoch 62/100\n",
            "1/1 [==============================] - 0s 12ms/step - loss: 5.9376 - mean_absolute_error: 5.9376\n",
            "Epoch 63/100\n",
            "1/1 [==============================] - 0s 11ms/step - loss: 5.9281 - mean_absolute_error: 5.9281\n",
            "Epoch 64/100\n",
            "1/1 [==============================] - 0s 11ms/step - loss: 5.8986 - mean_absolute_error: 5.8986\n",
            "Epoch 65/100\n",
            "1/1 [==============================] - 0s 8ms/step - loss: 5.8687 - mean_absolute_error: 5.8687\n",
            "Epoch 66/100\n",
            "1/1 [==============================] - 0s 8ms/step - loss: 5.8386 - mean_absolute_error: 5.8386\n",
            "Epoch 67/100\n",
            "1/1 [==============================] - 0s 8ms/step - loss: 5.8082 - mean_absolute_error: 5.8082\n",
            "Epoch 68/100\n",
            "1/1 [==============================] - 0s 8ms/step - loss: 5.7775 - mean_absolute_error: 5.7775\n",
            "Epoch 69/100\n",
            "1/1 [==============================] - 0s 8ms/step - loss: 5.7465 - mean_absolute_error: 5.7465\n",
            "Epoch 70/100\n",
            "1/1 [==============================] - 0s 8ms/step - loss: 5.7152 - mean_absolute_error: 5.7152\n",
            "Epoch 71/100\n",
            "1/1 [==============================] - 0s 8ms/step - loss: 5.6836 - mean_absolute_error: 5.6836\n",
            "Epoch 72/100\n",
            "1/1 [==============================] - 0s 8ms/step - loss: 5.6517 - mean_absolute_error: 5.6517\n",
            "Epoch 73/100\n",
            "1/1 [==============================] - 0s 13ms/step - loss: 5.6195 - mean_absolute_error: 5.6195\n",
            "Epoch 74/100\n",
            "1/1 [==============================] - 0s 12ms/step - loss: 5.5869 - mean_absolute_error: 5.5869\n",
            "Epoch 75/100\n",
            "1/1 [==============================] - 0s 8ms/step - loss: 5.5540 - mean_absolute_error: 5.5540\n",
            "Epoch 76/100\n",
            "1/1 [==============================] - 0s 14ms/step - loss: 5.5208 - mean_absolute_error: 5.5208\n",
            "Epoch 77/100\n",
            "1/1 [==============================] - 0s 11ms/step - loss: 5.4873 - mean_absolute_error: 5.4873\n",
            "Epoch 78/100\n",
            "1/1 [==============================] - 0s 12ms/step - loss: 5.4534 - mean_absolute_error: 5.4534\n",
            "Epoch 79/100\n",
            "1/1 [==============================] - 0s 12ms/step - loss: 5.4333 - mean_absolute_error: 5.4333\n",
            "Epoch 80/100\n",
            "1/1 [==============================] - 0s 10ms/step - loss: 5.4662 - mean_absolute_error: 5.4662\n",
            "Epoch 81/100\n",
            "1/1 [==============================] - 0s 8ms/step - loss: 5.5398 - mean_absolute_error: 5.5398\n",
            "Epoch 82/100\n",
            "1/1 [==============================] - 0s 9ms/step - loss: 5.3421 - mean_absolute_error: 5.3421\n",
            "Epoch 83/100\n",
            "1/1 [==============================] - 0s 11ms/step - loss: 5.3069 - mean_absolute_error: 5.3069\n",
            "Epoch 84/100\n",
            "1/1 [==============================] - 0s 8ms/step - loss: 5.2714 - mean_absolute_error: 5.2714\n",
            "Epoch 85/100\n",
            "1/1 [==============================] - 0s 11ms/step - loss: 5.2354 - mean_absolute_error: 5.2354\n",
            "Epoch 86/100\n",
            "1/1 [==============================] - 0s 12ms/step - loss: 5.1990 - mean_absolute_error: 5.1990\n",
            "Epoch 87/100\n",
            "1/1 [==============================] - 0s 8ms/step - loss: 5.1623 - mean_absolute_error: 5.1623\n",
            "Epoch 88/100\n",
            "1/1 [==============================] - 0s 8ms/step - loss: 5.1251 - mean_absolute_error: 5.1251\n",
            "Epoch 89/100\n",
            "1/1 [==============================] - 0s 9ms/step - loss: 5.0875 - mean_absolute_error: 5.0875\n",
            "Epoch 90/100\n",
            "1/1 [==============================] - 0s 8ms/step - loss: 5.0495 - mean_absolute_error: 5.0495\n",
            "Epoch 91/100\n",
            "1/1 [==============================] - 0s 10ms/step - loss: 5.0389 - mean_absolute_error: 5.0389\n",
            "Epoch 92/100\n",
            "1/1 [==============================] - 0s 9ms/step - loss: 5.1011 - mean_absolute_error: 5.1011\n",
            "Epoch 93/100\n",
            "1/1 [==============================] - 0s 7ms/step - loss: 5.1496 - mean_absolute_error: 5.1496\n",
            "Epoch 94/100\n",
            "1/1 [==============================] - 0s 8ms/step - loss: 4.9244 - mean_absolute_error: 4.9244\n",
            "Epoch 95/100\n",
            "1/1 [==============================] - 0s 7ms/step - loss: 4.8847 - mean_absolute_error: 4.8847\n",
            "Epoch 96/100\n",
            "1/1 [==============================] - 0s 7ms/step - loss: 4.8446 - mean_absolute_error: 4.8446\n",
            "Epoch 97/100\n",
            "1/1 [==============================] - 0s 7ms/step - loss: 4.8040 - mean_absolute_error: 4.8040\n",
            "Epoch 98/100\n",
            "1/1 [==============================] - 0s 8ms/step - loss: 4.7629 - mean_absolute_error: 4.7629\n",
            "Epoch 99/100\n",
            "1/1 [==============================] - 0s 7ms/step - loss: 4.7214 - mean_absolute_error: 4.7214\n",
            "Epoch 100/100\n",
            "1/1 [==============================] - 0s 7ms/step - loss: 4.6793 - mean_absolute_error: 4.6793\n"
          ]
        },
        {
          "output_type": "execute_result",
          "data": {
            "text/plain": [
              "<keras.callbacks.History at 0x7fafe154b970>"
            ]
          },
          "metadata": {},
          "execution_count": 18
        }
      ]
    },
    {
      "cell_type": "code",
      "source": [
        "model = tf.keras.Sequential([\n",
        "    tf.keras.layers.Dense(1)\n",
        "])\n",
        "\n",
        "model.compile(loss=tf.keras.metrics.mae,\n",
        "              optimizer=tf.keras.optimizers.Adam(lr=0.05),\n",
        "              metrics=([\"mae\"]))\n",
        "\n",
        "model.fit(tf.expand_dims(X, axis=-1), y, epochs=100)"
      ],
      "metadata": {
        "colab": {
          "base_uri": "https://localhost:8080/"
        },
        "id": "JSVhtE8Ye4yH",
        "outputId": "ee66c149-7929-402c-b99a-a4975a7be252"
      },
      "execution_count": 19,
      "outputs": [
        {
          "output_type": "stream",
          "name": "stderr",
          "text": [
            "WARNING:absl:`lr` is deprecated in Keras optimizer, please use `learning_rate` or use the legacy optimizer, e.g.,tf.keras.optimizers.legacy.Adam.\n"
          ]
        },
        {
          "output_type": "stream",
          "name": "stdout",
          "text": [
            "Epoch 1/100\n",
            "1/1 [==============================] - 1s 542ms/step - loss: 11.8565 - mae: 11.8565\n",
            "Epoch 2/100\n",
            "1/1 [==============================] - 0s 9ms/step - loss: 11.8520 - mae: 11.8520\n",
            "Epoch 3/100\n",
            "1/1 [==============================] - 0s 9ms/step - loss: 11.8475 - mae: 11.8475\n",
            "Epoch 4/100\n",
            "1/1 [==============================] - 0s 8ms/step - loss: 11.8430 - mae: 11.8430\n",
            "Epoch 5/100\n",
            "1/1 [==============================] - 0s 8ms/step - loss: 11.8385 - mae: 11.8385\n",
            "Epoch 6/100\n",
            "1/1 [==============================] - 0s 8ms/step - loss: 11.8340 - mae: 11.8340\n",
            "Epoch 7/100\n",
            "1/1 [==============================] - 0s 8ms/step - loss: 11.8295 - mae: 11.8295\n",
            "Epoch 8/100\n",
            "1/1 [==============================] - 0s 8ms/step - loss: 11.8250 - mae: 11.8250\n",
            "Epoch 9/100\n",
            "1/1 [==============================] - 0s 8ms/step - loss: 11.8205 - mae: 11.8205\n",
            "Epoch 10/100\n",
            "1/1 [==============================] - 0s 8ms/step - loss: 11.8160 - mae: 11.8160\n",
            "Epoch 11/100\n",
            "1/1 [==============================] - 0s 8ms/step - loss: 11.8115 - mae: 11.8115\n",
            "Epoch 12/100\n",
            "1/1 [==============================] - 0s 8ms/step - loss: 11.8070 - mae: 11.8070\n",
            "Epoch 13/100\n",
            "1/1 [==============================] - 0s 8ms/step - loss: 11.8025 - mae: 11.8025\n",
            "Epoch 14/100\n",
            "1/1 [==============================] - 0s 8ms/step - loss: 11.7980 - mae: 11.7980\n",
            "Epoch 15/100\n",
            "1/1 [==============================] - 0s 7ms/step - loss: 11.7935 - mae: 11.7935\n",
            "Epoch 16/100\n",
            "1/1 [==============================] - 0s 8ms/step - loss: 11.7890 - mae: 11.7890\n",
            "Epoch 17/100\n",
            "1/1 [==============================] - 0s 8ms/step - loss: 11.7845 - mae: 11.7845\n",
            "Epoch 18/100\n",
            "1/1 [==============================] - 0s 8ms/step - loss: 11.7800 - mae: 11.7800\n",
            "Epoch 19/100\n",
            "1/1 [==============================] - 0s 8ms/step - loss: 11.7755 - mae: 11.7755\n",
            "Epoch 20/100\n",
            "1/1 [==============================] - 0s 8ms/step - loss: 11.7710 - mae: 11.7710\n",
            "Epoch 21/100\n",
            "1/1 [==============================] - 0s 8ms/step - loss: 11.7665 - mae: 11.7665\n",
            "Epoch 22/100\n",
            "1/1 [==============================] - 0s 8ms/step - loss: 11.7620 - mae: 11.7620\n",
            "Epoch 23/100\n",
            "1/1 [==============================] - 0s 8ms/step - loss: 11.7575 - mae: 11.7575\n",
            "Epoch 24/100\n",
            "1/1 [==============================] - 0s 8ms/step - loss: 11.7530 - mae: 11.7530\n",
            "Epoch 25/100\n",
            "1/1 [==============================] - 0s 8ms/step - loss: 11.7485 - mae: 11.7485\n",
            "Epoch 26/100\n",
            "1/1 [==============================] - 0s 8ms/step - loss: 11.7440 - mae: 11.7440\n",
            "Epoch 27/100\n",
            "1/1 [==============================] - 0s 8ms/step - loss: 11.7395 - mae: 11.7395\n",
            "Epoch 28/100\n",
            "1/1 [==============================] - 0s 8ms/step - loss: 11.7350 - mae: 11.7350\n",
            "Epoch 29/100\n",
            "1/1 [==============================] - 0s 8ms/step - loss: 11.7305 - mae: 11.7305\n",
            "Epoch 30/100\n",
            "1/1 [==============================] - 0s 8ms/step - loss: 11.7260 - mae: 11.7260\n",
            "Epoch 31/100\n",
            "1/1 [==============================] - 0s 8ms/step - loss: 11.7215 - mae: 11.7215\n",
            "Epoch 32/100\n",
            "1/1 [==============================] - 0s 8ms/step - loss: 11.7170 - mae: 11.7170\n",
            "Epoch 33/100\n",
            "1/1 [==============================] - 0s 8ms/step - loss: 11.7125 - mae: 11.7125\n",
            "Epoch 34/100\n",
            "1/1 [==============================] - 0s 8ms/step - loss: 11.7080 - mae: 11.7080\n",
            "Epoch 35/100\n",
            "1/1 [==============================] - 0s 8ms/step - loss: 11.7035 - mae: 11.7035\n",
            "Epoch 36/100\n",
            "1/1 [==============================] - 0s 10ms/step - loss: 11.6990 - mae: 11.6990\n",
            "Epoch 37/100\n",
            "1/1 [==============================] - 0s 9ms/step - loss: 11.6945 - mae: 11.6945\n",
            "Epoch 38/100\n",
            "1/1 [==============================] - 0s 8ms/step - loss: 11.6900 - mae: 11.6900\n",
            "Epoch 39/100\n",
            "1/1 [==============================] - 0s 8ms/step - loss: 11.6855 - mae: 11.6855\n",
            "Epoch 40/100\n",
            "1/1 [==============================] - 0s 8ms/step - loss: 11.6810 - mae: 11.6810\n",
            "Epoch 41/100\n",
            "1/1 [==============================] - 0s 9ms/step - loss: 11.6765 - mae: 11.6765\n",
            "Epoch 42/100\n",
            "1/1 [==============================] - 0s 8ms/step - loss: 11.6720 - mae: 11.6720\n",
            "Epoch 43/100\n",
            "1/1 [==============================] - 0s 8ms/step - loss: 11.6675 - mae: 11.6675\n",
            "Epoch 44/100\n",
            "1/1 [==============================] - 0s 8ms/step - loss: 11.6630 - mae: 11.6630\n",
            "Epoch 45/100\n",
            "1/1 [==============================] - 0s 8ms/step - loss: 11.6585 - mae: 11.6585\n",
            "Epoch 46/100\n",
            "1/1 [==============================] - 0s 8ms/step - loss: 11.6540 - mae: 11.6540\n",
            "Epoch 47/100\n",
            "1/1 [==============================] - 0s 10ms/step - loss: 11.6495 - mae: 11.6495\n",
            "Epoch 48/100\n",
            "1/1 [==============================] - 0s 12ms/step - loss: 11.6450 - mae: 11.6450\n",
            "Epoch 49/100\n",
            "1/1 [==============================] - 0s 8ms/step - loss: 11.6405 - mae: 11.6405\n",
            "Epoch 50/100\n",
            "1/1 [==============================] - 0s 8ms/step - loss: 11.6360 - mae: 11.6360\n",
            "Epoch 51/100\n",
            "1/1 [==============================] - 0s 8ms/step - loss: 11.6315 - mae: 11.6315\n",
            "Epoch 52/100\n",
            "1/1 [==============================] - 0s 8ms/step - loss: 11.6270 - mae: 11.6270\n",
            "Epoch 53/100\n",
            "1/1 [==============================] - 0s 7ms/step - loss: 11.6225 - mae: 11.6225\n",
            "Epoch 54/100\n",
            "1/1 [==============================] - 0s 8ms/step - loss: 11.6180 - mae: 11.6180\n",
            "Epoch 55/100\n",
            "1/1 [==============================] - 0s 8ms/step - loss: 11.6135 - mae: 11.6135\n",
            "Epoch 56/100\n",
            "1/1 [==============================] - 0s 8ms/step - loss: 11.6090 - mae: 11.6090\n",
            "Epoch 57/100\n",
            "1/1 [==============================] - 0s 8ms/step - loss: 11.6045 - mae: 11.6045\n",
            "Epoch 58/100\n",
            "1/1 [==============================] - 0s 8ms/step - loss: 11.6000 - mae: 11.6000\n",
            "Epoch 59/100\n",
            "1/1 [==============================] - 0s 8ms/step - loss: 11.5955 - mae: 11.5955\n",
            "Epoch 60/100\n",
            "1/1 [==============================] - 0s 8ms/step - loss: 11.5910 - mae: 11.5910\n",
            "Epoch 61/100\n",
            "1/1 [==============================] - 0s 8ms/step - loss: 11.5865 - mae: 11.5865\n",
            "Epoch 62/100\n",
            "1/1 [==============================] - 0s 9ms/step - loss: 11.5820 - mae: 11.5820\n",
            "Epoch 63/100\n",
            "1/1 [==============================] - 0s 11ms/step - loss: 11.5775 - mae: 11.5775\n",
            "Epoch 64/100\n",
            "1/1 [==============================] - 0s 8ms/step - loss: 11.5730 - mae: 11.5730\n",
            "Epoch 65/100\n",
            "1/1 [==============================] - 0s 8ms/step - loss: 11.5685 - mae: 11.5685\n",
            "Epoch 66/100\n",
            "1/1 [==============================] - 0s 20ms/step - loss: 11.5640 - mae: 11.5640\n",
            "Epoch 67/100\n",
            "1/1 [==============================] - 0s 12ms/step - loss: 11.5595 - mae: 11.5595\n",
            "Epoch 68/100\n",
            "1/1 [==============================] - 0s 11ms/step - loss: 11.5550 - mae: 11.5550\n",
            "Epoch 69/100\n",
            "1/1 [==============================] - 0s 8ms/step - loss: 11.5505 - mae: 11.5505\n",
            "Epoch 70/100\n",
            "1/1 [==============================] - 0s 9ms/step - loss: 11.5460 - mae: 11.5460\n",
            "Epoch 71/100\n",
            "1/1 [==============================] - 0s 8ms/step - loss: 11.5415 - mae: 11.5415\n",
            "Epoch 72/100\n",
            "1/1 [==============================] - 0s 11ms/step - loss: 11.5370 - mae: 11.5370\n",
            "Epoch 73/100\n",
            "1/1 [==============================] - 0s 8ms/step - loss: 11.5325 - mae: 11.5325\n",
            "Epoch 74/100\n",
            "1/1 [==============================] - 0s 8ms/step - loss: 11.5280 - mae: 11.5280\n",
            "Epoch 75/100\n",
            "1/1 [==============================] - 0s 8ms/step - loss: 11.5235 - mae: 11.5235\n",
            "Epoch 76/100\n",
            "1/1 [==============================] - 0s 8ms/step - loss: 11.5190 - mae: 11.5190\n",
            "Epoch 77/100\n",
            "1/1 [==============================] - 0s 8ms/step - loss: 11.5145 - mae: 11.5145\n",
            "Epoch 78/100\n",
            "1/1 [==============================] - 0s 8ms/step - loss: 11.5100 - mae: 11.5100\n",
            "Epoch 79/100\n",
            "1/1 [==============================] - 0s 8ms/step - loss: 11.5055 - mae: 11.5055\n",
            "Epoch 80/100\n",
            "1/1 [==============================] - 0s 8ms/step - loss: 11.5010 - mae: 11.5010\n",
            "Epoch 81/100\n",
            "1/1 [==============================] - 0s 8ms/step - loss: 11.4965 - mae: 11.4965\n",
            "Epoch 82/100\n",
            "1/1 [==============================] - 0s 8ms/step - loss: 11.4920 - mae: 11.4920\n",
            "Epoch 83/100\n",
            "1/1 [==============================] - 0s 8ms/step - loss: 11.4875 - mae: 11.4875\n",
            "Epoch 84/100\n",
            "1/1 [==============================] - 0s 10ms/step - loss: 11.4830 - mae: 11.4830\n",
            "Epoch 85/100\n",
            "1/1 [==============================] - 0s 9ms/step - loss: 11.4785 - mae: 11.4785\n",
            "Epoch 86/100\n",
            "1/1 [==============================] - 0s 8ms/step - loss: 11.4740 - mae: 11.4740\n",
            "Epoch 87/100\n",
            "1/1 [==============================] - 0s 8ms/step - loss: 11.4695 - mae: 11.4695\n",
            "Epoch 88/100\n",
            "1/1 [==============================] - 0s 8ms/step - loss: 11.4650 - mae: 11.4650\n",
            "Epoch 89/100\n",
            "1/1 [==============================] - 0s 8ms/step - loss: 11.4605 - mae: 11.4605\n",
            "Epoch 90/100\n",
            "1/1 [==============================] - 0s 9ms/step - loss: 11.4560 - mae: 11.4560\n",
            "Epoch 91/100\n",
            "1/1 [==============================] - 0s 7ms/step - loss: 11.4515 - mae: 11.4515\n",
            "Epoch 92/100\n",
            "1/1 [==============================] - 0s 7ms/step - loss: 11.4470 - mae: 11.4470\n",
            "Epoch 93/100\n",
            "1/1 [==============================] - 0s 8ms/step - loss: 11.4425 - mae: 11.4425\n",
            "Epoch 94/100\n",
            "1/1 [==============================] - 0s 8ms/step - loss: 11.4380 - mae: 11.4380\n",
            "Epoch 95/100\n",
            "1/1 [==============================] - 0s 8ms/step - loss: 11.4335 - mae: 11.4335\n",
            "Epoch 96/100\n",
            "1/1 [==============================] - 0s 8ms/step - loss: 11.4290 - mae: 11.4290\n",
            "Epoch 97/100\n",
            "1/1 [==============================] - 0s 8ms/step - loss: 11.4245 - mae: 11.4245\n",
            "Epoch 98/100\n",
            "1/1 [==============================] - 0s 8ms/step - loss: 11.4200 - mae: 11.4200\n",
            "Epoch 99/100\n",
            "1/1 [==============================] - 0s 7ms/step - loss: 11.4155 - mae: 11.4155\n",
            "Epoch 100/100\n",
            "1/1 [==============================] - 0s 8ms/step - loss: 11.4110 - mae: 11.4110\n"
          ]
        },
        {
          "output_type": "execute_result",
          "data": {
            "text/plain": [
              "<keras.callbacks.History at 0x7fafe0f8ef10>"
            ]
          },
          "metadata": {},
          "execution_count": 19
        }
      ]
    },
    {
      "cell_type": "code",
      "source": [
        "model.predict([17])"
      ],
      "metadata": {
        "colab": {
          "base_uri": "https://localhost:8080/"
        },
        "id": "Jax4UJbsiEUE",
        "outputId": "bfd77ec2-c2f7-4b59-fb2d-36681e5286bb"
      },
      "execution_count": 20,
      "outputs": [
        {
          "output_type": "stream",
          "name": "stdout",
          "text": [
            "1/1 [==============================] - 0s 61ms/step\n"
          ]
        },
        {
          "output_type": "execute_result",
          "data": {
            "text/plain": [
              "array([[9.782721]], dtype=float32)"
            ]
          },
          "metadata": {},
          "execution_count": 20
        }
      ]
    },
    {
      "cell_type": "code",
      "source": [
        "model = tf.keras.Sequential([\n",
        "    tf.keras.layers.Dense(50, activation=None),\n",
        "    tf.keras.layers.Dense(1)\n",
        "])\n",
        "\n",
        "model.compile(loss=\"mae\",\n",
        "              optimizer=tf.keras.optimizers.Adam(lr=0.01),\n",
        "              metrics=[\"mae\"])\n",
        "\n",
        "model.fit(tf.expand_dims(X, axis=-1), y, epochs=100)"
      ],
      "metadata": {
        "colab": {
          "base_uri": "https://localhost:8080/"
        },
        "id": "yibi-Co4i1bu",
        "outputId": "b52628f5-933f-49f4-fb02-cc38bb8efe8f"
      },
      "execution_count": 21,
      "outputs": [
        {
          "output_type": "stream",
          "name": "stderr",
          "text": [
            "WARNING:absl:`lr` is deprecated in Keras optimizer, please use `learning_rate` or use the legacy optimizer, e.g.,tf.keras.optimizers.legacy.Adam.\n"
          ]
        },
        {
          "output_type": "stream",
          "name": "stdout",
          "text": [
            "Epoch 1/100\n",
            "1/1 [==============================] - 1s 942ms/step - loss: 13.9376 - mae: 13.9376\n",
            "Epoch 2/100\n",
            "1/1 [==============================] - 0s 50ms/step - loss: 13.8719 - mae: 13.8719\n",
            "Epoch 3/100\n",
            "1/1 [==============================] - 0s 23ms/step - loss: 13.8062 - mae: 13.8062\n",
            "Epoch 4/100\n",
            "1/1 [==============================] - 0s 21ms/step - loss: 13.7407 - mae: 13.7407\n",
            "Epoch 5/100\n",
            "1/1 [==============================] - 0s 14ms/step - loss: 13.6752 - mae: 13.6752\n",
            "Epoch 6/100\n",
            "1/1 [==============================] - 0s 25ms/step - loss: 13.6097 - mae: 13.6097\n",
            "Epoch 7/100\n",
            "1/1 [==============================] - 0s 19ms/step - loss: 13.5444 - mae: 13.5444\n",
            "Epoch 8/100\n",
            "1/1 [==============================] - 0s 10ms/step - loss: 13.4791 - mae: 13.4791\n",
            "Epoch 9/100\n",
            "1/1 [==============================] - 0s 12ms/step - loss: 13.4139 - mae: 13.4139\n",
            "Epoch 10/100\n",
            "1/1 [==============================] - 0s 17ms/step - loss: 13.3487 - mae: 13.3487\n",
            "Epoch 11/100\n",
            "1/1 [==============================] - 0s 18ms/step - loss: 13.2837 - mae: 13.2837\n",
            "Epoch 12/100\n",
            "1/1 [==============================] - 0s 13ms/step - loss: 13.2186 - mae: 13.2186\n",
            "Epoch 13/100\n",
            "1/1 [==============================] - 0s 11ms/step - loss: 13.1537 - mae: 13.1537\n",
            "Epoch 14/100\n",
            "1/1 [==============================] - 0s 11ms/step - loss: 13.0887 - mae: 13.0887\n",
            "Epoch 15/100\n",
            "1/1 [==============================] - 0s 11ms/step - loss: 13.0238 - mae: 13.0238\n",
            "Epoch 16/100\n",
            "1/1 [==============================] - 0s 11ms/step - loss: 12.9590 - mae: 12.9590\n",
            "Epoch 17/100\n",
            "1/1 [==============================] - 0s 10ms/step - loss: 12.8941 - mae: 12.8941\n",
            "Epoch 18/100\n",
            "1/1 [==============================] - 0s 11ms/step - loss: 12.8293 - mae: 12.8293\n",
            "Epoch 19/100\n",
            "1/1 [==============================] - 0s 16ms/step - loss: 12.7644 - mae: 12.7644\n",
            "Epoch 20/100\n",
            "1/1 [==============================] - 0s 16ms/step - loss: 12.6995 - mae: 12.6995\n",
            "Epoch 21/100\n",
            "1/1 [==============================] - 0s 9ms/step - loss: 12.6346 - mae: 12.6346\n",
            "Epoch 22/100\n",
            "1/1 [==============================] - 0s 12ms/step - loss: 12.5697 - mae: 12.5697\n",
            "Epoch 23/100\n",
            "1/1 [==============================] - 0s 16ms/step - loss: 12.5047 - mae: 12.5047\n",
            "Epoch 24/100\n",
            "1/1 [==============================] - 0s 19ms/step - loss: 12.4397 - mae: 12.4397\n",
            "Epoch 25/100\n",
            "1/1 [==============================] - 0s 10ms/step - loss: 12.3747 - mae: 12.3747\n",
            "Epoch 26/100\n",
            "1/1 [==============================] - 0s 13ms/step - loss: 12.3096 - mae: 12.3096\n",
            "Epoch 27/100\n",
            "1/1 [==============================] - 0s 20ms/step - loss: 12.2444 - mae: 12.2444\n",
            "Epoch 28/100\n",
            "1/1 [==============================] - 0s 10ms/step - loss: 12.1791 - mae: 12.1791\n",
            "Epoch 29/100\n",
            "1/1 [==============================] - 0s 11ms/step - loss: 12.1137 - mae: 12.1137\n",
            "Epoch 30/100\n",
            "1/1 [==============================] - 0s 9ms/step - loss: 12.0483 - mae: 12.0483\n",
            "Epoch 31/100\n",
            "1/1 [==============================] - 0s 19ms/step - loss: 11.9827 - mae: 11.9827\n",
            "Epoch 32/100\n",
            "1/1 [==============================] - 0s 13ms/step - loss: 11.9170 - mae: 11.9170\n",
            "Epoch 33/100\n",
            "1/1 [==============================] - 0s 36ms/step - loss: 11.8512 - mae: 11.8512\n",
            "Epoch 34/100\n",
            "1/1 [==============================] - 0s 12ms/step - loss: 11.7853 - mae: 11.7853\n",
            "Epoch 35/100\n",
            "1/1 [==============================] - 0s 19ms/step - loss: 11.7192 - mae: 11.7192\n",
            "Epoch 36/100\n",
            "1/1 [==============================] - 0s 20ms/step - loss: 11.6530 - mae: 11.6530\n",
            "Epoch 37/100\n",
            "1/1 [==============================] - 0s 11ms/step - loss: 11.5867 - mae: 11.5867\n",
            "Epoch 38/100\n",
            "1/1 [==============================] - 0s 20ms/step - loss: 11.5201 - mae: 11.5201\n",
            "Epoch 39/100\n",
            "1/1 [==============================] - 0s 12ms/step - loss: 11.4535 - mae: 11.4535\n",
            "Epoch 40/100\n",
            "1/1 [==============================] - 0s 12ms/step - loss: 11.3866 - mae: 11.3866\n",
            "Epoch 41/100\n",
            "1/1 [==============================] - 0s 13ms/step - loss: 11.3196 - mae: 11.3196\n",
            "Epoch 42/100\n",
            "1/1 [==============================] - 0s 19ms/step - loss: 11.2523 - mae: 11.2523\n",
            "Epoch 43/100\n",
            "1/1 [==============================] - 0s 11ms/step - loss: 11.1849 - mae: 11.1849\n",
            "Epoch 44/100\n",
            "1/1 [==============================] - 0s 11ms/step - loss: 11.1173 - mae: 11.1173\n",
            "Epoch 45/100\n",
            "1/1 [==============================] - 0s 11ms/step - loss: 11.0495 - mae: 11.0495\n",
            "Epoch 46/100\n",
            "1/1 [==============================] - 0s 12ms/step - loss: 10.9814 - mae: 10.9814\n",
            "Epoch 47/100\n",
            "1/1 [==============================] - 0s 18ms/step - loss: 10.9131 - mae: 10.9131\n",
            "Epoch 48/100\n",
            "1/1 [==============================] - 0s 15ms/step - loss: 10.8446 - mae: 10.8446\n",
            "Epoch 49/100\n",
            "1/1 [==============================] - 0s 21ms/step - loss: 10.7759 - mae: 10.7759\n",
            "Epoch 50/100\n",
            "1/1 [==============================] - 0s 12ms/step - loss: 10.7069 - mae: 10.7069\n",
            "Epoch 51/100\n",
            "1/1 [==============================] - 0s 12ms/step - loss: 10.6376 - mae: 10.6376\n",
            "Epoch 52/100\n",
            "1/1 [==============================] - 0s 13ms/step - loss: 10.5681 - mae: 10.5681\n",
            "Epoch 53/100\n",
            "1/1 [==============================] - 0s 12ms/step - loss: 10.4983 - mae: 10.4983\n",
            "Epoch 54/100\n",
            "1/1 [==============================] - 0s 12ms/step - loss: 10.4283 - mae: 10.4283\n",
            "Epoch 55/100\n",
            "1/1 [==============================] - 0s 11ms/step - loss: 10.3579 - mae: 10.3579\n",
            "Epoch 56/100\n",
            "1/1 [==============================] - 0s 10ms/step - loss: 10.2873 - mae: 10.2873\n",
            "Epoch 57/100\n",
            "1/1 [==============================] - 0s 12ms/step - loss: 10.2164 - mae: 10.2164\n",
            "Epoch 58/100\n",
            "1/1 [==============================] - 0s 11ms/step - loss: 10.1451 - mae: 10.1451\n",
            "Epoch 59/100\n",
            "1/1 [==============================] - 0s 11ms/step - loss: 10.0736 - mae: 10.0736\n",
            "Epoch 60/100\n",
            "1/1 [==============================] - 0s 11ms/step - loss: 10.0017 - mae: 10.0017\n",
            "Epoch 61/100\n",
            "1/1 [==============================] - 0s 11ms/step - loss: 9.9295 - mae: 9.9295\n",
            "Epoch 62/100\n",
            "1/1 [==============================] - 0s 16ms/step - loss: 9.8570 - mae: 9.8570\n",
            "Epoch 63/100\n",
            "1/1 [==============================] - 0s 10ms/step - loss: 9.7842 - mae: 9.7842\n",
            "Epoch 64/100\n",
            "1/1 [==============================] - 0s 10ms/step - loss: 9.7110 - mae: 9.7110\n",
            "Epoch 65/100\n",
            "1/1 [==============================] - 0s 14ms/step - loss: 9.6375 - mae: 9.6375\n",
            "Epoch 66/100\n",
            "1/1 [==============================] - 0s 12ms/step - loss: 9.5636 - mae: 9.5636\n",
            "Epoch 67/100\n",
            "1/1 [==============================] - 0s 12ms/step - loss: 9.4893 - mae: 9.4893\n",
            "Epoch 68/100\n",
            "1/1 [==============================] - 0s 9ms/step - loss: 9.4147 - mae: 9.4147\n",
            "Epoch 69/100\n",
            "1/1 [==============================] - 0s 9ms/step - loss: 9.3397 - mae: 9.3397\n",
            "Epoch 70/100\n",
            "1/1 [==============================] - 0s 11ms/step - loss: 9.2643 - mae: 9.2643\n",
            "Epoch 71/100\n",
            "1/1 [==============================] - 0s 9ms/step - loss: 9.1885 - mae: 9.1885\n",
            "Epoch 72/100\n",
            "1/1 [==============================] - 0s 9ms/step - loss: 9.1124 - mae: 9.1124\n",
            "Epoch 73/100\n",
            "1/1 [==============================] - 0s 13ms/step - loss: 9.0358 - mae: 9.0358\n",
            "Epoch 74/100\n",
            "1/1 [==============================] - 0s 11ms/step - loss: 8.9588 - mae: 8.9588\n",
            "Epoch 75/100\n",
            "1/1 [==============================] - 0s 18ms/step - loss: 8.8814 - mae: 8.8814\n",
            "Epoch 76/100\n",
            "1/1 [==============================] - 0s 12ms/step - loss: 8.8036 - mae: 8.8036\n",
            "Epoch 77/100\n",
            "1/1 [==============================] - 0s 9ms/step - loss: 8.7254 - mae: 8.7254\n",
            "Epoch 78/100\n",
            "1/1 [==============================] - 0s 33ms/step - loss: 8.6468 - mae: 8.6468\n",
            "Epoch 79/100\n",
            "1/1 [==============================] - 0s 14ms/step - loss: 8.5677 - mae: 8.5677\n",
            "Epoch 80/100\n",
            "1/1 [==============================] - 0s 10ms/step - loss: 8.4881 - mae: 8.4881\n",
            "Epoch 81/100\n",
            "1/1 [==============================] - 0s 9ms/step - loss: 8.4082 - mae: 8.4082\n",
            "Epoch 82/100\n",
            "1/1 [==============================] - 0s 13ms/step - loss: 8.3277 - mae: 8.3277\n",
            "Epoch 83/100\n",
            "1/1 [==============================] - 0s 16ms/step - loss: 8.2468 - mae: 8.2468\n",
            "Epoch 84/100\n",
            "1/1 [==============================] - 0s 13ms/step - loss: 8.1655 - mae: 8.1655\n",
            "Epoch 85/100\n",
            "1/1 [==============================] - 0s 12ms/step - loss: 8.0836 - mae: 8.0836\n",
            "Epoch 86/100\n",
            "1/1 [==============================] - 0s 15ms/step - loss: 8.0013 - mae: 8.0013\n",
            "Epoch 87/100\n",
            "1/1 [==============================] - 0s 15ms/step - loss: 7.9185 - mae: 7.9185\n",
            "Epoch 88/100\n",
            "1/1 [==============================] - 0s 10ms/step - loss: 7.8352 - mae: 7.8352\n",
            "Epoch 89/100\n",
            "1/1 [==============================] - 0s 17ms/step - loss: 7.7514 - mae: 7.7514\n",
            "Epoch 90/100\n",
            "1/1 [==============================] - 0s 14ms/step - loss: 7.6671 - mae: 7.6671\n",
            "Epoch 91/100\n",
            "1/1 [==============================] - 0s 21ms/step - loss: 7.5823 - mae: 7.5823\n",
            "Epoch 92/100\n",
            "1/1 [==============================] - 0s 18ms/step - loss: 7.4970 - mae: 7.4970\n",
            "Epoch 93/100\n",
            "1/1 [==============================] - 0s 10ms/step - loss: 7.4112 - mae: 7.4112\n",
            "Epoch 94/100\n",
            "1/1 [==============================] - 0s 9ms/step - loss: 7.3248 - mae: 7.3248\n",
            "Epoch 95/100\n",
            "1/1 [==============================] - 0s 20ms/step - loss: 7.2379 - mae: 7.2379\n",
            "Epoch 96/100\n",
            "1/1 [==============================] - 0s 25ms/step - loss: 7.1505 - mae: 7.1505\n",
            "Epoch 97/100\n",
            "1/1 [==============================] - 0s 13ms/step - loss: 7.0625 - mae: 7.0625\n",
            "Epoch 98/100\n",
            "1/1 [==============================] - 0s 12ms/step - loss: 6.9740 - mae: 6.9740\n",
            "Epoch 99/100\n",
            "1/1 [==============================] - 0s 11ms/step - loss: 6.8849 - mae: 6.8849\n",
            "Epoch 100/100\n",
            "1/1 [==============================] - 0s 10ms/step - loss: 6.7953 - mae: 6.7953\n"
          ]
        },
        {
          "output_type": "execute_result",
          "data": {
            "text/plain": [
              "<keras.callbacks.History at 0x7fafe0ece7c0>"
            ]
          },
          "metadata": {},
          "execution_count": 21
        }
      ]
    },
    {
      "cell_type": "code",
      "source": [
        "X, y"
      ],
      "metadata": {
        "colab": {
          "base_uri": "https://localhost:8080/"
        },
        "id": "F_bxCIBtkQAe",
        "outputId": "91d76d7e-02fc-466b-d466-a2b3b9d18c50"
      },
      "execution_count": 22,
      "outputs": [
        {
          "output_type": "execute_result",
          "data": {
            "text/plain": [
              "(<tf.Tensor: shape=(8,), dtype=float64, numpy=array([-7., -4., -1.,  2.,  5.,  8., 11., 14.])>,\n",
              " <tf.Tensor: shape=(8,), dtype=float64, numpy=array([ 3.,  6.,  9., 12., 15., 18., 21., 24.])>)"
            ]
          },
          "metadata": {},
          "execution_count": 22
        }
      ]
    },
    {
      "cell_type": "code",
      "source": [
        "model.predict([17])"
      ],
      "metadata": {
        "colab": {
          "base_uri": "https://localhost:8080/"
        },
        "id": "DRzyFBnikg1Z",
        "outputId": "0f74d993-2e82-46de-f1a4-2166eb27c5ee"
      },
      "execution_count": 23,
      "outputs": [
        {
          "output_type": "stream",
          "name": "stdout",
          "text": [
            "1/1 [==============================] - 0s 105ms/step\n"
          ]
        },
        {
          "output_type": "execute_result",
          "data": {
            "text/plain": [
              "array([[29.076273]], dtype=float32)"
            ]
          },
          "metadata": {},
          "execution_count": 23
        }
      ]
    },
    {
      "cell_type": "markdown",
      "source": [
        "Maybe the model above is overfitting."
      ],
      "metadata": {
        "id": "eDRpUbAykmaz"
      }
    },
    {
      "cell_type": "markdown",
      "source": [
        "## Evaluating a model"
      ],
      "metadata": {
        "id": "qrpX1cF6kynZ"
      }
    },
    {
      "cell_type": "code",
      "source": [
        "X = tf.range(-100, 100, 4)\n",
        "X"
      ],
      "metadata": {
        "colab": {
          "base_uri": "https://localhost:8080/"
        },
        "id": "78N5G-YknOye",
        "outputId": "daf82734-4a88-46de-df47-4a693d41f864"
      },
      "execution_count": 24,
      "outputs": [
        {
          "output_type": "execute_result",
          "data": {
            "text/plain": [
              "<tf.Tensor: shape=(50,), dtype=int32, numpy=\n",
              "array([-100,  -96,  -92,  -88,  -84,  -80,  -76,  -72,  -68,  -64,  -60,\n",
              "        -56,  -52,  -48,  -44,  -40,  -36,  -32,  -28,  -24,  -20,  -16,\n",
              "        -12,   -8,   -4,    0,    4,    8,   12,   16,   20,   24,   28,\n",
              "         32,   36,   40,   44,   48,   52,   56,   60,   64,   68,   72,\n",
              "         76,   80,   84,   88,   92,   96], dtype=int32)>"
            ]
          },
          "metadata": {},
          "execution_count": 24
        }
      ]
    },
    {
      "cell_type": "code",
      "source": [
        "y = X + 10\n",
        "y"
      ],
      "metadata": {
        "colab": {
          "base_uri": "https://localhost:8080/"
        },
        "id": "ogQtXw0RxYqW",
        "outputId": "d931fd96-46ba-4166-e39b-6067c82bdb2b"
      },
      "execution_count": 25,
      "outputs": [
        {
          "output_type": "execute_result",
          "data": {
            "text/plain": [
              "<tf.Tensor: shape=(50,), dtype=int32, numpy=\n",
              "array([-90, -86, -82, -78, -74, -70, -66, -62, -58, -54, -50, -46, -42,\n",
              "       -38, -34, -30, -26, -22, -18, -14, -10,  -6,  -2,   2,   6,  10,\n",
              "        14,  18,  22,  26,  30,  34,  38,  42,  46,  50,  54,  58,  62,\n",
              "        66,  70,  74,  78,  82,  86,  90,  94,  98, 102, 106], dtype=int32)>"
            ]
          },
          "metadata": {},
          "execution_count": 25
        }
      ]
    },
    {
      "cell_type": "code",
      "source": [
        "# Visualize\n",
        "import matplotlib.pyplot as plt\n",
        "\n",
        "plt.scatter(X, y)"
      ],
      "metadata": {
        "colab": {
          "base_uri": "https://localhost:8080/",
          "height": 447
        },
        "id": "Pl_GjRrkxe2a",
        "outputId": "0057f4ae-5ff7-440b-c1d2-6539a0efa80b"
      },
      "execution_count": 26,
      "outputs": [
        {
          "output_type": "execute_result",
          "data": {
            "text/plain": [
              "<matplotlib.collections.PathCollection at 0x7fafe0196760>"
            ]
          },
          "metadata": {},
          "execution_count": 26
        },
        {
          "output_type": "display_data",
          "data": {
            "text/plain": [
              "<Figure size 640x480 with 1 Axes>"
            ],
            "image/png": "[encoded data removed]"
          },
          "metadata": {}
        }
      ]
    },
    {
      "cell_type": "code",
      "source": [
        "from sklearn.model_selection import train_test_split\n",
        "\n",
        "X_train, X_test, y_train, y_test = train_test_split(np.array(X), np.array(y), test_size=0.2)\n",
        "X_train.shape, X_test.shape, y_train.shape, y_test.shape"
      ],
      "metadata": {
        "colab": {
          "base_uri": "https://localhost:8080/"
        },
        "id": "mhRJ2qmexpTO",
        "outputId": "dfc9087c-b7be-4a9e-ea40-9c7b3511085d"
      },
      "execution_count": 27,
      "outputs": [
        {
          "output_type": "execute_result",
          "data": {
            "text/plain": [
              "((40,), (10,), (40,), (10,))"
            ]
          },
          "metadata": {},
          "execution_count": 27
        }
      ]
    },
    {
      "cell_type": "code",
      "source": [
        "len(X)"
      ],
      "metadata": {
        "colab": {
          "base_uri": "https://localhost:8080/"
        },
        "id": "M6pUcDX1yKVO",
        "outputId": "e1189f4e-a475-46c9-ef97-fe9d00aa280f"
      },
      "execution_count": 28,
      "outputs": [
        {
          "output_type": "execute_result",
          "data": {
            "text/plain": [
              "50"
            ]
          },
          "metadata": {},
          "execution_count": 28
        }
      ]
    },
    {
      "cell_type": "code",
      "source": [
        "X_train = X[:40]\n",
        "y_train = y[:40]\n",
        "X_test = X[40:]\n",
        "y_test = y[40:]\n",
        "\n",
        "len(X_train), len(X_test)"
      ],
      "metadata": {
        "colab": {
          "base_uri": "https://localhost:8080/"
        },
        "id": "oBtCmU6zzmDo",
        "outputId": "c146479d-31ca-48ba-dacb-714321634dd9"
      },
      "execution_count": 29,
      "outputs": [
        {
          "output_type": "execute_result",
          "data": {
            "text/plain": [
              "(40, 10)"
            ]
          },
          "metadata": {},
          "execution_count": 29
        }
      ]
    },
    {
      "cell_type": "markdown",
      "source": [
        "### Visualizing the data"
      ],
      "metadata": {
        "id": "_hHIVvrK0D__"
      }
    },
    {
      "cell_type": "code",
      "source": [
        "plt.figure(figsize=(10, 7))\n",
        "plt.scatter(X_train, y_train, c=\"b\", label=\"Training data\")\n",
        "plt.scatter(X_test, y_test, c=\"g\", label=\"Testing data\")\n",
        "plt.legend();"
      ],
      "metadata": {
        "colab": {
          "base_uri": "https://localhost:8080/",
          "height": 493
        },
        "id": "EeVXKpLa0SGE",
        "outputId": "de335671-eefc-4818-b321-7fdb63b0ba2a"
      },
      "execution_count": 30,
      "outputs": [
        {
          "output_type": "display_data",
          "data": {
            "text/plain": [
              "<Figure size 1000x700 with 1 Axes>"
            ],
            "image/png": "[encoded data removed]"
          },
          "metadata": {}
        }
      ]
    },
    {
      "cell_type": "code",
      "source": [
        "model = tf.keras.Sequential([\n",
        "    tf.keras.layers.Dense(1)\n",
        "])\n",
        "\n",
        "model.compile(loss=tf.keras.losses.mae,\n",
        "              optimizer=tf.keras.optimizers.SGD(),\n",
        "              metrics=[\"mae\"])\n",
        "\n",
        "# model.fit(tf.expand_dims(X_train, axis=-1), y_train, epochs=100)"
      ],
      "metadata": {
        "id": "7IpFd0Ai0muY"
      },
      "execution_count": 31,
      "outputs": []
    },
    {
      "cell_type": "code",
      "source": [
        "tf.random.set_seed(42)\n",
        "\n",
        "model = tf.keras.Sequential([\n",
        "    tf.keras.layers.Dense(1, input_shape=[1])\n",
        "])\n",
        "\n",
        "model.compile(loss=tf.keras.losses.mae,\n",
        "              optimizer=tf.keras.optimizers.SGD(),\n",
        "              metrics=[\"mae\"])"
      ],
      "metadata": {
        "id": "zewsTEfl1bf8"
      },
      "execution_count": 32,
      "outputs": []
    },
    {
      "cell_type": "code",
      "source": [
        "model.summary()"
      ],
      "metadata": {
        "colab": {
          "base_uri": "https://localhost:8080/"
        },
        "id": "qxZVeTjd3bLY",
        "outputId": "4fc85ba8-206b-4bdf-c5cd-72709857674f"
      },
      "execution_count": 33,
      "outputs": [
        {
          "output_type": "stream",
          "name": "stdout",
          "text": [
            "Model: \"sequential_6\"\n",
            "_________________________________________________________________\n",
            " Layer (type)                Output Shape              Param #   \n",
            "=================================================================\n",
            " dense_8 (Dense)             (None, 1)                 2         \n",
            "                                                                 \n",
            "=================================================================\n",
            "Total params: 2\n",
            "Trainable params: 2\n",
            "Non-trainable params: 0\n",
            "_________________________________________________________________\n"
          ]
        }
      ]
    },
    {
      "cell_type": "code",
      "source": [
        "# Let's fit our model.\n",
        "model.fit(X_train, y_train, epochs=100, verbose=1)"
      ],
      "metadata": {
        "id": "ACjOXn8g3cWU",
        "colab": {
          "base_uri": "https://localhost:8080/"
        },
        "outputId": "0572a8af-ea47-4f46-a8ca-60b2a07e4491"
      },
      "execution_count": 34,
      "outputs": [
        {
          "output_type": "stream",
          "name": "stdout",
          "text": [
            "Epoch 1/100\n",
            "2/2 [==============================] - 1s 20ms/step - loss: 109.4887 - mae: 109.4887\n",
            "Epoch 2/100\n",
            "2/2 [==============================] - 0s 21ms/step - loss: 74.0332 - mae: 74.0332\n",
            "Epoch 3/100\n",
            "2/2 [==============================] - 0s 12ms/step - loss: 36.4772 - mae: 36.4772\n",
            "Epoch 4/100\n",
            "2/2 [==============================] - 0s 6ms/step - loss: 7.6886 - mae: 7.6886\n",
            "Epoch 5/100\n",
            "2/2 [==============================] - 0s 19ms/step - loss: 9.1894 - mae: 9.1894\n",
            "Epoch 6/100\n",
            "2/2 [==============================] - 0s 6ms/step - loss: 8.6565 - mae: 8.6565\n",
            "Epoch 7/100\n",
            "2/2 [==============================] - 0s 19ms/step - loss: 9.0822 - mae: 9.0822\n",
            "Epoch 8/100\n",
            "2/2 [==============================] - 0s 8ms/step - loss: 9.1193 - mae: 9.1193\n",
            "Epoch 9/100\n",
            "2/2 [==============================] - 0s 6ms/step - loss: 19.9706 - mae: 19.9706\n",
            "Epoch 10/100\n",
            "2/2 [==============================] - 0s 11ms/step - loss: 10.8160 - mae: 10.8160\n",
            "Epoch 11/100\n",
            "2/2 [==============================] - 0s 8ms/step - loss: 8.7068 - mae: 8.7068\n",
            "Epoch 12/100\n",
            "2/2 [==============================] - 0s 9ms/step - loss: 9.6884 - mae: 9.6884\n",
            "Epoch 13/100\n",
            "2/2 [==============================] - 0s 8ms/step - loss: 13.0569 - mae: 13.0569\n",
            "Epoch 14/100\n",
            "2/2 [==============================] - 0s 8ms/step - loss: 14.1819 - mae: 14.1819\n",
            "Epoch 15/100\n",
            "2/2 [==============================] - 0s 8ms/step - loss: 11.5864 - mae: 11.5864\n",
            "Epoch 16/100\n",
            "2/2 [==============================] - 0s 8ms/step - loss: 8.5269 - mae: 8.5269\n",
            "Epoch 17/100\n",
            "2/2 [==============================] - 0s 8ms/step - loss: 13.5677 - mae: 13.5677\n",
            "Epoch 18/100\n",
            "2/2 [==============================] - 0s 9ms/step - loss: 11.3700 - mae: 11.3700\n",
            "Epoch 19/100\n",
            "2/2 [==============================] - 0s 10ms/step - loss: 18.0959 - mae: 18.0959\n",
            "Epoch 20/100\n",
            "2/2 [==============================] - 0s 11ms/step - loss: 15.2293 - mae: 15.2293\n",
            "Epoch 21/100\n",
            "2/2 [==============================] - 0s 11ms/step - loss: 11.1804 - mae: 11.1804\n",
            "Epoch 22/100\n",
            "2/2 [==============================] - 0s 10ms/step - loss: 8.3066 - mae: 8.3066\n",
            "Epoch 23/100\n",
            "2/2 [==============================] - 0s 11ms/step - loss: 9.4636 - mae: 9.4636\n",
            "Epoch 24/100\n",
            "2/2 [==============================] - 0s 24ms/step - loss: 7.7267 - mae: 7.7267\n",
            "Epoch 25/100\n",
            "2/2 [==============================] - 0s 23ms/step - loss: 13.0035 - mae: 13.0035\n",
            "Epoch 26/100\n",
            "2/2 [==============================] - 0s 10ms/step - loss: 16.5983 - mae: 16.5983\n",
            "Epoch 27/100\n",
            "2/2 [==============================] - 0s 10ms/step - loss: 13.3197 - mae: 13.3197\n",
            "Epoch 28/100\n",
            "2/2 [==============================] - 0s 12ms/step - loss: 14.4459 - mae: 14.4459\n",
            "Epoch 29/100\n",
            "2/2 [==============================] - 0s 13ms/step - loss: 10.1465 - mae: 10.1465\n",
            "Epoch 30/100\n",
            "2/2 [==============================] - 0s 9ms/step - loss: 16.6027 - mae: 16.6027\n",
            "Epoch 31/100\n",
            "2/2 [==============================] - 0s 16ms/step - loss: 23.4339 - mae: 23.4339\n",
            "Epoch 32/100\n",
            "2/2 [==============================] - 0s 8ms/step - loss: 7.4006 - mae: 7.4006\n",
            "Epoch 33/100\n",
            "2/2 [==============================] - 0s 7ms/step - loss: 9.8234 - mae: 9.8234\n",
            "Epoch 34/100\n",
            "2/2 [==============================] - 0s 7ms/step - loss: 12.2581 - mae: 12.2581\n",
            "Epoch 35/100\n",
            "2/2 [==============================] - 0s 6ms/step - loss: 11.2151 - mae: 11.2151\n",
            "Epoch 36/100\n",
            "2/2 [==============================] - 0s 26ms/step - loss: 13.4552 - mae: 13.4552\n",
            "Epoch 37/100\n",
            "2/2 [==============================] - 0s 9ms/step - loss: 9.4677 - mae: 9.4677\n",
            "Epoch 38/100\n",
            "2/2 [==============================] - 0s 8ms/step - loss: 10.1188 - mae: 10.1188\n",
            "Epoch 39/100\n",
            "2/2 [==============================] - 0s 8ms/step - loss: 8.9960 - mae: 8.9960\n",
            "Epoch 40/100\n",
            "2/2 [==============================] - 0s 7ms/step - loss: 9.6239 - mae: 9.6239\n",
            "Epoch 41/100\n",
            "2/2 [==============================] - 0s 6ms/step - loss: 10.5815 - mae: 10.5815\n",
            "Epoch 42/100\n",
            "2/2 [==============================] - 0s 7ms/step - loss: 10.6332 - mae: 10.6332\n",
            "Epoch 43/100\n",
            "2/2 [==============================] - 0s 10ms/step - loss: 7.2454 - mae: 7.2454\n",
            "Epoch 44/100\n",
            "2/2 [==============================] - 0s 7ms/step - loss: 8.0376 - mae: 8.0376\n",
            "Epoch 45/100\n",
            "2/2 [==============================] - 0s 8ms/step - loss: 9.8368 - mae: 9.8368\n",
            "Epoch 46/100\n",
            "2/2 [==============================] - 0s 7ms/step - loss: 8.9135 - mae: 8.9135\n",
            "Epoch 47/100\n",
            "2/2 [==============================] - 0s 6ms/step - loss: 7.6045 - mae: 7.6045\n",
            "Epoch 48/100\n",
            "2/2 [==============================] - 0s 5ms/step - loss: 8.5864 - mae: 8.5864\n",
            "Epoch 49/100\n",
            "2/2 [==============================] - 0s 9ms/step - loss: 10.0453 - mae: 10.0453\n",
            "Epoch 50/100\n",
            "2/2 [==============================] - 0s 9ms/step - loss: 9.0351 - mae: 9.0351\n",
            "Epoch 51/100\n",
            "2/2 [==============================] - 0s 9ms/step - loss: 10.7182 - mae: 10.7182\n",
            "Epoch 52/100\n",
            "2/2 [==============================] - 0s 9ms/step - loss: 15.3084 - mae: 15.3084\n",
            "Epoch 53/100\n",
            "2/2 [==============================] - 0s 8ms/step - loss: 14.3305 - mae: 14.3305\n",
            "Epoch 54/100\n",
            "2/2 [==============================] - 0s 9ms/step - loss: 21.5999 - mae: 21.5999\n",
            "Epoch 55/100\n",
            "2/2 [==============================] - 0s 8ms/step - loss: 16.0323 - mae: 16.0323\n",
            "Epoch 56/100\n",
            "2/2 [==============================] - 0s 8ms/step - loss: 10.2949 - mae: 10.2949\n",
            "Epoch 57/100\n",
            "2/2 [==============================] - 0s 8ms/step - loss: 9.8120 - mae: 9.8120\n",
            "Epoch 58/100\n",
            "2/2 [==============================] - 0s 7ms/step - loss: 9.0974 - mae: 9.0974\n",
            "Epoch 59/100\n",
            "2/2 [==============================] - 0s 11ms/step - loss: 8.2974 - mae: 8.2974\n",
            "Epoch 60/100\n",
            "2/2 [==============================] - 0s 13ms/step - loss: 9.3962 - mae: 9.3962\n",
            "Epoch 61/100\n",
            "2/2 [==============================] - 0s 21ms/step - loss: 11.2143 - mae: 11.2143\n",
            "Epoch 62/100\n",
            "2/2 [==============================] - 0s 7ms/step - loss: 12.0834 - mae: 12.0834\n",
            "Epoch 63/100\n",
            "2/2 [==============================] - 0s 16ms/step - loss: 7.3016 - mae: 7.3016\n",
            "Epoch 64/100\n",
            "2/2 [==============================] - 0s 9ms/step - loss: 12.4684 - mae: 12.4684\n",
            "Epoch 65/100\n",
            "2/2 [==============================] - 0s 15ms/step - loss: 10.5502 - mae: 10.5502\n",
            "Epoch 66/100\n",
            "2/2 [==============================] - 0s 17ms/step - loss: 15.6139 - mae: 15.6139\n",
            "Epoch 67/100\n",
            "2/2 [==============================] - 0s 11ms/step - loss: 10.0260 - mae: 10.0260\n",
            "Epoch 68/100\n",
            "2/2 [==============================] - 0s 11ms/step - loss: 8.7475 - mae: 8.7475\n",
            "Epoch 69/100\n",
            "2/2 [==============================] - 0s 7ms/step - loss: 13.4928 - mae: 13.4928\n",
            "Epoch 70/100\n",
            "2/2 [==============================] - 0s 7ms/step - loss: 7.5031 - mae: 7.5031\n",
            "Epoch 71/100\n",
            "2/2 [==============================] - 0s 9ms/step - loss: 12.2771 - mae: 12.2771\n",
            "Epoch 72/100\n",
            "2/2 [==============================] - 0s 10ms/step - loss: 8.5523 - mae: 8.5523\n",
            "Epoch 73/100\n",
            "2/2 [==============================] - 0s 11ms/step - loss: 7.0707 - mae: 7.0707\n",
            "Epoch 74/100\n",
            "2/2 [==============================] - 0s 13ms/step - loss: 9.9383 - mae: 9.9383\n",
            "Epoch 75/100\n",
            "2/2 [==============================] - 0s 12ms/step - loss: 9.9812 - mae: 9.9812\n",
            "Epoch 76/100\n",
            "2/2 [==============================] - 0s 11ms/step - loss: 10.1446 - mae: 10.1446\n",
            "Epoch 77/100\n",
            "2/2 [==============================] - 0s 11ms/step - loss: 12.9990 - mae: 12.9990\n",
            "Epoch 78/100\n",
            "2/2 [==============================] - 0s 5ms/step - loss: 10.9313 - mae: 10.9313\n",
            "Epoch 79/100\n",
            "2/2 [==============================] - 0s 7ms/step - loss: 15.4186 - mae: 15.4186\n",
            "Epoch 80/100\n",
            "2/2 [==============================] - 0s 8ms/step - loss: 11.7487 - mae: 11.7487\n",
            "Epoch 81/100\n",
            "2/2 [==============================] - 0s 12ms/step - loss: 9.2952 - mae: 9.2952\n",
            "Epoch 82/100\n",
            "2/2 [==============================] - 0s 11ms/step - loss: 12.7417 - mae: 12.7417\n",
            "Epoch 83/100\n",
            "2/2 [==============================] - 0s 12ms/step - loss: 8.3033 - mae: 8.3033\n",
            "Epoch 84/100\n",
            "2/2 [==============================] - 0s 10ms/step - loss: 7.3400 - mae: 7.3400\n",
            "Epoch 85/100\n",
            "2/2 [==============================] - 0s 11ms/step - loss: 10.5062 - mae: 10.5062\n",
            "Epoch 86/100\n",
            "2/2 [==============================] - 0s 8ms/step - loss: 9.1755 - mae: 9.1755\n",
            "Epoch 87/100\n",
            "2/2 [==============================] - 0s 6ms/step - loss: 11.8882 - mae: 11.8882\n",
            "Epoch 88/100\n",
            "2/2 [==============================] - 0s 7ms/step - loss: 10.5001 - mae: 10.5001\n",
            "Epoch 89/100\n",
            "2/2 [==============================] - 0s 12ms/step - loss: 7.0008 - mae: 7.0008\n",
            "Epoch 90/100\n",
            "2/2 [==============================] - 0s 6ms/step - loss: 13.8253 - mae: 13.8253\n",
            "Epoch 91/100\n",
            "2/2 [==============================] - 0s 15ms/step - loss: 7.9047 - mae: 7.9047\n",
            "Epoch 92/100\n",
            "2/2 [==============================] - 0s 6ms/step - loss: 7.4836 - mae: 7.4836\n",
            "Epoch 93/100\n",
            "2/2 [==============================] - 0s 8ms/step - loss: 9.1918 - mae: 9.1918\n",
            "Epoch 94/100\n",
            "2/2 [==============================] - 0s 7ms/step - loss: 8.5917 - mae: 8.5917\n",
            "Epoch 95/100\n",
            "2/2 [==============================] - 0s 15ms/step - loss: 11.5400 - mae: 11.5400\n",
            "Epoch 96/100\n",
            "2/2 [==============================] - 0s 21ms/step - loss: 10.2993 - mae: 10.2993\n",
            "Epoch 97/100\n",
            "2/2 [==============================] - 0s 7ms/step - loss: 7.7178 - mae: 7.7178\n",
            "Epoch 98/100\n",
            "2/2 [==============================] - 0s 18ms/step - loss: 8.6526 - mae: 8.6526\n",
            "Epoch 99/100\n",
            "2/2 [==============================] - 0s 13ms/step - loss: 9.4336 - mae: 9.4336\n",
            "Epoch 100/100\n",
            "2/2 [==============================] - 0s 8ms/step - loss: 8.8740 - mae: 8.8740\n"
          ]
        },
        {
          "output_type": "execute_result",
          "data": {
            "text/plain": [
              "<keras.callbacks.History at 0x7fafcbaa5400>"
            ]
          },
          "metadata": {},
          "execution_count": 34
        }
      ]
    },
    {
      "cell_type": "code",
      "source": [
        "model = tf.keras.Sequential([\n",
        "    tf.keras.layers.Dense(3, input_shape=[1])\n",
        "])\n",
        "\n",
        "model.compile(loss=tf.keras.losses.mae,\n",
        "              optimizer=tf.keras.optimizers.Adam(),\n",
        "              metrics=[\"mae\"])\n",
        "\n",
        "model.summary()"
      ],
      "metadata": {
        "colab": {
          "base_uri": "https://localhost:8080/"
        },
        "id": "RrSP4pcz6ANv",
        "outputId": "60bc0046-7149-4458-b43b-8eb2703cae71"
      },
      "execution_count": 35,
      "outputs": [
        {
          "output_type": "stream",
          "name": "stdout",
          "text": [
            "Model: \"sequential_7\"\n",
            "_________________________________________________________________\n",
            " Layer (type)                Output Shape              Param #   \n",
            "=================================================================\n",
            " dense_9 (Dense)             (None, 3)                 6         \n",
            "                                                                 \n",
            "=================================================================\n",
            "Total params: 6\n",
            "Trainable params: 6\n",
            "Non-trainable params: 0\n",
            "_________________________________________________________________\n"
          ]
        }
      ]
    },
    {
      "cell_type": "code",
      "source": [
        "model = tf.keras.Sequential([\n",
        "    tf.keras.layers.Dense(1)\n",
        "])\n",
        "\n",
        "model.compile(loss=tf.keras.losses.mae,\n",
        "              optimizer=tf.keras.optimizers.Adam(),\n",
        "              metrics=[\"mae\"])\n",
        "\n",
        "model.build(input_shape=[None, 2])\n",
        "model.summary()"
      ],
      "metadata": {
        "colab": {
          "base_uri": "https://localhost:8080/"
        },
        "id": "nJHQfDCEAq8_",
        "outputId": "5489077e-0c70-4398-dc84-dec3952685ce"
      },
      "execution_count": 36,
      "outputs": [
        {
          "output_type": "stream",
          "name": "stdout",
          "text": [
            "Model: \"sequential_8\"\n",
            "_________________________________________________________________\n",
            " Layer (type)                Output Shape              Param #   \n",
            "=================================================================\n",
            " dense_10 (Dense)            (None, 1)                 3         \n",
            "                                                                 \n",
            "=================================================================\n",
            "Total params: 3\n",
            "Trainable params: 3\n",
            "Non-trainable params: 0\n",
            "_________________________________________________________________\n"
          ]
        }
      ]
    },
    {
      "cell_type": "code",
      "source": [
        "model = tf.keras.Sequential([\n",
        "    tf.keras.layers.Dense(10, input_shape=[1], name=\"input_layer\"),\n",
        "    tf.keras.layers.Dense(1, name=\"output_layer\")\n",
        "], name=\"model_1\")\n",
        "\n",
        "model.compile(loss=tf.keras.losses.mae,\n",
        "              optimizer=tf.keras.optimizers.Adam(),\n",
        "              metrics=[\"mae\"])\n",
        "\n",
        "model.summary()"
      ],
      "metadata": {
        "colab": {
          "base_uri": "https://localhost:8080/"
        },
        "id": "vDNvAvG1CFSh",
        "outputId": "0f10393c-9d84-455f-e8a0-876d8a40e9c0"
      },
      "execution_count": 45,
      "outputs": [
        {
          "output_type": "stream",
          "name": "stdout",
          "text": [
            "Model: \"model_1\"\n",
            "_________________________________________________________________\n",
            " Layer (type)                Output Shape              Param #   \n",
            "=================================================================\n",
            " input_layer (Dense)         (None, 10)                20        \n",
            "                                                                 \n",
            " output_layer (Dense)        (None, 1)                 11        \n",
            "                                                                 \n",
            "=================================================================\n",
            "Total params: 31\n",
            "Trainable params: 31\n",
            "Non-trainable params: 0\n",
            "_________________________________________________________________\n"
          ]
        }
      ]
    },
    {
      "cell_type": "code",
      "source": [
        "type(X_train)"
      ],
      "metadata": {
        "colab": {
          "base_uri": "https://localhost:8080/"
        },
        "id": "Bg4_82jrLYE_",
        "outputId": "8c14db4e-ce0a-41b6-d762-23a08e44bb9a"
      },
      "execution_count": 46,
      "outputs": [
        {
          "output_type": "execute_result",
          "data": {
            "text/plain": [
              "tensorflow.python.framework.ops.EagerTensor"
            ]
          },
          "metadata": {},
          "execution_count": 46
        }
      ]
    },
    {
      "cell_type": "code",
      "source": [
        "model.fit(tf.expand_dims(X_train, axis=-1), y_train, epochs=100, verbose=0)"
      ],
      "metadata": {
        "colab": {
          "base_uri": "https://localhost:8080/"
        },
        "id": "DplC6ngPLR6a",
        "outputId": "28400cbf-6305-451d-e873-a4f4ac2acc8a"
      },
      "execution_count": 47,
      "outputs": [
        {
          "output_type": "execute_result",
          "data": {
            "text/plain": [
              "<keras.callbacks.History at 0x7fafd3ece5b0>"
            ]
          },
          "metadata": {},
          "execution_count": 47
        }
      ]
    },
    {
      "cell_type": "code",
      "source": [
        "from tensorflow.keras.utils import plot_model\n",
        "\n",
        "plot_model(model=model, show_shapes=True)"
      ],
      "metadata": {
        "colab": {
          "base_uri": "https://localhost:8080/",
          "height": 312
        },
        "id": "Mj4oncRYFou-",
        "outputId": "00da93ea-477f-4a5f-bccc-60fae8785ef5"
      },
      "execution_count": 48,
      "outputs": [
        {
          "output_type": "execute_result",
          "data": {
            "image/png": "[encoded data removed]",
            "text/plain": [
              "<IPython.core.display.Image object>"
            ]
          },
          "metadata": {},
          "execution_count": 48
        }
      ]
    },
    {
      "cell_type": "markdown",
      "source": [
        "### Visualizing our model's predictions"
      ],
      "metadata": {
        "id": "WXVLswZVKVwq"
      }
    },
    {
      "cell_type": "code",
      "source": [
        "model = tf.keras.Sequential([\n",
        "    tf.keras.layers.Dense(5, input_shape=[1], name=\"hidden_layer_1\"),\n",
        "    tf.keras.layers.Dense(10, name=\"hidden_layer_2\"),\n",
        "    tf.keras.layers.Dense(5, name=\"hidden_layer_3\"),\n",
        "    tf.keras.layers.Dense(1, name=\"output_layer\")\n",
        "])\n",
        "\n",
        "model.compile(loss=tf.keras.losses.mae,\n",
        "              optimizer=tf.keras.optimizers.Adam(),\n",
        "              metrics=[\"mae\"])\n",
        "\n",
        "model.summary()"
      ],
      "metadata": {
        "colab": {
          "base_uri": "https://localhost:8080/"
        },
        "id": "dwVlxgpVL5J8",
        "outputId": "5d8d24df-0d9b-42f3-a365-78803431c5b9"
      },
      "execution_count": 53,
      "outputs": [
        {
          "output_type": "stream",
          "name": "stdout",
          "text": [
            "Model: \"sequential_11\"\n",
            "_________________________________________________________________\n",
            " Layer (type)                Output Shape              Param #   \n",
            "=================================================================\n",
            " hidden_layer_1 (Dense)      (None, 5)                 10        \n",
            "                                                                 \n",
            " hidden_layer_2 (Dense)      (None, 10)                60        \n",
            "                                                                 \n",
            " hidden_layer_3 (Dense)      (None, 5)                 55        \n",
            "                                                                 \n",
            " output_layer (Dense)        (None, 1)                 6         \n",
            "                                                                 \n",
            "=================================================================\n",
            "Total params: 131\n",
            "Trainable params: 131\n",
            "Non-trainable params: 0\n",
            "_________________________________________________________________\n"
          ]
        }
      ]
    },
    {
      "cell_type": "code",
      "source": [
        "model.fit(tf.expand_dims(X_train, axis=-1), y_train, epochs=100, verbose=0)"
      ],
      "metadata": {
        "colab": {
          "base_uri": "https://localhost:8080/"
        },
        "id": "L4i5rWA3NKw9",
        "outputId": "3c0842a2-3710-4105-cd13-fcb91c82e4b5"
      },
      "execution_count": 54,
      "outputs": [
        {
          "output_type": "execute_result",
          "data": {
            "text/plain": [
              "<keras.callbacks.History at 0x7fafcec71820>"
            ]
          },
          "metadata": {},
          "execution_count": 54
        }
      ]
    },
    {
      "cell_type": "code",
      "source": [
        "from tensorflow.keras.utils import plot_model\n",
        "\n",
        "plot_model(model=model, show_shapes=True)"
      ],
      "metadata": {
        "colab": {
          "base_uri": "https://localhost:8080/",
          "height": 533
        },
        "id": "enN46y90NjfT",
        "outputId": "fc353d11-c275-4411-a599-74ab9e49d855"
      },
      "execution_count": 56,
      "outputs": [
        {
          "output_type": "execute_result",
          "data": {
            "image/png": "[encoded data removed]",
            "text/plain": [
              "<IPython.core.display.Image object>"
            ]
          },
          "metadata": {},
          "execution_count": 56
        }
      ]
    },
    {
      "cell_type": "markdown",
      "source": [
        "### Visualizing our model's predictions"
      ],
      "metadata": {
        "id": "7cE2-Kx5N9dx"
      }
    },
    {
      "cell_type": "code",
      "source": [
        "y_pred = model.predict(X_test)\n",
        "y_pred"
      ],
      "metadata": {
        "colab": {
          "base_uri": "https://localhost:8080/"
        },
        "id": "oTmba3hjOhj-",
        "outputId": "1c9f2f0f-b15c-44de-c667-f90b079a437c"
      },
      "execution_count": 57,
      "outputs": [
        {
          "output_type": "stream",
          "name": "stderr",
          "text": [
            "WARNING:tensorflow:5 out of the last 5 calls to <function Model.make_predict_function.<locals>.predict_function at 0x7fafd245d940> triggered tf.function retracing. Tracing is expensive and the excessive number of tracings could be due to (1) creating @tf.function repeatedly in a loop, (2) passing tensors with different shapes, (3) passing Python objects instead of tensors. For (1), please define your @tf.function outside of the loop. For (2), @tf.function has reduce_retracing=True option that can avoid unnecessary retracing. For (3), please refer to https://www.tensorflow.org/guide/function#controlling_retracing and https://www.tensorflow.org/api_docs/python/tf/function for  more details.\n"
          ]
        },
        {
          "output_type": "stream",
          "name": "stdout",
          "text": [
            "1/1 [==============================] - 0s 68ms/step\n"
          ]
        },
        {
          "output_type": "execute_result",
          "data": {
            "text/plain": [
              "array([[54.092537],\n",
              "       [57.644596],\n",
              "       [61.19665 ],\n",
              "       [64.7487  ],\n",
              "       [68.30075 ],\n",
              "       [71.852806],\n",
              "       [75.404854],\n",
              "       [78.9569  ],\n",
              "       [82.508965],\n",
              "       [86.06101 ]], dtype=float32)"
            ]
          },
          "metadata": {},
          "execution_count": 57
        }
      ]
    },
    {
      "cell_type": "code",
      "source": [
        "y_test"
      ],
      "metadata": {
        "colab": {
          "base_uri": "https://localhost:8080/"
        },
        "id": "4J0uqpExVKet",
        "outputId": "76e1901b-94d9-4b21-c375-a071a26cd262"
      },
      "execution_count": 58,
      "outputs": [
        {
          "output_type": "execute_result",
          "data": {
            "text/plain": [
              "<tf.Tensor: shape=(10,), dtype=int32, numpy=array([ 70,  74,  78,  82,  86,  90,  94,  98, 102, 106], dtype=int32)>"
            ]
          },
          "metadata": {},
          "execution_count": 58
        }
      ]
    },
    {
      "cell_type": "code",
      "source": [
        "# Set random seed\n",
        "tf.random.set_seed(42)\n",
        "\n",
        "# Create a model (same as above)\n",
        "model = tf.keras.Sequential([\n",
        "  tf.keras.layers.Dense(5, input_shape=[1]),\n",
        "  tf.keras.layers.Dense(1)\n",
        "   # define the input_shape to our model\n",
        "])\n",
        "\n",
        "# Compile model (same as above)\n",
        "model.compile(loss=tf.keras.losses.mae,\n",
        "              optimizer=tf.keras.optimizers.SGD(lr=0.01),\n",
        "              metrics=[\"mae\"])\n",
        "\n",
        "model.fit(tf.expand_dims(X_train, axis=-1), y_train, epochs=100, verbose=0)"
      ],
      "metadata": {
        "colab": {
          "base_uri": "https://localhost:8080/"
        },
        "id": "41gzZsLoVOpE",
        "outputId": "c2de7456-41ae-4804-b624-b650290c712c"
      },
      "execution_count": 136,
      "outputs": [
        {
          "output_type": "stream",
          "name": "stderr",
          "text": [
            "WARNING:absl:`lr` is deprecated in Keras optimizer, please use `learning_rate` or use the legacy optimizer, e.g.,tf.keras.optimizers.legacy.SGD.\n"
          ]
        },
        {
          "output_type": "execute_result",
          "data": {
            "text/plain": [
              "<keras.callbacks.History at 0x7fb065fdd160>"
            ]
          },
          "metadata": {},
          "execution_count": 136
        }
      ]
    },
    {
      "cell_type": "code",
      "source": [
        "y_pred = model.predict(X_test)\n",
        "y_pred"
      ],
      "metadata": {
        "colab": {
          "base_uri": "https://localhost:8080/"
        },
        "id": "9ktW-AzpVwMq",
        "outputId": "470beb24-4486-4259-f63e-d9aafbb21c67"
      },
      "execution_count": 137,
      "outputs": [
        {
          "output_type": "stream",
          "name": "stdout",
          "text": [
            "1/1 [==============================] - 0s 61ms/step\n"
          ]
        },
        {
          "output_type": "execute_result",
          "data": {
            "text/plain": [
              "array([[ 76.51463 ],\n",
              "       [ 81.49882 ],\n",
              "       [ 86.483   ],\n",
              "       [ 91.46719 ],\n",
              "       [ 96.451385],\n",
              "       [101.43557 ],\n",
              "       [106.419754],\n",
              "       [111.40394 ],\n",
              "       [116.38812 ],\n",
              "       [121.3723  ]], dtype=float32)"
            ]
          },
          "metadata": {},
          "execution_count": 137
        }
      ]
    },
    {
      "cell_type": "code",
      "source": [
        "y_test"
      ],
      "metadata": {
        "colab": {
          "base_uri": "https://localhost:8080/"
        },
        "id": "PoT1oT_qVzRA",
        "outputId": "f76865bc-7e10-4a86-c97b-154c43de96c6"
      },
      "execution_count": 138,
      "outputs": [
        {
          "output_type": "execute_result",
          "data": {
            "text/plain": [
              "<tf.Tensor: shape=(10,), dtype=int32, numpy=array([ 70,  74,  78,  82,  86,  90,  94,  98, 102, 106], dtype=int32)>"
            ]
          },
          "metadata": {},
          "execution_count": 138
        }
      ]
    },
    {
      "cell_type": "code",
      "source": [
        "def plot_predictions(train_data=X_train,\n",
        "                     train_labels=y_train,\n",
        "                     test_data=X_test,\n",
        "                     test_labels=y_test,\n",
        "                     predictions=y_pred):\n",
        "  \n",
        "  plt.figure(figsize=(10, 7))\n",
        "  plt.scatter(train_data, train_labels, c=\"b\", label=\"Training data\")\n",
        "  plt.scatter(test_data, test_labels, c=\"g\", label=\"Testing data\")\n",
        "  plt.scatter(test_data, predictions, c=\"r\", label=\"Predictions\")\n",
        "  plt.legend();"
      ],
      "metadata": {
        "id": "IIWWbwmhV0uH"
      },
      "execution_count": 139,
      "outputs": []
    },
    {
      "cell_type": "code",
      "source": [
        "X_train.shape, y_train.shape, X_test.shape, y_test.shape, y_pred.shape"
      ],
      "metadata": {
        "colab": {
          "base_uri": "https://localhost:8080/"
        },
        "id": "xaz6GGJHYc21",
        "outputId": "d4c5dd83-f577-451a-f6e7-7ee1444cd81f"
      },
      "execution_count": 140,
      "outputs": [
        {
          "output_type": "execute_result",
          "data": {
            "text/plain": [
              "(TensorShape([40]),\n",
              " TensorShape([40]),\n",
              " TensorShape([10]),\n",
              " TensorShape([10]),\n",
              " (10, 1))"
            ]
          },
          "metadata": {},
          "execution_count": 140
        }
      ]
    },
    {
      "cell_type": "code",
      "source": [
        "plot_predictions(train_data=X_train,\n",
        "                 train_labels=y_train,\n",
        "                 test_data=X_test,\n",
        "                 test_labels=y_test,\n",
        "                 predictions=y_pred)"
      ],
      "metadata": {
        "colab": {
          "base_uri": "https://localhost:8080/",
          "height": 488
        },
        "id": "XKhvsGrLW4ZT",
        "outputId": "42335707-4ab7-44cb-8cb9-69a76cdeaecd"
      },
      "execution_count": 141,
      "outputs": [
        {
          "output_type": "display_data",
          "data": {
            "text/plain": [
              "<Figure size 1000x700 with 1 Axes>"
            ],
            "image/png": "[encoded data removed]"
          },
          "metadata": {}
        }
      ]
    },
    {
      "cell_type": "markdown",
      "source": [
        "## Evaluating our model's predictions with regression evaluation metrics"
      ],
      "metadata": {
        "id": "Qs8_AcsGW6hf"
      }
    },
    {
      "cell_type": "code",
      "source": [
        "# Evaluate the model on the test set\n",
        "model.evaluate(X_test, y_test)"
      ],
      "metadata": {
        "colab": {
          "base_uri": "https://localhost:8080/"
        },
        "id": "cxYZ7YSDXfjy",
        "outputId": "ad12f209-f0ce-4fe9-eed1-e99f3fba3d66"
      },
      "execution_count": 142,
      "outputs": [
        {
          "output_type": "stream",
          "name": "stdout",
          "text": [
            "1/1 [==============================] - 0s 194ms/step - loss: 10.9435 - mae: 10.9435\n"
          ]
        },
        {
          "output_type": "execute_result",
          "data": {
            "text/plain": [
              "[10.943471908569336, 10.943471908569336]"
            ]
          },
          "metadata": {},
          "execution_count": 142
        }
      ]
    },
    {
      "cell_type": "code",
      "source": [
        "y_pred"
      ],
      "metadata": {
        "colab": {
          "base_uri": "https://localhost:8080/"
        },
        "id": "81m_eWqdbF9i",
        "outputId": "b39f5820-126e-42c0-9a83-3c52e6abc131"
      },
      "execution_count": 143,
      "outputs": [
        {
          "output_type": "execute_result",
          "data": {
            "text/plain": [
              "array([[ 76.51463 ],\n",
              "       [ 81.49882 ],\n",
              "       [ 86.483   ],\n",
              "       [ 91.46719 ],\n",
              "       [ 96.451385],\n",
              "       [101.43557 ],\n",
              "       [106.419754],\n",
              "       [111.40394 ],\n",
              "       [116.38812 ],\n",
              "       [121.3723  ]], dtype=float32)"
            ]
          },
          "metadata": {},
          "execution_count": 143
        }
      ]
    },
    {
      "cell_type": "code",
      "source": [
        "y_test"
      ],
      "metadata": {
        "colab": {
          "base_uri": "https://localhost:8080/"
        },
        "id": "NpShv_KXbRYz",
        "outputId": "5335f656-fe25-4ef1-febc-57e79a71a8b5"
      },
      "execution_count": 144,
      "outputs": [
        {
          "output_type": "execute_result",
          "data": {
            "text/plain": [
              "<tf.Tensor: shape=(10,), dtype=int32, numpy=array([ 70,  74,  78,  82,  86,  90,  94,  98, 102, 106], dtype=int32)>"
            ]
          },
          "metadata": {},
          "execution_count": 144
        }
      ]
    },
    {
      "cell_type": "code",
      "source": [
        "tf.keras.losses.MAE(y_test, y_pred)"
      ],
      "metadata": {
        "colab": {
          "base_uri": "https://localhost:8080/"
        },
        "id": "I7IOUQWUbSFO",
        "outputId": "b1368dac-561f-4662-f935-5333cdef72c8"
      },
      "execution_count": 135,
      "outputs": [
        {
          "output_type": "execute_result",
          "data": {
            "text/plain": [
              "array([13.395338 , 11.073901 , 10.       , 10.252704 , 11.6950655,\n",
              "       14.327085 , 18.185944 , 23.16008  , 28.134222 , 33.108353 ],\n",
              "      dtype=float32)"
            ]
          },
          "metadata": {},
          "execution_count": 135
        }
      ]
    },
    {
      "cell_type": "code",
      "source": [],
      "metadata": {
        "id": "YO4FFrIecQfn"
      },
      "execution_count": null,
      "outputs": []
    },
    {
      "cell_type": "code",
      "source": [
        "tf.metrics.mean_absolute_error(y_test, y_pred)"
      ],
      "metadata": {
        "colab": {
          "base_uri": "https://localhost:8080/"
        },
        "id": "hGQma8azbq_H",
        "outputId": "2d33f278-c957-4270-ea7e-fd643441f0e7"
      },
      "execution_count": 129,
      "outputs": [
        {
          "output_type": "execute_result",
          "data": {
            "text/plain": [
              "<tf.Tensor: shape=(10,), dtype=float32, numpy=\n",
              "array([13.395338 , 11.073901 , 10.       , 10.252704 , 11.6950655,\n",
              "       14.327085 , 18.185944 , 23.16008  , 28.134222 , 33.108353 ],\n",
              "      dtype=float32)>"
            ]
          },
          "metadata": {},
          "execution_count": 129
        }
      ]
    },
    {
      "cell_type": "code",
      "source": [
        "mae = tf.metrics.mean_absolute_error(y_true=y_test,\n",
        "                                     y_pred=tf.squeeze(y_pred))\n",
        "mae"
      ],
      "metadata": {
        "colab": {
          "base_uri": "https://localhost:8080/"
        },
        "id": "vv23_0A1eGwb",
        "outputId": "898db1ae-4d9b-4f3c-cb1b-a9934717d1f0"
      },
      "execution_count": 147,
      "outputs": [
        {
          "output_type": "execute_result",
          "data": {
            "text/plain": [
              "<tf.Tensor: shape=(), dtype=float32, numpy=10.943472>"
            ]
          },
          "metadata": {},
          "execution_count": 147
        }
      ]
    },
    {
      "cell_type": "code",
      "source": [
        "mse = tf.metrics.mean_squared_error(y_test,\n",
        "                                   tf.squeeze(y_pred))\n",
        "mse"
      ],
      "metadata": {
        "colab": {
          "base_uri": "https://localhost:8080/"
        },
        "id": "e1huQHU7gRSt",
        "outputId": "ceb6980c-04fe-4c00-b83f-e0a199394613"
      },
      "execution_count": 149,
      "outputs": [
        {
          "output_type": "execute_result",
          "data": {
            "text/plain": [
              "<tf.Tensor: shape=(), dtype=float32, numpy=127.750694>"
            ]
          },
          "metadata": {},
          "execution_count": 149
        }
      ]
    },
    {
      "cell_type": "code",
      "source": [
        "tf.keras.losses.mae(y_test, tf.squeeze(y_pred))"
      ],
      "metadata": {
        "colab": {
          "base_uri": "https://localhost:8080/"
        },
        "id": "rd7fYbB3gvfL",
        "outputId": "0b89c234-02b1-4bc6-f39a-8002f79fb1e0"
      },
      "execution_count": 150,
      "outputs": [
        {
          "output_type": "execute_result",
          "data": {
            "text/plain": [
              "<tf.Tensor: shape=(), dtype=float32, numpy=10.943472>"
            ]
          },
          "metadata": {},
          "execution_count": 150
        }
      ]
    },
    {
      "cell_type": "code",
      "source": [],
      "metadata": {
        "id": "8h6IaoVFhDHi"
      },
      "execution_count": null,
      "outputs": []
    }
  ]
}