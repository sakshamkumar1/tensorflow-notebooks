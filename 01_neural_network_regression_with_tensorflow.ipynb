{
  "nbformat": 4,
  "nbformat_minor": 0,
  "metadata": {
    "colab": {
      "provenance": [],
      "authorship_tag": "ABX9TyPQVvEcwi4XOKOa6Yb73JoT"
    },
    "kernelspec": {
      "name": "python3",
      "display_name": "Python 3"
    },
    "language_info": {
      "name": "python"
    },
    "accelerator": "GPU",
    "gpuClass": "standard"
  },
  "cells": [
    {
      "cell_type": "markdown",
      "source": [
        "# Introduction to Regression with Neural Networks in TensorFlow"
      ],
      "metadata": {
        "id": "ltiTWnFRhvsd"
      }
    },
    {
      "cell_type": "code",
      "source": [
        "import tensorflow as tf\n",
        "print(tf.__version__)"
      ],
      "metadata": {
        "colab": {
          "base_uri": "https://localhost:8080/"
        },
        "id": "4GoCV4TLiLxG",
        "outputId": "2ec14e8c-8afc-43ec-ed05-c5eb05776d71"
      },
      "execution_count": 1,
      "outputs": [
        {
          "output_type": "stream",
          "name": "stdout",
          "text": [
            "2.12.0\n"
          ]
        }
      ]
    },
    {
      "cell_type": "code",
      "source": [
        "tf.config.list_physical_devices()"
      ],
      "metadata": {
        "colab": {
          "base_uri": "https://localhost:8080/"
        },
        "id": "vhtkpFNei0bg",
        "outputId": "84615b11-cade-4912-edda-6faf153ed65d"
      },
      "execution_count": 2,
      "outputs": [
        {
          "output_type": "execute_result",
          "data": {
            "text/plain": [
              "[PhysicalDevice(name='/physical_device:CPU:0', device_type='CPU')]"
            ]
          },
          "metadata": {},
          "execution_count": 2
        }
      ]
    },
    {
      "cell_type": "code",
      "source": [
        "tf.config.list_physical_devices(\"GPU\")"
      ],
      "metadata": {
        "colab": {
          "base_uri": "https://localhost:8080/"
        },
        "id": "kF4GXjoWi5c_",
        "outputId": "0014010c-1e05-4063-c81c-c87ea7de6b84"
      },
      "execution_count": 3,
      "outputs": [
        {
          "output_type": "execute_result",
          "data": {
            "text/plain": [
              "[]"
            ]
          },
          "metadata": {},
          "execution_count": 3
        }
      ]
    },
    {
      "cell_type": "code",
      "source": [
        "import numpy as np\n",
        "import matplotlib.pyplot as plt\n",
        "\n",
        "X = np.array([-7.0, -4.0, -1.0, 2.0, 5.0, 8.0, 11.0, 14.0])\n",
        "\n",
        "y = np.array([3.0, 6.0, 9.0, 12.0, 15.0, 18.0, 21.0, 24.0])\n",
        "\n",
        "plt.scatter(X, y)"
      ],
      "metadata": {
        "colab": {
          "base_uri": "https://localhost:8080/",
          "height": 452
        },
        "id": "rm2LxcHfjCnr",
        "outputId": "1710efa2-c038-40e5-a49d-a7623fd222a4"
      },
      "execution_count": 4,
      "outputs": [
        {
          "output_type": "execute_result",
          "data": {
            "text/plain": [
              "<matplotlib.collections.PathCollection at 0x7f071828ec40>"
            ]
          },
          "metadata": {},
          "execution_count": 4
        },
        {
          "output_type": "display_data",
          "data": {
            "text/plain": [
              "<Figure size 640x480 with 1 Axes>"
            ],
            "image/png": "[encoded data removed]"
          },
          "metadata": {}
        }
      ]
    },
    {
      "cell_type": "code",
      "source": [
        "X + 10"
      ],
      "metadata": {
        "colab": {
          "base_uri": "https://localhost:8080/"
        },
        "id": "5ARDTgWSkD9e",
        "outputId": "7eed0726-c383-4880-b893-5fc8f65f6760"
      },
      "execution_count": 5,
      "outputs": [
        {
          "output_type": "execute_result",
          "data": {
            "text/plain": [
              "array([ 3.,  6.,  9., 12., 15., 18., 21., 24.])"
            ]
          },
          "metadata": {},
          "execution_count": 5
        }
      ]
    },
    {
      "cell_type": "code",
      "source": [
        "y == X + 10"
      ],
      "metadata": {
        "colab": {
          "base_uri": "https://localhost:8080/"
        },
        "id": "Mav0duA6kS4c",
        "outputId": "dbc9415a-3282-4f3f-ecd3-5021914a62d9"
      },
      "execution_count": 6,
      "outputs": [
        {
          "output_type": "execute_result",
          "data": {
            "text/plain": [
              "array([ True,  True,  True,  True,  True,  True,  True,  True])"
            ]
          },
          "metadata": {},
          "execution_count": 6
        }
      ]
    },
    {
      "cell_type": "markdown",
      "source": [
        "## Input and output shapes"
      ],
      "metadata": {
        "id": "_yuJW5XnkVki"
      }
    },
    {
      "cell_type": "code",
      "source": [
        "house_info = tf.constant([\"bedroom\", \"bathroom\", \"garage\"])\n",
        "house_price = tf.constant([939700])\n",
        "house_info, house_price"
      ],
      "metadata": {
        "colab": {
          "base_uri": "https://localhost:8080/"
        },
        "id": "-XeXUYoCkfJ9",
        "outputId": "2b8ab2b5-a67a-4443-e662-5ba2fcfff8cb"
      },
      "execution_count": 7,
      "outputs": [
        {
          "output_type": "execute_result",
          "data": {
            "text/plain": [
              "(<tf.Tensor: shape=(3,), dtype=string, numpy=array([b'bedroom', b'bathroom', b'garage'], dtype=object)>,\n",
              " <tf.Tensor: shape=(1,), dtype=int32, numpy=array([939700], dtype=int32)>)"
            ]
          },
          "metadata": {},
          "execution_count": 7
        }
      ]
    },
    {
      "cell_type": "code",
      "source": [
        "input_shape = X[0].shape\n",
        "output_shape = y[0].shape\n",
        "input_shape, output_shape"
      ],
      "metadata": {
        "colab": {
          "base_uri": "https://localhost:8080/"
        },
        "id": "McD3rnRQk7Sn",
        "outputId": "afa704de-2c25-4aec-ce9b-8753fc5bebc9"
      },
      "execution_count": 8,
      "outputs": [
        {
          "output_type": "execute_result",
          "data": {
            "text/plain": [
              "((), ())"
            ]
          },
          "metadata": {},
          "execution_count": 8
        }
      ]
    },
    {
      "cell_type": "code",
      "source": [
        "X = tf.constant(X)\n",
        "y = tf.constant(y)\n",
        "X, y"
      ],
      "metadata": {
        "colab": {
          "base_uri": "https://localhost:8080/"
        },
        "id": "ypxA_G86lEid",
        "outputId": "3572a929-9eb3-4818-9dc8-987569a24a1c"
      },
      "execution_count": 9,
      "outputs": [
        {
          "output_type": "execute_result",
          "data": {
            "text/plain": [
              "(<tf.Tensor: shape=(8,), dtype=float64, numpy=array([-7., -4., -1.,  2.,  5.,  8., 11., 14.])>,\n",
              " <tf.Tensor: shape=(8,), dtype=float64, numpy=array([ 3.,  6.,  9., 12., 15., 18., 21., 24.])>)"
            ]
          },
          "metadata": {},
          "execution_count": 9
        }
      ]
    },
    {
      "cell_type": "code",
      "source": [
        "input_shape = X[0].shape\n",
        "output_shape = y[0].shape\n",
        "input_shape, output_shape"
      ],
      "metadata": {
        "colab": {
          "base_uri": "https://localhost:8080/"
        },
        "id": "xwA_ydbHphrK",
        "outputId": "91be6666-77c8-4340-9113-e242c60e4c38"
      },
      "execution_count": 10,
      "outputs": [
        {
          "output_type": "execute_result",
          "data": {
            "text/plain": [
              "(TensorShape([]), TensorShape([]))"
            ]
          },
          "metadata": {},
          "execution_count": 10
        }
      ]
    },
    {
      "cell_type": "code",
      "source": [
        "plt.scatter(X, y)"
      ],
      "metadata": {
        "colab": {
          "base_uri": "https://localhost:8080/",
          "height": 452
        },
        "id": "mXzzlumGpqIB",
        "outputId": "ae199466-0989-4f01-f85e-0da1d7af429f"
      },
      "execution_count": 11,
      "outputs": [
        {
          "output_type": "execute_result",
          "data": {
            "text/plain": [
              "<matplotlib.collections.PathCollection at 0x7f07159adca0>"
            ]
          },
          "metadata": {},
          "execution_count": 11
        },
        {
          "output_type": "display_data",
          "data": {
            "text/plain": [
              "<Figure size 640x480 with 1 Axes>"
            ],
            "image/png": "[encoded data removed]"
          },
          "metadata": {}
        }
      ]
    },
    {
      "cell_type": "markdown",
      "source": [
        "## Steps in modelling with TensorFlow"
      ],
      "metadata": {
        "id": "M8VWCh_ZpxK0"
      }
    },
    {
      "cell_type": "code",
      "source": [
        "tf.random.set_seed(42)\n",
        "\n",
        "# Create a model using the sequential API\n",
        "model = tf.keras.Sequential([\n",
        "    tf.keras.layers.Dense(1)\n",
        "])\n",
        "\n",
        "# Compile\n",
        "model.compile(loss=tf.keras.losses.mae,\n",
        "              optimizer=tf.keras.optimizers.SGD(),\n",
        "              metrics=[\"mae\"])\n",
        "\n",
        "# Fit the model\n",
        "model.fit(tf.expand_dims(X, axis=-1), y, epochs=5)"
      ],
      "metadata": {
        "colab": {
          "base_uri": "https://localhost:8080/"
        },
        "id": "vCFiTiw1p1mF",
        "outputId": "24f63a06-e2b0-4123-b39f-7fe85cb6472d"
      },
      "execution_count": 12,
      "outputs": [
        {
          "output_type": "stream",
          "name": "stdout",
          "text": [
            "Epoch 1/5\n",
            "1/1 [==============================] - 2s 2s/step - loss: 13.8212 - mae: 13.8212\n",
            "Epoch 2/5\n",
            "1/1 [==============================] - 0s 31ms/step - loss: 13.6887 - mae: 13.6887\n",
            "Epoch 3/5\n",
            "1/1 [==============================] - 0s 20ms/step - loss: 13.5562 - mae: 13.5562\n",
            "Epoch 4/5\n",
            "1/1 [==============================] - 0s 31ms/step - loss: 13.4237 - mae: 13.4237\n",
            "Epoch 5/5\n",
            "1/1 [==============================] - 0s 26ms/step - loss: 13.2912 - mae: 13.2912\n"
          ]
        },
        {
          "output_type": "execute_result",
          "data": {
            "text/plain": [
              "<keras.callbacks.History at 0x7f07127bbd60>"
            ]
          },
          "metadata": {},
          "execution_count": 12
        }
      ]
    },
    {
      "cell_type": "code",
      "source": [
        "y_pred = model.predict([17.0])\n",
        "y_pred"
      ],
      "metadata": {
        "colab": {
          "base_uri": "https://localhost:8080/"
        },
        "id": "mrC0gHLFtGqC",
        "outputId": "daa81cca-d83e-4ed9-a375-55524de45806"
      },
      "execution_count": 13,
      "outputs": [
        {
          "output_type": "stream",
          "name": "stdout",
          "text": [
            "1/1 [==============================] - 0s 396ms/step\n"
          ]
        },
        {
          "output_type": "execute_result",
          "data": {
            "text/plain": [
              "array([[1.4650893]], dtype=float32)"
            ]
          },
          "metadata": {},
          "execution_count": 13
        }
      ]
    },
    {
      "cell_type": "code",
      "source": [
        "y_pred + 11"
      ],
      "metadata": {
        "colab": {
          "base_uri": "https://localhost:8080/"
        },
        "id": "tBxF6PEBuPbr",
        "outputId": "7fda7b6d-05e6-4d1b-f26e-008be61d3f6e"
      },
      "execution_count": 14,
      "outputs": [
        {
          "output_type": "execute_result",
          "data": {
            "text/plain": [
              "array([[12.46509]], dtype=float32)"
            ]
          },
          "metadata": {},
          "execution_count": 14
        }
      ]
    },
    {
      "cell_type": "markdown",
      "source": [
        "## Improving our model"
      ],
      "metadata": {
        "id": "9cbSYzSdubH1"
      }
    },
    {
      "cell_type": "code",
      "source": [
        "model = tf.keras.Sequential([\n",
        "    tf.keras.layers.Dense(1)\n",
        "])\n",
        "\n",
        "model.compile(loss=tf.keras.losses.mae,\n",
        "              optimizer=tf.keras.optimizers.SGD(),\n",
        "              metrics=[\"mae\"])\n",
        "\n",
        "model.fit(tf.expand_dims(X, axis=-1), y, epochs=100)"
      ],
      "metadata": {
        "id": "UiuFjPyDufzT",
        "colab": {
          "base_uri": "https://localhost:8080/"
        },
        "outputId": "81c74074-edf9-4132-ade8-fab7c532d546"
      },
      "execution_count": 15,
      "outputs": [
        {
          "output_type": "stream",
          "name": "stdout",
          "text": [
            "Epoch 1/100\n",
            "1/1 [==============================] - 1s 1s/step - loss: 8.5858 - mae: 8.5858\n",
            "Epoch 2/100\n",
            "1/1 [==============================] - 0s 26ms/step - loss: 8.4533 - mae: 8.4533\n",
            "Epoch 3/100\n",
            "1/1 [==============================] - 0s 14ms/step - loss: 8.3208 - mae: 8.3208\n",
            "Epoch 4/100\n",
            "1/1 [==============================] - 0s 18ms/step - loss: 8.1883 - mae: 8.1883\n",
            "Epoch 5/100\n",
            "1/1 [==============================] - 0s 23ms/step - loss: 8.0558 - mae: 8.0558\n",
            "Epoch 6/100\n",
            "1/1 [==============================] - 0s 10ms/step - loss: 7.9233 - mae: 7.9233\n",
            "Epoch 7/100\n",
            "1/1 [==============================] - 0s 19ms/step - loss: 7.7908 - mae: 7.7908\n",
            "Epoch 8/100\n",
            "1/1 [==============================] - 0s 32ms/step - loss: 7.6583 - mae: 7.6583\n",
            "Epoch 9/100\n",
            "1/1 [==============================] - 0s 32ms/step - loss: 7.5258 - mae: 7.5258\n",
            "Epoch 10/100\n",
            "1/1 [==============================] - 0s 17ms/step - loss: 7.4325 - mae: 7.4325\n",
            "Epoch 11/100\n",
            "1/1 [==============================] - 0s 26ms/step - loss: 7.4269 - mae: 7.4269\n",
            "Epoch 12/100\n",
            "1/1 [==============================] - 0s 16ms/step - loss: 7.4213 - mae: 7.4213\n",
            "Epoch 13/100\n",
            "1/1 [==============================] - 0s 16ms/step - loss: 7.4156 - mae: 7.4156\n",
            "Epoch 14/100\n",
            "1/1 [==============================] - 0s 15ms/step - loss: 7.4100 - mae: 7.4100\n",
            "Epoch 15/100\n",
            "1/1 [==============================] - 0s 17ms/step - loss: 7.4044 - mae: 7.4044\n",
            "Epoch 16/100\n",
            "1/1 [==============================] - 0s 20ms/step - loss: 7.3988 - mae: 7.3988\n",
            "Epoch 17/100\n",
            "1/1 [==============================] - 0s 21ms/step - loss: 7.3931 - mae: 7.3931\n",
            "Epoch 18/100\n",
            "1/1 [==============================] - 0s 76ms/step - loss: 7.3875 - mae: 7.3875\n",
            "Epoch 19/100\n",
            "1/1 [==============================] - 0s 87ms/step - loss: 7.3819 - mae: 7.3819\n",
            "Epoch 20/100\n",
            "1/1 [==============================] - 0s 94ms/step - loss: 7.3763 - mae: 7.3763\n",
            "Epoch 21/100\n",
            "1/1 [==============================] - 0s 45ms/step - loss: 7.3706 - mae: 7.3706\n",
            "Epoch 22/100\n",
            "1/1 [==============================] - 0s 57ms/step - loss: 7.3650 - mae: 7.3650\n",
            "Epoch 23/100\n",
            "1/1 [==============================] - 0s 55ms/step - loss: 7.3594 - mae: 7.3594\n",
            "Epoch 24/100\n",
            "1/1 [==============================] - 0s 41ms/step - loss: 7.3538 - mae: 7.3538\n",
            "Epoch 25/100\n",
            "1/1 [==============================] - 0s 45ms/step - loss: 7.3481 - mae: 7.3481\n",
            "Epoch 26/100\n",
            "1/1 [==============================] - 0s 38ms/step - loss: 7.3425 - mae: 7.3425\n",
            "Epoch 27/100\n",
            "1/1 [==============================] - 0s 36ms/step - loss: 7.3369 - mae: 7.3369\n",
            "Epoch 28/100\n",
            "1/1 [==============================] - 0s 29ms/step - loss: 7.3313 - mae: 7.3313\n",
            "Epoch 29/100\n",
            "1/1 [==============================] - 0s 36ms/step - loss: 7.3256 - mae: 7.3256\n",
            "Epoch 30/100\n",
            "1/1 [==============================] - 0s 34ms/step - loss: 7.3200 - mae: 7.3200\n",
            "Epoch 31/100\n",
            "1/1 [==============================] - 0s 29ms/step - loss: 7.3144 - mae: 7.3144\n",
            "Epoch 32/100\n",
            "1/1 [==============================] - 0s 31ms/step - loss: 7.3088 - mae: 7.3088\n",
            "Epoch 33/100\n",
            "1/1 [==============================] - 0s 34ms/step - loss: 7.3031 - mae: 7.3031\n",
            "Epoch 34/100\n",
            "1/1 [==============================] - 0s 60ms/step - loss: 7.2975 - mae: 7.2975\n",
            "Epoch 35/100\n",
            "1/1 [==============================] - 0s 74ms/step - loss: 7.2919 - mae: 7.2919\n",
            "Epoch 36/100\n",
            "1/1 [==============================] - 0s 48ms/step - loss: 7.2863 - mae: 7.2863\n",
            "Epoch 37/100\n",
            "1/1 [==============================] - 0s 42ms/step - loss: 7.2806 - mae: 7.2806\n",
            "Epoch 38/100\n",
            "1/1 [==============================] - 0s 38ms/step - loss: 7.2750 - mae: 7.2750\n",
            "Epoch 39/100\n",
            "1/1 [==============================] - 0s 47ms/step - loss: 7.2694 - mae: 7.2694\n",
            "Epoch 40/100\n",
            "1/1 [==============================] - 0s 21ms/step - loss: 7.2638 - mae: 7.2638\n",
            "Epoch 41/100\n",
            "1/1 [==============================] - 0s 18ms/step - loss: 7.2581 - mae: 7.2581\n",
            "Epoch 42/100\n",
            "1/1 [==============================] - 0s 12ms/step - loss: 7.2525 - mae: 7.2525\n",
            "Epoch 43/100\n",
            "1/1 [==============================] - 0s 19ms/step - loss: 7.2469 - mae: 7.2469\n",
            "Epoch 44/100\n",
            "1/1 [==============================] - 0s 58ms/step - loss: 7.2413 - mae: 7.2413\n",
            "Epoch 45/100\n",
            "1/1 [==============================] - 0s 46ms/step - loss: 7.2356 - mae: 7.2356\n",
            "Epoch 46/100\n",
            "1/1 [==============================] - 0s 61ms/step - loss: 7.2300 - mae: 7.2300\n",
            "Epoch 47/100\n",
            "1/1 [==============================] - 0s 18ms/step - loss: 7.2244 - mae: 7.2244\n",
            "Epoch 48/100\n",
            "1/1 [==============================] - 0s 16ms/step - loss: 7.2188 - mae: 7.2188\n",
            "Epoch 49/100\n",
            "1/1 [==============================] - 0s 26ms/step - loss: 7.2131 - mae: 7.2131\n",
            "Epoch 50/100\n",
            "1/1 [==============================] - 0s 20ms/step - loss: 7.2075 - mae: 7.2075\n",
            "Epoch 51/100\n",
            "1/1 [==============================] - 0s 26ms/step - loss: 7.2019 - mae: 7.2019\n",
            "Epoch 52/100\n",
            "1/1 [==============================] - 0s 18ms/step - loss: 7.1962 - mae: 7.1962\n",
            "Epoch 53/100\n",
            "1/1 [==============================] - 0s 46ms/step - loss: 7.1906 - mae: 7.1906\n",
            "Epoch 54/100\n",
            "1/1 [==============================] - 0s 20ms/step - loss: 7.1850 - mae: 7.1850\n",
            "Epoch 55/100\n",
            "1/1 [==============================] - 0s 16ms/step - loss: 7.1794 - mae: 7.1794\n",
            "Epoch 56/100\n",
            "1/1 [==============================] - 0s 14ms/step - loss: 7.1738 - mae: 7.1738\n",
            "Epoch 57/100\n",
            "1/1 [==============================] - 0s 14ms/step - loss: 7.1681 - mae: 7.1681\n",
            "Epoch 58/100\n",
            "1/1 [==============================] - 0s 14ms/step - loss: 7.1625 - mae: 7.1625\n",
            "Epoch 59/100\n",
            "1/1 [==============================] - 0s 17ms/step - loss: 7.1569 - mae: 7.1569\n",
            "Epoch 60/100\n",
            "1/1 [==============================] - 0s 14ms/step - loss: 7.1513 - mae: 7.1513\n",
            "Epoch 61/100\n",
            "1/1 [==============================] - 0s 15ms/step - loss: 7.1456 - mae: 7.1456\n",
            "Epoch 62/100\n",
            "1/1 [==============================] - 0s 21ms/step - loss: 7.1400 - mae: 7.1400\n",
            "Epoch 63/100\n",
            "1/1 [==============================] - 0s 16ms/step - loss: 7.1344 - mae: 7.1344\n",
            "Epoch 64/100\n",
            "1/1 [==============================] - 0s 21ms/step - loss: 7.1288 - mae: 7.1288\n",
            "Epoch 65/100\n",
            "1/1 [==============================] - 0s 20ms/step - loss: 7.1231 - mae: 7.1231\n",
            "Epoch 66/100\n",
            "1/1 [==============================] - 0s 20ms/step - loss: 7.1175 - mae: 7.1175\n",
            "Epoch 67/100\n",
            "1/1 [==============================] - 0s 20ms/step - loss: 7.1119 - mae: 7.1119\n",
            "Epoch 68/100\n",
            "1/1 [==============================] - 0s 20ms/step - loss: 7.1063 - mae: 7.1063\n",
            "Epoch 69/100\n",
            "1/1 [==============================] - 0s 24ms/step - loss: 7.1006 - mae: 7.1006\n",
            "Epoch 70/100\n",
            "1/1 [==============================] - 0s 43ms/step - loss: 7.0950 - mae: 7.0950\n",
            "Epoch 71/100\n",
            "1/1 [==============================] - 0s 20ms/step - loss: 7.0894 - mae: 7.0894\n",
            "Epoch 72/100\n",
            "1/1 [==============================] - 0s 20ms/step - loss: 7.0838 - mae: 7.0838\n",
            "Epoch 73/100\n",
            "1/1 [==============================] - 0s 18ms/step - loss: 7.0781 - mae: 7.0781\n",
            "Epoch 74/100\n",
            "1/1 [==============================] - 0s 16ms/step - loss: 7.0725 - mae: 7.0725\n",
            "Epoch 75/100\n",
            "1/1 [==============================] - 0s 11ms/step - loss: 7.0669 - mae: 7.0669\n",
            "Epoch 76/100\n",
            "1/1 [==============================] - 0s 26ms/step - loss: 7.0613 - mae: 7.0613\n",
            "Epoch 77/100\n",
            "1/1 [==============================] - 0s 15ms/step - loss: 7.0556 - mae: 7.0556\n",
            "Epoch 78/100\n",
            "1/1 [==============================] - 0s 19ms/step - loss: 7.0500 - mae: 7.0500\n",
            "Epoch 79/100\n",
            "1/1 [==============================] - 0s 21ms/step - loss: 7.0444 - mae: 7.0444\n",
            "Epoch 80/100\n",
            "1/1 [==============================] - 0s 11ms/step - loss: 7.0388 - mae: 7.0388\n",
            "Epoch 81/100\n",
            "1/1 [==============================] - 0s 11ms/step - loss: 7.0331 - mae: 7.0331\n",
            "Epoch 82/100\n",
            "1/1 [==============================] - 0s 11ms/step - loss: 7.0275 - mae: 7.0275\n",
            "Epoch 83/100\n",
            "1/1 [==============================] - 0s 21ms/step - loss: 7.0219 - mae: 7.0219\n",
            "Epoch 84/100\n",
            "1/1 [==============================] - 0s 21ms/step - loss: 7.0163 - mae: 7.0163\n",
            "Epoch 85/100\n",
            "1/1 [==============================] - 0s 17ms/step - loss: 7.0106 - mae: 7.0106\n",
            "Epoch 86/100\n",
            "1/1 [==============================] - 0s 26ms/step - loss: 7.0050 - mae: 7.0050\n",
            "Epoch 87/100\n",
            "1/1 [==============================] - 0s 21ms/step - loss: 6.9994 - mae: 6.9994\n",
            "Epoch 88/100\n",
            "1/1 [==============================] - 0s 18ms/step - loss: 6.9938 - mae: 6.9938\n",
            "Epoch 89/100\n",
            "1/1 [==============================] - 0s 12ms/step - loss: 6.9881 - mae: 6.9881\n",
            "Epoch 90/100\n",
            "1/1 [==============================] - 0s 14ms/step - loss: 6.9825 - mae: 6.9825\n",
            "Epoch 91/100\n",
            "1/1 [==============================] - 0s 14ms/step - loss: 6.9769 - mae: 6.9769\n",
            "Epoch 92/100\n",
            "1/1 [==============================] - 0s 14ms/step - loss: 6.9713 - mae: 6.9713\n",
            "Epoch 93/100\n",
            "1/1 [==============================] - 0s 19ms/step - loss: 6.9656 - mae: 6.9656\n",
            "Epoch 94/100\n",
            "1/1 [==============================] - 0s 11ms/step - loss: 6.9600 - mae: 6.9600\n",
            "Epoch 95/100\n",
            "1/1 [==============================] - 0s 21ms/step - loss: 6.9544 - mae: 6.9544\n",
            "Epoch 96/100\n",
            "1/1 [==============================] - 0s 15ms/step - loss: 6.9488 - mae: 6.9488\n",
            "Epoch 97/100\n",
            "1/1 [==============================] - 0s 14ms/step - loss: 6.9431 - mae: 6.9431\n",
            "Epoch 98/100\n",
            "1/1 [==============================] - 0s 18ms/step - loss: 6.9375 - mae: 6.9375\n",
            "Epoch 99/100\n",
            "1/1 [==============================] - 0s 18ms/step - loss: 6.9319 - mae: 6.9319\n",
            "Epoch 100/100\n",
            "1/1 [==============================] - 0s 16ms/step - loss: 6.9263 - mae: 6.9263\n"
          ]
        },
        {
          "output_type": "execute_result",
          "data": {
            "text/plain": [
              "<keras.callbacks.History at 0x7f0711f5f220>"
            ]
          },
          "metadata": {},
          "execution_count": 15
        }
      ]
    },
    {
      "cell_type": "code",
      "source": [
        "X, y"
      ],
      "metadata": {
        "colab": {
          "base_uri": "https://localhost:8080/"
        },
        "id": "DljP-ns9cwTe",
        "outputId": "d65be422-06b4-4f58-dc00-0e5d0c2650e2"
      },
      "execution_count": 16,
      "outputs": [
        {
          "output_type": "execute_result",
          "data": {
            "text/plain": [
              "(<tf.Tensor: shape=(8,), dtype=float64, numpy=array([-7., -4., -1.,  2.,  5.,  8., 11., 14.])>,\n",
              " <tf.Tensor: shape=(8,), dtype=float64, numpy=array([ 3.,  6.,  9., 12., 15., 18., 21., 24.])>)"
            ]
          },
          "metadata": {},
          "execution_count": 16
        }
      ]
    },
    {
      "cell_type": "code",
      "source": [
        "model.predict([17.0])"
      ],
      "metadata": {
        "colab": {
          "base_uri": "https://localhost:8080/"
        },
        "id": "tD9NvNzRdJKt",
        "outputId": "589797d8-d58d-4fd7-f470-3fe509df1528"
      },
      "execution_count": 17,
      "outputs": [
        {
          "output_type": "stream",
          "name": "stdout",
          "text": [
            "1/1 [==============================] - 0s 109ms/step\n"
          ]
        },
        {
          "output_type": "execute_result",
          "data": {
            "text/plain": [
              "array([[29.99644]], dtype=float32)"
            ]
          },
          "metadata": {},
          "execution_count": 17
        }
      ]
    },
    {
      "cell_type": "code",
      "source": [
        "model = tf.keras.Sequential([\n",
        "    tf.keras.layers.Dense(10),\n",
        "    tf.keras.layers.Dense(1)\n",
        "])\n",
        "\n",
        "\n",
        "model.compile(loss=tf.keras.metrics.mae,\n",
        "              optimizer=tf.keras.optimizers.SGD(),\n",
        "              metrics=tf.keras.metrics.mae)\n",
        "\n",
        "model.fit(tf.expand_dims(X, axis=-1), y, epochs=100)"
      ],
      "metadata": {
        "colab": {
          "base_uri": "https://localhost:8080/"
        },
        "id": "l8qe4u3bdP8N",
        "outputId": "f83339cd-f2bb-446b-bf6b-e50531025371"
      },
      "execution_count": 18,
      "outputs": [
        {
          "output_type": "stream",
          "name": "stdout",
          "text": [
            "Epoch 1/100\n",
            "1/1 [==============================] - 1s 1s/step - loss: 15.6593 - mean_absolute_error: 15.6593\n",
            "Epoch 2/100\n",
            "1/1 [==============================] - 0s 30ms/step - loss: 14.5958 - mean_absolute_error: 14.5958\n",
            "Epoch 3/100\n",
            "1/1 [==============================] - 0s 14ms/step - loss: 14.0269 - mean_absolute_error: 14.0269\n",
            "Epoch 4/100\n",
            "1/1 [==============================] - 0s 16ms/step - loss: 13.4623 - mean_absolute_error: 13.4623\n",
            "Epoch 5/100\n",
            "1/1 [==============================] - 0s 27ms/step - loss: 12.8992 - mean_absolute_error: 12.8992\n",
            "Epoch 6/100\n",
            "1/1 [==============================] - 0s 22ms/step - loss: 12.3345 - mean_absolute_error: 12.3345\n",
            "Epoch 7/100\n",
            "1/1 [==============================] - 0s 11ms/step - loss: 11.7654 - mean_absolute_error: 11.7654\n",
            "Epoch 8/100\n",
            "1/1 [==============================] - 0s 10ms/step - loss: 11.1889 - mean_absolute_error: 11.1889\n",
            "Epoch 9/100\n",
            "1/1 [==============================] - 0s 18ms/step - loss: 10.6019 - mean_absolute_error: 10.6019\n",
            "Epoch 10/100\n",
            "1/1 [==============================] - 0s 19ms/step - loss: 10.0016 - mean_absolute_error: 10.0016\n",
            "Epoch 11/100\n",
            "1/1 [==============================] - 0s 20ms/step - loss: 9.3848 - mean_absolute_error: 9.3848\n",
            "Epoch 12/100\n",
            "1/1 [==============================] - 0s 16ms/step - loss: 8.7483 - mean_absolute_error: 8.7483\n",
            "Epoch 13/100\n",
            "1/1 [==============================] - 0s 18ms/step - loss: 8.0888 - mean_absolute_error: 8.0888\n",
            "Epoch 14/100\n",
            "1/1 [==============================] - 0s 22ms/step - loss: 7.4030 - mean_absolute_error: 7.4030\n",
            "Epoch 15/100\n",
            "1/1 [==============================] - 0s 21ms/step - loss: 7.1111 - mean_absolute_error: 7.1111\n",
            "Epoch 16/100\n",
            "1/1 [==============================] - 0s 16ms/step - loss: 7.0877 - mean_absolute_error: 7.0877\n",
            "Epoch 17/100\n",
            "1/1 [==============================] - 0s 23ms/step - loss: 7.0642 - mean_absolute_error: 7.0642\n",
            "Epoch 18/100\n",
            "1/1 [==============================] - 0s 25ms/step - loss: 7.0406 - mean_absolute_error: 7.0406\n",
            "Epoch 19/100\n",
            "1/1 [==============================] - 0s 15ms/step - loss: 7.0170 - mean_absolute_error: 7.0170\n",
            "Epoch 20/100\n",
            "1/1 [==============================] - 0s 37ms/step - loss: 6.9933 - mean_absolute_error: 6.9933\n",
            "Epoch 21/100\n",
            "1/1 [==============================] - 0s 18ms/step - loss: 6.9694 - mean_absolute_error: 6.9694\n",
            "Epoch 22/100\n",
            "1/1 [==============================] - 0s 20ms/step - loss: 6.9455 - mean_absolute_error: 6.9455\n",
            "Epoch 23/100\n",
            "1/1 [==============================] - 0s 16ms/step - loss: 6.9216 - mean_absolute_error: 6.9216\n",
            "Epoch 24/100\n",
            "1/1 [==============================] - 0s 25ms/step - loss: 6.8975 - mean_absolute_error: 6.8975\n",
            "Epoch 25/100\n",
            "1/1 [==============================] - 0s 20ms/step - loss: 6.8733 - mean_absolute_error: 6.8733\n",
            "Epoch 26/100\n",
            "1/1 [==============================] - 0s 20ms/step - loss: 6.8490 - mean_absolute_error: 6.8490\n",
            "Epoch 27/100\n",
            "1/1 [==============================] - 0s 25ms/step - loss: 6.8246 - mean_absolute_error: 6.8246\n",
            "Epoch 28/100\n",
            "1/1 [==============================] - 0s 11ms/step - loss: 6.8001 - mean_absolute_error: 6.8001\n",
            "Epoch 29/100\n",
            "1/1 [==============================] - 0s 17ms/step - loss: 6.7860 - mean_absolute_error: 6.7860\n",
            "Epoch 30/100\n",
            "1/1 [==============================] - 0s 19ms/step - loss: 6.7666 - mean_absolute_error: 6.7666\n",
            "Epoch 31/100\n",
            "1/1 [==============================] - 0s 15ms/step - loss: 6.7423 - mean_absolute_error: 6.7423\n",
            "Epoch 32/100\n",
            "1/1 [==============================] - 0s 19ms/step - loss: 6.7179 - mean_absolute_error: 6.7179\n",
            "Epoch 33/100\n",
            "1/1 [==============================] - 0s 22ms/step - loss: 6.6934 - mean_absolute_error: 6.6934\n",
            "Epoch 34/100\n",
            "1/1 [==============================] - 0s 27ms/step - loss: 6.6688 - mean_absolute_error: 6.6688\n",
            "Epoch 35/100\n",
            "1/1 [==============================] - 0s 25ms/step - loss: 6.6440 - mean_absolute_error: 6.6440\n",
            "Epoch 36/100\n",
            "1/1 [==============================] - 0s 41ms/step - loss: 6.6190 - mean_absolute_error: 6.6190\n",
            "Epoch 37/100\n",
            "1/1 [==============================] - 0s 21ms/step - loss: 6.5940 - mean_absolute_error: 6.5940\n",
            "Epoch 38/100\n",
            "1/1 [==============================] - 0s 20ms/step - loss: 6.5687 - mean_absolute_error: 6.5687\n",
            "Epoch 39/100\n",
            "1/1 [==============================] - 0s 24ms/step - loss: 6.5433 - mean_absolute_error: 6.5433\n",
            "Epoch 40/100\n",
            "1/1 [==============================] - 0s 24ms/step - loss: 6.5178 - mean_absolute_error: 6.5178\n",
            "Epoch 41/100\n",
            "1/1 [==============================] - 0s 41ms/step - loss: 6.4921 - mean_absolute_error: 6.4921\n",
            "Epoch 42/100\n",
            "1/1 [==============================] - 0s 24ms/step - loss: 6.4662 - mean_absolute_error: 6.4662\n",
            "Epoch 43/100\n",
            "1/1 [==============================] - 0s 21ms/step - loss: 6.4402 - mean_absolute_error: 6.4402\n",
            "Epoch 44/100\n",
            "1/1 [==============================] - 0s 27ms/step - loss: 6.4139 - mean_absolute_error: 6.4139\n",
            "Epoch 45/100\n",
            "1/1 [==============================] - 0s 17ms/step - loss: 6.3875 - mean_absolute_error: 6.3875\n",
            "Epoch 46/100\n",
            "1/1 [==============================] - 0s 18ms/step - loss: 6.3609 - mean_absolute_error: 6.3609\n",
            "Epoch 47/100\n",
            "1/1 [==============================] - 0s 10ms/step - loss: 6.3341 - mean_absolute_error: 6.3341\n",
            "Epoch 48/100\n",
            "1/1 [==============================] - 0s 14ms/step - loss: 6.3071 - mean_absolute_error: 6.3071\n",
            "Epoch 49/100\n",
            "1/1 [==============================] - 0s 18ms/step - loss: 6.2799 - mean_absolute_error: 6.2799\n",
            "Epoch 50/100\n",
            "1/1 [==============================] - 0s 15ms/step - loss: 6.2525 - mean_absolute_error: 6.2525\n",
            "Epoch 51/100\n",
            "1/1 [==============================] - 0s 13ms/step - loss: 6.2249 - mean_absolute_error: 6.2249\n",
            "Epoch 52/100\n",
            "1/1 [==============================] - 0s 42ms/step - loss: 6.1971 - mean_absolute_error: 6.1971\n",
            "Epoch 53/100\n",
            "1/1 [==============================] - 0s 12ms/step - loss: 6.1878 - mean_absolute_error: 6.1878\n",
            "Epoch 54/100\n",
            "1/1 [==============================] - 0s 21ms/step - loss: 6.1636 - mean_absolute_error: 6.1636\n",
            "Epoch 55/100\n",
            "1/1 [==============================] - 0s 13ms/step - loss: 6.1357 - mean_absolute_error: 6.1357\n",
            "Epoch 56/100\n",
            "1/1 [==============================] - 0s 11ms/step - loss: 6.1076 - mean_absolute_error: 6.1076\n",
            "Epoch 57/100\n",
            "1/1 [==============================] - 0s 31ms/step - loss: 6.0792 - mean_absolute_error: 6.0792\n",
            "Epoch 58/100\n",
            "1/1 [==============================] - 0s 22ms/step - loss: 6.0506 - mean_absolute_error: 6.0506\n",
            "Epoch 59/100\n",
            "1/1 [==============================] - 0s 25ms/step - loss: 6.0218 - mean_absolute_error: 6.0218\n",
            "Epoch 60/100\n",
            "1/1 [==============================] - 0s 15ms/step - loss: 5.9927 - mean_absolute_error: 5.9927\n",
            "Epoch 61/100\n",
            "1/1 [==============================] - 0s 53ms/step - loss: 5.9633 - mean_absolute_error: 5.9633\n",
            "Epoch 62/100\n",
            "1/1 [==============================] - 0s 60ms/step - loss: 5.9337 - mean_absolute_error: 5.9337\n",
            "Epoch 63/100\n",
            "1/1 [==============================] - 0s 46ms/step - loss: 5.9038 - mean_absolute_error: 5.9038\n",
            "Epoch 64/100\n",
            "1/1 [==============================] - 0s 45ms/step - loss: 5.8737 - mean_absolute_error: 5.8737\n",
            "Epoch 65/100\n",
            "1/1 [==============================] - 0s 32ms/step - loss: 5.8432 - mean_absolute_error: 5.8432\n",
            "Epoch 66/100\n",
            "1/1 [==============================] - 0s 23ms/step - loss: 5.8125 - mean_absolute_error: 5.8125\n",
            "Epoch 67/100\n",
            "1/1 [==============================] - 0s 21ms/step - loss: 5.7815 - mean_absolute_error: 5.7815\n",
            "Epoch 68/100\n",
            "1/1 [==============================] - 0s 15ms/step - loss: 5.7502 - mean_absolute_error: 5.7502\n",
            "Epoch 69/100\n",
            "1/1 [==============================] - 0s 39ms/step - loss: 5.7186 - mean_absolute_error: 5.7186\n",
            "Epoch 70/100\n",
            "1/1 [==============================] - 0s 40ms/step - loss: 5.6867 - mean_absolute_error: 5.6867\n",
            "Epoch 71/100\n",
            "1/1 [==============================] - 0s 29ms/step - loss: 5.6602 - mean_absolute_error: 5.6602\n",
            "Epoch 72/100\n",
            "1/1 [==============================] - 0s 14ms/step - loss: 5.6981 - mean_absolute_error: 5.6981\n",
            "Epoch 73/100\n",
            "1/1 [==============================] - 0s 20ms/step - loss: 5.7675 - mean_absolute_error: 5.7675\n",
            "Epoch 74/100\n",
            "1/1 [==============================] - 0s 19ms/step - loss: 5.5818 - mean_absolute_error: 5.5818\n",
            "Epoch 75/100\n",
            "1/1 [==============================] - 0s 25ms/step - loss: 5.5488 - mean_absolute_error: 5.5488\n",
            "Epoch 76/100\n",
            "1/1 [==============================] - 0s 22ms/step - loss: 5.5154 - mean_absolute_error: 5.5154\n",
            "Epoch 77/100\n",
            "1/1 [==============================] - 0s 18ms/step - loss: 5.4818 - mean_absolute_error: 5.4818\n",
            "Epoch 78/100\n",
            "1/1 [==============================] - 0s 16ms/step - loss: 5.4477 - mean_absolute_error: 5.4477\n",
            "Epoch 79/100\n",
            "1/1 [==============================] - 0s 31ms/step - loss: 5.4133 - mean_absolute_error: 5.4133\n",
            "Epoch 80/100\n",
            "1/1 [==============================] - 0s 21ms/step - loss: 5.3786 - mean_absolute_error: 5.3786\n",
            "Epoch 81/100\n",
            "1/1 [==============================] - 0s 20ms/step - loss: 5.3435 - mean_absolute_error: 5.3435\n",
            "Epoch 82/100\n",
            "1/1 [==============================] - 0s 24ms/step - loss: 5.3080 - mean_absolute_error: 5.3080\n",
            "Epoch 83/100\n",
            "1/1 [==============================] - 0s 52ms/step - loss: 5.2721 - mean_absolute_error: 5.2721\n",
            "Epoch 84/100\n",
            "1/1 [==============================] - 0s 36ms/step - loss: 5.2573 - mean_absolute_error: 5.2573\n",
            "Epoch 85/100\n",
            "1/1 [==============================] - 0s 44ms/step - loss: 5.3197 - mean_absolute_error: 5.3197\n",
            "Epoch 86/100\n",
            "1/1 [==============================] - 0s 37ms/step - loss: 5.3694 - mean_absolute_error: 5.3694\n",
            "Epoch 87/100\n",
            "1/1 [==============================] - 0s 36ms/step - loss: 5.1541 - mean_absolute_error: 5.1541\n",
            "Epoch 88/100\n",
            "1/1 [==============================] - 0s 26ms/step - loss: 5.1167 - mean_absolute_error: 5.1167\n",
            "Epoch 89/100\n",
            "1/1 [==============================] - 0s 36ms/step - loss: 5.0790 - mean_absolute_error: 5.0790\n",
            "Epoch 90/100\n",
            "1/1 [==============================] - 0s 20ms/step - loss: 5.0408 - mean_absolute_error: 5.0408\n",
            "Epoch 91/100\n",
            "1/1 [==============================] - 0s 22ms/step - loss: 5.0022 - mean_absolute_error: 5.0022\n",
            "Epoch 92/100\n",
            "1/1 [==============================] - 0s 18ms/step - loss: 4.9632 - mean_absolute_error: 4.9632\n",
            "Epoch 93/100\n",
            "1/1 [==============================] - 0s 18ms/step - loss: 4.9237 - mean_absolute_error: 4.9237\n",
            "Epoch 94/100\n",
            "1/1 [==============================] - 0s 29ms/step - loss: 4.8837 - mean_absolute_error: 4.8837\n",
            "Epoch 95/100\n",
            "1/1 [==============================] - 0s 19ms/step - loss: 4.8433 - mean_absolute_error: 4.8433\n",
            "Epoch 96/100\n",
            "1/1 [==============================] - 0s 26ms/step - loss: 4.8360 - mean_absolute_error: 4.8360\n",
            "Epoch 97/100\n",
            "1/1 [==============================] - 0s 85ms/step - loss: 4.9370 - mean_absolute_error: 4.9370\n",
            "Epoch 98/100\n",
            "1/1 [==============================] - 0s 45ms/step - loss: 4.9522 - mean_absolute_error: 4.9522\n",
            "Epoch 99/100\n",
            "1/1 [==============================] - 0s 19ms/step - loss: 4.7096 - mean_absolute_error: 4.7096\n",
            "Epoch 100/100\n",
            "1/1 [==============================] - 0s 28ms/step - loss: 4.6674 - mean_absolute_error: 4.6674\n"
          ]
        },
        {
          "output_type": "execute_result",
          "data": {
            "text/plain": [
              "<keras.callbacks.History at 0x7f071308c310>"
            ]
          },
          "metadata": {},
          "execution_count": 18
        }
      ]
    },
    {
      "cell_type": "code",
      "source": [
        "model = tf.keras.Sequential([\n",
        "    tf.keras.layers.Dense(1)\n",
        "])\n",
        "\n",
        "model.compile(loss=tf.keras.metrics.mae,\n",
        "              optimizer=tf.keras.optimizers.Adam(lr=0.05),\n",
        "              metrics=([\"mae\"]))\n",
        "\n",
        "model.fit(tf.expand_dims(X, axis=-1), y, epochs=100)"
      ],
      "metadata": {
        "colab": {
          "base_uri": "https://localhost:8080/"
        },
        "id": "JSVhtE8Ye4yH",
        "outputId": "6cebee7b-9a2b-419b-9e9b-b0655fb98038"
      },
      "execution_count": 19,
      "outputs": [
        {
          "output_type": "stream",
          "name": "stderr",
          "text": [
            "WARNING:absl:`lr` is deprecated in Keras optimizer, please use `learning_rate` or use the legacy optimizer, e.g.,tf.keras.optimizers.legacy.Adam.\n"
          ]
        },
        {
          "output_type": "stream",
          "name": "stdout",
          "text": [
            "Epoch 1/100\n",
            "1/1 [==============================] - 1s 1s/step - loss: 10.5667 - mae: 10.5667\n",
            "Epoch 2/100\n",
            "1/1 [==============================] - 0s 35ms/step - loss: 10.5622 - mae: 10.5622\n",
            "Epoch 3/100\n",
            "1/1 [==============================] - 0s 14ms/step - loss: 10.5577 - mae: 10.5577\n",
            "Epoch 4/100\n",
            "1/1 [==============================] - 0s 14ms/step - loss: 10.5532 - mae: 10.5532\n",
            "Epoch 5/100\n",
            "1/1 [==============================] - 0s 15ms/step - loss: 10.5487 - mae: 10.5487\n",
            "Epoch 6/100\n",
            "1/1 [==============================] - 0s 16ms/step - loss: 10.5442 - mae: 10.5442\n",
            "Epoch 7/100\n",
            "1/1 [==============================] - 0s 47ms/step - loss: 10.5397 - mae: 10.5397\n",
            "Epoch 8/100\n",
            "1/1 [==============================] - 0s 20ms/step - loss: 10.5352 - mae: 10.5352\n",
            "Epoch 9/100\n",
            "1/1 [==============================] - 0s 29ms/step - loss: 10.5307 - mae: 10.5307\n",
            "Epoch 10/100\n",
            "1/1 [==============================] - 0s 11ms/step - loss: 10.5262 - mae: 10.5262\n",
            "Epoch 11/100\n",
            "1/1 [==============================] - 0s 12ms/step - loss: 10.5217 - mae: 10.5217\n",
            "Epoch 12/100\n",
            "1/1 [==============================] - 0s 14ms/step - loss: 10.5172 - mae: 10.5172\n",
            "Epoch 13/100\n",
            "1/1 [==============================] - 0s 14ms/step - loss: 10.5127 - mae: 10.5127\n",
            "Epoch 14/100\n",
            "1/1 [==============================] - 0s 13ms/step - loss: 10.5082 - mae: 10.5082\n",
            "Epoch 15/100\n",
            "1/1 [==============================] - 0s 30ms/step - loss: 10.5037 - mae: 10.5037\n",
            "Epoch 16/100\n",
            "1/1 [==============================] - 0s 17ms/step - loss: 10.4992 - mae: 10.4992\n",
            "Epoch 17/100\n",
            "1/1 [==============================] - 0s 26ms/step - loss: 10.4947 - mae: 10.4947\n",
            "Epoch 18/100\n",
            "1/1 [==============================] - 0s 34ms/step - loss: 10.4902 - mae: 10.4902\n",
            "Epoch 19/100\n",
            "1/1 [==============================] - 0s 28ms/step - loss: 10.4857 - mae: 10.4857\n",
            "Epoch 20/100\n",
            "1/1 [==============================] - 0s 36ms/step - loss: 10.4812 - mae: 10.4812\n",
            "Epoch 21/100\n",
            "1/1 [==============================] - 0s 21ms/step - loss: 10.4767 - mae: 10.4767\n",
            "Epoch 22/100\n",
            "1/1 [==============================] - 0s 16ms/step - loss: 10.4722 - mae: 10.4722\n",
            "Epoch 23/100\n",
            "1/1 [==============================] - 0s 26ms/step - loss: 10.4677 - mae: 10.4677\n",
            "Epoch 24/100\n",
            "1/1 [==============================] - 0s 41ms/step - loss: 10.4632 - mae: 10.4632\n",
            "Epoch 25/100\n",
            "1/1 [==============================] - 0s 23ms/step - loss: 10.4587 - mae: 10.4587\n",
            "Epoch 26/100\n",
            "1/1 [==============================] - 0s 23ms/step - loss: 10.4542 - mae: 10.4542\n",
            "Epoch 27/100\n",
            "1/1 [==============================] - 0s 18ms/step - loss: 10.4497 - mae: 10.4497\n",
            "Epoch 28/100\n",
            "1/1 [==============================] - 0s 17ms/step - loss: 10.4452 - mae: 10.4452\n",
            "Epoch 29/100\n",
            "1/1 [==============================] - 0s 17ms/step - loss: 10.4407 - mae: 10.4407\n",
            "Epoch 30/100\n",
            "1/1 [==============================] - 0s 19ms/step - loss: 10.4362 - mae: 10.4362\n",
            "Epoch 31/100\n",
            "1/1 [==============================] - 0s 15ms/step - loss: 10.4317 - mae: 10.4317\n",
            "Epoch 32/100\n",
            "1/1 [==============================] - 0s 10ms/step - loss: 10.4272 - mae: 10.4272\n",
            "Epoch 33/100\n",
            "1/1 [==============================] - 0s 21ms/step - loss: 10.4227 - mae: 10.4227\n",
            "Epoch 34/100\n",
            "1/1 [==============================] - 0s 15ms/step - loss: 10.4182 - mae: 10.4182\n",
            "Epoch 35/100\n",
            "1/1 [==============================] - 0s 17ms/step - loss: 10.4137 - mae: 10.4137\n",
            "Epoch 36/100\n",
            "1/1 [==============================] - 0s 17ms/step - loss: 10.4092 - mae: 10.4092\n",
            "Epoch 37/100\n",
            "1/1 [==============================] - 0s 24ms/step - loss: 10.4047 - mae: 10.4047\n",
            "Epoch 38/100\n",
            "1/1 [==============================] - 0s 15ms/step - loss: 10.4002 - mae: 10.4002\n",
            "Epoch 39/100\n",
            "1/1 [==============================] - 0s 12ms/step - loss: 10.3957 - mae: 10.3957\n",
            "Epoch 40/100\n",
            "1/1 [==============================] - 0s 15ms/step - loss: 10.3912 - mae: 10.3912\n",
            "Epoch 41/100\n",
            "1/1 [==============================] - 0s 14ms/step - loss: 10.3867 - mae: 10.3867\n",
            "Epoch 42/100\n",
            "1/1 [==============================] - 0s 14ms/step - loss: 10.3822 - mae: 10.3822\n",
            "Epoch 43/100\n",
            "1/1 [==============================] - 0s 19ms/step - loss: 10.3777 - mae: 10.3777\n",
            "Epoch 44/100\n",
            "1/1 [==============================] - 0s 13ms/step - loss: 10.3732 - mae: 10.3732\n",
            "Epoch 45/100\n",
            "1/1 [==============================] - 0s 15ms/step - loss: 10.3687 - mae: 10.3687\n",
            "Epoch 46/100\n",
            "1/1 [==============================] - 0s 19ms/step - loss: 10.3642 - mae: 10.3642\n",
            "Epoch 47/100\n",
            "1/1 [==============================] - 0s 31ms/step - loss: 10.3597 - mae: 10.3597\n",
            "Epoch 48/100\n",
            "1/1 [==============================] - 0s 14ms/step - loss: 10.3552 - mae: 10.3552\n",
            "Epoch 49/100\n",
            "1/1 [==============================] - 0s 38ms/step - loss: 10.3507 - mae: 10.3507\n",
            "Epoch 50/100\n",
            "1/1 [==============================] - 0s 20ms/step - loss: 10.3462 - mae: 10.3462\n",
            "Epoch 51/100\n",
            "1/1 [==============================] - 0s 40ms/step - loss: 10.3417 - mae: 10.3417\n",
            "Epoch 52/100\n",
            "1/1 [==============================] - 0s 20ms/step - loss: 10.3372 - mae: 10.3372\n",
            "Epoch 53/100\n",
            "1/1 [==============================] - 0s 18ms/step - loss: 10.3327 - mae: 10.3327\n",
            "Epoch 54/100\n",
            "1/1 [==============================] - 0s 17ms/step - loss: 10.3282 - mae: 10.3282\n",
            "Epoch 55/100\n",
            "1/1 [==============================] - 0s 18ms/step - loss: 10.3237 - mae: 10.3237\n",
            "Epoch 56/100\n",
            "1/1 [==============================] - 0s 17ms/step - loss: 10.3192 - mae: 10.3192\n",
            "Epoch 57/100\n",
            "1/1 [==============================] - 0s 16ms/step - loss: 10.3147 - mae: 10.3147\n",
            "Epoch 58/100\n",
            "1/1 [==============================] - 0s 16ms/step - loss: 10.3102 - mae: 10.3102\n",
            "Epoch 59/100\n",
            "1/1 [==============================] - 0s 15ms/step - loss: 10.3057 - mae: 10.3057\n",
            "Epoch 60/100\n",
            "1/1 [==============================] - 0s 16ms/step - loss: 10.3012 - mae: 10.3012\n",
            "Epoch 61/100\n",
            "1/1 [==============================] - 0s 17ms/step - loss: 10.2967 - mae: 10.2967\n",
            "Epoch 62/100\n",
            "1/1 [==============================] - 0s 23ms/step - loss: 10.2922 - mae: 10.2922\n",
            "Epoch 63/100\n",
            "1/1 [==============================] - 0s 18ms/step - loss: 10.2877 - mae: 10.2877\n",
            "Epoch 64/100\n",
            "1/1 [==============================] - 0s 16ms/step - loss: 10.2832 - mae: 10.2832\n",
            "Epoch 65/100\n",
            "1/1 [==============================] - 0s 21ms/step - loss: 10.2787 - mae: 10.2787\n",
            "Epoch 66/100\n",
            "1/1 [==============================] - 0s 19ms/step - loss: 10.2742 - mae: 10.2742\n",
            "Epoch 67/100\n",
            "1/1 [==============================] - 0s 23ms/step - loss: 10.2697 - mae: 10.2697\n",
            "Epoch 68/100\n",
            "1/1 [==============================] - 0s 20ms/step - loss: 10.2652 - mae: 10.2652\n",
            "Epoch 69/100\n",
            "1/1 [==============================] - 0s 14ms/step - loss: 10.2607 - mae: 10.2607\n",
            "Epoch 70/100\n",
            "1/1 [==============================] - 0s 19ms/step - loss: 10.2562 - mae: 10.2562\n",
            "Epoch 71/100\n",
            "1/1 [==============================] - 0s 17ms/step - loss: 10.2517 - mae: 10.2517\n",
            "Epoch 72/100\n",
            "1/1 [==============================] - 0s 14ms/step - loss: 10.2472 - mae: 10.2472\n",
            "Epoch 73/100\n",
            "1/1 [==============================] - 0s 16ms/step - loss: 10.2427 - mae: 10.2427\n",
            "Epoch 74/100\n",
            "1/1 [==============================] - 0s 31ms/step - loss: 10.2382 - mae: 10.2382\n",
            "Epoch 75/100\n",
            "1/1 [==============================] - 0s 22ms/step - loss: 10.2337 - mae: 10.2337\n",
            "Epoch 76/100\n",
            "1/1 [==============================] - 0s 21ms/step - loss: 10.2292 - mae: 10.2292\n",
            "Epoch 77/100\n",
            "1/1 [==============================] - 0s 24ms/step - loss: 10.2247 - mae: 10.2247\n",
            "Epoch 78/100\n",
            "1/1 [==============================] - 0s 19ms/step - loss: 10.2202 - mae: 10.2202\n",
            "Epoch 79/100\n",
            "1/1 [==============================] - 0s 17ms/step - loss: 10.2157 - mae: 10.2157\n",
            "Epoch 80/100\n",
            "1/1 [==============================] - 0s 14ms/step - loss: 10.2112 - mae: 10.2112\n",
            "Epoch 81/100\n",
            "1/1 [==============================] - 0s 13ms/step - loss: 10.2067 - mae: 10.2067\n",
            "Epoch 82/100\n",
            "1/1 [==============================] - 0s 13ms/step - loss: 10.2022 - mae: 10.2022\n",
            "Epoch 83/100\n",
            "1/1 [==============================] - 0s 14ms/step - loss: 10.1977 - mae: 10.1977\n",
            "Epoch 84/100\n",
            "1/1 [==============================] - 0s 13ms/step - loss: 10.1932 - mae: 10.1932\n",
            "Epoch 85/100\n",
            "1/1 [==============================] - 0s 12ms/step - loss: 10.1887 - mae: 10.1887\n",
            "Epoch 86/100\n",
            "1/1 [==============================] - 0s 16ms/step - loss: 10.1842 - mae: 10.1842\n",
            "Epoch 87/100\n",
            "1/1 [==============================] - 0s 15ms/step - loss: 10.1797 - mae: 10.1797\n",
            "Epoch 88/100\n",
            "1/1 [==============================] - 0s 16ms/step - loss: 10.1752 - mae: 10.1752\n",
            "Epoch 89/100\n",
            "1/1 [==============================] - 0s 14ms/step - loss: 10.1707 - mae: 10.1707\n",
            "Epoch 90/100\n",
            "1/1 [==============================] - 0s 12ms/step - loss: 10.1662 - mae: 10.1662\n",
            "Epoch 91/100\n",
            "1/1 [==============================] - 0s 31ms/step - loss: 10.1617 - mae: 10.1617\n",
            "Epoch 92/100\n",
            "1/1 [==============================] - 0s 12ms/step - loss: 10.1572 - mae: 10.1572\n",
            "Epoch 93/100\n",
            "1/1 [==============================] - 0s 18ms/step - loss: 10.1527 - mae: 10.1527\n",
            "Epoch 94/100\n",
            "1/1 [==============================] - 0s 19ms/step - loss: 10.1482 - mae: 10.1482\n",
            "Epoch 95/100\n",
            "1/1 [==============================] - 0s 18ms/step - loss: 10.1437 - mae: 10.1437\n",
            "Epoch 96/100\n",
            "1/1 [==============================] - 0s 15ms/step - loss: 10.1392 - mae: 10.1392\n",
            "Epoch 97/100\n",
            "1/1 [==============================] - 0s 16ms/step - loss: 10.1347 - mae: 10.1347\n",
            "Epoch 98/100\n",
            "1/1 [==============================] - 0s 14ms/step - loss: 10.1302 - mae: 10.1302\n",
            "Epoch 99/100\n",
            "1/1 [==============================] - 0s 14ms/step - loss: 10.1257 - mae: 10.1257\n",
            "Epoch 100/100\n",
            "1/1 [==============================] - 0s 18ms/step - loss: 10.1212 - mae: 10.1212\n"
          ]
        },
        {
          "output_type": "execute_result",
          "data": {
            "text/plain": [
              "<keras.callbacks.History at 0x7f071307fe80>"
            ]
          },
          "metadata": {},
          "execution_count": 19
        }
      ]
    },
    {
      "cell_type": "code",
      "source": [
        "model.predict([17])"
      ],
      "metadata": {
        "colab": {
          "base_uri": "https://localhost:8080/"
        },
        "id": "Jax4UJbsiEUE",
        "outputId": "76f2ef33-ed8f-46ad-f73c-a6da1298d8c9"
      },
      "execution_count": 20,
      "outputs": [
        {
          "output_type": "stream",
          "name": "stdout",
          "text": [
            "1/1 [==============================] - 0s 266ms/step\n"
          ]
        },
        {
          "output_type": "execute_result",
          "data": {
            "text/plain": [
              "array([[16.047472]], dtype=float32)"
            ]
          },
          "metadata": {},
          "execution_count": 20
        }
      ]
    },
    {
      "cell_type": "code",
      "source": [
        "model = tf.keras.Sequential([\n",
        "    tf.keras.layers.Dense(50, activation=None),\n",
        "    tf.keras.layers.Dense(1)\n",
        "])\n",
        "\n",
        "model.compile(loss=\"mae\",\n",
        "              optimizer=tf.keras.optimizers.Adam(lr=0.01),\n",
        "              metrics=[\"mae\"])\n",
        "\n",
        "model.fit(tf.expand_dims(X, axis=-1), y, epochs=100)"
      ],
      "metadata": {
        "colab": {
          "base_uri": "https://localhost:8080/"
        },
        "id": "yibi-Co4i1bu",
        "outputId": "14f43610-b3a7-43cb-b980-d0c646ab9c3f"
      },
      "execution_count": 21,
      "outputs": [
        {
          "output_type": "stream",
          "name": "stderr",
          "text": [
            "WARNING:absl:`lr` is deprecated in Keras optimizer, please use `learning_rate` or use the legacy optimizer, e.g.,tf.keras.optimizers.legacy.Adam.\n"
          ]
        },
        {
          "output_type": "stream",
          "name": "stdout",
          "text": [
            "Epoch 1/100\n",
            "1/1 [==============================] - 1s 1s/step - loss: 12.1512 - mae: 12.1512\n",
            "Epoch 2/100\n",
            "1/1 [==============================] - 0s 27ms/step - loss: 12.0814 - mae: 12.0814\n",
            "Epoch 3/100\n",
            "1/1 [==============================] - 0s 22ms/step - loss: 12.0115 - mae: 12.0115\n",
            "Epoch 4/100\n",
            "1/1 [==============================] - 0s 15ms/step - loss: 11.9416 - mae: 11.9416\n",
            "Epoch 5/100\n",
            "1/1 [==============================] - 0s 20ms/step - loss: 11.8717 - mae: 11.8717\n",
            "Epoch 6/100\n",
            "1/1 [==============================] - 0s 22ms/step - loss: 11.8017 - mae: 11.8017\n",
            "Epoch 7/100\n",
            "1/1 [==============================] - 0s 19ms/step - loss: 11.7316 - mae: 11.7316\n",
            "Epoch 8/100\n",
            "1/1 [==============================] - 0s 25ms/step - loss: 11.6615 - mae: 11.6615\n",
            "Epoch 9/100\n",
            "1/1 [==============================] - 0s 14ms/step - loss: 11.5913 - mae: 11.5913\n",
            "Epoch 10/100\n",
            "1/1 [==============================] - 0s 14ms/step - loss: 11.5210 - mae: 11.5210\n",
            "Epoch 11/100\n",
            "1/1 [==============================] - 0s 36ms/step - loss: 11.4507 - mae: 11.4507\n",
            "Epoch 12/100\n",
            "1/1 [==============================] - 0s 18ms/step - loss: 11.3803 - mae: 11.3803\n",
            "Epoch 13/100\n",
            "1/1 [==============================] - 0s 17ms/step - loss: 11.3098 - mae: 11.3098\n",
            "Epoch 14/100\n",
            "1/1 [==============================] - 0s 36ms/step - loss: 11.2392 - mae: 11.2392\n",
            "Epoch 15/100\n",
            "1/1 [==============================] - 0s 22ms/step - loss: 11.1686 - mae: 11.1686\n",
            "Epoch 16/100\n",
            "1/1 [==============================] - 0s 19ms/step - loss: 11.0978 - mae: 11.0978\n",
            "Epoch 17/100\n",
            "1/1 [==============================] - 0s 29ms/step - loss: 11.0270 - mae: 11.0270\n",
            "Epoch 18/100\n",
            "1/1 [==============================] - 0s 22ms/step - loss: 10.9560 - mae: 10.9560\n",
            "Epoch 19/100\n",
            "1/1 [==============================] - 0s 22ms/step - loss: 10.8850 - mae: 10.8850\n",
            "Epoch 20/100\n",
            "1/1 [==============================] - 0s 28ms/step - loss: 10.8138 - mae: 10.8138\n",
            "Epoch 21/100\n",
            "1/1 [==============================] - 0s 39ms/step - loss: 10.7425 - mae: 10.7425\n",
            "Epoch 22/100\n",
            "1/1 [==============================] - 0s 25ms/step - loss: 10.6710 - mae: 10.6710\n",
            "Epoch 23/100\n",
            "1/1 [==============================] - 0s 34ms/step - loss: 10.5995 - mae: 10.5995\n",
            "Epoch 24/100\n",
            "1/1 [==============================] - 0s 28ms/step - loss: 10.5277 - mae: 10.5277\n",
            "Epoch 25/100\n",
            "1/1 [==============================] - 0s 19ms/step - loss: 10.4559 - mae: 10.4559\n",
            "Epoch 26/100\n",
            "1/1 [==============================] - 0s 27ms/step - loss: 10.3838 - mae: 10.3838\n",
            "Epoch 27/100\n",
            "1/1 [==============================] - 0s 32ms/step - loss: 10.3116 - mae: 10.3116\n",
            "Epoch 28/100\n",
            "1/1 [==============================] - 0s 17ms/step - loss: 10.2392 - mae: 10.2392\n",
            "Epoch 29/100\n",
            "1/1 [==============================] - 0s 15ms/step - loss: 10.1666 - mae: 10.1666\n",
            "Epoch 30/100\n",
            "1/1 [==============================] - 0s 12ms/step - loss: 10.0938 - mae: 10.0938\n",
            "Epoch 31/100\n",
            "1/1 [==============================] - 0s 12ms/step - loss: 10.0207 - mae: 10.0207\n",
            "Epoch 32/100\n",
            "1/1 [==============================] - 0s 17ms/step - loss: 9.9475 - mae: 9.9475\n",
            "Epoch 33/100\n",
            "1/1 [==============================] - 0s 13ms/step - loss: 9.8740 - mae: 9.8740\n",
            "Epoch 34/100\n",
            "1/1 [==============================] - 0s 50ms/step - loss: 9.8003 - mae: 9.8003\n",
            "Epoch 35/100\n",
            "1/1 [==============================] - 0s 62ms/step - loss: 9.7264 - mae: 9.7264\n",
            "Epoch 36/100\n",
            "1/1 [==============================] - 0s 27ms/step - loss: 9.6522 - mae: 9.6522\n",
            "Epoch 37/100\n",
            "1/1 [==============================] - 0s 19ms/step - loss: 9.5777 - mae: 9.5777\n",
            "Epoch 38/100\n",
            "1/1 [==============================] - 0s 26ms/step - loss: 9.5030 - mae: 9.5030\n",
            "Epoch 39/100\n",
            "1/1 [==============================] - 0s 18ms/step - loss: 9.4279 - mae: 9.4279\n",
            "Epoch 40/100\n",
            "1/1 [==============================] - 0s 14ms/step - loss: 9.3526 - mae: 9.3526\n",
            "Epoch 41/100\n",
            "1/1 [==============================] - 0s 11ms/step - loss: 9.2770 - mae: 9.2770\n",
            "Epoch 42/100\n",
            "1/1 [==============================] - 0s 11ms/step - loss: 9.2011 - mae: 9.2011\n",
            "Epoch 43/100\n",
            "1/1 [==============================] - 0s 10ms/step - loss: 9.1249 - mae: 9.1249\n",
            "Epoch 44/100\n",
            "1/1 [==============================] - 0s 22ms/step - loss: 9.0484 - mae: 9.0484\n",
            "Epoch 45/100\n",
            "1/1 [==============================] - 0s 13ms/step - loss: 8.9715 - mae: 8.9715\n",
            "Epoch 46/100\n",
            "1/1 [==============================] - 0s 11ms/step - loss: 8.8943 - mae: 8.8943\n",
            "Epoch 47/100\n",
            "1/1 [==============================] - 0s 10ms/step - loss: 8.8168 - mae: 8.8168\n",
            "Epoch 48/100\n",
            "1/1 [==============================] - 0s 10ms/step - loss: 8.7389 - mae: 8.7389\n",
            "Epoch 49/100\n",
            "1/1 [==============================] - 0s 12ms/step - loss: 8.6606 - mae: 8.6606\n",
            "Epoch 50/100\n",
            "1/1 [==============================] - 0s 11ms/step - loss: 8.5820 - mae: 8.5820\n",
            "Epoch 51/100\n",
            "1/1 [==============================] - 0s 11ms/step - loss: 8.5030 - mae: 8.5030\n",
            "Epoch 52/100\n",
            "1/1 [==============================] - 0s 9ms/step - loss: 8.4237 - mae: 8.4237\n",
            "Epoch 53/100\n",
            "1/1 [==============================] - 0s 10ms/step - loss: 8.3439 - mae: 8.3439\n",
            "Epoch 54/100\n",
            "1/1 [==============================] - 0s 10ms/step - loss: 8.2638 - mae: 8.2638\n",
            "Epoch 55/100\n",
            "1/1 [==============================] - 0s 11ms/step - loss: 8.1833 - mae: 8.1833\n",
            "Epoch 56/100\n",
            "1/1 [==============================] - 0s 12ms/step - loss: 8.1023 - mae: 8.1023\n",
            "Epoch 57/100\n",
            "1/1 [==============================] - 0s 11ms/step - loss: 8.0210 - mae: 8.0210\n",
            "Epoch 58/100\n",
            "1/1 [==============================] - 0s 11ms/step - loss: 7.9392 - mae: 7.9392\n",
            "Epoch 59/100\n",
            "1/1 [==============================] - 0s 9ms/step - loss: 7.8570 - mae: 7.8570\n",
            "Epoch 60/100\n",
            "1/1 [==============================] - 0s 11ms/step - loss: 7.7744 - mae: 7.7744\n",
            "Epoch 61/100\n",
            "1/1 [==============================] - 0s 10ms/step - loss: 7.6913 - mae: 7.6913\n",
            "Epoch 62/100\n",
            "1/1 [==============================] - 0s 10ms/step - loss: 7.6078 - mae: 7.6078\n",
            "Epoch 63/100\n",
            "1/1 [==============================] - 0s 10ms/step - loss: 7.5239 - mae: 7.5239\n",
            "Epoch 64/100\n",
            "1/1 [==============================] - 0s 11ms/step - loss: 7.4394 - mae: 7.4394\n",
            "Epoch 65/100\n",
            "1/1 [==============================] - 0s 11ms/step - loss: 7.3546 - mae: 7.3546\n",
            "Epoch 66/100\n",
            "1/1 [==============================] - 0s 11ms/step - loss: 7.2692 - mae: 7.2692\n",
            "Epoch 67/100\n",
            "1/1 [==============================] - 0s 10ms/step - loss: 7.1834 - mae: 7.1834\n",
            "Epoch 68/100\n",
            "1/1 [==============================] - 0s 13ms/step - loss: 7.0970 - mae: 7.0970\n",
            "Epoch 69/100\n",
            "1/1 [==============================] - 0s 11ms/step - loss: 7.0102 - mae: 7.0102\n",
            "Epoch 70/100\n",
            "1/1 [==============================] - 0s 13ms/step - loss: 6.9229 - mae: 6.9229\n",
            "Epoch 71/100\n",
            "1/1 [==============================] - 0s 10ms/step - loss: 6.9067 - mae: 6.9067\n",
            "Epoch 72/100\n",
            "1/1 [==============================] - 0s 14ms/step - loss: 6.8964 - mae: 6.8964\n",
            "Epoch 73/100\n",
            "1/1 [==============================] - 0s 10ms/step - loss: 6.8863 - mae: 6.8863\n",
            "Epoch 74/100\n",
            "1/1 [==============================] - 0s 10ms/step - loss: 6.8764 - mae: 6.8764\n",
            "Epoch 75/100\n",
            "1/1 [==============================] - 0s 12ms/step - loss: 6.8666 - mae: 6.8666\n",
            "Epoch 76/100\n",
            "1/1 [==============================] - 0s 13ms/step - loss: 6.8571 - mae: 6.8571\n",
            "Epoch 77/100\n",
            "1/1 [==============================] - 0s 10ms/step - loss: 6.8476 - mae: 6.8476\n",
            "Epoch 78/100\n",
            "1/1 [==============================] - 0s 10ms/step - loss: 6.8383 - mae: 6.8383\n",
            "Epoch 79/100\n",
            "1/1 [==============================] - 0s 11ms/step - loss: 6.8291 - mae: 6.8291\n",
            "Epoch 80/100\n",
            "1/1 [==============================] - 0s 11ms/step - loss: 6.8200 - mae: 6.8200\n",
            "Epoch 81/100\n",
            "1/1 [==============================] - 0s 11ms/step - loss: 6.8110 - mae: 6.8110\n",
            "Epoch 82/100\n",
            "1/1 [==============================] - 0s 10ms/step - loss: 6.8021 - mae: 6.8021\n",
            "Epoch 83/100\n",
            "1/1 [==============================] - 0s 14ms/step - loss: 6.7962 - mae: 6.7962\n",
            "Epoch 84/100\n",
            "1/1 [==============================] - 0s 10ms/step - loss: 6.8029 - mae: 6.8029\n",
            "Epoch 85/100\n",
            "1/1 [==============================] - 0s 10ms/step - loss: 6.8035 - mae: 6.8035\n",
            "Epoch 86/100\n",
            "1/1 [==============================] - 0s 10ms/step - loss: 6.7985 - mae: 6.7985\n",
            "Epoch 87/100\n",
            "1/1 [==============================] - 0s 10ms/step - loss: 6.7886 - mae: 6.7886\n",
            "Epoch 88/100\n",
            "1/1 [==============================] - 0s 10ms/step - loss: 6.7742 - mae: 6.7742\n",
            "Epoch 89/100\n",
            "1/1 [==============================] - 0s 12ms/step - loss: 6.7558 - mae: 6.7558\n",
            "Epoch 90/100\n",
            "1/1 [==============================] - 0s 11ms/step - loss: 6.7424 - mae: 6.7424\n",
            "Epoch 91/100\n",
            "1/1 [==============================] - 0s 13ms/step - loss: 6.7359 - mae: 6.7359\n",
            "Epoch 92/100\n",
            "1/1 [==============================] - 0s 14ms/step - loss: 6.7293 - mae: 6.7293\n",
            "Epoch 93/100\n",
            "1/1 [==============================] - 0s 10ms/step - loss: 6.7224 - mae: 6.7224\n",
            "Epoch 94/100\n",
            "1/1 [==============================] - 0s 13ms/step - loss: 6.7154 - mae: 6.7154\n",
            "Epoch 95/100\n",
            "1/1 [==============================] - 0s 10ms/step - loss: 6.7083 - mae: 6.7083\n",
            "Epoch 96/100\n",
            "1/1 [==============================] - 0s 11ms/step - loss: 6.7011 - mae: 6.7011\n",
            "Epoch 97/100\n",
            "1/1 [==============================] - 0s 11ms/step - loss: 6.6937 - mae: 6.6937\n",
            "Epoch 98/100\n",
            "1/1 [==============================] - 0s 11ms/step - loss: 6.6862 - mae: 6.6862\n",
            "Epoch 99/100\n",
            "1/1 [==============================] - 0s 10ms/step - loss: 6.6786 - mae: 6.6786\n",
            "Epoch 100/100\n",
            "1/1 [==============================] - 0s 10ms/step - loss: 6.6710 - mae: 6.6710\n"
          ]
        },
        {
          "output_type": "execute_result",
          "data": {
            "text/plain": [
              "<keras.callbacks.History at 0x7f0712a2b8e0>"
            ]
          },
          "metadata": {},
          "execution_count": 21
        }
      ]
    },
    {
      "cell_type": "code",
      "source": [
        "X, y"
      ],
      "metadata": {
        "colab": {
          "base_uri": "https://localhost:8080/"
        },
        "id": "F_bxCIBtkQAe",
        "outputId": "b168cfa6-b4c0-4e1a-897e-88d59765dfd1"
      },
      "execution_count": 22,
      "outputs": [
        {
          "output_type": "execute_result",
          "data": {
            "text/plain": [
              "(<tf.Tensor: shape=(8,), dtype=float64, numpy=array([-7., -4., -1.,  2.,  5.,  8., 11., 14.])>,\n",
              " <tf.Tensor: shape=(8,), dtype=float64, numpy=array([ 3.,  6.,  9., 12., 15., 18., 21., 24.])>)"
            ]
          },
          "metadata": {},
          "execution_count": 22
        }
      ]
    },
    {
      "cell_type": "code",
      "source": [
        "model.predict([17])"
      ],
      "metadata": {
        "colab": {
          "base_uri": "https://localhost:8080/"
        },
        "id": "DRzyFBnikg1Z",
        "outputId": "2d7ef679-a855-4ed1-91d7-09ec2fa4bf32"
      },
      "execution_count": 23,
      "outputs": [
        {
          "output_type": "stream",
          "name": "stdout",
          "text": [
            "1/1 [==============================] - 0s 109ms/step\n"
          ]
        },
        {
          "output_type": "execute_result",
          "data": {
            "text/plain": [
              "array([[31.315773]], dtype=float32)"
            ]
          },
          "metadata": {},
          "execution_count": 23
        }
      ]
    },
    {
      "cell_type": "markdown",
      "source": [
        "Maybe the model above is overfitting."
      ],
      "metadata": {
        "id": "eDRpUbAykmaz"
      }
    },
    {
      "cell_type": "markdown",
      "source": [
        "## Evaluating a model"
      ],
      "metadata": {
        "id": "qrpX1cF6kynZ"
      }
    },
    {
      "cell_type": "code",
      "source": [
        "X = tf.range(-100, 100, 4)\n",
        "X"
      ],
      "metadata": {
        "colab": {
          "base_uri": "https://localhost:8080/"
        },
        "id": "78N5G-YknOye",
        "outputId": "82121300-91a6-459a-e3b2-7915d416db0a"
      },
      "execution_count": 24,
      "outputs": [
        {
          "output_type": "execute_result",
          "data": {
            "text/plain": [
              "<tf.Tensor: shape=(50,), dtype=int32, numpy=\n",
              "array([-100,  -96,  -92,  -88,  -84,  -80,  -76,  -72,  -68,  -64,  -60,\n",
              "        -56,  -52,  -48,  -44,  -40,  -36,  -32,  -28,  -24,  -20,  -16,\n",
              "        -12,   -8,   -4,    0,    4,    8,   12,   16,   20,   24,   28,\n",
              "         32,   36,   40,   44,   48,   52,   56,   60,   64,   68,   72,\n",
              "         76,   80,   84,   88,   92,   96], dtype=int32)>"
            ]
          },
          "metadata": {},
          "execution_count": 24
        }
      ]
    },
    {
      "cell_type": "code",
      "source": [
        "y = X + 10\n",
        "y"
      ],
      "metadata": {
        "colab": {
          "base_uri": "https://localhost:8080/"
        },
        "id": "ogQtXw0RxYqW",
        "outputId": "a41f8749-821e-4824-ada0-f65c9a0e6fe3"
      },
      "execution_count": 25,
      "outputs": [
        {
          "output_type": "execute_result",
          "data": {
            "text/plain": [
              "<tf.Tensor: shape=(50,), dtype=int32, numpy=\n",
              "array([-90, -86, -82, -78, -74, -70, -66, -62, -58, -54, -50, -46, -42,\n",
              "       -38, -34, -30, -26, -22, -18, -14, -10,  -6,  -2,   2,   6,  10,\n",
              "        14,  18,  22,  26,  30,  34,  38,  42,  46,  50,  54,  58,  62,\n",
              "        66,  70,  74,  78,  82,  86,  90,  94,  98, 102, 106], dtype=int32)>"
            ]
          },
          "metadata": {},
          "execution_count": 25
        }
      ]
    },
    {
      "cell_type": "code",
      "source": [
        "# Visualize\n",
        "import matplotlib.pyplot as plt\n",
        "\n",
        "plt.scatter(X, y)"
      ],
      "metadata": {
        "colab": {
          "base_uri": "https://localhost:8080/",
          "height": 447
        },
        "id": "Pl_GjRrkxe2a",
        "outputId": "48f2037e-912b-41be-ecc7-c1bf728f628a"
      },
      "execution_count": 26,
      "outputs": [
        {
          "output_type": "execute_result",
          "data": {
            "text/plain": [
              "<matplotlib.collections.PathCollection at 0x7f0712748c70>"
            ]
          },
          "metadata": {},
          "execution_count": 26
        },
        {
          "output_type": "display_data",
          "data": {
            "text/plain": [
              "<Figure size 640x480 with 1 Axes>"
            ],
            "image/png": "[encoded data removed]"
          },
          "metadata": {}
        }
      ]
    },
    {
      "cell_type": "code",
      "source": [
        "from sklearn.model_selection import train_test_split\n",
        "\n",
        "X_train, X_test, y_train, y_test = train_test_split(np.array(X), np.array(y), test_size=0.2)\n",
        "X_train.shape, X_test.shape, y_train.shape, y_test.shape"
      ],
      "metadata": {
        "colab": {
          "base_uri": "https://localhost:8080/"
        },
        "id": "mhRJ2qmexpTO",
        "outputId": "1e5b4930-b363-49ac-f0fb-cf511e5b09e9"
      },
      "execution_count": 27,
      "outputs": [
        {
          "output_type": "execute_result",
          "data": {
            "text/plain": [
              "((40,), (10,), (40,), (10,))"
            ]
          },
          "metadata": {},
          "execution_count": 27
        }
      ]
    },
    {
      "cell_type": "code",
      "source": [
        "len(X)"
      ],
      "metadata": {
        "colab": {
          "base_uri": "https://localhost:8080/"
        },
        "id": "M6pUcDX1yKVO",
        "outputId": "dcb49710-403b-4b89-ff6c-6d9f4eb970d8"
      },
      "execution_count": 28,
      "outputs": [
        {
          "output_type": "execute_result",
          "data": {
            "text/plain": [
              "50"
            ]
          },
          "metadata": {},
          "execution_count": 28
        }
      ]
    },
    {
      "cell_type": "code",
      "source": [
        "X_train = X[:40]\n",
        "y_train = y[:40]\n",
        "X_test = X[40:]\n",
        "y_test = y[40:]\n",
        "\n",
        "len(X_train), len(X_test)"
      ],
      "metadata": {
        "colab": {
          "base_uri": "https://localhost:8080/"
        },
        "id": "oBtCmU6zzmDo",
        "outputId": "3745f0f8-8e6d-4a8b-8ac4-de421226963f"
      },
      "execution_count": 29,
      "outputs": [
        {
          "output_type": "execute_result",
          "data": {
            "text/plain": [
              "(40, 10)"
            ]
          },
          "metadata": {},
          "execution_count": 29
        }
      ]
    },
    {
      "cell_type": "markdown",
      "source": [
        "### Visualizing the data"
      ],
      "metadata": {
        "id": "_hHIVvrK0D__"
      }
    },
    {
      "cell_type": "code",
      "source": [
        "plt.figure(figsize=(10, 7))\n",
        "plt.scatter(X_train, y_train, c=\"b\", label=\"Training data\")\n",
        "plt.scatter(X_test, y_test, c=\"g\", label=\"Testing data\")\n",
        "plt.legend();"
      ],
      "metadata": {
        "colab": {
          "base_uri": "https://localhost:8080/",
          "height": 493
        },
        "id": "EeVXKpLa0SGE",
        "outputId": "520cdf9c-76f4-49e1-d0f8-a50fa57f171b"
      },
      "execution_count": 30,
      "outputs": [
        {
          "output_type": "display_data",
          "data": {
            "text/plain": [
              "<Figure size 1000x700 with 1 Axes>"
            ],
            "image/png": "[encoded data removed]"
          },
          "metadata": {}
        }
      ]
    },
    {
      "cell_type": "code",
      "source": [
        "model = tf.keras.Sequential([\n",
        "    tf.keras.layers.Dense(1)\n",
        "])\n",
        "\n",
        "model.compile(loss=tf.keras.losses.mae,\n",
        "              optimizer=tf.keras.optimizers.SGD(),\n",
        "              metrics=[\"mae\"])\n",
        "\n",
        "# model.fit(tf.expand_dims(X_train, axis=-1), y_train, epochs=100)"
      ],
      "metadata": {
        "id": "7IpFd0Ai0muY"
      },
      "execution_count": 31,
      "outputs": []
    },
    {
      "cell_type": "code",
      "source": [
        "tf.random.set_seed(42)\n",
        "\n",
        "model = tf.keras.Sequential([\n",
        "    tf.keras.layers.Dense(1, input_shape=[1])\n",
        "])\n",
        "\n",
        "model.compile(loss=tf.keras.losses.mae,\n",
        "              optimizer=tf.keras.optimizers.SGD(),\n",
        "              metrics=[\"mae\"])"
      ],
      "metadata": {
        "id": "zewsTEfl1bf8"
      },
      "execution_count": 32,
      "outputs": []
    },
    {
      "cell_type": "code",
      "source": [
        "model.summary()"
      ],
      "metadata": {
        "colab": {
          "base_uri": "https://localhost:8080/"
        },
        "id": "qxZVeTjd3bLY",
        "outputId": "4ebf7c4a-0050-4f07-aeda-7369c0cec155"
      },
      "execution_count": 33,
      "outputs": [
        {
          "output_type": "stream",
          "name": "stdout",
          "text": [
            "Model: \"sequential_6\"\n",
            "_________________________________________________________________\n",
            " Layer (type)                Output Shape              Param #   \n",
            "=================================================================\n",
            " dense_8 (Dense)             (None, 1)                 2         \n",
            "                                                                 \n",
            "=================================================================\n",
            "Total params: 2\n",
            "Trainable params: 2\n",
            "Non-trainable params: 0\n",
            "_________________________________________________________________\n"
          ]
        }
      ]
    },
    {
      "cell_type": "code",
      "source": [
        "# Let's fit our model.\n",
        "model.fit(X_train, y_train, epochs=100, verbose=1)"
      ],
      "metadata": {
        "id": "ACjOXn8g3cWU",
        "colab": {
          "base_uri": "https://localhost:8080/"
        },
        "outputId": "0db1d670-53c2-42a6-c9f2-b2d4eda70e49"
      },
      "execution_count": 34,
      "outputs": [
        {
          "output_type": "stream",
          "name": "stdout",
          "text": [
            "Epoch 1/100\n",
            "2/2 [==============================] - 0s 13ms/step - loss: 47.9114 - mae: 47.9114\n",
            "Epoch 2/100\n",
            "2/2 [==============================] - 0s 8ms/step - loss: 16.2691 - mae: 16.2691\n",
            "Epoch 3/100\n",
            "2/2 [==============================] - 0s 9ms/step - loss: 15.2291 - mae: 15.2291\n",
            "Epoch 4/100\n",
            "2/2 [==============================] - 0s 8ms/step - loss: 7.9605 - mae: 7.9605\n",
            "Epoch 5/100\n",
            "2/2 [==============================] - 0s 7ms/step - loss: 10.2358 - mae: 10.2358\n",
            "Epoch 6/100\n",
            "2/2 [==============================] - 0s 7ms/step - loss: 9.4920 - mae: 9.4920\n",
            "Epoch 7/100\n",
            "2/2 [==============================] - 0s 8ms/step - loss: 8.6235 - mae: 8.6235\n",
            "Epoch 8/100\n",
            "2/2 [==============================] - 0s 8ms/step - loss: 9.0596 - mae: 9.0596\n",
            "Epoch 9/100\n",
            "2/2 [==============================] - 0s 7ms/step - loss: 18.8633 - mae: 18.8633\n",
            "Epoch 10/100\n",
            "2/2 [==============================] - 0s 8ms/step - loss: 10.1844 - mae: 10.1844\n",
            "Epoch 11/100\n",
            "2/2 [==============================] - 0s 7ms/step - loss: 8.4323 - mae: 8.4323\n",
            "Epoch 12/100\n",
            "2/2 [==============================] - 0s 7ms/step - loss: 10.7223 - mae: 10.7223\n",
            "Epoch 13/100\n",
            "2/2 [==============================] - 0s 7ms/step - loss: 9.8281 - mae: 9.8281\n",
            "Epoch 14/100\n",
            "2/2 [==============================] - 0s 7ms/step - loss: 16.1275 - mae: 16.1275\n",
            "Epoch 15/100\n",
            "2/2 [==============================] - 0s 6ms/step - loss: 11.3293 - mae: 11.3293\n",
            "Epoch 16/100\n",
            "2/2 [==============================] - 0s 6ms/step - loss: 8.5760 - mae: 8.5760\n",
            "Epoch 17/100\n",
            "2/2 [==============================] - 0s 8ms/step - loss: 13.7069 - mae: 13.7069\n",
            "Epoch 18/100\n",
            "2/2 [==============================] - 0s 10ms/step - loss: 11.5500 - mae: 11.5500\n",
            "Epoch 19/100\n",
            "2/2 [==============================] - 0s 9ms/step - loss: 17.8324 - mae: 17.8324\n",
            "Epoch 20/100\n",
            "2/2 [==============================] - 0s 8ms/step - loss: 14.9676 - mae: 14.9676\n",
            "Epoch 21/100\n",
            "2/2 [==============================] - 0s 9ms/step - loss: 10.8514 - mae: 10.8514\n",
            "Epoch 22/100\n",
            "2/2 [==============================] - 0s 12ms/step - loss: 8.6022 - mae: 8.6022\n",
            "Epoch 23/100\n",
            "2/2 [==============================] - 0s 8ms/step - loss: 9.7241 - mae: 9.7241\n",
            "Epoch 24/100\n",
            "2/2 [==============================] - 0s 7ms/step - loss: 10.9625 - mae: 10.9625\n",
            "Epoch 25/100\n",
            "2/2 [==============================] - 0s 8ms/step - loss: 9.1698 - mae: 9.1698\n",
            "Epoch 26/100\n",
            "2/2 [==============================] - 0s 7ms/step - loss: 13.1999 - mae: 13.1999\n",
            "Epoch 27/100\n",
            "2/2 [==============================] - 0s 7ms/step - loss: 10.6732 - mae: 10.6732\n",
            "Epoch 28/100\n",
            "2/2 [==============================] - 0s 7ms/step - loss: 12.8924 - mae: 12.8924\n",
            "Epoch 29/100\n",
            "2/2 [==============================] - 0s 7ms/step - loss: 9.5194 - mae: 9.5194\n",
            "Epoch 30/100\n",
            "2/2 [==============================] - 0s 7ms/step - loss: 16.4133 - mae: 16.4133\n",
            "Epoch 31/100\n",
            "2/2 [==============================] - 0s 7ms/step - loss: 23.5849 - mae: 23.5849\n",
            "Epoch 32/100\n",
            "2/2 [==============================] - 0s 8ms/step - loss: 7.6205 - mae: 7.6205\n",
            "Epoch 33/100\n",
            "2/2 [==============================] - 0s 8ms/step - loss: 9.3176 - mae: 9.3176\n",
            "Epoch 34/100\n",
            "2/2 [==============================] - 0s 8ms/step - loss: 13.6930 - mae: 13.6930\n",
            "Epoch 35/100\n",
            "2/2 [==============================] - 0s 7ms/step - loss: 11.1624 - mae: 11.1624\n",
            "Epoch 36/100\n",
            "2/2 [==============================] - 0s 8ms/step - loss: 13.3808 - mae: 13.3808\n",
            "Epoch 37/100\n",
            "2/2 [==============================] - 0s 8ms/step - loss: 9.4645 - mae: 9.4645\n",
            "Epoch 38/100\n",
            "2/2 [==============================] - 0s 7ms/step - loss: 10.1179 - mae: 10.1179\n",
            "Epoch 39/100\n",
            "2/2 [==============================] - 0s 7ms/step - loss: 10.2145 - mae: 10.2145\n",
            "Epoch 40/100\n",
            "2/2 [==============================] - 0s 8ms/step - loss: 10.9575 - mae: 10.9575\n",
            "Epoch 41/100\n",
            "2/2 [==============================] - 0s 8ms/step - loss: 7.9344 - mae: 7.9344\n",
            "Epoch 42/100\n",
            "2/2 [==============================] - 0s 11ms/step - loss: 10.5958 - mae: 10.5958\n",
            "Epoch 43/100\n",
            "2/2 [==============================] - 0s 9ms/step - loss: 7.2209 - mae: 7.2209\n",
            "Epoch 44/100\n",
            "2/2 [==============================] - 0s 8ms/step - loss: 8.0078 - mae: 8.0078\n",
            "Epoch 45/100\n",
            "2/2 [==============================] - 0s 9ms/step - loss: 9.8020 - mae: 9.8020\n",
            "Epoch 46/100\n",
            "2/2 [==============================] - 0s 7ms/step - loss: 8.8780 - mae: 8.8780\n",
            "Epoch 47/100\n",
            "2/2 [==============================] - 0s 7ms/step - loss: 7.5830 - mae: 7.5830\n",
            "Epoch 48/100\n",
            "2/2 [==============================] - 0s 9ms/step - loss: 8.5813 - mae: 8.5813\n",
            "Epoch 49/100\n",
            "2/2 [==============================] - 0s 7ms/step - loss: 10.0077 - mae: 10.0077\n",
            "Epoch 50/100\n",
            "2/2 [==============================] - 0s 9ms/step - loss: 9.0326 - mae: 9.0326\n",
            "Epoch 51/100\n",
            "2/2 [==============================] - 0s 8ms/step - loss: 10.6777 - mae: 10.6777\n",
            "Epoch 52/100\n",
            "2/2 [==============================] - 0s 10ms/step - loss: 15.3043 - mae: 15.3043\n",
            "Epoch 53/100\n",
            "2/2 [==============================] - 0s 12ms/step - loss: 14.3245 - mae: 14.3245\n",
            "Epoch 54/100\n",
            "2/2 [==============================] - 0s 6ms/step - loss: 21.6173 - mae: 21.6173\n",
            "Epoch 55/100\n",
            "2/2 [==============================] - 0s 6ms/step - loss: 15.9961 - mae: 15.9961\n",
            "Epoch 56/100\n",
            "2/2 [==============================] - 0s 9ms/step - loss: 10.2956 - mae: 10.2956\n",
            "Epoch 57/100\n",
            "2/2 [==============================] - 0s 6ms/step - loss: 9.7770 - mae: 9.7770\n",
            "Epoch 58/100\n",
            "2/2 [==============================] - 0s 10ms/step - loss: 9.0631 - mae: 9.0631\n",
            "Epoch 59/100\n",
            "2/2 [==============================] - 0s 7ms/step - loss: 8.2664 - mae: 8.2664\n",
            "Epoch 60/100\n",
            "2/2 [==============================] - 0s 7ms/step - loss: 9.3646 - mae: 9.3646\n",
            "Epoch 61/100\n",
            "2/2 [==============================] - 0s 7ms/step - loss: 11.1738 - mae: 11.1738\n",
            "Epoch 62/100\n",
            "2/2 [==============================] - 0s 7ms/step - loss: 12.0845 - mae: 12.0845\n",
            "Epoch 63/100\n",
            "2/2 [==============================] - 0s 7ms/step - loss: 7.2781 - mae: 7.2781\n",
            "Epoch 64/100\n",
            "2/2 [==============================] - 0s 8ms/step - loss: 12.4367 - mae: 12.4367\n",
            "Epoch 65/100\n",
            "2/2 [==============================] - 0s 7ms/step - loss: 10.5097 - mae: 10.5097\n",
            "Epoch 66/100\n",
            "2/2 [==============================] - 0s 8ms/step - loss: 15.6167 - mae: 15.6167\n",
            "Epoch 67/100\n",
            "2/2 [==============================] - 0s 7ms/step - loss: 10.0198 - mae: 10.0198\n",
            "Epoch 68/100\n",
            "2/2 [==============================] - 0s 16ms/step - loss: 8.7308 - mae: 8.7308\n",
            "Epoch 69/100\n",
            "2/2 [==============================] - 0s 7ms/step - loss: 13.4943 - mae: 13.4943\n",
            "Epoch 70/100\n",
            "2/2 [==============================] - 0s 8ms/step - loss: 7.4786 - mae: 7.4786\n",
            "Epoch 71/100\n",
            "2/2 [==============================] - 0s 8ms/step - loss: 12.2366 - mae: 12.2366\n",
            "Epoch 72/100\n",
            "2/2 [==============================] - 0s 7ms/step - loss: 8.5412 - mae: 8.5412\n",
            "Epoch 73/100\n",
            "2/2 [==============================] - 0s 9ms/step - loss: 7.0485 - mae: 7.0485\n",
            "Epoch 74/100\n",
            "2/2 [==============================] - 0s 7ms/step - loss: 9.9379 - mae: 9.9379\n",
            "Epoch 75/100\n",
            "2/2 [==============================] - 0s 7ms/step - loss: 9.9464 - mae: 9.9464\n",
            "Epoch 76/100\n",
            "2/2 [==============================] - 0s 7ms/step - loss: 10.1128 - mae: 10.1128\n",
            "Epoch 77/100\n",
            "2/2 [==============================] - 0s 8ms/step - loss: 12.9602 - mae: 12.9602\n",
            "Epoch 78/100\n",
            "2/2 [==============================] - 0s 9ms/step - loss: 11.1561 - mae: 11.1561\n",
            "Epoch 79/100\n",
            "2/2 [==============================] - 0s 8ms/step - loss: 14.7068 - mae: 14.7068\n",
            "Epoch 80/100\n",
            "2/2 [==============================] - 0s 9ms/step - loss: 8.9343 - mae: 8.9343\n",
            "Epoch 81/100\n",
            "2/2 [==============================] - 0s 8ms/step - loss: 10.7782 - mae: 10.7782\n",
            "Epoch 82/100\n",
            "2/2 [==============================] - 0s 7ms/step - loss: 8.3968 - mae: 8.3968\n",
            "Epoch 83/100\n",
            "2/2 [==============================] - 0s 12ms/step - loss: 9.2339 - mae: 9.2339\n",
            "Epoch 84/100\n",
            "2/2 [==============================] - 0s 8ms/step - loss: 8.9517 - mae: 8.9517\n",
            "Epoch 85/100\n",
            "2/2 [==============================] - 0s 8ms/step - loss: 13.2039 - mae: 13.2039\n",
            "Epoch 86/100\n",
            "2/2 [==============================] - 0s 9ms/step - loss: 13.7095 - mae: 13.7095\n",
            "Epoch 87/100\n",
            "2/2 [==============================] - 0s 7ms/step - loss: 13.1939 - mae: 13.1939\n",
            "Epoch 88/100\n",
            "2/2 [==============================] - 0s 7ms/step - loss: 11.5206 - mae: 11.5206\n",
            "Epoch 89/100\n",
            "2/2 [==============================] - 0s 11ms/step - loss: 7.8123 - mae: 7.8123\n",
            "Epoch 90/100\n",
            "2/2 [==============================] - 0s 6ms/step - loss: 10.9363 - mae: 10.9363\n",
            "Epoch 91/100\n",
            "2/2 [==============================] - 0s 7ms/step - loss: 6.7590 - mae: 6.7590\n",
            "Epoch 92/100\n",
            "2/2 [==============================] - 0s 7ms/step - loss: 10.1289 - mae: 10.1289\n",
            "Epoch 93/100\n",
            "2/2 [==============================] - 0s 8ms/step - loss: 7.6165 - mae: 7.6165\n",
            "Epoch 94/100\n",
            "2/2 [==============================] - 0s 7ms/step - loss: 9.2494 - mae: 9.2494\n",
            "Epoch 95/100\n",
            "2/2 [==============================] - 0s 15ms/step - loss: 10.8397 - mae: 10.8397\n",
            "Epoch 96/100\n",
            "2/2 [==============================] - 0s 8ms/step - loss: 10.3005 - mae: 10.3005\n",
            "Epoch 97/100\n",
            "2/2 [==============================] - 0s 7ms/step - loss: 7.6886 - mae: 7.6886\n",
            "Epoch 98/100\n",
            "2/2 [==============================] - 0s 10ms/step - loss: 8.6241 - mae: 8.6241\n",
            "Epoch 99/100\n",
            "2/2 [==============================] - 0s 10ms/step - loss: 9.4031 - mae: 9.4031\n",
            "Epoch 100/100\n",
            "2/2 [==============================] - 0s 8ms/step - loss: 8.8482 - mae: 8.8482\n"
          ]
        },
        {
          "output_type": "execute_result",
          "data": {
            "text/plain": [
              "<keras.callbacks.History at 0x7f07015bbee0>"
            ]
          },
          "metadata": {},
          "execution_count": 34
        }
      ]
    },
    {
      "cell_type": "code",
      "source": [
        "model = tf.keras.Sequential([\n",
        "    tf.keras.layers.Dense(3, input_shape=[1])\n",
        "])\n",
        "\n",
        "model.compile(loss=tf.keras.losses.mae,\n",
        "              optimizer=tf.keras.optimizers.Adam(),\n",
        "              metrics=[\"mae\"])\n",
        "\n",
        "model.summary()"
      ],
      "metadata": {
        "colab": {
          "base_uri": "https://localhost:8080/"
        },
        "id": "RrSP4pcz6ANv",
        "outputId": "9e98f73f-0260-4b58-ae5b-d907a022675b"
      },
      "execution_count": 35,
      "outputs": [
        {
          "output_type": "stream",
          "name": "stdout",
          "text": [
            "Model: \"sequential_7\"\n",
            "_________________________________________________________________\n",
            " Layer (type)                Output Shape              Param #   \n",
            "=================================================================\n",
            " dense_9 (Dense)             (None, 3)                 6         \n",
            "                                                                 \n",
            "=================================================================\n",
            "Total params: 6\n",
            "Trainable params: 6\n",
            "Non-trainable params: 0\n",
            "_________________________________________________________________\n"
          ]
        }
      ]
    },
    {
      "cell_type": "code",
      "source": [
        "model = tf.keras.Sequential([\n",
        "    tf.keras.layers.Dense(1)\n",
        "])\n",
        "\n",
        "model.compile(loss=tf.keras.losses.mae,\n",
        "              optimizer=tf.keras.optimizers.Adam(),\n",
        "              metrics=[\"mae\"])\n",
        "\n",
        "model.build(input_shape=[None, 2])\n",
        "model.summary()"
      ],
      "metadata": {
        "colab": {
          "base_uri": "https://localhost:8080/"
        },
        "id": "nJHQfDCEAq8_",
        "outputId": "07186509-763b-4cda-afc3-b0a89041f80a"
      },
      "execution_count": 36,
      "outputs": [
        {
          "output_type": "stream",
          "name": "stdout",
          "text": [
            "Model: \"sequential_8\"\n",
            "_________________________________________________________________\n",
            " Layer (type)                Output Shape              Param #   \n",
            "=================================================================\n",
            " dense_10 (Dense)            (None, 1)                 3         \n",
            "                                                                 \n",
            "=================================================================\n",
            "Total params: 3\n",
            "Trainable params: 3\n",
            "Non-trainable params: 0\n",
            "_________________________________________________________________\n"
          ]
        }
      ]
    },
    {
      "cell_type": "code",
      "source": [
        "model = tf.keras.Sequential([\n",
        "    tf.keras.layers.Dense(10, input_shape=[1], name=\"input_layer\"),\n",
        "    tf.keras.layers.Dense(1, name=\"output_layer\")\n",
        "], name=\"model_1\")\n",
        "\n",
        "model.compile(loss=tf.keras.losses.mae,\n",
        "              optimizer=tf.keras.optimizers.Adam(),\n",
        "              metrics=[\"mae\"])\n",
        "\n",
        "model.summary()"
      ],
      "metadata": {
        "colab": {
          "base_uri": "https://localhost:8080/"
        },
        "id": "vDNvAvG1CFSh",
        "outputId": "43d6ad62-54a8-491b-d666-7832fb2e01e1"
      },
      "execution_count": 37,
      "outputs": [
        {
          "output_type": "stream",
          "name": "stdout",
          "text": [
            "Model: \"model_1\"\n",
            "_________________________________________________________________\n",
            " Layer (type)                Output Shape              Param #   \n",
            "=================================================================\n",
            " input_layer (Dense)         (None, 10)                20        \n",
            "                                                                 \n",
            " output_layer (Dense)        (None, 1)                 11        \n",
            "                                                                 \n",
            "=================================================================\n",
            "Total params: 31\n",
            "Trainable params: 31\n",
            "Non-trainable params: 0\n",
            "_________________________________________________________________\n"
          ]
        }
      ]
    },
    {
      "cell_type": "code",
      "source": [
        "type(X_train)"
      ],
      "metadata": {
        "colab": {
          "base_uri": "https://localhost:8080/"
        },
        "id": "Bg4_82jrLYE_",
        "outputId": "4b12e214-7115-47e1-b44a-70ab63483972"
      },
      "execution_count": 38,
      "outputs": [
        {
          "output_type": "execute_result",
          "data": {
            "text/plain": [
              "tensorflow.python.framework.ops.EagerTensor"
            ]
          },
          "metadata": {},
          "execution_count": 38
        }
      ]
    },
    {
      "cell_type": "code",
      "source": [
        "model.fit(tf.expand_dims(X_train, axis=-1), y_train, epochs=100, verbose=0)"
      ],
      "metadata": {
        "colab": {
          "base_uri": "https://localhost:8080/"
        },
        "id": "DplC6ngPLR6a",
        "outputId": "2368980c-86f6-4700-9b60-40fd8a3dfbb9"
      },
      "execution_count": 39,
      "outputs": [
        {
          "output_type": "execute_result",
          "data": {
            "text/plain": [
              "<keras.callbacks.History at 0x7f071156d670>"
            ]
          },
          "metadata": {},
          "execution_count": 39
        }
      ]
    },
    {
      "cell_type": "code",
      "source": [
        "from tensorflow.keras.utils import plot_model\n",
        "\n",
        "plot_model(model=model, show_shapes=True)"
      ],
      "metadata": {
        "colab": {
          "base_uri": "https://localhost:8080/",
          "height": 312
        },
        "id": "Mj4oncRYFou-",
        "outputId": "032a89a0-f8d9-4e64-dd03-f8a49c31d4aa"
      },
      "execution_count": 40,
      "outputs": [
        {
          "output_type": "execute_result",
          "data": {
            "image/png": "[encoded data removed]",
            "text/plain": [
              "<IPython.core.display.Image object>"
            ]
          },
          "metadata": {},
          "execution_count": 40
        }
      ]
    },
    {
      "cell_type": "markdown",
      "source": [
        "### Visualizing our model's predictions"
      ],
      "metadata": {
        "id": "WXVLswZVKVwq"
      }
    },
    {
      "cell_type": "code",
      "source": [
        "model = tf.keras.Sequential([\n",
        "    tf.keras.layers.Dense(5, input_shape=[1], name=\"hidden_layer_1\"),\n",
        "    tf.keras.layers.Dense(10, name=\"hidden_layer_2\"),\n",
        "    tf.keras.layers.Dense(5, name=\"hidden_layer_3\"),\n",
        "    tf.keras.layers.Dense(1, name=\"output_layer\")\n",
        "])\n",
        "\n",
        "model.compile(loss=tf.keras.losses.mae,\n",
        "              optimizer=tf.keras.optimizers.Adam(),\n",
        "              metrics=[\"mae\"])\n",
        "\n",
        "model.summary()"
      ],
      "metadata": {
        "colab": {
          "base_uri": "https://localhost:8080/"
        },
        "id": "dwVlxgpVL5J8",
        "outputId": "931ebda5-068a-46fd-983d-c737c53b8c19"
      },
      "execution_count": 41,
      "outputs": [
        {
          "output_type": "stream",
          "name": "stdout",
          "text": [
            "Model: \"sequential_9\"\n",
            "_________________________________________________________________\n",
            " Layer (type)                Output Shape              Param #   \n",
            "=================================================================\n",
            " hidden_layer_1 (Dense)      (None, 5)                 10        \n",
            "                                                                 \n",
            " hidden_layer_2 (Dense)      (None, 10)                60        \n",
            "                                                                 \n",
            " hidden_layer_3 (Dense)      (None, 5)                 55        \n",
            "                                                                 \n",
            " output_layer (Dense)        (None, 1)                 6         \n",
            "                                                                 \n",
            "=================================================================\n",
            "Total params: 131\n",
            "Trainable params: 131\n",
            "Non-trainable params: 0\n",
            "_________________________________________________________________\n"
          ]
        }
      ]
    },
    {
      "cell_type": "code",
      "source": [
        "model.fit(tf.expand_dims(X_train, axis=-1), y_train, epochs=100, verbose=0)"
      ],
      "metadata": {
        "colab": {
          "base_uri": "https://localhost:8080/"
        },
        "id": "L4i5rWA3NKw9",
        "outputId": "9ded7753-3d35-403c-a5ab-62b593b07775"
      },
      "execution_count": 42,
      "outputs": [
        {
          "output_type": "execute_result",
          "data": {
            "text/plain": [
              "<keras.callbacks.History at 0x7f070b74f340>"
            ]
          },
          "metadata": {},
          "execution_count": 42
        }
      ]
    },
    {
      "cell_type": "code",
      "source": [
        "from tensorflow.keras.utils import plot_model\n",
        "\n",
        "plot_model(model=model, show_shapes=True)"
      ],
      "metadata": {
        "colab": {
          "base_uri": "https://localhost:8080/",
          "height": 533
        },
        "id": "enN46y90NjfT",
        "outputId": "725d6ca5-4cbf-469f-895c-29fd61c4dbae"
      },
      "execution_count": 43,
      "outputs": [
        {
          "output_type": "execute_result",
          "data": {
            "image/png": "[encoded data removed]",
            "text/plain": [
              "<IPython.core.display.Image object>"
            ]
          },
          "metadata": {},
          "execution_count": 43
        }
      ]
    },
    {
      "cell_type": "markdown",
      "source": [
        "### Visualizing our model's predictions"
      ],
      "metadata": {
        "id": "7cE2-Kx5N9dx"
      }
    },
    {
      "cell_type": "code",
      "source": [
        "y_pred = model.predict(X_test)\n",
        "y_pred"
      ],
      "metadata": {
        "colab": {
          "base_uri": "https://localhost:8080/"
        },
        "id": "oTmba3hjOhj-",
        "outputId": "fbbd84b1-0c28-4d95-c1e6-25c762d1e60d"
      },
      "execution_count": 44,
      "outputs": [
        {
          "output_type": "stream",
          "name": "stderr",
          "text": [
            "WARNING:tensorflow:5 out of the last 5 calls to <function Model.make_predict_function.<locals>.predict_function at 0x7f0701609310> triggered tf.function retracing. Tracing is expensive and the excessive number of tracings could be due to (1) creating @tf.function repeatedly in a loop, (2) passing tensors with different shapes, (3) passing Python objects instead of tensors. For (1), please define your @tf.function outside of the loop. For (2), @tf.function has reduce_retracing=True option that can avoid unnecessary retracing. For (3), please refer to https://www.tensorflow.org/guide/function#controlling_retracing and https://www.tensorflow.org/api_docs/python/tf/function for  more details.\n"
          ]
        },
        {
          "output_type": "stream",
          "name": "stdout",
          "text": [
            "1/1 [==============================] - 0s 74ms/step\n"
          ]
        },
        {
          "output_type": "execute_result",
          "data": {
            "text/plain": [
              "array([[56.79107 ],\n",
              "       [60.419724],\n",
              "       [64.04838 ],\n",
              "       [67.67704 ],\n",
              "       [71.305695],\n",
              "       [74.93435 ],\n",
              "       [78.563   ],\n",
              "       [82.19165 ],\n",
              "       [85.820305],\n",
              "       [89.44896 ]], dtype=float32)"
            ]
          },
          "metadata": {},
          "execution_count": 44
        }
      ]
    },
    {
      "cell_type": "code",
      "source": [
        "y_test"
      ],
      "metadata": {
        "colab": {
          "base_uri": "https://localhost:8080/"
        },
        "id": "4J0uqpExVKet",
        "outputId": "558a1afa-83f2-4208-b106-76b9e1d25e17"
      },
      "execution_count": 45,
      "outputs": [
        {
          "output_type": "execute_result",
          "data": {
            "text/plain": [
              "<tf.Tensor: shape=(10,), dtype=int32, numpy=array([ 70,  74,  78,  82,  86,  90,  94,  98, 102, 106], dtype=int32)>"
            ]
          },
          "metadata": {},
          "execution_count": 45
        }
      ]
    },
    {
      "cell_type": "code",
      "source": [
        "# Set random seed\n",
        "tf.random.set_seed(42)\n",
        "\n",
        "# Create a model (same as above)\n",
        "model = tf.keras.Sequential([\n",
        "  tf.keras.layers.Dense(5, input_shape=[1]),\n",
        "  tf.keras.layers.Dense(1)\n",
        "   # define the input_shape to our model\n",
        "])\n",
        "\n",
        "# Compile model (same as above)\n",
        "model.compile(loss=tf.keras.losses.mae,\n",
        "              optimizer=tf.keras.optimizers.SGD(lr=0.01),\n",
        "              metrics=[\"mae\"])\n",
        "\n",
        "model.fit(tf.expand_dims(X_train, axis=-1), y_train, epochs=100, verbose=0)"
      ],
      "metadata": {
        "colab": {
          "base_uri": "https://localhost:8080/"
        },
        "id": "41gzZsLoVOpE",
        "outputId": "8313c4fd-0fb4-4cb1-9e2b-4949605222c8"
      },
      "execution_count": 46,
      "outputs": [
        {
          "output_type": "stream",
          "name": "stderr",
          "text": [
            "WARNING:absl:`lr` is deprecated in Keras optimizer, please use `learning_rate` or use the legacy optimizer, e.g.,tf.keras.optimizers.legacy.SGD.\n"
          ]
        },
        {
          "output_type": "execute_result",
          "data": {
            "text/plain": [
              "<keras.callbacks.History at 0x7f0718223790>"
            ]
          },
          "metadata": {},
          "execution_count": 46
        }
      ]
    },
    {
      "cell_type": "code",
      "source": [
        "y_pred = model.predict(X_test)\n",
        "y_pred"
      ],
      "metadata": {
        "colab": {
          "base_uri": "https://localhost:8080/"
        },
        "id": "9ktW-AzpVwMq",
        "outputId": "8fe201f3-aa45-47be-900e-c03fc0e93844"
      },
      "execution_count": 47,
      "outputs": [
        {
          "output_type": "stream",
          "name": "stderr",
          "text": [
            "WARNING:tensorflow:6 out of the last 6 calls to <function Model.make_predict_function.<locals>.predict_function at 0x7f07b9085d30> triggered tf.function retracing. Tracing is expensive and the excessive number of tracings could be due to (1) creating @tf.function repeatedly in a loop, (2) passing tensors with different shapes, (3) passing Python objects instead of tensors. For (1), please define your @tf.function outside of the loop. For (2), @tf.function has reduce_retracing=True option that can avoid unnecessary retracing. For (3), please refer to https://www.tensorflow.org/guide/function#controlling_retracing and https://www.tensorflow.org/api_docs/python/tf/function for  more details.\n"
          ]
        },
        {
          "output_type": "stream",
          "name": "stdout",
          "text": [
            "1/1 [==============================] - 0s 55ms/step\n"
          ]
        },
        {
          "output_type": "execute_result",
          "data": {
            "text/plain": [
              "array([[ 76.26102],\n",
              "       [ 81.2303 ],\n",
              "       [ 86.19957],\n",
              "       [ 91.16885],\n",
              "       [ 96.13814],\n",
              "       [101.10741],\n",
              "       [106.07669],\n",
              "       [111.04597],\n",
              "       [116.01525],\n",
              "       [120.98453]], dtype=float32)"
            ]
          },
          "metadata": {},
          "execution_count": 47
        }
      ]
    },
    {
      "cell_type": "code",
      "source": [
        "y_test"
      ],
      "metadata": {
        "colab": {
          "base_uri": "https://localhost:8080/"
        },
        "id": "PoT1oT_qVzRA",
        "outputId": "cdaa0037-dd18-4db2-b0c3-415a17292a47"
      },
      "execution_count": 48,
      "outputs": [
        {
          "output_type": "execute_result",
          "data": {
            "text/plain": [
              "<tf.Tensor: shape=(10,), dtype=int32, numpy=array([ 70,  74,  78,  82,  86,  90,  94,  98, 102, 106], dtype=int32)>"
            ]
          },
          "metadata": {},
          "execution_count": 48
        }
      ]
    },
    {
      "cell_type": "code",
      "source": [
        "def plot_predictions(train_data=X_train,\n",
        "                     train_labels=y_train,\n",
        "                     test_data=X_test,\n",
        "                     test_labels=y_test,\n",
        "                     predictions=y_pred):\n",
        "  \n",
        "  plt.figure(figsize=(10, 7))\n",
        "  plt.scatter(train_data, train_labels, c=\"b\", label=\"Training data\")\n",
        "  plt.scatter(test_data, test_labels, c=\"g\", label=\"Testing data\")\n",
        "  plt.scatter(test_data, predictions, c=\"r\", label=\"Predictions\")\n",
        "  plt.legend();"
      ],
      "metadata": {
        "id": "IIWWbwmhV0uH"
      },
      "execution_count": 49,
      "outputs": []
    },
    {
      "cell_type": "code",
      "source": [
        "X_train.shape, y_train.shape, X_test.shape, y_test.shape, y_pred.shape"
      ],
      "metadata": {
        "colab": {
          "base_uri": "https://localhost:8080/"
        },
        "id": "xaz6GGJHYc21",
        "outputId": "e93db1d1-3948-4896-c6b0-4ba1d4f0f896"
      },
      "execution_count": 50,
      "outputs": [
        {
          "output_type": "execute_result",
          "data": {
            "text/plain": [
              "(TensorShape([40]),\n",
              " TensorShape([40]),\n",
              " TensorShape([10]),\n",
              " TensorShape([10]),\n",
              " (10, 1))"
            ]
          },
          "metadata": {},
          "execution_count": 50
        }
      ]
    },
    {
      "cell_type": "code",
      "source": [
        "plot_predictions(train_data=X_train,\n",
        "                 train_labels=y_train,\n",
        "                 test_data=X_test,\n",
        "                 test_labels=y_test,\n",
        "                 predictions=y_pred)"
      ],
      "metadata": {
        "colab": {
          "base_uri": "https://localhost:8080/",
          "height": 488
        },
        "id": "XKhvsGrLW4ZT",
        "outputId": "ece6c8bf-0a7b-4f04-93df-74226195246e"
      },
      "execution_count": 51,
      "outputs": [
        {
          "output_type": "display_data",
          "data": {
            "text/plain": [
              "<Figure size 1000x700 with 1 Axes>"
            ],
            "image/png": "[encoded data removed]"
          },
          "metadata": {}
        }
      ]
    },
    {
      "cell_type": "markdown",
      "source": [
        "## Evaluating our model's predictions with regression evaluation metrics"
      ],
      "metadata": {
        "id": "Qs8_AcsGW6hf"
      }
    },
    {
      "cell_type": "code",
      "source": [
        "# Evaluate the model on the test set\n",
        "model.evaluate(X_test, y_test)"
      ],
      "metadata": {
        "colab": {
          "base_uri": "https://localhost:8080/"
        },
        "id": "cxYZ7YSDXfjy",
        "outputId": "6458ba58-d8a2-4a6d-d7a9-f875c12d221f"
      },
      "execution_count": 52,
      "outputs": [
        {
          "output_type": "stream",
          "name": "stdout",
          "text": [
            "1/1 [==============================] - 0s 159ms/step - loss: 10.6228 - mae: 10.6228\n"
          ]
        },
        {
          "output_type": "execute_result",
          "data": {
            "text/plain": [
              "[10.622771263122559, 10.622771263122559]"
            ]
          },
          "metadata": {},
          "execution_count": 52
        }
      ]
    },
    {
      "cell_type": "code",
      "source": [
        "y_pred"
      ],
      "metadata": {
        "colab": {
          "base_uri": "https://localhost:8080/"
        },
        "id": "81m_eWqdbF9i",
        "outputId": "63207255-dbcf-4161-8b40-da3cac0a931e"
      },
      "execution_count": 53,
      "outputs": [
        {
          "output_type": "execute_result",
          "data": {
            "text/plain": [
              "array([[ 76.26102],\n",
              "       [ 81.2303 ],\n",
              "       [ 86.19957],\n",
              "       [ 91.16885],\n",
              "       [ 96.13814],\n",
              "       [101.10741],\n",
              "       [106.07669],\n",
              "       [111.04597],\n",
              "       [116.01525],\n",
              "       [120.98453]], dtype=float32)"
            ]
          },
          "metadata": {},
          "execution_count": 53
        }
      ]
    },
    {
      "cell_type": "code",
      "source": [
        "y_test"
      ],
      "metadata": {
        "colab": {
          "base_uri": "https://localhost:8080/"
        },
        "id": "NpShv_KXbRYz",
        "outputId": "9d35dba8-d2e1-407d-a431-3e7769076765"
      },
      "execution_count": 54,
      "outputs": [
        {
          "output_type": "execute_result",
          "data": {
            "text/plain": [
              "<tf.Tensor: shape=(10,), dtype=int32, numpy=array([ 70,  74,  78,  82,  86,  90,  94,  98, 102, 106], dtype=int32)>"
            ]
          },
          "metadata": {},
          "execution_count": 54
        }
      ]
    },
    {
      "cell_type": "code",
      "source": [
        "tf.keras.losses.MAE(y_test, y_pred)"
      ],
      "metadata": {
        "colab": {
          "base_uri": "https://localhost:8080/"
        },
        "id": "I7IOUQWUbSFO",
        "outputId": "bd129306-a05f-4a75-945c-2da36a85ee31"
      },
      "execution_count": 55,
      "outputs": [
        {
          "output_type": "execute_result",
          "data": {
            "text/plain": [
              "<tf.Tensor: shape=(10,), dtype=float32, numpy=\n",
              "array([13.44339 , 11.10788 , 10.      , 10.23377 , 11.655255, 14.264444,\n",
              "       18.07669 , 23.045967, 28.015253, 32.984528], dtype=float32)>"
            ]
          },
          "metadata": {},
          "execution_count": 55
        }
      ]
    },
    {
      "cell_type": "code",
      "source": [],
      "metadata": {
        "id": "YO4FFrIecQfn"
      },
      "execution_count": 55,
      "outputs": []
    },
    {
      "cell_type": "code",
      "source": [
        "tf.metrics.mean_absolute_error(y_test, y_pred)"
      ],
      "metadata": {
        "colab": {
          "base_uri": "https://localhost:8080/"
        },
        "id": "hGQma8azbq_H",
        "outputId": "64ee41dd-3db9-481a-cdad-047e25b169cf"
      },
      "execution_count": 56,
      "outputs": [
        {
          "output_type": "execute_result",
          "data": {
            "text/plain": [
              "<tf.Tensor: shape=(10,), dtype=float32, numpy=\n",
              "array([13.44339 , 11.10788 , 10.      , 10.23377 , 11.655255, 14.264444,\n",
              "       18.07669 , 23.045967, 28.015253, 32.984528], dtype=float32)>"
            ]
          },
          "metadata": {},
          "execution_count": 56
        }
      ]
    },
    {
      "cell_type": "code",
      "source": [
        "mae = tf.metrics.mean_absolute_error(y_true=y_test,\n",
        "                                     y_pred=tf.squeeze(y_pred))\n",
        "mae"
      ],
      "metadata": {
        "colab": {
          "base_uri": "https://localhost:8080/"
        },
        "id": "vv23_0A1eGwb",
        "outputId": "2c873c0c-f9eb-42e9-ebd4-3215011b1021"
      },
      "execution_count": 57,
      "outputs": [
        {
          "output_type": "execute_result",
          "data": {
            "text/plain": [
              "<tf.Tensor: shape=(), dtype=float32, numpy=10.622772>"
            ]
          },
          "metadata": {},
          "execution_count": 57
        }
      ]
    },
    {
      "cell_type": "code",
      "source": [
        "mse = tf.metrics.mean_squared_error(y_test,\n",
        "                                   tf.squeeze(y_pred))\n",
        "mse"
      ],
      "metadata": {
        "colab": {
          "base_uri": "https://localhost:8080/"
        },
        "id": "e1huQHU7gRSt",
        "outputId": "1f77549f-2ae9-4ffe-8037-43734b010463"
      },
      "execution_count": 58,
      "outputs": [
        {
          "output_type": "execute_result",
          "data": {
            "text/plain": [
              "<tf.Tensor: shape=(), dtype=float32, numpy=120.59418>"
            ]
          },
          "metadata": {},
          "execution_count": 58
        }
      ]
    },
    {
      "cell_type": "code",
      "source": [
        "tf.keras.losses.mae(y_test, tf.squeeze(y_pred))"
      ],
      "metadata": {
        "colab": {
          "base_uri": "https://localhost:8080/"
        },
        "id": "rd7fYbB3gvfL",
        "outputId": "5eab1b96-94ca-4b8d-eb64-b54281ea9aed"
      },
      "execution_count": 59,
      "outputs": [
        {
          "output_type": "execute_result",
          "data": {
            "text/plain": [
              "<tf.Tensor: shape=(), dtype=float32, numpy=10.622772>"
            ]
          },
          "metadata": {},
          "execution_count": 59
        }
      ]
    },
    {
      "cell_type": "code",
      "source": [
        "def mae(y_true, y_pred):\n",
        "  return tf.metrics.mean_absolute_error(y_true=y_true,\n",
        "                                        y_pred=tf.squeeze(y_pred))\n",
        "  \n",
        "def mse(y_true, y_pred):\n",
        "  return tf.metrics.mean_squared_error(y_true=y_true,\n",
        "                                       y_pred=tf.squeeze(y_pred))"
      ],
      "metadata": {
        "id": "8h6IaoVFhDHi"
      },
      "execution_count": 68,
      "outputs": []
    },
    {
      "cell_type": "markdown",
      "source": [
        "## Running experiments to improve our model"
      ],
      "metadata": {
        "id": "RPPRnwlsIZZJ"
      }
    },
    {
      "cell_type": "code",
      "source": [
        "X_train, y_train"
      ],
      "metadata": {
        "colab": {
          "base_uri": "https://localhost:8080/"
        },
        "id": "bs-c14snJ0S2",
        "outputId": "fa4aba82-14e8-4602-c923-8195e6cac761"
      },
      "execution_count": 61,
      "outputs": [
        {
          "output_type": "execute_result",
          "data": {
            "text/plain": [
              "(<tf.Tensor: shape=(40,), dtype=int32, numpy=\n",
              " array([-100,  -96,  -92,  -88,  -84,  -80,  -76,  -72,  -68,  -64,  -60,\n",
              "         -56,  -52,  -48,  -44,  -40,  -36,  -32,  -28,  -24,  -20,  -16,\n",
              "         -12,   -8,   -4,    0,    4,    8,   12,   16,   20,   24,   28,\n",
              "          32,   36,   40,   44,   48,   52,   56], dtype=int32)>,\n",
              " <tf.Tensor: shape=(40,), dtype=int32, numpy=\n",
              " array([-90, -86, -82, -78, -74, -70, -66, -62, -58, -54, -50, -46, -42,\n",
              "        -38, -34, -30, -26, -22, -18, -14, -10,  -6,  -2,   2,   6,  10,\n",
              "         14,  18,  22,  26,  30,  34,  38,  42,  46,  50,  54,  58,  62,\n",
              "         66], dtype=int32)>)"
            ]
          },
          "metadata": {},
          "execution_count": 61
        }
      ]
    },
    {
      "cell_type": "markdown",
      "source": [
        "1.`model_1` - same as the original model, 1 layer, trained for 100 epochs\n",
        "2. `model_2` - 2 layers, trained for 100 epochs\n",
        "3. `model_3` - 2 layers, trained for 500 epochs\n",
        "4. `model_4` - 3 layers, trained for 100 epochs\n",
        "5. `model_5` - 3 layers, trained for 500 epochs"
      ],
      "metadata": {
        "id": "z9py92j5NPAr"
      }
    },
    {
      "cell_type": "code",
      "source": [
        "tf.random.set_seed(42)\n",
        "\n",
        "model_1 = tf.keras.Sequential([\n",
        "    tf.keras.layers.Dense(1)\n",
        "])\n",
        "\n",
        "model_1.compile(loss=tf.keras.losses.mae,\n",
        "              optimizer=tf.keras.optimizers.SGD(),\n",
        "              metrics=[\"mae\"])\n",
        "\n",
        "model_1.fit(tf.expand_dims(X_train, axis=-1), y_train, epochs=100)"
      ],
      "metadata": {
        "colab": {
          "base_uri": "https://localhost:8080/"
        },
        "id": "Zl1cRu09OU1l",
        "outputId": "aef1a271-a712-47bc-8e53-0b979ccc9500"
      },
      "execution_count": 64,
      "outputs": [
        {
          "output_type": "stream",
          "name": "stdout",
          "text": [
            "Epoch 1/100\n",
            "2/2 [==============================] - 1s 19ms/step - loss: 103.1562 - mae: 103.1562\n",
            "Epoch 2/100\n",
            "2/2 [==============================] - 0s 13ms/step - loss: 67.7008 - mae: 67.7008\n",
            "Epoch 3/100\n",
            "2/2 [==============================] - 0s 10ms/step - loss: 30.3595 - mae: 30.3595\n",
            "Epoch 4/100\n",
            "2/2 [==============================] - 0s 32ms/step - loss: 9.9362 - mae: 9.9362\n",
            "Epoch 5/100\n",
            "2/2 [==============================] - 0s 11ms/step - loss: 10.8961 - mae: 10.8961\n",
            "Epoch 6/100\n",
            "2/2 [==============================] - 0s 12ms/step - loss: 10.0758 - mae: 10.0758\n",
            "Epoch 7/100\n",
            "2/2 [==============================] - 0s 12ms/step - loss: 9.1140 - mae: 9.1140\n",
            "Epoch 8/100\n",
            "2/2 [==============================] - 0s 11ms/step - loss: 9.1194 - mae: 9.1194\n",
            "Epoch 9/100\n",
            "2/2 [==============================] - 0s 11ms/step - loss: 15.0357 - mae: 15.0357\n",
            "Epoch 10/100\n",
            "2/2 [==============================] - 0s 14ms/step - loss: 7.6205 - mae: 7.6205\n",
            "Epoch 11/100\n",
            "2/2 [==============================] - 0s 12ms/step - loss: 11.3924 - mae: 11.3924\n",
            "Epoch 12/100\n",
            "2/2 [==============================] - 0s 12ms/step - loss: 16.9840 - mae: 16.9840\n",
            "Epoch 13/100\n",
            "2/2 [==============================] - 0s 12ms/step - loss: 12.0802 - mae: 12.0802\n",
            "Epoch 14/100\n",
            "2/2 [==============================] - 0s 9ms/step - loss: 14.0474 - mae: 14.0474\n",
            "Epoch 15/100\n",
            "2/2 [==============================] - 0s 9ms/step - loss: 11.4451 - mae: 11.4451\n",
            "Epoch 16/100\n",
            "2/2 [==============================] - 0s 12ms/step - loss: 8.5642 - mae: 8.5642\n",
            "Epoch 17/100\n",
            "2/2 [==============================] - 0s 9ms/step - loss: 13.6584 - mae: 13.6584\n",
            "Epoch 18/100\n",
            "2/2 [==============================] - 0s 9ms/step - loss: 11.4843 - mae: 11.4843\n",
            "Epoch 19/100\n",
            "2/2 [==============================] - 0s 9ms/step - loss: 17.9497 - mae: 17.9497\n",
            "Epoch 20/100\n",
            "2/2 [==============================] - 0s 22ms/step - loss: 15.0841 - mae: 15.0841\n",
            "Epoch 21/100\n",
            "2/2 [==============================] - 0s 9ms/step - loss: 11.0584 - mae: 11.0584\n",
            "Epoch 22/100\n",
            "2/2 [==============================] - 0s 9ms/step - loss: 8.1950 - mae: 8.1950\n",
            "Epoch 23/100\n",
            "2/2 [==============================] - 0s 8ms/step - loss: 9.5381 - mae: 9.5381\n",
            "Epoch 24/100\n",
            "2/2 [==============================] - 0s 24ms/step - loss: 7.6966 - mae: 7.6966\n",
            "Epoch 25/100\n",
            "2/2 [==============================] - 0s 14ms/step - loss: 13.1847 - mae: 13.1847\n",
            "Epoch 26/100\n",
            "2/2 [==============================] - 0s 9ms/step - loss: 16.4554 - mae: 16.4554\n",
            "Epoch 27/100\n",
            "2/2 [==============================] - 0s 9ms/step - loss: 13.2002 - mae: 13.2002\n",
            "Epoch 28/100\n",
            "2/2 [==============================] - 0s 10ms/step - loss: 14.2940 - mae: 14.2940\n",
            "Epoch 29/100\n",
            "2/2 [==============================] - 0s 20ms/step - loss: 10.1006 - mae: 10.1006\n",
            "Epoch 30/100\n",
            "2/2 [==============================] - 0s 17ms/step - loss: 16.3793 - mae: 16.3793\n",
            "Epoch 31/100\n",
            "2/2 [==============================] - 0s 13ms/step - loss: 23.6335 - mae: 23.6335\n",
            "Epoch 32/100\n",
            "2/2 [==============================] - 0s 8ms/step - loss: 7.6505 - mae: 7.6505\n",
            "Epoch 33/100\n",
            "2/2 [==============================] - 0s 9ms/step - loss: 9.3491 - mae: 9.3491\n",
            "Epoch 34/100\n",
            "2/2 [==============================] - 0s 13ms/step - loss: 13.7432 - mae: 13.7432\n",
            "Epoch 35/100\n",
            "2/2 [==============================] - 0s 8ms/step - loss: 11.1654 - mae: 11.1654\n",
            "Epoch 36/100\n",
            "2/2 [==============================] - 0s 8ms/step - loss: 13.3603 - mae: 13.3603\n",
            "Epoch 37/100\n",
            "2/2 [==============================] - 0s 11ms/step - loss: 9.5010 - mae: 9.5010\n",
            "Epoch 38/100\n",
            "2/2 [==============================] - 0s 11ms/step - loss: 10.1619 - mae: 10.1619\n",
            "Epoch 39/100\n",
            "2/2 [==============================] - 0s 8ms/step - loss: 10.2173 - mae: 10.2173\n",
            "Epoch 40/100\n",
            "2/2 [==============================] - 0s 12ms/step - loss: 10.9509 - mae: 10.9509\n",
            "Epoch 41/100\n",
            "2/2 [==============================] - 0s 9ms/step - loss: 7.9455 - mae: 7.9455\n",
            "Epoch 42/100\n",
            "2/2 [==============================] - 0s 9ms/step - loss: 10.1158 - mae: 10.1158\n",
            "Epoch 43/100\n",
            "2/2 [==============================] - 0s 10ms/step - loss: 8.7294 - mae: 8.7294\n",
            "Epoch 44/100\n",
            "2/2 [==============================] - 0s 10ms/step - loss: 12.2164 - mae: 12.2164\n",
            "Epoch 45/100\n",
            "2/2 [==============================] - 0s 9ms/step - loss: 13.8348 - mae: 13.8348\n",
            "Epoch 46/100\n",
            "2/2 [==============================] - 0s 11ms/step - loss: 8.5088 - mae: 8.5088\n",
            "Epoch 47/100\n",
            "2/2 [==============================] - 0s 20ms/step - loss: 9.1574 - mae: 9.1574\n",
            "Epoch 48/100\n",
            "2/2 [==============================] - 0s 25ms/step - loss: 10.6415 - mae: 10.6415\n",
            "Epoch 49/100\n",
            "2/2 [==============================] - 0s 23ms/step - loss: 7.7741 - mae: 7.7741\n",
            "Epoch 50/100\n",
            "2/2 [==============================] - 0s 8ms/step - loss: 9.5627 - mae: 9.5627\n",
            "Epoch 51/100\n",
            "2/2 [==============================] - 0s 9ms/step - loss: 9.1872 - mae: 9.1872\n",
            "Epoch 52/100\n",
            "2/2 [==============================] - 0s 8ms/step - loss: 16.3541 - mae: 16.3541\n",
            "Epoch 53/100\n",
            "2/2 [==============================] - 0s 8ms/step - loss: 14.1614 - mae: 14.1614\n",
            "Epoch 54/100\n",
            "2/2 [==============================] - 0s 11ms/step - loss: 21.1617 - mae: 21.1617\n",
            "Epoch 55/100\n",
            "2/2 [==============================] - 0s 15ms/step - loss: 16.3951 - mae: 16.3951\n",
            "Epoch 56/100\n",
            "2/2 [==============================] - 0s 9ms/step - loss: 9.9730 - mae: 9.9730\n",
            "Epoch 57/100\n",
            "2/2 [==============================] - 0s 20ms/step - loss: 9.6371 - mae: 9.6371\n",
            "Epoch 58/100\n",
            "2/2 [==============================] - 0s 9ms/step - loss: 8.9731 - mae: 8.9731\n",
            "Epoch 59/100\n",
            "2/2 [==============================] - 0s 11ms/step - loss: 10.1536 - mae: 10.1536\n",
            "Epoch 60/100\n",
            "2/2 [==============================] - 0s 11ms/step - loss: 8.4909 - mae: 8.4909\n",
            "Epoch 61/100\n",
            "2/2 [==============================] - 0s 12ms/step - loss: 9.3493 - mae: 9.3493\n",
            "Epoch 62/100\n",
            "2/2 [==============================] - 0s 11ms/step - loss: 7.1053 - mae: 7.1053\n",
            "Epoch 63/100\n",
            "2/2 [==============================] - 0s 10ms/step - loss: 8.6472 - mae: 8.6472\n",
            "Epoch 64/100\n",
            "2/2 [==============================] - 0s 13ms/step - loss: 9.2276 - mae: 9.2276\n",
            "Epoch 65/100\n",
            "2/2 [==============================] - 0s 13ms/step - loss: 10.4546 - mae: 10.4546\n",
            "Epoch 66/100\n",
            "2/2 [==============================] - 0s 10ms/step - loss: 15.7429 - mae: 15.7429\n",
            "Epoch 67/100\n",
            "2/2 [==============================] - 0s 10ms/step - loss: 10.1223 - mae: 10.1223\n",
            "Epoch 68/100\n",
            "2/2 [==============================] - 0s 8ms/step - loss: 9.0781 - mae: 9.0781\n",
            "Epoch 69/100\n",
            "2/2 [==============================] - 0s 11ms/step - loss: 12.6170 - mae: 12.6170\n",
            "Epoch 70/100\n",
            "2/2 [==============================] - 0s 11ms/step - loss: 8.9761 - mae: 8.9761\n",
            "Epoch 71/100\n",
            "2/2 [==============================] - 0s 8ms/step - loss: 9.9488 - mae: 9.9488\n",
            "Epoch 72/100\n",
            "2/2 [==============================] - 0s 10ms/step - loss: 9.9912 - mae: 9.9912\n",
            "Epoch 73/100\n",
            "2/2 [==============================] - 0s 8ms/step - loss: 12.4413 - mae: 12.4413\n",
            "Epoch 74/100\n",
            "2/2 [==============================] - 0s 9ms/step - loss: 10.6324 - mae: 10.6324\n",
            "Epoch 75/100\n",
            "2/2 [==============================] - 0s 6ms/step - loss: 9.6473 - mae: 9.6473\n",
            "Epoch 76/100\n",
            "2/2 [==============================] - 0s 6ms/step - loss: 11.1091 - mae: 11.1091\n",
            "Epoch 77/100\n",
            "2/2 [==============================] - 0s 9ms/step - loss: 8.2952 - mae: 8.2952\n",
            "Epoch 78/100\n",
            "2/2 [==============================] - 0s 7ms/step - loss: 8.9776 - mae: 8.9776\n",
            "Epoch 79/100\n",
            "2/2 [==============================] - 0s 9ms/step - loss: 19.8501 - mae: 19.8501\n",
            "Epoch 80/100\n",
            "2/2 [==============================] - 0s 7ms/step - loss: 17.7989 - mae: 17.7989\n",
            "Epoch 81/100\n",
            "2/2 [==============================] - 0s 6ms/step - loss: 7.1280 - mae: 7.1280\n",
            "Epoch 82/100\n",
            "2/2 [==============================] - 0s 12ms/step - loss: 10.4230 - mae: 10.4230\n",
            "Epoch 83/100\n",
            "2/2 [==============================] - 0s 7ms/step - loss: 9.8423 - mae: 9.8423\n",
            "Epoch 84/100\n",
            "2/2 [==============================] - 0s 7ms/step - loss: 7.9792 - mae: 7.9792\n",
            "Epoch 85/100\n",
            "2/2 [==============================] - 0s 10ms/step - loss: 9.4937 - mae: 9.4937\n",
            "Epoch 86/100\n",
            "2/2 [==============================] - 0s 7ms/step - loss: 9.5345 - mae: 9.5345\n",
            "Epoch 87/100\n",
            "2/2 [==============================] - 0s 7ms/step - loss: 11.4822 - mae: 11.4822\n",
            "Epoch 88/100\n",
            "2/2 [==============================] - 0s 7ms/step - loss: 9.9841 - mae: 9.9841\n",
            "Epoch 89/100\n",
            "2/2 [==============================] - 0s 7ms/step - loss: 7.2868 - mae: 7.2868\n",
            "Epoch 90/100\n",
            "2/2 [==============================] - 0s 9ms/step - loss: 12.7467 - mae: 12.7467\n",
            "Epoch 91/100\n",
            "2/2 [==============================] - 0s 10ms/step - loss: 7.3533 - mae: 7.3533\n",
            "Epoch 92/100\n",
            "2/2 [==============================] - 0s 7ms/step - loss: 7.7197 - mae: 7.7197\n",
            "Epoch 93/100\n",
            "2/2 [==============================] - 0s 8ms/step - loss: 7.1515 - mae: 7.1515\n",
            "Epoch 94/100\n",
            "2/2 [==============================] - 0s 6ms/step - loss: 12.5927 - mae: 12.5927\n",
            "Epoch 95/100\n",
            "2/2 [==============================] - 0s 7ms/step - loss: 9.9716 - mae: 9.9716\n",
            "Epoch 96/100\n",
            "2/2 [==============================] - 0s 8ms/step - loss: 9.1636 - mae: 9.1636\n",
            "Epoch 97/100\n",
            "2/2 [==============================] - 0s 9ms/step - loss: 12.0914 - mae: 12.0914\n",
            "Epoch 98/100\n",
            "2/2 [==============================] - 0s 7ms/step - loss: 9.1156 - mae: 9.1156\n",
            "Epoch 99/100\n",
            "2/2 [==============================] - 0s 7ms/step - loss: 8.5224 - mae: 8.5224\n",
            "Epoch 100/100\n",
            "2/2 [==============================] - 0s 13ms/step - loss: 14.4471 - mae: 14.4471\n"
          ]
        },
        {
          "output_type": "execute_result",
          "data": {
            "text/plain": [
              "<keras.callbacks.History at 0x7f0708a1e9a0>"
            ]
          },
          "metadata": {},
          "execution_count": 64
        }
      ]
    },
    {
      "cell_type": "code",
      "source": [
        "y_preds_1 = model_1.predict(X_test)\n",
        "plot_predictions(predictions=y_preds_1)"
      ],
      "metadata": {
        "colab": {
          "base_uri": "https://localhost:8080/",
          "height": 511
        },
        "id": "p4dMa8vWO5AV",
        "outputId": "b5823a01-9131-4914-adab-7d550f1d7ea2"
      },
      "execution_count": 66,
      "outputs": [
        {
          "output_type": "stream",
          "name": "stdout",
          "text": [
            "1/1 [==============================] - 0s 21ms/step\n"
          ]
        },
        {
          "output_type": "display_data",
          "data": {
            "text/plain": [
              "<Figure size 1000x700 with 1 Axes>"
            ],
            "image/png": "[encoded data removed]"
          },
          "metadata": {}
        }
      ]
    },
    {
      "cell_type": "code",
      "source": [
        "mae_1 = mae(y_test, y_preds_1)\n",
        "mse_1 = mse(y_test, y_preds_1)\n",
        "mae_1, mse_1"
      ],
      "metadata": {
        "colab": {
          "base_uri": "https://localhost:8080/"
        },
        "id": "6SluCxZvPskJ",
        "outputId": "eef5e1dd-201d-447a-9e3e-a1a324b62a59"
      },
      "execution_count": 69,
      "outputs": [
        {
          "output_type": "execute_result",
          "data": {
            "text/plain": [
              "(<tf.Tensor: shape=(), dtype=float32, numpy=30.754303>,\n",
              " <tf.Tensor: shape=(), dtype=float32, numpy=956.3375>)"
            ]
          },
          "metadata": {},
          "execution_count": 69
        }
      ]
    },
    {
      "cell_type": "code",
      "source": [
        "model_2 = tf.keras.Sequential([\n",
        "    tf.keras.layers.Dense(4),\n",
        "    tf.keras.layers.Dense(1)\n",
        "])\n",
        "\n",
        "model_2.compile(loss=tf.keras.losses.mae,\n",
        "                optimizer=tf.keras.optimizers.SGD(),\n",
        "                metrics=[\"mae\"])\n",
        "\n",
        "model_2.fit(tf.expand_dims(X_train, axis=-1), y_train, epochs=100)"
      ],
      "metadata": {
        "colab": {
          "base_uri": "https://localhost:8080/"
        },
        "id": "K_ljdD1jQkEt",
        "outputId": "5e4c0879-1364-4b9e-e3c9-2a107569f1c6"
      },
      "execution_count": 71,
      "outputs": [
        {
          "output_type": "stream",
          "name": "stdout",
          "text": [
            "Epoch 1/100\n",
            "2/2 [==============================] - 1s 8ms/step - loss: 74.1770 - mae: 74.1770\n",
            "Epoch 2/100\n",
            "2/2 [==============================] - 0s 8ms/step - loss: 21.1135 - mae: 21.1135\n",
            "Epoch 3/100\n",
            "2/2 [==============================] - 0s 7ms/step - loss: 22.4171 - mae: 22.4171\n",
            "Epoch 4/100\n",
            "2/2 [==============================] - 0s 10ms/step - loss: 12.7685 - mae: 12.7685\n",
            "Epoch 5/100\n",
            "2/2 [==============================] - 0s 10ms/step - loss: 13.9464 - mae: 13.9464\n",
            "Epoch 6/100\n",
            "2/2 [==============================] - 0s 7ms/step - loss: 11.1590 - mae: 11.1590\n",
            "Epoch 7/100\n",
            "2/2 [==============================] - 0s 7ms/step - loss: 12.1470 - mae: 12.1470\n",
            "Epoch 8/100\n",
            "2/2 [==============================] - 0s 6ms/step - loss: 10.8583 - mae: 10.8583\n",
            "Epoch 9/100\n",
            "2/2 [==============================] - 0s 7ms/step - loss: 37.7091 - mae: 37.7091\n",
            "Epoch 10/100\n",
            "2/2 [==============================] - 0s 7ms/step - loss: 25.3413 - mae: 25.3413\n",
            "Epoch 11/100\n",
            "2/2 [==============================] - 0s 6ms/step - loss: 10.2391 - mae: 10.2391\n",
            "Epoch 12/100\n",
            "2/2 [==============================] - 0s 6ms/step - loss: 25.3215 - mae: 25.3215\n",
            "Epoch 13/100\n",
            "2/2 [==============================] - 0s 12ms/step - loss: 16.8822 - mae: 16.8822\n",
            "Epoch 14/100\n",
            "2/2 [==============================] - 0s 7ms/step - loss: 25.7297 - mae: 25.7297\n",
            "Epoch 15/100\n",
            "2/2 [==============================] - 0s 7ms/step - loss: 17.5843 - mae: 17.5843\n",
            "Epoch 16/100\n",
            "2/2 [==============================] - 0s 7ms/step - loss: 10.0458 - mae: 10.0458\n",
            "Epoch 17/100\n",
            "2/2 [==============================] - 0s 7ms/step - loss: 18.5956 - mae: 18.5956\n",
            "Epoch 18/100\n",
            "2/2 [==============================] - 0s 7ms/step - loss: 11.7485 - mae: 11.7485\n",
            "Epoch 19/100\n",
            "2/2 [==============================] - 0s 7ms/step - loss: 16.4201 - mae: 16.4201\n",
            "Epoch 20/100\n",
            "2/2 [==============================] - 0s 8ms/step - loss: 8.2387 - mae: 8.2387\n",
            "Epoch 21/100\n",
            "2/2 [==============================] - 0s 8ms/step - loss: 14.4393 - mae: 14.4393\n",
            "Epoch 22/100\n",
            "2/2 [==============================] - 0s 6ms/step - loss: 12.8585 - mae: 12.8585\n",
            "Epoch 23/100\n",
            "2/2 [==============================] - 0s 7ms/step - loss: 15.4898 - mae: 15.4898\n",
            "Epoch 24/100\n",
            "2/2 [==============================] - 0s 8ms/step - loss: 15.2815 - mae: 15.2815\n",
            "Epoch 25/100\n",
            "2/2 [==============================] - 0s 7ms/step - loss: 14.3464 - mae: 14.3464\n",
            "Epoch 26/100\n",
            "2/2 [==============================] - 0s 6ms/step - loss: 19.3643 - mae: 19.3643\n",
            "Epoch 27/100\n",
            "2/2 [==============================] - 0s 7ms/step - loss: 11.4345 - mae: 11.4345\n",
            "Epoch 28/100\n",
            "2/2 [==============================] - 0s 7ms/step - loss: 29.0302 - mae: 29.0302\n",
            "Epoch 29/100\n",
            "2/2 [==============================] - 0s 7ms/step - loss: 9.2441 - mae: 9.2441\n",
            "Epoch 30/100\n",
            "2/2 [==============================] - 0s 6ms/step - loss: 29.7813 - mae: 29.7813\n",
            "Epoch 31/100\n",
            "2/2 [==============================] - 0s 9ms/step - loss: 54.0303 - mae: 54.0303\n",
            "Epoch 32/100\n",
            "2/2 [==============================] - 0s 7ms/step - loss: 9.5494 - mae: 9.5494\n",
            "Epoch 33/100\n",
            "2/2 [==============================] - 0s 6ms/step - loss: 12.1390 - mae: 12.1390\n",
            "Epoch 34/100\n",
            "2/2 [==============================] - 0s 6ms/step - loss: 23.8317 - mae: 23.8317\n",
            "Epoch 35/100\n",
            "2/2 [==============================] - 0s 6ms/step - loss: 12.6269 - mae: 12.6269\n",
            "Epoch 36/100\n",
            "2/2 [==============================] - 0s 6ms/step - loss: 21.5567 - mae: 21.5567\n",
            "Epoch 37/100\n",
            "2/2 [==============================] - 0s 7ms/step - loss: 11.3480 - mae: 11.3480\n",
            "Epoch 38/100\n",
            "2/2 [==============================] - 0s 7ms/step - loss: 13.4182 - mae: 13.4182\n",
            "Epoch 39/100\n",
            "2/2 [==============================] - 0s 6ms/step - loss: 10.7628 - mae: 10.7628\n",
            "Epoch 40/100\n",
            "2/2 [==============================] - 0s 7ms/step - loss: 16.5366 - mae: 16.5366\n",
            "Epoch 41/100\n",
            "2/2 [==============================] - 0s 10ms/step - loss: 10.9359 - mae: 10.9359\n",
            "Epoch 42/100\n",
            "2/2 [==============================] - 0s 8ms/step - loss: 9.2708 - mae: 9.2708\n",
            "Epoch 43/100\n",
            "2/2 [==============================] - 0s 8ms/step - loss: 9.5793 - mae: 9.5793\n",
            "Epoch 44/100\n",
            "2/2 [==============================] - 0s 8ms/step - loss: 27.9086 - mae: 27.9086\n",
            "Epoch 45/100\n",
            "2/2 [==============================] - 0s 8ms/step - loss: 11.2545 - mae: 11.2545\n",
            "Epoch 46/100\n",
            "2/2 [==============================] - 0s 6ms/step - loss: 13.8506 - mae: 13.8506\n",
            "Epoch 47/100\n",
            "2/2 [==============================] - 0s 7ms/step - loss: 11.9184 - mae: 11.9184\n",
            "Epoch 48/100\n",
            "2/2 [==============================] - 0s 7ms/step - loss: 16.9534 - mae: 16.9534\n",
            "Epoch 49/100\n",
            "2/2 [==============================] - 0s 6ms/step - loss: 9.7663 - mae: 9.7663\n",
            "Epoch 50/100\n",
            "2/2 [==============================] - 0s 7ms/step - loss: 14.1580 - mae: 14.1580\n",
            "Epoch 51/100\n",
            "2/2 [==============================] - 0s 7ms/step - loss: 11.7282 - mae: 11.7282\n",
            "Epoch 52/100\n",
            "2/2 [==============================] - 0s 7ms/step - loss: 31.3861 - mae: 31.3861\n",
            "Epoch 53/100\n",
            "2/2 [==============================] - 0s 7ms/step - loss: 14.7212 - mae: 14.7212\n",
            "Epoch 54/100\n",
            "2/2 [==============================] - 0s 6ms/step - loss: 24.6132 - mae: 24.6132\n",
            "Epoch 55/100\n",
            "2/2 [==============================] - 0s 7ms/step - loss: 23.8943 - mae: 23.8943\n",
            "Epoch 56/100\n",
            "2/2 [==============================] - 0s 9ms/step - loss: 11.1122 - mae: 11.1122\n",
            "Epoch 57/100\n",
            "2/2 [==============================] - 0s 7ms/step - loss: 13.0512 - mae: 13.0512\n",
            "Epoch 58/100\n",
            "2/2 [==============================] - 0s 8ms/step - loss: 9.7726 - mae: 9.7726\n",
            "Epoch 59/100\n",
            "2/2 [==============================] - 0s 8ms/step - loss: 13.2327 - mae: 13.2327\n",
            "Epoch 60/100\n",
            "2/2 [==============================] - 0s 7ms/step - loss: 10.8255 - mae: 10.8255\n",
            "Epoch 61/100\n",
            "2/2 [==============================] - 0s 9ms/step - loss: 13.4100 - mae: 13.4100\n",
            "Epoch 62/100\n",
            "2/2 [==============================] - 0s 7ms/step - loss: 17.3871 - mae: 17.3871\n",
            "Epoch 63/100\n",
            "2/2 [==============================] - 0s 7ms/step - loss: 9.1303 - mae: 9.1303\n",
            "Epoch 64/100\n",
            "2/2 [==============================] - 0s 7ms/step - loss: 18.2605 - mae: 18.2605\n",
            "Epoch 65/100\n",
            "2/2 [==============================] - 0s 7ms/step - loss: 10.0853 - mae: 10.0853\n",
            "Epoch 66/100\n",
            "2/2 [==============================] - 0s 9ms/step - loss: 24.0966 - mae: 24.0966\n",
            "Epoch 67/100\n",
            "2/2 [==============================] - 0s 7ms/step - loss: 10.8355 - mae: 10.8355\n",
            "Epoch 68/100\n",
            "2/2 [==============================] - 0s 8ms/step - loss: 10.7307 - mae: 10.7307\n",
            "Epoch 69/100\n",
            "2/2 [==============================] - 0s 10ms/step - loss: 23.0699 - mae: 23.0699\n",
            "Epoch 70/100\n",
            "2/2 [==============================] - 0s 7ms/step - loss: 8.8424 - mae: 8.8424\n",
            "Epoch 71/100\n",
            "2/2 [==============================] - 0s 7ms/step - loss: 16.0760 - mae: 16.0760\n",
            "Epoch 72/100\n",
            "2/2 [==============================] - 0s 7ms/step - loss: 7.7545 - mae: 7.7545\n",
            "Epoch 73/100\n",
            "2/2 [==============================] - 0s 7ms/step - loss: 10.6311 - mae: 10.6311\n",
            "Epoch 74/100\n",
            "2/2 [==============================] - 0s 7ms/step - loss: 27.9071 - mae: 27.9071\n",
            "Epoch 75/100\n",
            "2/2 [==============================] - 0s 9ms/step - loss: 10.4633 - mae: 10.4633\n",
            "Epoch 76/100\n",
            "2/2 [==============================] - 0s 7ms/step - loss: 13.4606 - mae: 13.4606\n",
            "Epoch 77/100\n",
            "2/2 [==============================] - 0s 6ms/step - loss: 19.3214 - mae: 19.3214\n",
            "Epoch 78/100\n",
            "2/2 [==============================] - 0s 7ms/step - loss: 8.8982 - mae: 8.8982\n",
            "Epoch 79/100\n",
            "2/2 [==============================] - 0s 7ms/step - loss: 27.9916 - mae: 27.9916\n",
            "Epoch 80/100\n",
            "2/2 [==============================] - 0s 8ms/step - loss: 30.0787 - mae: 30.0787\n",
            "Epoch 81/100\n",
            "2/2 [==============================] - 0s 7ms/step - loss: 13.8545 - mae: 13.8545\n",
            "Epoch 82/100\n",
            "2/2 [==============================] - 0s 8ms/step - loss: 15.7233 - mae: 15.7233\n",
            "Epoch 83/100\n",
            "2/2 [==============================] - 0s 7ms/step - loss: 11.2120 - mae: 11.2120\n",
            "Epoch 84/100\n",
            "2/2 [==============================] - 0s 7ms/step - loss: 7.3103 - mae: 7.3103\n",
            "Epoch 85/100\n",
            "2/2 [==============================] - 0s 8ms/step - loss: 15.1434 - mae: 15.1434\n",
            "Epoch 86/100\n",
            "2/2 [==============================] - 0s 9ms/step - loss: 15.4291 - mae: 15.4291\n",
            "Epoch 87/100\n",
            "2/2 [==============================] - 0s 8ms/step - loss: 19.3935 - mae: 19.3935\n",
            "Epoch 88/100\n",
            "2/2 [==============================] - 0s 7ms/step - loss: 29.0818 - mae: 29.0818\n",
            "Epoch 89/100\n",
            "2/2 [==============================] - 0s 7ms/step - loss: 10.0708 - mae: 10.0708\n",
            "Epoch 90/100\n",
            "2/2 [==============================] - 0s 8ms/step - loss: 20.9154 - mae: 20.9154\n",
            "Epoch 91/100\n",
            "2/2 [==============================] - 0s 9ms/step - loss: 10.4300 - mae: 10.4300\n",
            "Epoch 92/100\n",
            "2/2 [==============================] - 0s 7ms/step - loss: 17.8509 - mae: 17.8509\n",
            "Epoch 93/100\n",
            "2/2 [==============================] - 0s 7ms/step - loss: 6.5638 - mae: 6.5638\n",
            "Epoch 94/100\n",
            "2/2 [==============================] - 0s 7ms/step - loss: 11.0847 - mae: 11.0847\n",
            "Epoch 95/100\n",
            "2/2 [==============================] - 0s 7ms/step - loss: 24.1968 - mae: 24.1968\n",
            "Epoch 96/100\n",
            "2/2 [==============================] - 0s 6ms/step - loss: 10.6881 - mae: 10.6881\n",
            "Epoch 97/100\n",
            "2/2 [==============================] - 0s 7ms/step - loss: 15.2430 - mae: 15.2430\n",
            "Epoch 98/100\n",
            "2/2 [==============================] - 0s 7ms/step - loss: 8.2229 - mae: 8.2229\n",
            "Epoch 99/100\n",
            "2/2 [==============================] - 0s 7ms/step - loss: 16.4196 - mae: 16.4196\n",
            "Epoch 100/100\n",
            "2/2 [==============================] - 0s 7ms/step - loss: 13.8315 - mae: 13.8315\n"
          ]
        },
        {
          "output_type": "execute_result",
          "data": {
            "text/plain": [
              "<keras.callbacks.History at 0x7f0711892cd0>"
            ]
          },
          "metadata": {},
          "execution_count": 71
        }
      ]
    },
    {
      "cell_type": "code",
      "source": [
        "y_preds_2 = model_2.predict(X_test)"
      ],
      "metadata": {
        "colab": {
          "base_uri": "https://localhost:8080/"
        },
        "id": "DvKTyjT5R0uJ",
        "outputId": "e26f1a4c-af74-4c0a-ef7d-a49ce219ee8f"
      },
      "execution_count": 72,
      "outputs": [
        {
          "output_type": "stream",
          "name": "stdout",
          "text": [
            "1/1 [==============================] - 0s 55ms/step\n"
          ]
        }
      ]
    },
    {
      "cell_type": "code",
      "source": [
        "mae_2 = mae(y_test, y_preds_2)\n",
        "mse_2 = mse(y_test, y_preds_2)\n",
        "mae_2, mse_2"
      ],
      "metadata": {
        "colab": {
          "base_uri": "https://localhost:8080/"
        },
        "id": "UUno2eWmSYXm",
        "outputId": "3fdf9f48-050f-47c7-ac81-d7aa788f7b13"
      },
      "execution_count": 73,
      "outputs": [
        {
          "output_type": "execute_result",
          "data": {
            "text/plain": [
              "(<tf.Tensor: shape=(), dtype=float32, numpy=17.62944>,\n",
              " <tf.Tensor: shape=(), dtype=float32, numpy=325.31137>)"
            ]
          },
          "metadata": {},
          "execution_count": 73
        }
      ]
    },
    {
      "cell_type": "code",
      "source": [
        "plot_predictions(predictions=y_preds_2)"
      ],
      "metadata": {
        "colab": {
          "base_uri": "https://localhost:8080/",
          "height": 488
        },
        "id": "MMtv0dFSSgze",
        "outputId": "79a54ec8-8449-4b59-9bbe-bc5ba9db2db2"
      },
      "execution_count": 74,
      "outputs": [
        {
          "output_type": "display_data",
          "data": {
            "text/plain": [
              "<Figure size 1000x700 with 1 Axes>"
            ],
            "image/png": "[encoded data removed]"
          },
          "metadata": {}
        }
      ]
    },
    {
      "cell_type": "code",
      "source": [
        "model_3 = tf.keras.Sequential([\n",
        "    tf.keras.layers.Dense(4),\n",
        "    tf.keras.layers.Dense(1)\n",
        "])\n",
        "\n",
        "model_3.compile(loss=tf.keras.losses.mae,\n",
        "                optimizer=tf.keras.optimizers.SGD(),\n",
        "                metrics=[\"mae\"])\n",
        "\n",
        "model_3.fit(tf.expand_dims(X_train, axis=-1), y_train, epochs=500, verbose=0)"
      ],
      "metadata": {
        "colab": {
          "base_uri": "https://localhost:8080/"
        },
        "id": "szvbM-SWSxjh",
        "outputId": "cfaad02f-484c-4f70-9f7a-5dcf225dd6ed"
      },
      "execution_count": 76,
      "outputs": [
        {
          "output_type": "execute_result",
          "data": {
            "text/plain": [
              "<keras.callbacks.History at 0x7f07119ac610>"
            ]
          },
          "metadata": {},
          "execution_count": 76
        }
      ]
    },
    {
      "cell_type": "code",
      "source": [
        "y_preds_3 = model.predict(X_test)"
      ],
      "metadata": {
        "colab": {
          "base_uri": "https://localhost:8080/"
        },
        "id": "8wFbryoEU-3e",
        "outputId": "957d3bb8-db90-4710-93ad-02be2add7d3b"
      },
      "execution_count": 77,
      "outputs": [
        {
          "output_type": "stream",
          "name": "stdout",
          "text": [
            "1/1 [==============================] - 0s 52ms/step\n"
          ]
        }
      ]
    },
    {
      "cell_type": "code",
      "source": [
        "mae_3 = mae(y_test, y_preds_3)\n",
        "mse_3 = mse(y_test, y_preds_3)\n",
        "mae_3, mse_3"
      ],
      "metadata": {
        "colab": {
          "base_uri": "https://localhost:8080/"
        },
        "id": "nzOr-uiSVM5m",
        "outputId": "4fc22dd6-052f-4e69-815d-95052c47ab2e"
      },
      "execution_count": 78,
      "outputs": [
        {
          "output_type": "execute_result",
          "data": {
            "text/plain": [
              "(<tf.Tensor: shape=(), dtype=float32, numpy=10.622772>,\n",
              " <tf.Tensor: shape=(), dtype=float32, numpy=120.59418>)"
            ]
          },
          "metadata": {},
          "execution_count": 78
        }
      ]
    },
    {
      "cell_type": "code",
      "source": [
        "plot_predictions(predictions=y_preds_3)"
      ],
      "metadata": {
        "colab": {
          "base_uri": "https://localhost:8080/",
          "height": 488
        },
        "id": "BR1yzr8nVXA8",
        "outputId": "556185a0-d137-4984-8d09-1d174a652905"
      },
      "execution_count": 79,
      "outputs": [
        {
          "output_type": "display_data",
          "data": {
            "text/plain": [
              "<Figure size 1000x700 with 1 Axes>"
            ],
            "image/png": "[encoded data removed]"
          },
          "metadata": {}
        }
      ]
    },
    {
      "cell_type": "markdown",
      "source": [
        "## Comparing the results of our experiments"
      ],
      "metadata": {
        "id": "H0C_hwTZV4np"
      }
    },
    {
      "cell_type": "code",
      "source": [
        "import pandas as pd\n",
        "\n",
        "model_results = [[\"model_1\", mae_1.numpy(), mse_1.numpy()],\n",
        "                 [\"model_2\", mae_2.numpy(), mse_2.numpy()],\n",
        "                 [\"model_3\", mae_3.numpy(), mse_3.numpy()]]\n",
        "\n",
        "all_results = pd.DataFrame(model_results, columns=[\"model\", \"mae\", \"mse\"])\n",
        "all_results"
      ],
      "metadata": {
        "colab": {
          "base_uri": "https://localhost:8080/",
          "height": 143
        },
        "id": "xjgPULt1mLh3",
        "outputId": "b3c1a664-24f6-4e8b-8113-4a0eeb3e1c8f"
      },
      "execution_count": 81,
      "outputs": [
        {
          "output_type": "execute_result",
          "data": {
            "text/plain": [
              "     model        mae         mse\n",
              "0  model_1  30.754303  956.337524\n",
              "1  model_2  17.629440  325.311371\n",
              "2  model_3  10.622772  120.594177"
            ],
            "text/html": [
              "\n",
              "  <div id=\"df-1f4705db-fa85-4e83-b2b5-0bd4a5d23a5b\">\n",
              "    <div class=\"colab-df-container\">\n",
              "      <div>\n",
              "<style scoped>\n",
              "    .dataframe tbody tr th:only-of-type {\n",
              "        vertical-align: middle;\n",
              "    }\n",
              "\n",
              "    .dataframe tbody tr th {\n",
              "        vertical-align: top;\n",
              "    }\n",
              "\n",
              "    .dataframe thead th {\n",
              "        text-align: right;\n",
              "    }\n",
              "</style>\n",
              "<table border=\"1\" class=\"dataframe\">\n",
              "  <thead>\n",
              "    <tr style=\"text-align: right;\">\n",
              "      <th></th>\n",
              "      <th>model</th>\n",
              "      <th>mae</th>\n",
              "      <th>mse</th>\n",
              "    </tr>\n",
              "  </thead>\n",
              "  <tbody>\n",
              "    <tr>\n",
              "      <th>0</th>\n",
              "      <td>model_1</td>\n",
              "      <td>30.754303</td>\n",
              "      <td>956.337524</td>\n",
              "    </tr>\n",
              "    <tr>\n",
              "      <th>1</th>\n",
              "      <td>model_2</td>\n",
              "      <td>17.629440</td>\n",
              "      <td>325.311371</td>\n",
              "    </tr>\n",
              "    <tr>\n",
              "      <th>2</th>\n",
              "      <td>model_3</td>\n",
              "      <td>10.622772</td>\n",
              "      <td>120.594177</td>\n",
              "    </tr>\n",
              "  </tbody>\n",
              "</table>\n",
              "</div>\n",
              "      <button class=\"colab-df-convert\" onclick=\"convertToInteractive('df-1f4705db-fa85-4e83-b2b5-0bd4a5d23a5b')\"\n",
              "              title=\"Convert this dataframe to an interactive table.\"\n",
              "              style=\"display:none;\">\n",
              "        \n",
              "  <svg xmlns=\"http://www.w3.org/2000/svg\" height=\"24px\"viewBox=\"0 0 24 24\"\n",
              "       width=\"24px\">\n",
              "    <path d=\"M0 0h24v24H0V0z\" fill=\"none\"/>\n",
              "    <path d=\"M18.56 5.44l.94 2.06.94-2.06 2.06-.94-2.06-.94-.94-2.06-.94 2.06-2.06.94zm-11 1L8.5 8.5l.94-2.06 2.06-.94-2.06-.94L8.5 2.5l-.94 2.06-2.06.94zm10 10l.94 2.06.94-2.06 2.06-.94-2.06-.94-.94-2.06-.94 2.06-2.06.94z\"/><path d=\"M17.41 7.96l-1.37-1.37c-.4-.4-.92-.59-1.43-.59-.52 0-1.04.2-1.43.59L10.3 9.45l-7.72 7.72c-.78.78-.78 2.05 0 2.83L4 21.41c.39.39.9.59 1.41.59.51 0 1.02-.2 1.41-.59l7.78-7.78 2.81-2.81c.8-.78.8-2.07 0-2.86zM5.41 20L4 18.59l7.72-7.72 1.47 1.35L5.41 20z\"/>\n",
              "  </svg>\n",
              "      </button>\n",
              "      \n",
              "  <style>\n",
              "    .colab-df-container {\n",
              "      display:flex;\n",
              "      flex-wrap:wrap;\n",
              "      gap: 12px;\n",
              "    }\n",
              "\n",
              "    .colab-df-convert {\n",
              "      background-color: #E8F0FE;\n",
              "      border: none;\n",
              "      border-radius: 50%;\n",
              "      cursor: pointer;\n",
              "      display: none;\n",
              "      fill: #1967D2;\n",
              "      height: 32px;\n",
              "      padding: 0 0 0 0;\n",
              "      width: 32px;\n",
              "    }\n",
              "\n",
              "    .colab-df-convert:hover {\n",
              "      background-color: #E2EBFA;\n",
              "      box-shadow: 0px 1px 2px rgba(60, 64, 67, 0.3), 0px 1px 3px 1px rgba(60, 64, 67, 0.15);\n",
              "      fill: #174EA6;\n",
              "    }\n",
              "\n",
              "    [theme=dark] .colab-df-convert {\n",
              "      background-color: #3B4455;\n",
              "      fill: #D2E3FC;\n",
              "    }\n",
              "\n",
              "    [theme=dark] .colab-df-convert:hover {\n",
              "      background-color: #434B5C;\n",
              "      box-shadow: 0px 1px 3px 1px rgba(0, 0, 0, 0.15);\n",
              "      filter: drop-shadow(0px 1px 2px rgba(0, 0, 0, 0.3));\n",
              "      fill: #FFFFFF;\n",
              "    }\n",
              "  </style>\n",
              "\n",
              "      <script>\n",
              "        const buttonEl =\n",
              "          document.querySelector('#df-1f4705db-fa85-4e83-b2b5-0bd4a5d23a5b button.colab-df-convert');\n",
              "        buttonEl.style.display =\n",
              "          google.colab.kernel.accessAllowed ? 'block' : 'none';\n",
              "\n",
              "        async function convertToInteractive(key) {\n",
              "          const element = document.querySelector('#df-1f4705db-fa85-4e83-b2b5-0bd4a5d23a5b');\n",
              "          const dataTable =\n",
              "            await google.colab.kernel.invokeFunction('convertToInteractive',\n",
              "                                                     [key], {});\n",
              "          if (!dataTable) return;\n",
              "\n",
              "          const docLinkHtml = 'Like what you see? Visit the ' +\n",
              "            '<a target=\"_blank\" href=https://colab.research.google.com/notebooks/data_table.ipynb>data table notebook</a>'\n",
              "            + ' to learn more about interactive tables.';\n",
              "          element.innerHTML = '';\n",
              "          dataTable['output_type'] = 'display_data';\n",
              "          await google.colab.output.renderOutput(dataTable, element);\n",
              "          const docLink = document.createElement('div');\n",
              "          docLink.innerHTML = docLinkHtml;\n",
              "          element.appendChild(docLink);\n",
              "        }\n",
              "      </script>\n",
              "    </div>\n",
              "  </div>\n",
              "  "
            ]
          },
          "metadata": {},
          "execution_count": 81
        }
      ]
    },
    {
      "cell_type": "code",
      "source": [
        "all_results.plot.bar(xlabel=\"Model No.\",\n",
        "                     ylabel=\"Error Value\")"
      ],
      "metadata": {
        "colab": {
          "base_uri": "https://localhost:8080/",
          "height": 465
        },
        "id": "jFa0jsGvnRSK",
        "outputId": "48686957-497d-4a6e-9ffd-cdfdc9243452"
      },
      "execution_count": 87,
      "outputs": [
        {
          "output_type": "execute_result",
          "data": {
            "text/plain": [
              "<Axes: xlabel='Model No.', ylabel='Error Value'>"
            ]
          },
          "metadata": {},
          "execution_count": 87
        },
        {
          "output_type": "display_data",
          "data": {
            "text/plain": [
              "<Figure size 640x480 with 1 Axes>"
            ],
            "image/png": "[encoded data removed]"
          },
          "metadata": {}
        }
      ]
    },
    {
      "cell_type": "markdown",
      "source": [
        "## Tracking your experiments"
      ],
      "metadata": {
        "id": "2An6-kUgnckK"
      }
    },
    {
      "cell_type": "markdown",
      "source": [
        "We can use TensorBoard (will be covered later) to track the various experiments."
      ],
      "metadata": {
        "id": "imVNLILbobHV"
      }
    },
    {
      "cell_type": "markdown",
      "source": [
        "## TensorBoard"
      ],
      "metadata": {
        "id": "8fAY0wFyrU1v"
      }
    },
    {
      "cell_type": "markdown",
      "source": [
        "## Savaing our models"
      ],
      "metadata": {
        "id": "ksIjFuB7rWvj"
      }
    },
    {
      "cell_type": "code",
      "source": [
        "model_2.save(\"best_model_SavedModel_format\")"
      ],
      "metadata": {
        "colab": {
          "base_uri": "https://localhost:8080/"
        },
        "id": "1awVB9kfvFl4",
        "outputId": "290b367c-f3e1-460a-ccbd-ce958b3ad434"
      },
      "execution_count": 88,
      "outputs": [
        {
          "output_type": "stream",
          "name": "stderr",
          "text": [
            "WARNING:absl:Found untraced functions such as _update_step_xla while saving (showing 1 of 1). These functions will not be directly callable after loading.\n"
          ]
        }
      ]
    },
    {
      "cell_type": "code",
      "source": [
        "model_2.save(\"best_model_HDF5_format.h5\")"
      ],
      "metadata": {
        "id": "iOPDwKsuyeGJ"
      },
      "execution_count": 89,
      "outputs": []
    },
    {
      "cell_type": "markdown",
      "source": [
        "## Loading in a saved model"
      ],
      "metadata": {
        "id": "W_cIL5J5zLmW"
      }
    },
    {
      "cell_type": "code",
      "source": [
        "loaded_SavedModel_format = tf.keras.models.load_model(\"/content/best_model_SavedModel_format\")\n",
        "loaded_SavedModel_format.summary()"
      ],
      "metadata": {
        "colab": {
          "base_uri": "https://localhost:8080/"
        },
        "id": "YXicPtdLzuJz",
        "outputId": "2ca7436d-74fb-4052-a089-70c1fe127af7"
      },
      "execution_count": 90,
      "outputs": [
        {
          "output_type": "stream",
          "name": "stdout",
          "text": [
            "Model: \"sequential_15\"\n",
            "_________________________________________________________________\n",
            " Layer (type)                Output Shape              Param #   \n",
            "=================================================================\n",
            " dense_18 (Dense)            (None, 4)                 8         \n",
            "                                                                 \n",
            " dense_19 (Dense)            (None, 1)                 5         \n",
            "                                                                 \n",
            "=================================================================\n",
            "Total params: 13\n",
            "Trainable params: 13\n",
            "Non-trainable params: 0\n",
            "_________________________________________________________________\n"
          ]
        }
      ]
    },
    {
      "cell_type": "code",
      "source": [
        "model_2.summary()"
      ],
      "metadata": {
        "colab": {
          "base_uri": "https://localhost:8080/"
        },
        "id": "bLEIdLgG0H8M",
        "outputId": "bb2de723-37af-4229-934a-520887df97e8"
      },
      "execution_count": 91,
      "outputs": [
        {
          "output_type": "stream",
          "name": "stdout",
          "text": [
            "Model: \"sequential_15\"\n",
            "_________________________________________________________________\n",
            " Layer (type)                Output Shape              Param #   \n",
            "=================================================================\n",
            " dense_18 (Dense)            (None, 4)                 8         \n",
            "                                                                 \n",
            " dense_19 (Dense)            (None, 1)                 5         \n",
            "                                                                 \n",
            "=================================================================\n",
            "Total params: 13\n",
            "Trainable params: 13\n",
            "Non-trainable params: 0\n",
            "_________________________________________________________________\n"
          ]
        }
      ]
    },
    {
      "cell_type": "code",
      "source": [
        "# Compare model_2 predictions with SaveModel format\n",
        "model_2_preds = model_2.predict(X_test)\n",
        "loaded_SavedModel_format_preds = loaded_SavedModel_format.predict(X_test)\n",
        "model_2_preds == loaded_SavedModel_format_preds"
      ],
      "metadata": {
        "colab": {
          "base_uri": "https://localhost:8080/"
        },
        "id": "MbPpk35_0Mcl",
        "outputId": "852b859b-f6fb-4ad0-ac2d-aa4d904c63eb"
      },
      "execution_count": 98,
      "outputs": [
        {
          "output_type": "stream",
          "name": "stdout",
          "text": [
            "1/1 [==============================] - 0s 24ms/step\n",
            "1/1 [==============================] - 0s 25ms/step\n"
          ]
        },
        {
          "output_type": "execute_result",
          "data": {
            "text/plain": [
              "array([[ True],\n",
              "       [ True],\n",
              "       [ True],\n",
              "       [ True],\n",
              "       [ True],\n",
              "       [ True],\n",
              "       [ True],\n",
              "       [ True],\n",
              "       [ True],\n",
              "       [ True]])"
            ]
          },
          "metadata": {},
          "execution_count": 98
        }
      ]
    },
    {
      "cell_type": "code",
      "source": [
        "model_2_preds, loaded_SavedModel_format_preds"
      ],
      "metadata": {
        "colab": {
          "base_uri": "https://localhost:8080/"
        },
        "id": "yyf9NKZI0uKb",
        "outputId": "af2b6b8e-fe75-4ed2-87de-4a8ff95d9f32"
      },
      "execution_count": 99,
      "outputs": [
        {
          "output_type": "execute_result",
          "data": {
            "text/plain": [
              "(array([[ 81.66071],\n",
              "        [ 86.98709],\n",
              "        [ 92.31348],\n",
              "        [ 97.63987],\n",
              "        [102.96625],\n",
              "        [108.29263],\n",
              "        [113.61902],\n",
              "        [118.9454 ],\n",
              "        [124.27178],\n",
              "        [129.59818]], dtype=float32),\n",
              " array([[ 81.66071],\n",
              "        [ 86.98709],\n",
              "        [ 92.31348],\n",
              "        [ 97.63987],\n",
              "        [102.96625],\n",
              "        [108.29263],\n",
              "        [113.61902],\n",
              "        [118.9454 ],\n",
              "        [124.27178],\n",
              "        [129.59818]], dtype=float32))"
            ]
          },
          "metadata": {},
          "execution_count": 99
        }
      ]
    },
    {
      "cell_type": "code",
      "source": [
        "mae(y_test, model_2_preds) == mae(y_test, loaded_SavedModel_format_preds)"
      ],
      "metadata": {
        "colab": {
          "base_uri": "https://localhost:8080/"
        },
        "id": "XCo2Vi2l0-a8",
        "outputId": "d945165b-3405-4782-ebaf-def90d883582"
      },
      "execution_count": 100,
      "outputs": [
        {
          "output_type": "execute_result",
          "data": {
            "text/plain": [
              "<tf.Tensor: shape=(), dtype=bool, numpy=True>"
            ]
          },
          "metadata": {},
          "execution_count": 100
        }
      ]
    },
    {
      "cell_type": "code",
      "source": [
        "# Load in a model using the .h5 format\n",
        "loaded_h5_model = tf.keras.models.load_model(\"/content/best_model_HDF5_format.h5\")\n",
        "loaded_h5_model.summary()"
      ],
      "metadata": {
        "colab": {
          "base_uri": "https://localhost:8080/"
        },
        "id": "AN6DMgC-1aOh",
        "outputId": "4f852208-eaf6-4f0a-9e0f-6c5d01fd0e36"
      },
      "execution_count": 101,
      "outputs": [
        {
          "output_type": "stream",
          "name": "stdout",
          "text": [
            "Model: \"sequential_15\"\n",
            "_________________________________________________________________\n",
            " Layer (type)                Output Shape              Param #   \n",
            "=================================================================\n",
            " dense_18 (Dense)            (None, 4)                 8         \n",
            "                                                                 \n",
            " dense_19 (Dense)            (None, 1)                 5         \n",
            "                                                                 \n",
            "=================================================================\n",
            "Total params: 13\n",
            "Trainable params: 13\n",
            "Non-trainable params: 0\n",
            "_________________________________________________________________\n"
          ]
        }
      ]
    },
    {
      "cell_type": "code",
      "source": [
        "model_2.summary()"
      ],
      "metadata": {
        "colab": {
          "base_uri": "https://localhost:8080/"
        },
        "id": "DbMNiewa2GCZ",
        "outputId": "ddda019f-a8e1-4f5d-d2be-e5fac34f8c15"
      },
      "execution_count": 102,
      "outputs": [
        {
          "output_type": "stream",
          "name": "stdout",
          "text": [
            "Model: \"sequential_15\"\n",
            "_________________________________________________________________\n",
            " Layer (type)                Output Shape              Param #   \n",
            "=================================================================\n",
            " dense_18 (Dense)            (None, 4)                 8         \n",
            "                                                                 \n",
            " dense_19 (Dense)            (None, 1)                 5         \n",
            "                                                                 \n",
            "=================================================================\n",
            "Total params: 13\n",
            "Trainable params: 13\n",
            "Non-trainable params: 0\n",
            "_________________________________________________________________\n"
          ]
        }
      ]
    },
    {
      "cell_type": "code",
      "source": [
        "model_2_preds = model_2.predict(X_test)\n",
        "loaded_h5_model_preds = loaded_h5_model.predict(X_test)\n",
        "\n",
        "model_2_preds == loaded_h5_model_preds"
      ],
      "metadata": {
        "colab": {
          "base_uri": "https://localhost:8080/"
        },
        "id": "oPYp4P0V2IGC",
        "outputId": "94ec6130-5709-4ad2-aec7-7c415d3d31b1"
      },
      "execution_count": 104,
      "outputs": [
        {
          "output_type": "stream",
          "name": "stdout",
          "text": [
            "1/1 [==============================] - 0s 36ms/step\n",
            "1/1 [==============================] - 0s 36ms/step\n"
          ]
        },
        {
          "output_type": "execute_result",
          "data": {
            "text/plain": [
              "array([[ True],\n",
              "       [ True],\n",
              "       [ True],\n",
              "       [ True],\n",
              "       [ True],\n",
              "       [ True],\n",
              "       [ True],\n",
              "       [ True],\n",
              "       [ True],\n",
              "       [ True]])"
            ]
          },
          "metadata": {},
          "execution_count": 104
        }
      ]
    },
    {
      "cell_type": "markdown",
      "source": [
        "## Download a model (or any other file) from Google Colab"
      ],
      "metadata": {
        "id": "Y4Qjdu622YAR"
      }
    },
    {
      "cell_type": "code",
      "source": [
        "from google.colab import files\n",
        "files.download(\"/content/best_model_HDF5_format.h5\")"
      ],
      "metadata": {
        "colab": {
          "base_uri": "https://localhost:8080/",
          "height": 17
        },
        "id": "2-Apwcyi3NSa",
        "outputId": "bf1c18fa-2b11-4ed0-e627-2b9193783715"
      },
      "execution_count": 105,
      "outputs": [
        {
          "output_type": "display_data",
          "data": {
            "text/plain": [
              "<IPython.core.display.Javascript object>"
            ],
            "application/javascript": [
              "\n",
              "    async function download(id, filename, size) {\n",
              "      if (!google.colab.kernel.accessAllowed) {\n",
              "        return;\n",
              "      }\n",
              "      const div = document.createElement('div');\n",
              "      const label = document.createElement('label');\n",
              "      label.textContent = `Downloading \"${filename}\": `;\n",
              "      div.appendChild(label);\n",
              "      const progress = document.createElement('progress');\n",
              "      progress.max = size;\n",
              "      div.appendChild(progress);\n",
              "      document.body.appendChild(div);\n",
              "\n",
              "      const buffers = [];\n",
              "      let downloaded = 0;\n",
              "\n",
              "      const channel = await google.colab.kernel.comms.open(id);\n",
              "      // Send a message to notify the kernel that we're ready.\n",
              "      channel.send({})\n",
              "\n",
              "      for await (const message of channel.messages) {\n",
              "        // Send a message to notify the kernel that we're ready.\n",
              "        channel.send({})\n",
              "        if (message.buffers) {\n",
              "          for (const buffer of message.buffers) {\n",
              "            buffers.push(buffer);\n",
              "            downloaded += buffer.byteLength;\n",
              "            progress.value = downloaded;\n",
              "          }\n",
              "        }\n",
              "      }\n",
              "      const blob = new Blob(buffers, {type: 'application/binary'});\n",
              "      const a = document.createElement('a');\n",
              "      a.href = window.URL.createObjectURL(blob);\n",
              "      a.download = filename;\n",
              "      div.appendChild(a);\n",
              "      a.click();\n",
              "      div.remove();\n",
              "    }\n",
              "  "
            ]
          },
          "metadata": {}
        },
        {
          "output_type": "display_data",
          "data": {
            "text/plain": [
              "<IPython.core.display.Javascript object>"
            ],
            "application/javascript": [
              "download(\"download_61dda63e-b684-4011-a125-e17e3eead81a\", \"best_model_HDF5_format.h5\", 21952)"
            ]
          },
          "metadata": {}
        }
      ]
    },
    {
      "cell_type": "code",
      "source": [],
      "metadata": {
        "id": "Pon7o19R3VLu"
      },
      "execution_count": null,
      "outputs": []
    }
  ]
}