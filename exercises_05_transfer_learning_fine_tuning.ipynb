{
  "nbformat": 4,
  "nbformat_minor": 0,
  "metadata": {
    "colab": {
      "provenance": [],
      "gpuType": "T4",
      "authorship_tag": "ABX9TyMTBUyDI9KuG4zEzjZ8MN8T",
      "include_colab_link": true
    },
    "kernelspec": {
      "name": "python3",
      "display_name": "Python 3"
    },
    "language_info": {
      "name": "python"
    },
    "accelerator": "GPU",
    "gpuClass": "standard"
  },
  "cells": [
    {
      "cell_type": "markdown",
      "metadata": {
        "id": "view-in-github",
        "colab_type": "text"
      },
      "source": [
        "<a href=\"https://colab.research.google.com/github/sakshamkumar1/tensorflow-notebooks/blob/main/exercises_05_transfer_learning_fine_tuning.ipynb\" target=\"_parent\"><img src=\"https://colab.research.google.com/assets/colab-badge.svg\" alt=\"Open In Colab\"/></a>"
      ]
    },
    {
      "cell_type": "code",
      "source": [
        "import tensorflow as tf\n",
        "import numpy as np\n",
        "import pandas as pd\n",
        "import matplotlib.pyplot as plt"
      ],
      "metadata": {
        "id": "W00F_CD7_1JM"
      },
      "execution_count": 47,
      "outputs": []
    },
    {
      "cell_type": "code",
      "source": [
        "!wget https://raw.githubusercontent.com/mrdbourke/tensorflow-deep-learning/main/extras/helper_functions.py"
      ],
      "metadata": {
        "colab": {
          "base_uri": "https://localhost:8080/"
        },
        "id": "a2d0FpxS_-d1",
        "outputId": "311cf50f-fe13-4a39-ee0a-69586f3d487b"
      },
      "execution_count": 48,
      "outputs": [
        {
          "output_type": "stream",
          "name": "stdout",
          "text": [
            "--2023-04-27 01:38:47--  https://raw.githubusercontent.com/mrdbourke/tensorflow-deep-learning/main/extras/helper_functions.py\n",
            "Resolving raw.githubusercontent.com (raw.githubusercontent.com)... 185.199.108.133, 185.199.109.133, 185.199.110.133, ...\n",
            "Connecting to raw.githubusercontent.com (raw.githubusercontent.com)|185.199.108.133|:443... connected.\n",
            "HTTP request sent, awaiting response... 200 OK\n",
            "Length: 10246 (10K) [text/plain]\n",
            "Saving to: ‘helper_functions.py.2’\n",
            "\n",
            "\rhelper_functions.py   0%[                    ]       0  --.-KB/s               \rhelper_functions.py 100%[===================>]  10.01K  --.-KB/s    in 0s      \n",
            "\n",
            "2023-04-27 01:38:47 (96.3 MB/s) - ‘helper_functions.py.2’ saved [10246/10246]\n",
            "\n"
          ]
        }
      ]
    },
    {
      "cell_type": "code",
      "source": [
        "from helper_functions import create_tensorboard_callback, plot_loss_curves, compare_historys,\\\n",
        "unzip_data, walk_through_dir"
      ],
      "metadata": {
        "id": "FFr9_ck4AkTd"
      },
      "execution_count": 49,
      "outputs": []
    },
    {
      "cell_type": "code",
      "execution_count": 50,
      "metadata": {
        "colab": {
          "base_uri": "https://localhost:8080/"
        },
        "id": "8z5zadL6_eKF",
        "outputId": "ac293683-df62-4569-a22d-3539f04748aa"
      },
      "outputs": [
        {
          "output_type": "stream",
          "name": "stdout",
          "text": [
            "--2023-04-27 01:38:47--  https://storage.googleapis.com/ztm_tf_course/food_vision/10_food_classes_10_percent.zip\n",
            "Resolving storage.googleapis.com (storage.googleapis.com)... 74.125.20.128, 74.125.197.128, 74.125.135.128, ...\n",
            "Connecting to storage.googleapis.com (storage.googleapis.com)|74.125.20.128|:443... connected.\n",
            "HTTP request sent, awaiting response... 200 OK\n",
            "Length: 168546183 (161M) [application/zip]\n",
            "Saving to: ‘10_food_classes_10_percent.zip.2’\n",
            "\n",
            "10_food_classes_10_ 100%[===================>] 160.74M   189MB/s    in 0.8s    \n",
            "\n",
            "2023-04-27 01:38:48 (189 MB/s) - ‘10_food_classes_10_percent.zip.2’ saved [168546183/168546183]\n",
            "\n"
          ]
        }
      ],
      "source": [
        "!wget https://storage.googleapis.com/ztm_tf_course/food_vision/10_food_classes_10_percent.zip\n",
        "\n",
        "unzip_data(\"10_food_classes_10_percent.zip\")"
      ]
    },
    {
      "cell_type": "code",
      "source": [
        "train_dir = \"10_food_classes_10_percent/train\"\n",
        "test_dir = \"10_food_classes_10_percent/test\""
      ],
      "metadata": {
        "id": "94dzBjpQBE20"
      },
      "execution_count": 51,
      "outputs": []
    },
    {
      "cell_type": "code",
      "source": [
        "walk_through_dir(\"10_food_classes_10_percent\")"
      ],
      "metadata": {
        "colab": {
          "base_uri": "https://localhost:8080/"
        },
        "id": "dFc6YJRpBY5X",
        "outputId": "20b29b49-29df-42a9-c6fc-f136c3594694"
      },
      "execution_count": 52,
      "outputs": [
        {
          "output_type": "stream",
          "name": "stdout",
          "text": [
            "There are 2 directories and 0 images in '10_food_classes_10_percent'.\n",
            "There are 10 directories and 0 images in '10_food_classes_10_percent/train'.\n",
            "There are 0 directories and 75 images in '10_food_classes_10_percent/train/ice_cream'.\n",
            "There are 0 directories and 75 images in '10_food_classes_10_percent/train/grilled_salmon'.\n",
            "There are 0 directories and 75 images in '10_food_classes_10_percent/train/steak'.\n",
            "There are 0 directories and 75 images in '10_food_classes_10_percent/train/chicken_curry'.\n",
            "There are 0 directories and 75 images in '10_food_classes_10_percent/train/pizza'.\n",
            "There are 0 directories and 75 images in '10_food_classes_10_percent/train/ramen'.\n",
            "There are 0 directories and 75 images in '10_food_classes_10_percent/train/hamburger'.\n",
            "There are 0 directories and 75 images in '10_food_classes_10_percent/train/fried_rice'.\n",
            "There are 0 directories and 75 images in '10_food_classes_10_percent/train/chicken_wings'.\n",
            "There are 0 directories and 75 images in '10_food_classes_10_percent/train/sushi'.\n",
            "There are 10 directories and 0 images in '10_food_classes_10_percent/test'.\n",
            "There are 0 directories and 250 images in '10_food_classes_10_percent/test/ice_cream'.\n",
            "There are 0 directories and 250 images in '10_food_classes_10_percent/test/grilled_salmon'.\n",
            "There are 0 directories and 250 images in '10_food_classes_10_percent/test/steak'.\n",
            "There are 0 directories and 250 images in '10_food_classes_10_percent/test/chicken_curry'.\n",
            "There are 0 directories and 250 images in '10_food_classes_10_percent/test/pizza'.\n",
            "There are 0 directories and 250 images in '10_food_classes_10_percent/test/ramen'.\n",
            "There are 0 directories and 250 images in '10_food_classes_10_percent/test/hamburger'.\n",
            "There are 0 directories and 250 images in '10_food_classes_10_percent/test/fried_rice'.\n",
            "There are 0 directories and 250 images in '10_food_classes_10_percent/test/chicken_wings'.\n",
            "There are 0 directories and 250 images in '10_food_classes_10_percent/test/sushi'.\n"
          ]
        }
      ]
    },
    {
      "cell_type": "markdown",
      "source": [
        "### 1. Using feature-extraction to train a transfer learning model on 10% of the Food Vision data for 10 epochs using tf.keras.applications.EfficientNetB0 as the base model. Using the ModelCheckpoint callback to save the weights to file."
      ],
      "metadata": {
        "id": "8cJgCCUQHmrb"
      }
    },
    {
      "cell_type": "code",
      "source": [
        "IMG_SIZE = (224, 224)\n",
        "BATCH_SIZE = 32\n",
        "\n",
        "train_data = tf.keras.preprocessing.image_dataset_from_directory(train_dir,\n",
        "                                                                 label_mode=\"categorical\",\n",
        "                                                                 image_size=IMG_SIZE,\n",
        "                                                                 batch_size=BATCH_SIZE)\n",
        "\n",
        "test_data = tf.keras.preprocessing.image_dataset_from_directory(directory=test_dir,\n",
        "                                                                label_mode=\"categorical\",\n",
        "                                                                image_size=IMG_SIZE,\n",
        "                                                                batch_size=BATCH_SIZE)"
      ],
      "metadata": {
        "colab": {
          "base_uri": "https://localhost:8080/"
        },
        "id": "--MiN_ylBeqD",
        "outputId": "7a002baf-bea5-4f1c-c675-1b939b890629"
      },
      "execution_count": 53,
      "outputs": [
        {
          "output_type": "stream",
          "name": "stdout",
          "text": [
            "Found 750 files belonging to 10 classes.\n",
            "Found 2500 files belonging to 10 classes.\n"
          ]
        }
      ]
    },
    {
      "cell_type": "code",
      "source": [
        "checkpoint_path = \"ten_percent_model_checkpoints_weights/checkpoint.ckpt\"\n",
        "\n",
        "checkpoint_callback = tf.keras.callbacks.ModelCheckpoint(filepath=checkpoint_path,\n",
        "                                                         save_weights_only=True,\n",
        "                                                         save_best_only=False,\n",
        "                                                         save_freq=\"epoch\",\n",
        "                                                         verbose=1)"
      ],
      "metadata": {
        "id": "7L98D6tdFeOM"
      },
      "execution_count": 54,
      "outputs": []
    },
    {
      "cell_type": "code",
      "source": [
        "base_model = tf.keras.applications.EfficientNetB0(include_top=False)\n",
        "\n",
        "base_model.trainable = False\n",
        "\n",
        "inputs = tf.keras.layers.Input(shape=(224, 224, 3), name=\"input_layer\")\n",
        "\n",
        "x = base_model(inputs, training=False)\n",
        "\n",
        "x = tf.keras.layers.GlobalAveragePooling2D(name=\"global_average_pooling_layer\")(x)\n",
        "\n",
        "outputs = tf.keras.layers.Dense(10, activation=\"softmax\", name=\"output_layer\")(x)\n",
        "\n",
        "model_0 = tf.keras.Model(inputs, outputs)\n",
        "\n",
        "model_0.compile(loss=tf.keras.losses.CategoricalCrossentropy(),\n",
        "                optimizer=tf.keras.optimizers.Adam(),\n",
        "                metrics=[\"accuracy\"])\n",
        "\n",
        "history_0 = model_0.fit(train_data,\n",
        "                        epochs=10,\n",
        "                        steps_per_epoch=len(train_data),\n",
        "                        validation_data=test_data,\n",
        "                        validation_steps=len(test_data),\n",
        "                        callbacks=[checkpoint_callback])"
      ],
      "metadata": {
        "colab": {
          "base_uri": "https://localhost:8080/"
        },
        "id": "ZSrKupHnCb8w",
        "outputId": "1341fa9b-b008-4726-c618-20c62bfb1cce"
      },
      "execution_count": 55,
      "outputs": [
        {
          "output_type": "stream",
          "name": "stdout",
          "text": [
            "Epoch 1/10\n",
            "23/24 [===========================>..] - ETA: 0s - loss: 1.8166 - accuracy: 0.4742\n",
            "Epoch 1: saving model to ten_percent_model_checkpoints_weights/checkpoint.ckpt\n",
            "24/24 [==============================] - 17s 429ms/step - loss: 1.8081 - accuracy: 0.4827 - val_loss: 1.2440 - val_accuracy: 0.7552\n",
            "Epoch 2/10\n",
            "23/24 [===========================>..] - ETA: 0s - loss: 1.0456 - accuracy: 0.7677\n",
            "Epoch 2: saving model to ten_percent_model_checkpoints_weights/checkpoint.ckpt\n",
            "24/24 [==============================] - 9s 352ms/step - loss: 1.0422 - accuracy: 0.7680 - val_loss: 0.8420 - val_accuracy: 0.8272\n",
            "Epoch 3/10\n",
            "23/24 [===========================>..] - ETA: 0s - loss: 0.7455 - accuracy: 0.8342\n",
            "Epoch 3: saving model to ten_percent_model_checkpoints_weights/checkpoint.ckpt\n",
            "24/24 [==============================] - 10s 430ms/step - loss: 0.7480 - accuracy: 0.8360 - val_loss: 0.6796 - val_accuracy: 0.8472\n",
            "Epoch 4/10\n",
            "23/24 [===========================>..] - ETA: 0s - loss: 0.5973 - accuracy: 0.8682\n",
            "Epoch 4: saving model to ten_percent_model_checkpoints_weights/checkpoint.ckpt\n",
            "24/24 [==============================] - 11s 424ms/step - loss: 0.6045 - accuracy: 0.8640 - val_loss: 0.5967 - val_accuracy: 0.8616\n",
            "Epoch 5/10\n",
            "23/24 [===========================>..] - ETA: 0s - loss: 0.5103 - accuracy: 0.8954\n",
            "Epoch 5: saving model to ten_percent_model_checkpoints_weights/checkpoint.ckpt\n",
            "24/24 [==============================] - 10s 421ms/step - loss: 0.5118 - accuracy: 0.8960 - val_loss: 0.5472 - val_accuracy: 0.8660\n",
            "Epoch 6/10\n",
            "23/24 [===========================>..] - ETA: 0s - loss: 0.4426 - accuracy: 0.9130\n",
            "Epoch 6: saving model to ten_percent_model_checkpoints_weights/checkpoint.ckpt\n",
            "24/24 [==============================] - 10s 380ms/step - loss: 0.4431 - accuracy: 0.9133 - val_loss: 0.5109 - val_accuracy: 0.8696\n",
            "Epoch 7/10\n",
            "23/24 [===========================>..] - ETA: 0s - loss: 0.3910 - accuracy: 0.9266\n",
            "Epoch 7: saving model to ten_percent_model_checkpoints_weights/checkpoint.ckpt\n",
            "24/24 [==============================] - 8s 306ms/step - loss: 0.3898 - accuracy: 0.9267 - val_loss: 0.4857 - val_accuracy: 0.8736\n",
            "Epoch 8/10\n",
            "23/24 [===========================>..] - ETA: 0s - loss: 0.3497 - accuracy: 0.9375\n",
            "Epoch 8: saving model to ten_percent_model_checkpoints_weights/checkpoint.ckpt\n",
            "24/24 [==============================] - 13s 562ms/step - loss: 0.3484 - accuracy: 0.9373 - val_loss: 0.4648 - val_accuracy: 0.8772\n",
            "Epoch 9/10\n",
            "23/24 [===========================>..] - ETA: 0s - loss: 0.3119 - accuracy: 0.9484\n",
            "Epoch 9: saving model to ten_percent_model_checkpoints_weights/checkpoint.ckpt\n",
            "24/24 [==============================] - 10s 404ms/step - loss: 0.3124 - accuracy: 0.9480 - val_loss: 0.4494 - val_accuracy: 0.8784\n",
            "Epoch 10/10\n",
            "23/24 [===========================>..] - ETA: 0s - loss: 0.2808 - accuracy: 0.9579\n",
            "Epoch 10: saving model to ten_percent_model_checkpoints_weights/checkpoint.ckpt\n",
            "24/24 [==============================] - 14s 555ms/step - loss: 0.2829 - accuracy: 0.9573 - val_loss: 0.4374 - val_accuracy: 0.8764\n"
          ]
        }
      ]
    },
    {
      "cell_type": "code",
      "source": [
        "plot_loss_curves(history_0)"
      ],
      "metadata": {
        "colab": {
          "base_uri": "https://localhost:8080/",
          "height": 927
        },
        "id": "D8fCbgxeEvTv",
        "outputId": "7b8201a4-9b33-4f93-ac00-1169e0f3336b"
      },
      "execution_count": 56,
      "outputs": [
        {
          "output_type": "display_data",
          "data": {
            "text/plain": [
              "<Figure size 640x480 with 1 Axes>"
            ],
            "image/png": "[encoded data removed]"
          },
          "metadata": {}
        },
        {
          "output_type": "display_data",
          "data": {
            "text/plain": [
              "<Figure size 640x480 with 1 Axes>"
            ],
            "image/png": "[encoded data removed]"
          },
          "metadata": {}
        }
      ]
    },
    {
      "cell_type": "markdown",
      "source": [
        "### 2. Fine-tuning the last 20 layers of the base model we trained for another 10 epochs."
      ],
      "metadata": {
        "id": "JEoz-VbYHYu4"
      }
    },
    {
      "cell_type": "code",
      "source": [
        "model_0.layers"
      ],
      "metadata": {
        "colab": {
          "base_uri": "https://localhost:8080/"
        },
        "id": "rr_vGdqHOw5c",
        "outputId": "6d41d2b0-a097-496d-a405-d903f6d0202e"
      },
      "execution_count": 57,
      "outputs": [
        {
          "output_type": "execute_result",
          "data": {
            "text/plain": [
              "[<keras.engine.input_layer.InputLayer at 0x7fcc6c208760>,\n",
              " <keras.engine.functional.Functional at 0x7fccef697760>,\n",
              " <keras.layers.pooling.global_average_pooling2d.GlobalAveragePooling2D at 0x7fcc2070bb80>,\n",
              " <keras.layers.core.dense.Dense at 0x7fccef6d1d00>]"
            ]
          },
          "metadata": {},
          "execution_count": 57
        }
      ]
    },
    {
      "cell_type": "code",
      "source": [
        "for layer in model_0.layers:\n",
        "  print(layer, layer.trainable)"
      ],
      "metadata": {
        "colab": {
          "base_uri": "https://localhost:8080/"
        },
        "id": "0wFpGJ5iOy13",
        "outputId": "d6ea664b-cb35-4f52-9e42-cecf7430a097"
      },
      "execution_count": 58,
      "outputs": [
        {
          "output_type": "stream",
          "name": "stdout",
          "text": [
            "<keras.engine.input_layer.InputLayer object at 0x7fcc6c208760> True\n",
            "<keras.engine.functional.Functional object at 0x7fccef697760> False\n",
            "<keras.layers.pooling.global_average_pooling2d.GlobalAveragePooling2D object at 0x7fcc2070bb80> True\n",
            "<keras.layers.core.dense.Dense object at 0x7fccef6d1d00> True\n"
          ]
        }
      ]
    },
    {
      "cell_type": "code",
      "source": [
        "model_0.layers[1]"
      ],
      "metadata": {
        "colab": {
          "base_uri": "https://localhost:8080/"
        },
        "id": "NtqX_sLtPdAH",
        "outputId": "bee2e07b-9376-4035-b412-be6761933cd8"
      },
      "execution_count": 59,
      "outputs": [
        {
          "output_type": "execute_result",
          "data": {
            "text/plain": [
              "<keras.engine.functional.Functional at 0x7fccef697760>"
            ]
          },
          "metadata": {},
          "execution_count": 59
        }
      ]
    },
    {
      "cell_type": "code",
      "source": [
        "for i, layer in enumerate(model_0.layers[1].layers):\n",
        "  print(i, layer.name, layer.trainable)"
      ],
      "metadata": {
        "colab": {
          "base_uri": "https://localhost:8080/"
        },
        "id": "vQnF_3FzO5VC",
        "outputId": "17097f14-14c9-41ad-d791-2fccaba5077b"
      },
      "execution_count": 60,
      "outputs": [
        {
          "output_type": "stream",
          "name": "stdout",
          "text": [
            "0 input_4 False\n",
            "1 rescaling_6 False\n",
            "2 normalization_3 False\n",
            "3 rescaling_7 False\n",
            "4 stem_conv_pad False\n",
            "5 stem_conv False\n",
            "6 stem_bn False\n",
            "7 stem_activation False\n",
            "8 block1a_dwconv False\n",
            "9 block1a_bn False\n",
            "10 block1a_activation False\n",
            "11 block1a_se_squeeze False\n",
            "12 block1a_se_reshape False\n",
            "13 block1a_se_reduce False\n",
            "14 block1a_se_expand False\n",
            "15 block1a_se_excite False\n",
            "16 block1a_project_conv False\n",
            "17 block1a_project_bn False\n",
            "18 block2a_expand_conv False\n",
            "19 block2a_expand_bn False\n",
            "20 block2a_expand_activation False\n",
            "21 block2a_dwconv_pad False\n",
            "22 block2a_dwconv False\n",
            "23 block2a_bn False\n",
            "24 block2a_activation False\n",
            "25 block2a_se_squeeze False\n",
            "26 block2a_se_reshape False\n",
            "27 block2a_se_reduce False\n",
            "28 block2a_se_expand False\n",
            "29 block2a_se_excite False\n",
            "30 block2a_project_conv False\n",
            "31 block2a_project_bn False\n",
            "32 block2b_expand_conv False\n",
            "33 block2b_expand_bn False\n",
            "34 block2b_expand_activation False\n",
            "35 block2b_dwconv False\n",
            "36 block2b_bn False\n",
            "37 block2b_activation False\n",
            "38 block2b_se_squeeze False\n",
            "39 block2b_se_reshape False\n",
            "40 block2b_se_reduce False\n",
            "41 block2b_se_expand False\n",
            "42 block2b_se_excite False\n",
            "43 block2b_project_conv False\n",
            "44 block2b_project_bn False\n",
            "45 block2b_drop False\n",
            "46 block2b_add False\n",
            "47 block3a_expand_conv False\n",
            "48 block3a_expand_bn False\n",
            "49 block3a_expand_activation False\n",
            "50 block3a_dwconv_pad False\n",
            "51 block3a_dwconv False\n",
            "52 block3a_bn False\n",
            "53 block3a_activation False\n",
            "54 block3a_se_squeeze False\n",
            "55 block3a_se_reshape False\n",
            "56 block3a_se_reduce False\n",
            "57 block3a_se_expand False\n",
            "58 block3a_se_excite False\n",
            "59 block3a_project_conv False\n",
            "60 block3a_project_bn False\n",
            "61 block3b_expand_conv False\n",
            "62 block3b_expand_bn False\n",
            "63 block3b_expand_activation False\n",
            "64 block3b_dwconv False\n",
            "65 block3b_bn False\n",
            "66 block3b_activation False\n",
            "67 block3b_se_squeeze False\n",
            "68 block3b_se_reshape False\n",
            "69 block3b_se_reduce False\n",
            "70 block3b_se_expand False\n",
            "71 block3b_se_excite False\n",
            "72 block3b_project_conv False\n",
            "73 block3b_project_bn False\n",
            "74 block3b_drop False\n",
            "75 block3b_add False\n",
            "76 block4a_expand_conv False\n",
            "77 block4a_expand_bn False\n",
            "78 block4a_expand_activation False\n",
            "79 block4a_dwconv_pad False\n",
            "80 block4a_dwconv False\n",
            "81 block4a_bn False\n",
            "82 block4a_activation False\n",
            "83 block4a_se_squeeze False\n",
            "84 block4a_se_reshape False\n",
            "85 block4a_se_reduce False\n",
            "86 block4a_se_expand False\n",
            "87 block4a_se_excite False\n",
            "88 block4a_project_conv False\n",
            "89 block4a_project_bn False\n",
            "90 block4b_expand_conv False\n",
            "91 block4b_expand_bn False\n",
            "92 block4b_expand_activation False\n",
            "93 block4b_dwconv False\n",
            "94 block4b_bn False\n",
            "95 block4b_activation False\n",
            "96 block4b_se_squeeze False\n",
            "97 block4b_se_reshape False\n",
            "98 block4b_se_reduce False\n",
            "99 block4b_se_expand False\n",
            "100 block4b_se_excite False\n",
            "101 block4b_project_conv False\n",
            "102 block4b_project_bn False\n",
            "103 block4b_drop False\n",
            "104 block4b_add False\n",
            "105 block4c_expand_conv False\n",
            "106 block4c_expand_bn False\n",
            "107 block4c_expand_activation False\n",
            "108 block4c_dwconv False\n",
            "109 block4c_bn False\n",
            "110 block4c_activation False\n",
            "111 block4c_se_squeeze False\n",
            "112 block4c_se_reshape False\n",
            "113 block4c_se_reduce False\n",
            "114 block4c_se_expand False\n",
            "115 block4c_se_excite False\n",
            "116 block4c_project_conv False\n",
            "117 block4c_project_bn False\n",
            "118 block4c_drop False\n",
            "119 block4c_add False\n",
            "120 block5a_expand_conv False\n",
            "121 block5a_expand_bn False\n",
            "122 block5a_expand_activation False\n",
            "123 block5a_dwconv False\n",
            "124 block5a_bn False\n",
            "125 block5a_activation False\n",
            "126 block5a_se_squeeze False\n",
            "127 block5a_se_reshape False\n",
            "128 block5a_se_reduce False\n",
            "129 block5a_se_expand False\n",
            "130 block5a_se_excite False\n",
            "131 block5a_project_conv False\n",
            "132 block5a_project_bn False\n",
            "133 block5b_expand_conv False\n",
            "134 block5b_expand_bn False\n",
            "135 block5b_expand_activation False\n",
            "136 block5b_dwconv False\n",
            "137 block5b_bn False\n",
            "138 block5b_activation False\n",
            "139 block5b_se_squeeze False\n",
            "140 block5b_se_reshape False\n",
            "141 block5b_se_reduce False\n",
            "142 block5b_se_expand False\n",
            "143 block5b_se_excite False\n",
            "144 block5b_project_conv False\n",
            "145 block5b_project_bn False\n",
            "146 block5b_drop False\n",
            "147 block5b_add False\n",
            "148 block5c_expand_conv False\n",
            "149 block5c_expand_bn False\n",
            "150 block5c_expand_activation False\n",
            "151 block5c_dwconv False\n",
            "152 block5c_bn False\n",
            "153 block5c_activation False\n",
            "154 block5c_se_squeeze False\n",
            "155 block5c_se_reshape False\n",
            "156 block5c_se_reduce False\n",
            "157 block5c_se_expand False\n",
            "158 block5c_se_excite False\n",
            "159 block5c_project_conv False\n",
            "160 block5c_project_bn False\n",
            "161 block5c_drop False\n",
            "162 block5c_add False\n",
            "163 block6a_expand_conv False\n",
            "164 block6a_expand_bn False\n",
            "165 block6a_expand_activation False\n",
            "166 block6a_dwconv_pad False\n",
            "167 block6a_dwconv False\n",
            "168 block6a_bn False\n",
            "169 block6a_activation False\n",
            "170 block6a_se_squeeze False\n",
            "171 block6a_se_reshape False\n",
            "172 block6a_se_reduce False\n",
            "173 block6a_se_expand False\n",
            "174 block6a_se_excite False\n",
            "175 block6a_project_conv False\n",
            "176 block6a_project_bn False\n",
            "177 block6b_expand_conv False\n",
            "178 block6b_expand_bn False\n",
            "179 block6b_expand_activation False\n",
            "180 block6b_dwconv False\n",
            "181 block6b_bn False\n",
            "182 block6b_activation False\n",
            "183 block6b_se_squeeze False\n",
            "184 block6b_se_reshape False\n",
            "185 block6b_se_reduce False\n",
            "186 block6b_se_expand False\n",
            "187 block6b_se_excite False\n",
            "188 block6b_project_conv False\n",
            "189 block6b_project_bn False\n",
            "190 block6b_drop False\n",
            "191 block6b_add False\n",
            "192 block6c_expand_conv False\n",
            "193 block6c_expand_bn False\n",
            "194 block6c_expand_activation False\n",
            "195 block6c_dwconv False\n",
            "196 block6c_bn False\n",
            "197 block6c_activation False\n",
            "198 block6c_se_squeeze False\n",
            "199 block6c_se_reshape False\n",
            "200 block6c_se_reduce False\n",
            "201 block6c_se_expand False\n",
            "202 block6c_se_excite False\n",
            "203 block6c_project_conv False\n",
            "204 block6c_project_bn False\n",
            "205 block6c_drop False\n",
            "206 block6c_add False\n",
            "207 block6d_expand_conv False\n",
            "208 block6d_expand_bn False\n",
            "209 block6d_expand_activation False\n",
            "210 block6d_dwconv False\n",
            "211 block6d_bn False\n",
            "212 block6d_activation False\n",
            "213 block6d_se_squeeze False\n",
            "214 block6d_se_reshape False\n",
            "215 block6d_se_reduce False\n",
            "216 block6d_se_expand False\n",
            "217 block6d_se_excite False\n",
            "218 block6d_project_conv False\n",
            "219 block6d_project_bn False\n",
            "220 block6d_drop False\n",
            "221 block6d_add False\n",
            "222 block7a_expand_conv False\n",
            "223 block7a_expand_bn False\n",
            "224 block7a_expand_activation False\n",
            "225 block7a_dwconv False\n",
            "226 block7a_bn False\n",
            "227 block7a_activation False\n",
            "228 block7a_se_squeeze False\n",
            "229 block7a_se_reshape False\n",
            "230 block7a_se_reduce False\n",
            "231 block7a_se_expand False\n",
            "232 block7a_se_excite False\n",
            "233 block7a_project_conv False\n",
            "234 block7a_project_bn False\n",
            "235 top_conv False\n",
            "236 top_bn False\n",
            "237 top_activation False\n"
          ]
        }
      ]
    },
    {
      "cell_type": "code",
      "source": [
        "initial_epochs = 10\n",
        "\n",
        "base_model.trainable = True\n"
      ],
      "metadata": {
        "id": "41sIBISbPPJ1"
      },
      "execution_count": 61,
      "outputs": []
    },
    {
      "cell_type": "code",
      "source": [
        "for i, layer in enumerate(base_model.layers):\n",
        "  print(i, layer.name, layer.trainable)"
      ],
      "metadata": {
        "colab": {
          "base_uri": "https://localhost:8080/"
        },
        "id": "jaEjyWcvW5Mv",
        "outputId": "004df185-0866-48ad-da62-4e647f99f51e"
      },
      "execution_count": 62,
      "outputs": [
        {
          "output_type": "stream",
          "name": "stdout",
          "text": [
            "0 input_4 True\n",
            "1 rescaling_6 True\n",
            "2 normalization_3 True\n",
            "3 rescaling_7 True\n",
            "4 stem_conv_pad True\n",
            "5 stem_conv True\n",
            "6 stem_bn True\n",
            "7 stem_activation True\n",
            "8 block1a_dwconv True\n",
            "9 block1a_bn True\n",
            "10 block1a_activation True\n",
            "11 block1a_se_squeeze True\n",
            "12 block1a_se_reshape True\n",
            "13 block1a_se_reduce True\n",
            "14 block1a_se_expand True\n",
            "15 block1a_se_excite True\n",
            "16 block1a_project_conv True\n",
            "17 block1a_project_bn True\n",
            "18 block2a_expand_conv True\n",
            "19 block2a_expand_bn True\n",
            "20 block2a_expand_activation True\n",
            "21 block2a_dwconv_pad True\n",
            "22 block2a_dwconv True\n",
            "23 block2a_bn True\n",
            "24 block2a_activation True\n",
            "25 block2a_se_squeeze True\n",
            "26 block2a_se_reshape True\n",
            "27 block2a_se_reduce True\n",
            "28 block2a_se_expand True\n",
            "29 block2a_se_excite True\n",
            "30 block2a_project_conv True\n",
            "31 block2a_project_bn True\n",
            "32 block2b_expand_conv True\n",
            "33 block2b_expand_bn True\n",
            "34 block2b_expand_activation True\n",
            "35 block2b_dwconv True\n",
            "36 block2b_bn True\n",
            "37 block2b_activation True\n",
            "38 block2b_se_squeeze True\n",
            "39 block2b_se_reshape True\n",
            "40 block2b_se_reduce True\n",
            "41 block2b_se_expand True\n",
            "42 block2b_se_excite True\n",
            "43 block2b_project_conv True\n",
            "44 block2b_project_bn True\n",
            "45 block2b_drop True\n",
            "46 block2b_add True\n",
            "47 block3a_expand_conv True\n",
            "48 block3a_expand_bn True\n",
            "49 block3a_expand_activation True\n",
            "50 block3a_dwconv_pad True\n",
            "51 block3a_dwconv True\n",
            "52 block3a_bn True\n",
            "53 block3a_activation True\n",
            "54 block3a_se_squeeze True\n",
            "55 block3a_se_reshape True\n",
            "56 block3a_se_reduce True\n",
            "57 block3a_se_expand True\n",
            "58 block3a_se_excite True\n",
            "59 block3a_project_conv True\n",
            "60 block3a_project_bn True\n",
            "61 block3b_expand_conv True\n",
            "62 block3b_expand_bn True\n",
            "63 block3b_expand_activation True\n",
            "64 block3b_dwconv True\n",
            "65 block3b_bn True\n",
            "66 block3b_activation True\n",
            "67 block3b_se_squeeze True\n",
            "68 block3b_se_reshape True\n",
            "69 block3b_se_reduce True\n",
            "70 block3b_se_expand True\n",
            "71 block3b_se_excite True\n",
            "72 block3b_project_conv True\n",
            "73 block3b_project_bn True\n",
            "74 block3b_drop True\n",
            "75 block3b_add True\n",
            "76 block4a_expand_conv True\n",
            "77 block4a_expand_bn True\n",
            "78 block4a_expand_activation True\n",
            "79 block4a_dwconv_pad True\n",
            "80 block4a_dwconv True\n",
            "81 block4a_bn True\n",
            "82 block4a_activation True\n",
            "83 block4a_se_squeeze True\n",
            "84 block4a_se_reshape True\n",
            "85 block4a_se_reduce True\n",
            "86 block4a_se_expand True\n",
            "87 block4a_se_excite True\n",
            "88 block4a_project_conv True\n",
            "89 block4a_project_bn True\n",
            "90 block4b_expand_conv True\n",
            "91 block4b_expand_bn True\n",
            "92 block4b_expand_activation True\n",
            "93 block4b_dwconv True\n",
            "94 block4b_bn True\n",
            "95 block4b_activation True\n",
            "96 block4b_se_squeeze True\n",
            "97 block4b_se_reshape True\n",
            "98 block4b_se_reduce True\n",
            "99 block4b_se_expand True\n",
            "100 block4b_se_excite True\n",
            "101 block4b_project_conv True\n",
            "102 block4b_project_bn True\n",
            "103 block4b_drop True\n",
            "104 block4b_add True\n",
            "105 block4c_expand_conv True\n",
            "106 block4c_expand_bn True\n",
            "107 block4c_expand_activation True\n",
            "108 block4c_dwconv True\n",
            "109 block4c_bn True\n",
            "110 block4c_activation True\n",
            "111 block4c_se_squeeze True\n",
            "112 block4c_se_reshape True\n",
            "113 block4c_se_reduce True\n",
            "114 block4c_se_expand True\n",
            "115 block4c_se_excite True\n",
            "116 block4c_project_conv True\n",
            "117 block4c_project_bn True\n",
            "118 block4c_drop True\n",
            "119 block4c_add True\n",
            "120 block5a_expand_conv True\n",
            "121 block5a_expand_bn True\n",
            "122 block5a_expand_activation True\n",
            "123 block5a_dwconv True\n",
            "124 block5a_bn True\n",
            "125 block5a_activation True\n",
            "126 block5a_se_squeeze True\n",
            "127 block5a_se_reshape True\n",
            "128 block5a_se_reduce True\n",
            "129 block5a_se_expand True\n",
            "130 block5a_se_excite True\n",
            "131 block5a_project_conv True\n",
            "132 block5a_project_bn True\n",
            "133 block5b_expand_conv True\n",
            "134 block5b_expand_bn True\n",
            "135 block5b_expand_activation True\n",
            "136 block5b_dwconv True\n",
            "137 block5b_bn True\n",
            "138 block5b_activation True\n",
            "139 block5b_se_squeeze True\n",
            "140 block5b_se_reshape True\n",
            "141 block5b_se_reduce True\n",
            "142 block5b_se_expand True\n",
            "143 block5b_se_excite True\n",
            "144 block5b_project_conv True\n",
            "145 block5b_project_bn True\n",
            "146 block5b_drop True\n",
            "147 block5b_add True\n",
            "148 block5c_expand_conv True\n",
            "149 block5c_expand_bn True\n",
            "150 block5c_expand_activation True\n",
            "151 block5c_dwconv True\n",
            "152 block5c_bn True\n",
            "153 block5c_activation True\n",
            "154 block5c_se_squeeze True\n",
            "155 block5c_se_reshape True\n",
            "156 block5c_se_reduce True\n",
            "157 block5c_se_expand True\n",
            "158 block5c_se_excite True\n",
            "159 block5c_project_conv True\n",
            "160 block5c_project_bn True\n",
            "161 block5c_drop True\n",
            "162 block5c_add True\n",
            "163 block6a_expand_conv True\n",
            "164 block6a_expand_bn True\n",
            "165 block6a_expand_activation True\n",
            "166 block6a_dwconv_pad True\n",
            "167 block6a_dwconv True\n",
            "168 block6a_bn True\n",
            "169 block6a_activation True\n",
            "170 block6a_se_squeeze True\n",
            "171 block6a_se_reshape True\n",
            "172 block6a_se_reduce True\n",
            "173 block6a_se_expand True\n",
            "174 block6a_se_excite True\n",
            "175 block6a_project_conv True\n",
            "176 block6a_project_bn True\n",
            "177 block6b_expand_conv True\n",
            "178 block6b_expand_bn True\n",
            "179 block6b_expand_activation True\n",
            "180 block6b_dwconv True\n",
            "181 block6b_bn True\n",
            "182 block6b_activation True\n",
            "183 block6b_se_squeeze True\n",
            "184 block6b_se_reshape True\n",
            "185 block6b_se_reduce True\n",
            "186 block6b_se_expand True\n",
            "187 block6b_se_excite True\n",
            "188 block6b_project_conv True\n",
            "189 block6b_project_bn True\n",
            "190 block6b_drop True\n",
            "191 block6b_add True\n",
            "192 block6c_expand_conv True\n",
            "193 block6c_expand_bn True\n",
            "194 block6c_expand_activation True\n",
            "195 block6c_dwconv True\n",
            "196 block6c_bn True\n",
            "197 block6c_activation True\n",
            "198 block6c_se_squeeze True\n",
            "199 block6c_se_reshape True\n",
            "200 block6c_se_reduce True\n",
            "201 block6c_se_expand True\n",
            "202 block6c_se_excite True\n",
            "203 block6c_project_conv True\n",
            "204 block6c_project_bn True\n",
            "205 block6c_drop True\n",
            "206 block6c_add True\n",
            "207 block6d_expand_conv True\n",
            "208 block6d_expand_bn True\n",
            "209 block6d_expand_activation True\n",
            "210 block6d_dwconv True\n",
            "211 block6d_bn True\n",
            "212 block6d_activation True\n",
            "213 block6d_se_squeeze True\n",
            "214 block6d_se_reshape True\n",
            "215 block6d_se_reduce True\n",
            "216 block6d_se_expand True\n",
            "217 block6d_se_excite True\n",
            "218 block6d_project_conv True\n",
            "219 block6d_project_bn True\n",
            "220 block6d_drop True\n",
            "221 block6d_add True\n",
            "222 block7a_expand_conv True\n",
            "223 block7a_expand_bn True\n",
            "224 block7a_expand_activation True\n",
            "225 block7a_dwconv True\n",
            "226 block7a_bn True\n",
            "227 block7a_activation True\n",
            "228 block7a_se_squeeze True\n",
            "229 block7a_se_reshape True\n",
            "230 block7a_se_reduce True\n",
            "231 block7a_se_expand True\n",
            "232 block7a_se_excite True\n",
            "233 block7a_project_conv True\n",
            "234 block7a_project_bn True\n",
            "235 top_conv True\n",
            "236 top_bn True\n",
            "237 top_activation True\n"
          ]
        }
      ]
    },
    {
      "cell_type": "code",
      "source": [
        "for layer in base_model.layers[:-20]:\n",
        "  layer.trainable=False"
      ],
      "metadata": {
        "id": "X-fHKKCOXIyO"
      },
      "execution_count": 63,
      "outputs": []
    },
    {
      "cell_type": "code",
      "source": [
        "model_0.compile(loss=tf.keras.losses.CategoricalCrossentropy(),\n",
        "                optimizer=tf.keras.optimizers.Adam(learning_rate=0.0001),\n",
        "                metrics=[\"accuracy\"])"
      ],
      "metadata": {
        "id": "_oBGt1fgRfe7"
      },
      "execution_count": 64,
      "outputs": []
    },
    {
      "cell_type": "code",
      "source": [
        "fine_tune_epochs = initial_epochs + 10\n",
        "\n",
        "history_fine_tune_1 = model_0.fit(train_data,\n",
        "                                  epochs=fine_tune_epochs,\n",
        "                                  steps_per_epoch=len(train_data),\n",
        "                                  validation_data=test_data,\n",
        "                                  validation_steps=len(test_data),\n",
        "                                  initial_epoch=initial_epochs,\n",
        "                                  callbacks=[checkpoint_callback])"
      ],
      "metadata": {
        "colab": {
          "base_uri": "https://localhost:8080/"
        },
        "id": "WITXSInFRzHf",
        "outputId": "e2d1f16e-eea1-4091-e367-b29c240ac99d"
      },
      "execution_count": 65,
      "outputs": [
        {
          "output_type": "stream",
          "name": "stdout",
          "text": [
            "Epoch 11/20\n",
            "23/24 [===========================>..] - ETA: 0s - loss: 0.2278 - accuracy: 0.9511\n",
            "Epoch 11: saving model to ten_percent_model_checkpoints_weights/checkpoint.ckpt\n",
            "24/24 [==============================] - 32s 642ms/step - loss: 0.2323 - accuracy: 0.9493 - val_loss: 0.3604 - val_accuracy: 0.8832\n",
            "Epoch 12/20\n",
            "24/24 [==============================] - ETA: 0s - loss: 0.1209 - accuracy: 0.9773\n",
            "Epoch 12: saving model to ten_percent_model_checkpoints_weights/checkpoint.ckpt\n",
            "24/24 [==============================] - 11s 463ms/step - loss: 0.1209 - accuracy: 0.9773 - val_loss: 0.3650 - val_accuracy: 0.8820\n",
            "Epoch 13/20\n",
            "23/24 [===========================>..] - ETA: 0s - loss: 0.0728 - accuracy: 0.9878\n",
            "Epoch 13: saving model to ten_percent_model_checkpoints_weights/checkpoint.ckpt\n",
            "24/24 [==============================] - 9s 349ms/step - loss: 0.0733 - accuracy: 0.9880 - val_loss: 0.3593 - val_accuracy: 0.8808\n",
            "Epoch 14/20\n",
            "23/24 [===========================>..] - ETA: 0s - loss: 0.0462 - accuracy: 0.9959\n",
            "Epoch 14: saving model to ten_percent_model_checkpoints_weights/checkpoint.ckpt\n",
            "24/24 [==============================] - 12s 511ms/step - loss: 0.0457 - accuracy: 0.9960 - val_loss: 0.3723 - val_accuracy: 0.8796\n",
            "Epoch 15/20\n",
            "23/24 [===========================>..] - ETA: 0s - loss: 0.0284 - accuracy: 0.9986\n",
            "Epoch 15: saving model to ten_percent_model_checkpoints_weights/checkpoint.ckpt\n",
            "24/24 [==============================] - 17s 674ms/step - loss: 0.0286 - accuracy: 0.9987 - val_loss: 0.3774 - val_accuracy: 0.8780\n",
            "Epoch 16/20\n",
            "23/24 [===========================>..] - ETA: 0s - loss: 0.0179 - accuracy: 1.0000\n",
            "Epoch 16: saving model to ten_percent_model_checkpoints_weights/checkpoint.ckpt\n",
            "24/24 [==============================] - 13s 546ms/step - loss: 0.0177 - accuracy: 1.0000 - val_loss: 0.3870 - val_accuracy: 0.8788\n",
            "Epoch 17/20\n",
            "23/24 [===========================>..] - ETA: 0s - loss: 0.0119 - accuracy: 1.0000\n",
            "Epoch 17: saving model to ten_percent_model_checkpoints_weights/checkpoint.ckpt\n",
            "24/24 [==============================] - 8s 319ms/step - loss: 0.0119 - accuracy: 1.0000 - val_loss: 0.3953 - val_accuracy: 0.8792\n",
            "Epoch 18/20\n",
            "23/24 [===========================>..] - ETA: 0s - loss: 0.0090 - accuracy: 1.0000\n",
            "Epoch 18: saving model to ten_percent_model_checkpoints_weights/checkpoint.ckpt\n",
            "24/24 [==============================] - 10s 389ms/step - loss: 0.0089 - accuracy: 1.0000 - val_loss: 0.4091 - val_accuracy: 0.8748\n",
            "Epoch 19/20\n",
            "23/24 [===========================>..] - ETA: 0s - loss: 0.0068 - accuracy: 1.0000\n",
            "Epoch 19: saving model to ten_percent_model_checkpoints_weights/checkpoint.ckpt\n",
            "24/24 [==============================] - 9s 358ms/step - loss: 0.0067 - accuracy: 1.0000 - val_loss: 0.4140 - val_accuracy: 0.8796\n",
            "Epoch 20/20\n",
            "23/24 [===========================>..] - ETA: 0s - loss: 0.0054 - accuracy: 1.0000\n",
            "Epoch 20: saving model to ten_percent_model_checkpoints_weights/checkpoint.ckpt\n",
            "24/24 [==============================] - 9s 366ms/step - loss: 0.0054 - accuracy: 1.0000 - val_loss: 0.4232 - val_accuracy: 0.8796\n"
          ]
        }
      ]
    },
    {
      "cell_type": "markdown",
      "source": [
        "### 3. Fine-tuning the last 30 layers of the base model we trained for another 10 epochs."
      ],
      "metadata": {
        "id": "mYPZZtGMTqN5"
      }
    },
    {
      "cell_type": "code",
      "source": [
        "for layer in base_model.layers[:-30]:\n",
        "  layer.trainable = False"
      ],
      "metadata": {
        "id": "bb428uVEUqyQ"
      },
      "execution_count": 67,
      "outputs": []
    },
    {
      "cell_type": "code",
      "source": [
        "for i, layer in enumerate(model_0.layers[1].layers):\n",
        "  print(i, layer.name, layer.trainable)"
      ],
      "metadata": {
        "colab": {
          "base_uri": "https://localhost:8080/"
        },
        "id": "cTE5phccU5lV",
        "outputId": "0e346c15-c918-42d5-ab41-5deec0fe5252"
      },
      "execution_count": 68,
      "outputs": [
        {
          "output_type": "stream",
          "name": "stdout",
          "text": [
            "0 input_4 False\n",
            "1 rescaling_6 False\n",
            "2 normalization_3 False\n",
            "3 rescaling_7 False\n",
            "4 stem_conv_pad False\n",
            "5 stem_conv False\n",
            "6 stem_bn False\n",
            "7 stem_activation False\n",
            "8 block1a_dwconv False\n",
            "9 block1a_bn False\n",
            "10 block1a_activation False\n",
            "11 block1a_se_squeeze False\n",
            "12 block1a_se_reshape False\n",
            "13 block1a_se_reduce False\n",
            "14 block1a_se_expand False\n",
            "15 block1a_se_excite False\n",
            "16 block1a_project_conv False\n",
            "17 block1a_project_bn False\n",
            "18 block2a_expand_conv False\n",
            "19 block2a_expand_bn False\n",
            "20 block2a_expand_activation False\n",
            "21 block2a_dwconv_pad False\n",
            "22 block2a_dwconv False\n",
            "23 block2a_bn False\n",
            "24 block2a_activation False\n",
            "25 block2a_se_squeeze False\n",
            "26 block2a_se_reshape False\n",
            "27 block2a_se_reduce False\n",
            "28 block2a_se_expand False\n",
            "29 block2a_se_excite False\n",
            "30 block2a_project_conv False\n",
            "31 block2a_project_bn False\n",
            "32 block2b_expand_conv False\n",
            "33 block2b_expand_bn False\n",
            "34 block2b_expand_activation False\n",
            "35 block2b_dwconv False\n",
            "36 block2b_bn False\n",
            "37 block2b_activation False\n",
            "38 block2b_se_squeeze False\n",
            "39 block2b_se_reshape False\n",
            "40 block2b_se_reduce False\n",
            "41 block2b_se_expand False\n",
            "42 block2b_se_excite False\n",
            "43 block2b_project_conv False\n",
            "44 block2b_project_bn False\n",
            "45 block2b_drop False\n",
            "46 block2b_add False\n",
            "47 block3a_expand_conv False\n",
            "48 block3a_expand_bn False\n",
            "49 block3a_expand_activation False\n",
            "50 block3a_dwconv_pad False\n",
            "51 block3a_dwconv False\n",
            "52 block3a_bn False\n",
            "53 block3a_activation False\n",
            "54 block3a_se_squeeze False\n",
            "55 block3a_se_reshape False\n",
            "56 block3a_se_reduce False\n",
            "57 block3a_se_expand False\n",
            "58 block3a_se_excite False\n",
            "59 block3a_project_conv False\n",
            "60 block3a_project_bn False\n",
            "61 block3b_expand_conv False\n",
            "62 block3b_expand_bn False\n",
            "63 block3b_expand_activation False\n",
            "64 block3b_dwconv False\n",
            "65 block3b_bn False\n",
            "66 block3b_activation False\n",
            "67 block3b_se_squeeze False\n",
            "68 block3b_se_reshape False\n",
            "69 block3b_se_reduce False\n",
            "70 block3b_se_expand False\n",
            "71 block3b_se_excite False\n",
            "72 block3b_project_conv False\n",
            "73 block3b_project_bn False\n",
            "74 block3b_drop False\n",
            "75 block3b_add False\n",
            "76 block4a_expand_conv False\n",
            "77 block4a_expand_bn False\n",
            "78 block4a_expand_activation False\n",
            "79 block4a_dwconv_pad False\n",
            "80 block4a_dwconv False\n",
            "81 block4a_bn False\n",
            "82 block4a_activation False\n",
            "83 block4a_se_squeeze False\n",
            "84 block4a_se_reshape False\n",
            "85 block4a_se_reduce False\n",
            "86 block4a_se_expand False\n",
            "87 block4a_se_excite False\n",
            "88 block4a_project_conv False\n",
            "89 block4a_project_bn False\n",
            "90 block4b_expand_conv False\n",
            "91 block4b_expand_bn False\n",
            "92 block4b_expand_activation False\n",
            "93 block4b_dwconv False\n",
            "94 block4b_bn False\n",
            "95 block4b_activation False\n",
            "96 block4b_se_squeeze False\n",
            "97 block4b_se_reshape False\n",
            "98 block4b_se_reduce False\n",
            "99 block4b_se_expand False\n",
            "100 block4b_se_excite False\n",
            "101 block4b_project_conv False\n",
            "102 block4b_project_bn False\n",
            "103 block4b_drop False\n",
            "104 block4b_add False\n",
            "105 block4c_expand_conv False\n",
            "106 block4c_expand_bn False\n",
            "107 block4c_expand_activation False\n",
            "108 block4c_dwconv False\n",
            "109 block4c_bn False\n",
            "110 block4c_activation False\n",
            "111 block4c_se_squeeze False\n",
            "112 block4c_se_reshape False\n",
            "113 block4c_se_reduce False\n",
            "114 block4c_se_expand False\n",
            "115 block4c_se_excite False\n",
            "116 block4c_project_conv False\n",
            "117 block4c_project_bn False\n",
            "118 block4c_drop False\n",
            "119 block4c_add False\n",
            "120 block5a_expand_conv False\n",
            "121 block5a_expand_bn False\n",
            "122 block5a_expand_activation False\n",
            "123 block5a_dwconv False\n",
            "124 block5a_bn False\n",
            "125 block5a_activation False\n",
            "126 block5a_se_squeeze False\n",
            "127 block5a_se_reshape False\n",
            "128 block5a_se_reduce False\n",
            "129 block5a_se_expand False\n",
            "130 block5a_se_excite False\n",
            "131 block5a_project_conv False\n",
            "132 block5a_project_bn False\n",
            "133 block5b_expand_conv False\n",
            "134 block5b_expand_bn False\n",
            "135 block5b_expand_activation False\n",
            "136 block5b_dwconv False\n",
            "137 block5b_bn False\n",
            "138 block5b_activation False\n",
            "139 block5b_se_squeeze False\n",
            "140 block5b_se_reshape False\n",
            "141 block5b_se_reduce False\n",
            "142 block5b_se_expand False\n",
            "143 block5b_se_excite False\n",
            "144 block5b_project_conv False\n",
            "145 block5b_project_bn False\n",
            "146 block5b_drop False\n",
            "147 block5b_add False\n",
            "148 block5c_expand_conv False\n",
            "149 block5c_expand_bn False\n",
            "150 block5c_expand_activation False\n",
            "151 block5c_dwconv False\n",
            "152 block5c_bn False\n",
            "153 block5c_activation False\n",
            "154 block5c_se_squeeze False\n",
            "155 block5c_se_reshape False\n",
            "156 block5c_se_reduce False\n",
            "157 block5c_se_expand False\n",
            "158 block5c_se_excite False\n",
            "159 block5c_project_conv False\n",
            "160 block5c_project_bn False\n",
            "161 block5c_drop False\n",
            "162 block5c_add False\n",
            "163 block6a_expand_conv False\n",
            "164 block6a_expand_bn False\n",
            "165 block6a_expand_activation False\n",
            "166 block6a_dwconv_pad False\n",
            "167 block6a_dwconv False\n",
            "168 block6a_bn False\n",
            "169 block6a_activation False\n",
            "170 block6a_se_squeeze False\n",
            "171 block6a_se_reshape False\n",
            "172 block6a_se_reduce False\n",
            "173 block6a_se_expand False\n",
            "174 block6a_se_excite False\n",
            "175 block6a_project_conv False\n",
            "176 block6a_project_bn False\n",
            "177 block6b_expand_conv False\n",
            "178 block6b_expand_bn False\n",
            "179 block6b_expand_activation False\n",
            "180 block6b_dwconv False\n",
            "181 block6b_bn False\n",
            "182 block6b_activation False\n",
            "183 block6b_se_squeeze False\n",
            "184 block6b_se_reshape False\n",
            "185 block6b_se_reduce False\n",
            "186 block6b_se_expand False\n",
            "187 block6b_se_excite False\n",
            "188 block6b_project_conv False\n",
            "189 block6b_project_bn False\n",
            "190 block6b_drop False\n",
            "191 block6b_add False\n",
            "192 block6c_expand_conv False\n",
            "193 block6c_expand_bn False\n",
            "194 block6c_expand_activation False\n",
            "195 block6c_dwconv False\n",
            "196 block6c_bn False\n",
            "197 block6c_activation False\n",
            "198 block6c_se_squeeze False\n",
            "199 block6c_se_reshape False\n",
            "200 block6c_se_reduce False\n",
            "201 block6c_se_expand False\n",
            "202 block6c_se_excite False\n",
            "203 block6c_project_conv False\n",
            "204 block6c_project_bn False\n",
            "205 block6c_drop False\n",
            "206 block6c_add False\n",
            "207 block6d_expand_conv False\n",
            "208 block6d_expand_bn False\n",
            "209 block6d_expand_activation False\n",
            "210 block6d_dwconv False\n",
            "211 block6d_bn False\n",
            "212 block6d_activation False\n",
            "213 block6d_se_squeeze False\n",
            "214 block6d_se_reshape False\n",
            "215 block6d_se_reduce False\n",
            "216 block6d_se_expand False\n",
            "217 block6d_se_excite False\n",
            "218 block6d_project_conv True\n",
            "219 block6d_project_bn True\n",
            "220 block6d_drop True\n",
            "221 block6d_add True\n",
            "222 block7a_expand_conv True\n",
            "223 block7a_expand_bn True\n",
            "224 block7a_expand_activation True\n",
            "225 block7a_dwconv True\n",
            "226 block7a_bn True\n",
            "227 block7a_activation True\n",
            "228 block7a_se_squeeze True\n",
            "229 block7a_se_reshape True\n",
            "230 block7a_se_reduce True\n",
            "231 block7a_se_expand True\n",
            "232 block7a_se_excite True\n",
            "233 block7a_project_conv True\n",
            "234 block7a_project_bn True\n",
            "235 top_conv True\n",
            "236 top_bn True\n",
            "237 top_activation True\n"
          ]
        }
      ]
    },
    {
      "cell_type": "code",
      "source": [
        "model_0.compile(loss=tf.keras.losses.CategoricalCrossentropy(),\n",
        "                                      optimizer=tf.keras.optimizers.Adam(),\n",
        "                                      metrics=[\"accuracy\"])"
      ],
      "metadata": {
        "id": "AkT0lAaEVEMA"
      },
      "execution_count": 73,
      "outputs": []
    },
    {
      "cell_type": "code",
      "source": [
        "initial_epochs = fine_tune_epochs\n",
        "fine_tune_epochs = initial_epochs + 10\n",
        "\n",
        "history_fine_tune_2 = model_0.fit(train_data,\n",
        "                                  epochs=fine_tune_epochs,\n",
        "                                  steps_per_epoch=len(train_data),\n",
        "                                  validation_data=test_data,\n",
        "                                  validation_steps=len(test_data),\n",
        "                                  initial_epoch=initial_epochs,\n",
        "                                  callbacks=[checkpoint_callback])"
      ],
      "metadata": {
        "colab": {
          "base_uri": "https://localhost:8080/"
        },
        "id": "bhO0IW1nVXaI",
        "outputId": "45238688-e510-4dbc-ef9d-44c8520655cc"
      },
      "execution_count": 74,
      "outputs": [
        {
          "output_type": "stream",
          "name": "stdout",
          "text": [
            "Epoch 41/50\n",
            "23/24 [===========================>..] - ETA: 0s - loss: 0.3111 - accuracy: 0.9334\n",
            "Epoch 41: saving model to ten_percent_model_checkpoints_weights/checkpoint.ckpt\n",
            "24/24 [==============================] - 20s 433ms/step - loss: 0.3079 - accuracy: 0.9347 - val_loss: 0.4863 - val_accuracy: 0.8560\n",
            "Epoch 42/50\n",
            "23/24 [===========================>..] - ETA: 0s - loss: 0.0925 - accuracy: 0.9796\n",
            "Epoch 42: saving model to ten_percent_model_checkpoints_weights/checkpoint.ckpt\n",
            "24/24 [==============================] - 8s 312ms/step - loss: 0.0911 - accuracy: 0.9800 - val_loss: 0.4424 - val_accuracy: 0.8724\n",
            "Epoch 43/50\n",
            "23/24 [===========================>..] - ETA: 0s - loss: 0.0199 - accuracy: 0.9932\n",
            "Epoch 43: saving model to ten_percent_model_checkpoints_weights/checkpoint.ckpt\n",
            "24/24 [==============================] - 8s 338ms/step - loss: 0.0197 - accuracy: 0.9933 - val_loss: 0.5302 - val_accuracy: 0.8528\n",
            "Epoch 44/50\n",
            "23/24 [===========================>..] - ETA: 0s - loss: 0.0195 - accuracy: 0.9932\n",
            "Epoch 44: saving model to ten_percent_model_checkpoints_weights/checkpoint.ckpt\n",
            "24/24 [==============================] - 9s 374ms/step - loss: 0.0193 - accuracy: 0.9933 - val_loss: 0.4484 - val_accuracy: 0.8752\n",
            "Epoch 45/50\n",
            "23/24 [===========================>..] - ETA: 0s - loss: 0.0118 - accuracy: 0.9959\n",
            "Epoch 45: saving model to ten_percent_model_checkpoints_weights/checkpoint.ckpt\n",
            "24/24 [==============================] - 13s 533ms/step - loss: 0.0118 - accuracy: 0.9960 - val_loss: 0.5705 - val_accuracy: 0.8548\n",
            "Epoch 46/50\n",
            "23/24 [===========================>..] - ETA: 0s - loss: 0.0064 - accuracy: 0.9986\n",
            "Epoch 46: saving model to ten_percent_model_checkpoints_weights/checkpoint.ckpt\n",
            "24/24 [==============================] - 8s 312ms/step - loss: 0.0063 - accuracy: 0.9987 - val_loss: 0.5227 - val_accuracy: 0.8756\n",
            "Epoch 47/50\n",
            "23/24 [===========================>..] - ETA: 0s - loss: 0.0163 - accuracy: 0.9959\n",
            "Epoch 47: saving model to ten_percent_model_checkpoints_weights/checkpoint.ckpt\n",
            "24/24 [==============================] - 8s 315ms/step - loss: 0.0161 - accuracy: 0.9960 - val_loss: 0.5319 - val_accuracy: 0.8704\n",
            "Epoch 48/50\n",
            "23/24 [===========================>..] - ETA: 0s - loss: 0.0098 - accuracy: 0.9959\n",
            "Epoch 48: saving model to ten_percent_model_checkpoints_weights/checkpoint.ckpt\n",
            "24/24 [==============================] - 9s 350ms/step - loss: 0.0096 - accuracy: 0.9960 - val_loss: 0.4562 - val_accuracy: 0.8804\n",
            "Epoch 49/50\n",
            "23/24 [===========================>..] - ETA: 0s - loss: 0.0023 - accuracy: 1.0000\n",
            "Epoch 49: saving model to ten_percent_model_checkpoints_weights/checkpoint.ckpt\n",
            "24/24 [==============================] - 9s 358ms/step - loss: 0.0022 - accuracy: 1.0000 - val_loss: 0.5094 - val_accuracy: 0.8688\n",
            "Epoch 50/50\n",
            "23/24 [===========================>..] - ETA: 0s - loss: 0.0016 - accuracy: 1.0000\n",
            "Epoch 50: saving model to ten_percent_model_checkpoints_weights/checkpoint.ckpt\n",
            "24/24 [==============================] - 9s 362ms/step - loss: 0.0016 - accuracy: 1.0000 - val_loss: 0.4494 - val_accuracy: 0.8916\n"
          ]
        }
      ]
    },
    {
      "cell_type": "code",
      "source": [
        "results_fine_tune_2 = model_0.evaluate(test_data)\n",
        "print(results_fine_tune_2)"
      ],
      "metadata": {
        "colab": {
          "base_uri": "https://localhost:8080/"
        },
        "id": "H8MsYlHdYFFb",
        "outputId": "d019a2e7-2016-4096-c324-7c8bfb7545b0"
      },
      "execution_count": 75,
      "outputs": [
        {
          "output_type": "stream",
          "name": "stdout",
          "text": [
            "79/79 [==============================] - 7s 77ms/step - loss: 0.4494 - accuracy: 0.8916\n",
            "[0.4493514597415924, 0.8916000127792358]\n"
          ]
        }
      ]
    },
    {
      "cell_type": "code",
      "source": [],
      "metadata": {
        "id": "vTVDXgMhYcxb"
      },
      "execution_count": null,
      "outputs": []
    }
  ]
}